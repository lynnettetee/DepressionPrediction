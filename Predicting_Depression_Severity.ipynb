{
  "nbformat": 4,
  "nbformat_minor": 0,
  "metadata": {
    "colab": {
      "name": "Predicting_Depression_Severity.ipynb",
      "provenance": [],
      "collapsed_sections": [
        "xa1WsP-swWMC"
      ],
      "toc_visible": true
    },
    "kernelspec": {
      "name": "python3",
      "display_name": "Python 3"
    }
  },
  "cells": [
    {
      "cell_type": "markdown",
      "metadata": {
        "id": "68Q0JxMV7DNy",
        "colab_type": "text"
      },
      "source": [
        "#ForeverAlone - predicting depression severity in individuals\n",
        "\n",
        "This notebook is authored by Lynnette Tee.\n",
        "##Introduction\n",
        "In this project, I used a dataset derived from a depression survey to predict depression severity levels in individuals using three distinct models.\n",
        "\n",
        "###Dataset\n",
        "The [dataset](https://www.kaggle.com/antonaks/suicide-attempt-prediction-foreveralone-dataset) is obtained from Kaggle by the user, LiamLarsen. The row represents answers from respondents while the columns are survey questions. \n",
        "\n",
        "The dataset contains two variables, `Depressed` and `AttemptedSuicide`, that will define labels for my target, `DepressionSeverity`. \n",
        "\n",
        "Here is a rough outline of the process:\n",
        "0. Import dataset\n",
        "1. EDA and Preprocessing Data\n",
        "3. Train and Validate Models\n",
        "4. Test Models\n",
        "5. Analyze and Discuss Results"
      ]
    },
    {
      "cell_type": "markdown",
      "metadata": {
        "id": "P1zw8T5P_-i4",
        "colab_type": "text"
      },
      "source": [
        "## Import dataset"
      ]
    },
    {
      "cell_type": "markdown",
      "metadata": {
        "id": "i_S1Q_fC-8BI",
        "colab_type": "text"
      },
      "source": [
        "To begin, import the relevant libraries:"
      ]
    },
    {
      "cell_type": "code",
      "metadata": {
        "id": "qDFKRap5wr3n",
        "colab_type": "code",
        "colab": {}
      },
      "source": [
        "import matplotlib\n",
        "import matplotlib.pyplot as plt\n",
        "import numpy as np\n",
        "import pandas as pd\n",
        "import seaborn as sns\n",
        "from scipy import stats"
      ],
      "execution_count": 0,
      "outputs": []
    },
    {
      "cell_type": "markdown",
      "metadata": {
        "id": "kxdL2nfaFIV2",
        "colab_type": "text"
      },
      "source": [
        "Load `'foreverAlone.csv'` onto the notebook:"
      ]
    },
    {
      "cell_type": "code",
      "metadata": {
        "id": "_aiCz6xei1Xa",
        "colab_type": "code",
        "outputId": "40ae9ef4-aeb4-47f3-f550-2524471e709d",
        "colab": {
          "base_uri": "https://localhost:8080/",
          "height": 55
        }
      },
      "source": [
        "from google.colab import drive\n",
        "drive.mount('/content/drive')\n",
        "data_dir = '/content/drive/My Drive/predict-depression'"
      ],
      "execution_count": 0,
      "outputs": [
        {
          "output_type": "stream",
          "text": [
            "Drive already mounted at /content/drive; to attempt to forcibly remount, call drive.mount(\"/content/drive\", force_remount=True).\n"
          ],
          "name": "stdout"
        }
      ]
    },
    {
      "cell_type": "markdown",
      "metadata": {
        "id": "-36OUOU_FN8r",
        "colab_type": "text"
      },
      "source": [
        "Store dataset as a Pandas dataframe object in `df`:"
      ]
    },
    {
      "cell_type": "code",
      "metadata": {
        "id": "GJxr_XGrsAX8",
        "colab_type": "code",
        "colab": {}
      },
      "source": [
        "df = pd.read_csv(\"{}/ForeverAlone.csv\".format(data_dir))"
      ],
      "execution_count": 0,
      "outputs": []
    },
    {
      "cell_type": "markdown",
      "metadata": {
        "id": "xs8FGVd9P1Sn",
        "colab_type": "text"
      },
      "source": [
        "Rename columns:"
      ]
    },
    {
      "cell_type": "code",
      "metadata": {
        "id": "r65fVkQf_4OH",
        "colab_type": "code",
        "outputId": "850a4217-2a01-446c-8f63-35782af83ac0",
        "colab": {
          "base_uri": "https://localhost:8080/",
          "height": 447
        }
      },
      "source": [
        "df.columns = ['Timestamp', 'Gender', 'SexualOrientation', 'Age','IncomeLevel','Race','Body','NotHadSex','ProstitutionLegalAtPlace','WouldPayForSex','NumFriends','HasSocialAnxiety','Depressed','TypeOfHelp','AttemptedSuicide','CurrentlyEmployed','JobTitle','Education','SelfHelp']\n",
        "\n",
        "#verify change\n",
        "df.head()"
      ],
      "execution_count": 0,
      "outputs": [
        {
          "output_type": "execute_result",
          "data": {
            "text/html": [
              "<div>\n",
              "<style scoped>\n",
              "    .dataframe tbody tr th:only-of-type {\n",
              "        vertical-align: middle;\n",
              "    }\n",
              "\n",
              "    .dataframe tbody tr th {\n",
              "        vertical-align: top;\n",
              "    }\n",
              "\n",
              "    .dataframe thead th {\n",
              "        text-align: right;\n",
              "    }\n",
              "</style>\n",
              "<table border=\"1\" class=\"dataframe\">\n",
              "  <thead>\n",
              "    <tr style=\"text-align: right;\">\n",
              "      <th></th>\n",
              "      <th>Timestamp</th>\n",
              "      <th>Gender</th>\n",
              "      <th>SexualOrientation</th>\n",
              "      <th>Age</th>\n",
              "      <th>IncomeLevel</th>\n",
              "      <th>Race</th>\n",
              "      <th>Body</th>\n",
              "      <th>NotHadSex</th>\n",
              "      <th>ProstitutionLegalAtPlace</th>\n",
              "      <th>WouldPayForSex</th>\n",
              "      <th>NumFriends</th>\n",
              "      <th>HasSocialAnxiety</th>\n",
              "      <th>Depressed</th>\n",
              "      <th>TypeOfHelp</th>\n",
              "      <th>AttemptedSuicide</th>\n",
              "      <th>CurrentlyEmployed</th>\n",
              "      <th>JobTitle</th>\n",
              "      <th>Education</th>\n",
              "      <th>SelfHelp</th>\n",
              "    </tr>\n",
              "  </thead>\n",
              "  <tbody>\n",
              "    <tr>\n",
              "      <th>0</th>\n",
              "      <td>5/17/2016 20:04:18</td>\n",
              "      <td>Male</td>\n",
              "      <td>Straight</td>\n",
              "      <td>35</td>\n",
              "      <td>$30,000 to $39,999</td>\n",
              "      <td>White non-Hispanic</td>\n",
              "      <td>Normal weight</td>\n",
              "      <td>Yes</td>\n",
              "      <td>No</td>\n",
              "      <td>No</td>\n",
              "      <td>0.0</td>\n",
              "      <td>Yes</td>\n",
              "      <td>Yes</td>\n",
              "      <td>wingman/wingwoman, Set me up with a date</td>\n",
              "      <td>Yes</td>\n",
              "      <td>Employed for wages</td>\n",
              "      <td>mechanical drafter</td>\n",
              "      <td>Associate degree</td>\n",
              "      <td>None</td>\n",
              "    </tr>\n",
              "    <tr>\n",
              "      <th>1</th>\n",
              "      <td>5/17/2016 20:04:30</td>\n",
              "      <td>Male</td>\n",
              "      <td>Bisexual</td>\n",
              "      <td>21</td>\n",
              "      <td>$1 to $10,000</td>\n",
              "      <td>White non-Hispanic</td>\n",
              "      <td>Underweight</td>\n",
              "      <td>Yes</td>\n",
              "      <td>No</td>\n",
              "      <td>No</td>\n",
              "      <td>0.0</td>\n",
              "      <td>Yes</td>\n",
              "      <td>Yes</td>\n",
              "      <td>wingman/wingwoman, Set me up with a date, date...</td>\n",
              "      <td>No</td>\n",
              "      <td>Out of work and looking for work</td>\n",
              "      <td>-</td>\n",
              "      <td>Some college, no degree</td>\n",
              "      <td>join clubs/socual clubs/meet ups</td>\n",
              "    </tr>\n",
              "    <tr>\n",
              "      <th>2</th>\n",
              "      <td>5/17/2016 20:04:58</td>\n",
              "      <td>Male</td>\n",
              "      <td>Straight</td>\n",
              "      <td>22</td>\n",
              "      <td>$0</td>\n",
              "      <td>White non-Hispanic</td>\n",
              "      <td>Overweight</td>\n",
              "      <td>Yes</td>\n",
              "      <td>No</td>\n",
              "      <td>No</td>\n",
              "      <td>10.0</td>\n",
              "      <td>Yes</td>\n",
              "      <td>Yes</td>\n",
              "      <td>I don't want help</td>\n",
              "      <td>No</td>\n",
              "      <td>Out of work but not currently looking for work</td>\n",
              "      <td>unemployed</td>\n",
              "      <td>Some college, no degree</td>\n",
              "      <td>Other exercise</td>\n",
              "    </tr>\n",
              "    <tr>\n",
              "      <th>3</th>\n",
              "      <td>5/17/2016 20:08:01</td>\n",
              "      <td>Male</td>\n",
              "      <td>Straight</td>\n",
              "      <td>19</td>\n",
              "      <td>$1 to $10,000</td>\n",
              "      <td>White non-Hispanic</td>\n",
              "      <td>Overweight</td>\n",
              "      <td>Yes</td>\n",
              "      <td>Yes</td>\n",
              "      <td>No</td>\n",
              "      <td>8.0</td>\n",
              "      <td>Yes</td>\n",
              "      <td>Yes</td>\n",
              "      <td>date coaching</td>\n",
              "      <td>No</td>\n",
              "      <td>A student</td>\n",
              "      <td>student</td>\n",
              "      <td>Some college, no degree</td>\n",
              "      <td>Joined a gym/go to the gym</td>\n",
              "    </tr>\n",
              "    <tr>\n",
              "      <th>4</th>\n",
              "      <td>5/17/2016 20:08:04</td>\n",
              "      <td>Male</td>\n",
              "      <td>Straight</td>\n",
              "      <td>23</td>\n",
              "      <td>$30,000 to $39,999</td>\n",
              "      <td>White non-Hispanic</td>\n",
              "      <td>Overweight</td>\n",
              "      <td>No</td>\n",
              "      <td>No</td>\n",
              "      <td>Yes and I have</td>\n",
              "      <td>10.0</td>\n",
              "      <td>No</td>\n",
              "      <td>Yes</td>\n",
              "      <td>I don't want help</td>\n",
              "      <td>No</td>\n",
              "      <td>Employed for wages</td>\n",
              "      <td>Factory worker</td>\n",
              "      <td>High school graduate, diploma or the equivalen...</td>\n",
              "      <td>None</td>\n",
              "    </tr>\n",
              "  </tbody>\n",
              "</table>\n",
              "</div>"
            ],
            "text/plain": [
              "            Timestamp  ...                          SelfHelp\n",
              "0  5/17/2016 20:04:18  ...                              None\n",
              "1  5/17/2016 20:04:30  ...  join clubs/socual clubs/meet ups\n",
              "2  5/17/2016 20:04:58  ...                    Other exercise\n",
              "3  5/17/2016 20:08:01  ...        Joined a gym/go to the gym\n",
              "4  5/17/2016 20:08:04  ...                              None\n",
              "\n",
              "[5 rows x 19 columns]"
            ]
          },
          "metadata": {
            "tags": []
          },
          "execution_count": 190
        }
      ]
    },
    {
      "cell_type": "markdown",
      "metadata": {
        "id": "J6CExXcg5GIN",
        "colab_type": "text"
      },
      "source": [
        "#EDA and Preprocessing"
      ]
    },
    {
      "cell_type": "markdown",
      "metadata": {
        "id": "jzT4DLOV5jB8",
        "colab_type": "text"
      },
      "source": [
        "In this section, explore the dataset to have a rough idea of its contents, as well as clean the dataset so that it is ready to be fed into the models."
      ]
    },
    {
      "cell_type": "markdown",
      "metadata": {
        "id": "voK01l1zEDP0",
        "colab_type": "text"
      },
      "source": [
        "How big is the dataset?"
      ]
    },
    {
      "cell_type": "code",
      "metadata": {
        "id": "7liCSS_vEE99",
        "colab_type": "code",
        "outputId": "10503041-9b70-4624-f226-cbbc42bff4b9",
        "colab": {
          "base_uri": "https://localhost:8080/",
          "height": 35
        }
      },
      "source": [
        "df.shape"
      ],
      "execution_count": 0,
      "outputs": [
        {
          "output_type": "execute_result",
          "data": {
            "text/plain": [
              "(469, 19)"
            ]
          },
          "metadata": {
            "tags": []
          },
          "execution_count": 191
        }
      ]
    },
    {
      "cell_type": "markdown",
      "metadata": {
        "id": "mW7AuQ8vEX2h",
        "colab_type": "text"
      },
      "source": [
        "There are 469 rows (corresponding to respondents' answers) and 19 columns (corresponding to survey questions)."
      ]
    },
    {
      "cell_type": "markdown",
      "metadata": {
        "id": "_Vgvd6IGsmU4",
        "colab_type": "text"
      },
      "source": [
        "What are the datatypes of each column?"
      ]
    },
    {
      "cell_type": "code",
      "metadata": {
        "id": "CkHHHj5qspMh",
        "colab_type": "code",
        "outputId": "9ec9a0a0-f70e-4206-947f-e3bedecd7920",
        "colab": {
          "base_uri": "https://localhost:8080/",
          "height": 364
        }
      },
      "source": [
        "df.dtypes"
      ],
      "execution_count": 0,
      "outputs": [
        {
          "output_type": "execute_result",
          "data": {
            "text/plain": [
              "Timestamp                    object\n",
              "Gender                       object\n",
              "SexualOrientation            object\n",
              "Age                           int64\n",
              "IncomeLevel                  object\n",
              "Race                         object\n",
              "Body                         object\n",
              "NotHadSex                    object\n",
              "ProstitutionLegalAtPlace     object\n",
              "WouldPayForSex               object\n",
              "NumFriends                  float64\n",
              "HasSocialAnxiety             object\n",
              "Depressed                    object\n",
              "TypeOfHelp                   object\n",
              "AttemptedSuicide             object\n",
              "CurrentlyEmployed            object\n",
              "JobTitle                     object\n",
              "Education                    object\n",
              "SelfHelp                     object\n",
              "dtype: object"
            ]
          },
          "metadata": {
            "tags": []
          },
          "execution_count": 192
        }
      ]
    },
    {
      "cell_type": "markdown",
      "metadata": {
        "id": "bE4FYe292eVJ",
        "colab_type": "text"
      },
      "source": [
        "Excluding `Timestamp`, there are 2 numerical variables and 16 categorical variables."
      ]
    },
    {
      "cell_type": "markdown",
      "metadata": {
        "id": "mkLLnMIw6QIz",
        "colab_type": "text"
      },
      "source": [
        "## Feature selection"
      ]
    },
    {
      "cell_type": "markdown",
      "metadata": {
        "id": "IiI1SinTP5Ck",
        "colab_type": "text"
      },
      "source": [
        "Which of the columns are good feature candidates?\n",
        "\n",
        "Decide by asking:\n",
        "1. Could the variable (column) be a possible contributing factor to depression?\n",
        "2. Could its inputs be grouped into independent categories?\n",
        "\n",
        "Keep in mind that number of features will determine model performance. If the number of features is very large relative to the dataset size, there is a risk of overfitting the models. On the contrary, if there are not enough features, the models may lose their predictive power. \n",
        "\n",
        "Given that this dataset has 469 samples, I adjusted the tightness of my selection to arrive at 13 features. \n",
        "\n",
        "For each column, observe its inputs to determine if it is a suitable feature to include:"
      ]
    },
    {
      "cell_type": "code",
      "metadata": {
        "id": "lYpBv4JhLQ03",
        "colab_type": "code",
        "outputId": "382fdda1-a5fb-48c4-bb53-52f0e1deabfd",
        "colab": {
          "base_uri": "https://localhost:8080/",
          "height": 1000
        }
      },
      "source": [
        "#begin after `Timestamp` (will be discarded soon)\n",
        "for column in df.columns[1:]: \n",
        "    print(f'columns: {column}\\nInput set:{df[column].unique()}\\n')"
      ],
      "execution_count": 0,
      "outputs": [
        {
          "output_type": "stream",
          "text": [
            "columns: Gender\n",
            "Input set:['Male' 'Female' 'Transgender male' 'Transgender female']\n",
            "\n",
            "columns: SexualOrientation\n",
            "Input set:['Straight' 'Bisexual' 'Gay/Lesbian']\n",
            "\n",
            "columns: Age\n",
            "Input set:[35 21 22 19 23 24 20 33 32 25 29 17 28 26 18 55 16 38 45 30 15 34 70 12\n",
            " 36 31 27 57 44 41 37 39 14 48 42]\n",
            "\n",
            "columns: IncomeLevel\n",
            "Input set:['$30,000 to $39,999' '$1 to $10,000' '$0' '$50,000 to $74,999'\n",
            " '$20,000 to $29,999' '$10,000 to $19,999' '$75,000 to $99,999'\n",
            " '$174,999 to $199,999' '$100,000 to $124,999' '$40,000 to $49,999'\n",
            " '$200,000 or more']\n",
            "\n",
            "columns: Race\n",
            "Input set:['White non-Hispanic' 'Hispanic (of any race)' 'Asian' 'white and asian'\n",
            " 'caucasian' 'Black' 'Middle Eastern' 'half Arab' 'Mixed race' 'Pakistani'\n",
            " 'helicopterkin' 'Turkish' 'Indian' 'Native american' 'Mixed' 'mixed'\n",
            " 'Mixed white/asian' 'indian' 'Multi' 'Native American mix'\n",
            " 'North African' 'Half Asian half white' 'White and Native American'\n",
            " 'First two answers. Gender is androgyne, not male; sexuality is asexual, not bi.'\n",
            " 'European']\n",
            "\n",
            "columns: Body\n",
            "Input set:['Normal weight' 'Underweight' 'Overweight' 'Obese']\n",
            "\n",
            "columns: NotHadSex\n",
            "Input set:['Yes' 'No']\n",
            "\n",
            "columns: ProstitutionLegalAtPlace\n",
            "Input set:['No' 'Yes']\n",
            "\n",
            "columns: WouldPayForSex\n",
            "Input set:['No' 'Yes and I have' \"Yes but I haven't\"]\n",
            "\n",
            "columns: NumFriends\n",
            "Input set:[0.0e+00 1.0e+01 8.0e+00 2.0e+00 6.0e+00 5.0e+00 2.0e+01 1.0e+00 1.2e+01\n",
            " 4.0e+01 3.0e+00 1.3e+01 1.5e+01 1.7e+01 4.0e+00 7.0e+00 9.0e+00 3.0e+01\n",
            " 1.0e+02 1.6e+01 1.8e+01 8.0e+01 2.8e+01 2.5e+01 6.0e+01 6.0e+02 2.0e-01\n",
            " 4.0e+02 1.1e+01 5.0e-01]\n",
            "\n",
            "columns: HasSocialAnxiety\n",
            "Input set:['Yes' 'No']\n",
            "\n",
            "columns: Depressed\n",
            "Input set:['Yes' 'No']\n",
            "\n",
            "columns: TypeOfHelp\n",
            "Input set:['wingman/wingwoman, Set me up with a date'\n",
            " 'wingman/wingwoman, Set me up with a date, date coaching'\n",
            " \"I don't want help\" 'date coaching'\n",
            " 'Set me up with a date, date coaching' 'wingman/wingwoman, date coaching'\n",
            " 'Set me up with a date'\n",
            " 'wingman/wingwoman, Set me up with a date, date coaching, someone to kill.me'\n",
            " 'wingman/wingwoman, someone to hang out with me where I can meet met (e.g. class, free event) and sell me up'\n",
            " \"wingman/wingwoman, Set me up with a date, I don't want help\"\n",
            " 'wingman/wingwoman'\n",
            " 'wingman/wingwoman, Set me up with a date, date coaching, anything'\n",
            " 'Set me up with a date, Friends '\n",
            " \"wingman/wingwoman, Set me up with a date, I don't even know..\" 'Trust'\n",
            " \"date coaching, I don't want help\"\n",
            " 'I want help but I am not sure what kind. I always think it would be nice if a woman would approch me but thats not realistic.'\n",
            " 'fitness coaching' 'wingman/wingwoman, Set me up with a date, Pity fuck'\n",
            " 'Maybe to learn how to be happy' 'Friendship' 'Im on my own'\n",
            " 'help getting a better job' \"I'm not fa lol\"\n",
            " \"I don't want help, more one night stands\" 'not sure what would help'\n",
            " 'date coaching, social skills training'\n",
            " 'There is no way that they can help. They only give useless advice like \"just be more confident\".'\n",
            " \"I don't want any help. I can't even talk about it.\" 'Friends'\n",
            " 'coping with being beyond help' 'Money for rehab or sober living home'\n",
            " 'Just want mates that make it look like I fit in'\n",
            " \"wingman/wingwoman, Set me up with a date, date coaching, I don't really know. Something magical that would make me happy.\"\n",
            " 'wingman/wingwoman, Set me up with a date, date coaching, Therapy, shoulder to cry on'\n",
            " 'date coaching, It would be nice but why would a woman choose me?  There are plenty better'\n",
            " 'therapy'\n",
            " \"I don't want help, Like, to be seen & treated like a normal person\"\n",
            " 'i lost faith and hope'\n",
            " 'wingman/wingwoman, Set me up with a date, date coaching, Any help'\n",
            " \"I don't want help, kill me\" 'Emotional support'\n",
            " 'just more friends/greater social life in general tbh'\n",
            " 'Teach me how to talk to people' \"I don't want help, More general stuff\"\n",
            " \"I don't know\"\n",
            " 'I used to want all of those things. Now it is too late for any of them to make a difference.'\n",
            " 'wingman/wingwoman, Set me up with a date, invite me to shit please'\n",
            " 'I have no idea' \"Set me up with a date, I don't want help\"\n",
            " \"wingman/wingwoman, Set me up with a date, date coaching, I don't want help\"]\n",
            "\n",
            "columns: AttemptedSuicide\n",
            "Input set:['Yes' 'No']\n",
            "\n",
            "columns: CurrentlyEmployed\n",
            "Input set:['Employed for wages' 'Out of work and looking for work'\n",
            " 'Out of work but not currently looking for work' 'A student'\n",
            " 'Unable to work' 'Retired' 'Military' 'Self-employed' 'A homemaker']\n",
            "\n",
            "columns: JobTitle\n",
            "Input set:['mechanical drafter' '-' 'unemployed' 'student' 'Factory worker'\n",
            " 'game programmer' 'Janitor' 'Fabricator' 'cashier' 'Software Engineer'\n",
            " 'Nurse' 'Freight associate' 'Student' 'NEET' 'broker' 'Intern' 'Surveyor'\n",
            " 'Part time computer Tutor' 'Kitchen staff' 'Software Developer' 'Guy'\n",
            " 'none (?)' 'Peon' nan 'Chef' 'Butcher' 'Medical student, year 4'\n",
            " 'Software full stack developer' 'Junior BA' 'Cinema Student' 'Engineer'\n",
            " 'Iternent peagogue' 'Software developer' 'Admin Assistant' 'Cook'\n",
            " 'Grad student' 'Aviation Electricians Mate' 'Professional NEET' 'Cashier'\n",
            " 'service desk analyst' 'researcher' 'loser' 'store clerk' 'Management'\n",
            " 'Engineering co-op student' 'Supervisor' 'IT' 'Software development'\n",
            " 'bum' 'None' 'Grad Student' 'Unemployed' 'IT Technician' '.' 'laborer'\n",
            " 'Product Designer' 'Data entry' 'Sales' 'systems analyst' 'freshman'\n",
            " 'Coder' 'Undergraduate.' 'Medical Services' 'Delivery guy'\n",
            " 'IT operations' 'Intermediate Call Center Representative'\n",
            " 'Call Center Agent' 'Economist' 'Farm hand' 'I have no job'\n",
            " 'Undergraduate' 'Loser' 'na' 'none' 'Optometric tech' 'Worker'\n",
            " 'Student. Part time web developer?' 'Funemployed' 'i/t support' 'Grunt'\n",
            " 'Nothing' 'Ceo' 'Factory Worker' 'Not employed' 'Popo' 'supervisor'\n",
            " 'super pooper' 'Truck driver' 'user-carer' 'Lawyer' 'retail worker'\n",
            " 'U serious?' 'Senior software developer' 'IT Engineer'\n",
            " 'software engineer' 'Software eng.' 'Admin' 'Senior Developer'\n",
            " 'College student/research intern' 'Sugar baby' 'assistant caretaker'\n",
            " 'Coo' 'Researcher' 'Application Developer' 'Courier'\n",
            " 'Accounts Receivable' 'Zivildiener (austrian stuff)' 'ggg' 'RN' 'Auditor'\n",
            " 'Freelance writer' 'Clerk' 'self employed'\n",
            " 'Operations Manager (i.e. I do what my father tells me to do in our family company).'\n",
            " 'Mechanical engineer' 'Third Manager' 'Flight Attendant' 'Interpreter'\n",
            " 'engineer' 'vehicle prep' 'dunno' 'N/a' 'Accountant' '*' 'Therapy'\n",
            " 'Your survey question design is bad and you should feel bad.' 'useless'\n",
            " 'Philosopher' 'What?' 'Financial Analyst' 'currently unemployed'\n",
            " 'Lifeguard' 'lackey' 'teacher' 'online seller' 'Musician' 'Designer'\n",
            " 'Production Editor' 'Job' 'Bio major' 'System Analyst Associate'\n",
            " 'Delivery manager' 'S' 'Masters' 'nothing' 'Storekeeper'\n",
            " 'Research assistant' 'President' 'Technician' 'Junkie' 'Press operator'\n",
            " 'Cleaner' '--' 'Manager' 'Web Developpeur' 'Rather not say'\n",
            " 'Warehouse associate' 'Trainee Mechanical Engineer' 'Teacher'\n",
            " 'CGMA Sudent' 'cleaner' 'Architectural Technician' 'Librarian'\n",
            " 'Administrator' 'Undergrad student' 'Call operator' 'Stockroom Assistant'\n",
            " 'Languages' 'clerk' 'Herder' 'designer' 'Administrative Officer' '/'\n",
            " 'Gardener/Student' 'cook' 'Entrepreneur' 'No Job' 'Cst analyst' 'Artist'\n",
            " 'Research Associate' 'Insurance agent.' 'mechanic' 'Programmer'\n",
            " 'student?' 'Sales Associate' 'System Administrator' 'Web desihner'\n",
            " 'Language teacher' 'Sales manager' 'jpo;' 'Data and development'\n",
            " 'Not working' 'Graphic designer' '---' 'Lawm Maintenance'\n",
            " 'University Student' 'Retail' 'college' 'undergraduate' 'Sales clerk'\n",
            " 'Admin assistant' 'Shit kicker' 'postman' 'stocker' 'out of work'\n",
            " 'Developer' 'Stocker' 'Waiter' 'Finance student' 'Not telling' 'tutor'\n",
            " 'Consultant' 'analyst' 'Carer' \"I'm a student\" 'real estate'\n",
            " 'Operations executive' 'law (enforcement) officer' 'no job'\n",
            " 'Student employee' 'Usher' 'Part time paperboy'\n",
            " 'Principal Software Engineer' 'j'\n",
            " 'business representative (have in mind that I am from Poland)' 'no'\n",
            " 'Student (comp sci)' 'production engineer' 'Audit associate'\n",
            " '2nd lieutenant' 'Not Disclosing This' 'Waitress' 'artist'\n",
            " 'Why is this obligatory?' 'High School Senior'\n",
            " 'Student / parttime web developer' 'Disabled' 'Freight Broker'\n",
            " 'Coordinator' 'freelance technical theatre' 'Retail Associate' 'it'\n",
            " 'Administrative Assistant' 'Transport' \"I don't have a job\" 'Marketing'\n",
            " 'Screener' '🌚' 'Program Manager, Non-profit' 'NEET parasite' 'T'\n",
            " 'Account Manager' 'student teacher' 'Guest Advisor' '...'\n",
            " 'customer service' 'Warehouse Associate' 'Terminal worker' 'PA'\n",
            " 'Case Worker' 'Home Depot order fulfillment' 'erdet' 'Boss'\n",
            " 'Consultant IT' 'castor' 'receptionist' 'Scientist']\n",
            "\n",
            "columns: Education\n",
            "Input set:['Associate degree' 'Some college, no degree'\n",
            " 'High school graduate, diploma or the equivalent (for example: GED)'\n",
            " 'Bachelor’s degree' 'Trade/technical/vocational training'\n",
            " 'Master’s degree' 'Some high school, no diploma' 'Doctorate degree'\n",
            " 'Professional degree']\n",
            "\n",
            "columns: SelfHelp\n",
            "Input set:['None' 'join clubs/socual clubs/meet ups' 'Other exercise'\n",
            " 'Joined a gym/go to the gym'\n",
            " 'Joined a gym/go to the gym, join clubs/socual clubs/meet ups'\n",
            " 'Therapy, join clubs/socual clubs/meet ups, None, Volunteering, social activism, traveling'\n",
            " 'Joined a gym/go to the gym, Therapy' 'Therapy'\n",
            " 'Other exercise, join clubs/socual clubs/meet ups'\n",
            " 'Joined a gym/go to the gym, Other exercise'\n",
            " 'Joined a gym/go to the gym, Therapy, join clubs/socual clubs/meet ups'\n",
            " 'Cosmetic survey, Joined a gym/go to the gym, Therapy, join clubs/socual clubs/meet ups'\n",
            " 'Therapy, Other exercise, join clubs/socual clubs/meet ups'\n",
            " 'Cosmetic survey, Therapy, Other exercise, forced myself to free events or events w/acquintances advertised in fb; been part of a blog for five years and met some members in person'\n",
            " 'Joined a gym/go to the gym, None' 'Therapy, Other exercise'\n",
            " 'Joined a gym/go to the gym, Other exercise, join clubs/socual clubs/meet ups'\n",
            " 'Cosmetic survey, Joined a gym/go to the gym, Therapy, Other exercise, join clubs/socual clubs/meet ups'\n",
            " 'Joined a gym/go to the gym, Therapy, Other exercise, join clubs/socual clubs/meet ups'\n",
            " 'Cosmetic survey, Joined a gym/go to the gym, Therapy, Other exercise'\n",
            " 'None, started taking some medication'\n",
            " 'Joined a gym/go to the gym, Therapy, Clubbing, living in a student house (at dorms)'\n",
            " 'Talking to people'\n",
            " 'Joined a gym/go to the gym, join clubs/socual clubs/meet ups, Partying'\n",
            " 'join clubs/socual clubs/meet ups, Practice various skills, such as writing and piano.'\n",
            " 'Other exercise, join clubs/socual clubs/meet ups, Change my lifestyle, eat healthy, etc'\n",
            " 'Cosmetic survey, Joined a gym/go to the gym, Therapy'\n",
            " 'Cosmetic survey, Other exercise'\n",
            " 'Therapy, join clubs/socual clubs/meet ups' 'Nope not Fa'\n",
            " 'Other exercise, Hobbies - music, languages, calligraphy'\n",
            " 'just b confident' 'Therapy, Other exercise, Develop hobbies'\n",
            " 'Joined a gym/go to the gym, Therapy, Joined a German language learning course.'\n",
            " 'Therapy, join clubs/socual clubs/meet ups, medication'\n",
            " 'Trying to accept my fate.'\n",
            " 'Therapy, Other exercise, diets, change of wardrobe, medication, diet pills '\n",
            " 'Joined a gym/go to the gym, Therapy, Other exercise'\n",
            " 'Joined a gym/go to the gym, Therapy, Self analysis '\n",
            " 'Cosmetic survey, Therapy'\n",
            " 'Other exercise, Dealer, keeps you in touch with a lot of different people'\n",
            " 'Cosmetic survey, Therapy, join clubs/socual clubs/meet ups'\n",
            " 'Joined a gym/go to the gym, Other exercise, Play live in a band. '\n",
            " 'Called suicide hotlines' 'Lose weight'\n",
            " 'Other exercise, Hair, makeup, clothing'\n",
            " 'Cosmetic survey, Joined a gym/go to the gym, Other exercise'\n",
            " 'Cosmetic survey, Joined a gym/go to the gym, Therapy, Other exercise, join clubs/socual clubs/meet ups, Fashion makeup personality etc'\n",
            " 'Losing weight through better diet. No exercise yet.'\n",
            " 'Changed my hairstyle and lost weight'\n",
            " 'Cosmetic survey, Joined a gym/go to the gym, join clubs/socual clubs/meet ups'\n",
            " 'Joined a gym/go to the gym, Other exercise, go to bars'\n",
            " 'work out at home, eat more' 'Non-physical forms of improvement'\n",
            " 'Other exercise, None' 'Other exercise, Losing weight'\n",
            " 'Other exercise, learn new skills' 'Therapy, Other exercise, None'\n",
            " 'Cosmetic surgery, Joined a gym/go to the gym, Other exercise, join clubs/socual clubs/meet ups'\n",
            " 'Other exercise, Joined the US Navy' 'Started losing weight'\n",
            " 'Cosmetic surgery, Joined a gym/go to the gym, Therapy, Other exercise, join clubs/socual clubs/meet ups, None']\n",
            "\n"
          ],
          "name": "stdout"
        }
      ]
    },
    {
      "cell_type": "markdown",
      "metadata": {
        "id": "8j9hFf_8P-dP",
        "colab_type": "text"
      },
      "source": [
        "Dropping disqualified columns,"
      ]
    },
    {
      "cell_type": "code",
      "metadata": {
        "id": "PyH2XDVVwtjf",
        "colab_type": "code",
        "outputId": "9d6e765c-d890-415f-d9a1-c707cea41adc",
        "colab": {
          "base_uri": "https://localhost:8080/",
          "height": 430
        }
      },
      "source": [
        "df = df.drop(['Timestamp','SelfHelp', 'JobTitle', 'TypeOfHelp', 'CurrentlyEmployed', 'NotHadSex'], axis = 1)\n",
        "df.head()"
      ],
      "execution_count": 0,
      "outputs": [
        {
          "output_type": "execute_result",
          "data": {
            "text/html": [
              "<div>\n",
              "<style scoped>\n",
              "    .dataframe tbody tr th:only-of-type {\n",
              "        vertical-align: middle;\n",
              "    }\n",
              "\n",
              "    .dataframe tbody tr th {\n",
              "        vertical-align: top;\n",
              "    }\n",
              "\n",
              "    .dataframe thead th {\n",
              "        text-align: right;\n",
              "    }\n",
              "</style>\n",
              "<table border=\"1\" class=\"dataframe\">\n",
              "  <thead>\n",
              "    <tr style=\"text-align: right;\">\n",
              "      <th></th>\n",
              "      <th>Gender</th>\n",
              "      <th>SexualOrientation</th>\n",
              "      <th>Age</th>\n",
              "      <th>IncomeLevel</th>\n",
              "      <th>Race</th>\n",
              "      <th>Body</th>\n",
              "      <th>ProstitutionLegalAtPlace</th>\n",
              "      <th>WouldPayForSex</th>\n",
              "      <th>NumFriends</th>\n",
              "      <th>HasSocialAnxiety</th>\n",
              "      <th>Depressed</th>\n",
              "      <th>AttemptedSuicide</th>\n",
              "      <th>Education</th>\n",
              "    </tr>\n",
              "  </thead>\n",
              "  <tbody>\n",
              "    <tr>\n",
              "      <th>0</th>\n",
              "      <td>Male</td>\n",
              "      <td>Straight</td>\n",
              "      <td>35</td>\n",
              "      <td>$30,000 to $39,999</td>\n",
              "      <td>White non-Hispanic</td>\n",
              "      <td>Normal weight</td>\n",
              "      <td>No</td>\n",
              "      <td>No</td>\n",
              "      <td>0.0</td>\n",
              "      <td>Yes</td>\n",
              "      <td>Yes</td>\n",
              "      <td>Yes</td>\n",
              "      <td>Associate degree</td>\n",
              "    </tr>\n",
              "    <tr>\n",
              "      <th>1</th>\n",
              "      <td>Male</td>\n",
              "      <td>Bisexual</td>\n",
              "      <td>21</td>\n",
              "      <td>$1 to $10,000</td>\n",
              "      <td>White non-Hispanic</td>\n",
              "      <td>Underweight</td>\n",
              "      <td>No</td>\n",
              "      <td>No</td>\n",
              "      <td>0.0</td>\n",
              "      <td>Yes</td>\n",
              "      <td>Yes</td>\n",
              "      <td>No</td>\n",
              "      <td>Some college, no degree</td>\n",
              "    </tr>\n",
              "    <tr>\n",
              "      <th>2</th>\n",
              "      <td>Male</td>\n",
              "      <td>Straight</td>\n",
              "      <td>22</td>\n",
              "      <td>$0</td>\n",
              "      <td>White non-Hispanic</td>\n",
              "      <td>Overweight</td>\n",
              "      <td>No</td>\n",
              "      <td>No</td>\n",
              "      <td>10.0</td>\n",
              "      <td>Yes</td>\n",
              "      <td>Yes</td>\n",
              "      <td>No</td>\n",
              "      <td>Some college, no degree</td>\n",
              "    </tr>\n",
              "    <tr>\n",
              "      <th>3</th>\n",
              "      <td>Male</td>\n",
              "      <td>Straight</td>\n",
              "      <td>19</td>\n",
              "      <td>$1 to $10,000</td>\n",
              "      <td>White non-Hispanic</td>\n",
              "      <td>Overweight</td>\n",
              "      <td>Yes</td>\n",
              "      <td>No</td>\n",
              "      <td>8.0</td>\n",
              "      <td>Yes</td>\n",
              "      <td>Yes</td>\n",
              "      <td>No</td>\n",
              "      <td>Some college, no degree</td>\n",
              "    </tr>\n",
              "    <tr>\n",
              "      <th>4</th>\n",
              "      <td>Male</td>\n",
              "      <td>Straight</td>\n",
              "      <td>23</td>\n",
              "      <td>$30,000 to $39,999</td>\n",
              "      <td>White non-Hispanic</td>\n",
              "      <td>Overweight</td>\n",
              "      <td>No</td>\n",
              "      <td>Yes and I have</td>\n",
              "      <td>10.0</td>\n",
              "      <td>No</td>\n",
              "      <td>Yes</td>\n",
              "      <td>No</td>\n",
              "      <td>High school graduate, diploma or the equivalen...</td>\n",
              "    </tr>\n",
              "  </tbody>\n",
              "</table>\n",
              "</div>"
            ],
            "text/plain": [
              "  Gender  ...                                          Education\n",
              "0   Male  ...                                   Associate degree\n",
              "1   Male  ...                            Some college, no degree\n",
              "2   Male  ...                            Some college, no degree\n",
              "3   Male  ...                            Some college, no degree\n",
              "4   Male  ...  High school graduate, diploma or the equivalen...\n",
              "\n",
              "[5 rows x 13 columns]"
            ]
          },
          "metadata": {
            "tags": []
          },
          "execution_count": 194
        }
      ]
    },
    {
      "cell_type": "markdown",
      "metadata": {
        "id": "uKEG5O3QX8x2",
        "colab_type": "text"
      },
      "source": [
        "The 13 kept features are `Gender`, `SexualOrientation`, `Age`, `IncomeLevel`, `Race`, `Body`, `ProstitutionLegalAtPlace`, `WouldPayForSex`, `NumFriends`, `HasSocialAnxiety`,  and `Education`."
      ]
    },
    {
      "cell_type": "markdown",
      "metadata": {
        "id": "N7fgoXN8ZbPJ",
        "colab_type": "text"
      },
      "source": [
        "## Creating target column - DepressionSeverity"
      ]
    },
    {
      "cell_type": "markdown",
      "metadata": {
        "id": "GcJsUPUTZlro",
        "colab_type": "text"
      },
      "source": [
        "As my goal is to predict depression, I used all possible combinations of inputs from `Depressed`  and `AttemptedSuicide` to create my target column, `DepressionSeverity`. `DepressionSeverity` is defined as follows:\n",
        "\n",
        "<br>\n",
        "Given `Depressed`$\\in \\{0,1\\}$ and `AttemptedSuicide`$\\in \\{0,1\\}$,\n",
        "\n",
        "For (\\<`Depressed`\\>, \\<`AttemptedSuicide`\\>),\n",
        "*   If (`0`,`0`) or (`0`,`1`) - create target label `0` (indicates **Not Depressed**) \n",
        "*   If (`1`,`0`) - create target label `1` (indicates **Depressed**)\n",
        "*   If (`1`,`1`) - create target label `2` (indicates **Severely Depressed**)\n",
        "\n",
        "<br>\n",
        "Create a function that classifies depression severity as defined above:"
      ]
    },
    {
      "cell_type": "code",
      "metadata": {
        "id": "bqRAM_0jOtFW",
        "colab_type": "code",
        "outputId": "ceff2d87-34fb-4990-bc20-969302e0bff4",
        "colab": {
          "base_uri": "https://localhost:8080/",
          "height": 87
        }
      },
      "source": [
        "def classify_severity(x):\n",
        "  if x[0] == 'Yes' and x[1] == 'Yes':\n",
        "    return '2'\n",
        "  elif x[0] == 'No' and x[1] == 'Yes':\n",
        "    return '1'\n",
        "  else: return '0'\n",
        "\n",
        "#apply function and assign to new column, `DepressionSeverity`\n",
        "df['DepressionSeverity'] = df[['Depressed','AttemptedSuicide']].apply(classify_severity, axis = 1)\n",
        "\n",
        "#remove `Depressed` and `AttemptedSuicide` from `df`\n",
        "df = df.drop(['Depressed','AttemptedSuicide'], axis = 1)\n",
        "\n",
        "#verify changes\n",
        "print(df.DepressionSeverity.value_counts())"
      ],
      "execution_count": 0,
      "outputs": [
        {
          "output_type": "stream",
          "text": [
            "0    384\n",
            "2     75\n",
            "1     10\n",
            "Name: DepressionSeverity, dtype: int64\n"
          ],
          "name": "stdout"
        }
      ]
    },
    {
      "cell_type": "markdown",
      "metadata": {
        "id": "8rsLjFZ3c0Cq",
        "colab_type": "text"
      },
      "source": [
        "As seen above, data between labels are imbalanced. Take precaution when selecting an appropriate model evaluation metric to remove biases caused by the imbalance. More on that in the next section."
      ]
    },
    {
      "cell_type": "markdown",
      "metadata": {
        "id": "QOiMtZ_uFz7U",
        "colab_type": "text"
      },
      "source": [
        "## Removing skewness in features,"
      ]
    },
    {
      "cell_type": "markdown",
      "metadata": {
        "id": "v7Gt68EvF_E1",
        "colab_type": "text"
      },
      "source": [
        "Generally, features with evenly spread (such as Gaussian or Uniform) distributions give rise to better model performances.  When it comes to continuous features that are skewed, apply a transformation to correct the skewness. \n",
        "\n",
        "This dataset contains only one continuous variable, `NumFriends`. First, observe its distribution:"
      ]
    },
    {
      "cell_type": "code",
      "metadata": {
        "id": "ZeJNqvbFIY3F",
        "colab_type": "code",
        "outputId": "837fd465-b1f8-42f7-8093-640e38128141",
        "colab": {
          "base_uri": "https://localhost:8080/",
          "height": 283
        }
      },
      "source": [
        "df.NumFriends.hist()"
      ],
      "execution_count": 0,
      "outputs": [
        {
          "output_type": "execute_result",
          "data": {
            "text/plain": [
              "<matplotlib.axes._subplots.AxesSubplot at 0x7f6bdfabbe10>"
            ]
          },
          "metadata": {
            "tags": []
          },
          "execution_count": 196
        },
        {
          "output_type": "display_data",
          "data": {
            "image/png": "[encoded data removed]",
            "text/plain": [
              "<Figure size 432x288 with 1 Axes>"
            ]
          },
          "metadata": {
            "tags": []
          }
        }
      ]
    },
    {
      "cell_type": "markdown",
      "metadata": {
        "id": "nYxTc6DxfJ5u",
        "colab_type": "text"
      },
      "source": [
        "As seen in the histogram, the distribution of `NumFriends` is heavily right-skewed. Apply log-transform to `NumFriends` and observe its distribution now:"
      ]
    },
    {
      "cell_type": "code",
      "metadata": {
        "id": "DRIe56BVhmeC",
        "colab_type": "code",
        "outputId": "b95000cd-69de-4951-d644-7333084efd2a",
        "colab": {
          "base_uri": "https://localhost:8080/",
          "height": 283
        }
      },
      "source": [
        "np.log(df['NumFriends']+0.1).hist()"
      ],
      "execution_count": 0,
      "outputs": [
        {
          "output_type": "execute_result",
          "data": {
            "text/plain": [
              "<matplotlib.axes._subplots.AxesSubplot at 0x7f6bdfec0e80>"
            ]
          },
          "metadata": {
            "tags": []
          },
          "execution_count": 197
        },
        {
          "output_type": "display_data",
          "data": {
            "image/png": "[encoded data removed]",
            "text/plain": [
              "<Figure size 432x288 with 1 Axes>"
            ]
          },
          "metadata": {
            "tags": []
          }
        }
      ]
    },
    {
      "cell_type": "markdown",
      "metadata": {
        "id": "ptlWEP1LiAj1",
        "colab_type": "text"
      },
      "source": [
        "The distribution now looks more balanced. Rename `NumFriends` as `logNumFriends`:"
      ]
    },
    {
      "cell_type": "code",
      "metadata": {
        "id": "-Ywxf1xxfJpV",
        "colab_type": "code",
        "outputId": "d0a150ed-06f4-4b81-d78d-e3f33cef3e5f",
        "colab": {
          "base_uri": "https://localhost:8080/",
          "height": 430
        }
      },
      "source": [
        "#apply log transform to column\n",
        "df['NumFriends'] = np.log(df['NumFriends']+0.1)\n",
        "\n",
        "#rename column\n",
        "df.rename(columns={'NumFriends':'logNumFriends'}, inplace=True)\n",
        "\n",
        "df.head()"
      ],
      "execution_count": 0,
      "outputs": [
        {
          "output_type": "execute_result",
          "data": {
            "text/html": [
              "<div>\n",
              "<style scoped>\n",
              "    .dataframe tbody tr th:only-of-type {\n",
              "        vertical-align: middle;\n",
              "    }\n",
              "\n",
              "    .dataframe tbody tr th {\n",
              "        vertical-align: top;\n",
              "    }\n",
              "\n",
              "    .dataframe thead th {\n",
              "        text-align: right;\n",
              "    }\n",
              "</style>\n",
              "<table border=\"1\" class=\"dataframe\">\n",
              "  <thead>\n",
              "    <tr style=\"text-align: right;\">\n",
              "      <th></th>\n",
              "      <th>Gender</th>\n",
              "      <th>SexualOrientation</th>\n",
              "      <th>Age</th>\n",
              "      <th>IncomeLevel</th>\n",
              "      <th>Race</th>\n",
              "      <th>Body</th>\n",
              "      <th>ProstitutionLegalAtPlace</th>\n",
              "      <th>WouldPayForSex</th>\n",
              "      <th>logNumFriends</th>\n",
              "      <th>HasSocialAnxiety</th>\n",
              "      <th>Education</th>\n",
              "      <th>DepressionSeverity</th>\n",
              "    </tr>\n",
              "  </thead>\n",
              "  <tbody>\n",
              "    <tr>\n",
              "      <th>0</th>\n",
              "      <td>Male</td>\n",
              "      <td>Straight</td>\n",
              "      <td>35</td>\n",
              "      <td>$30,000 to $39,999</td>\n",
              "      <td>White non-Hispanic</td>\n",
              "      <td>Normal weight</td>\n",
              "      <td>No</td>\n",
              "      <td>No</td>\n",
              "      <td>-2.302585</td>\n",
              "      <td>Yes</td>\n",
              "      <td>Associate degree</td>\n",
              "      <td>2</td>\n",
              "    </tr>\n",
              "    <tr>\n",
              "      <th>1</th>\n",
              "      <td>Male</td>\n",
              "      <td>Bisexual</td>\n",
              "      <td>21</td>\n",
              "      <td>$1 to $10,000</td>\n",
              "      <td>White non-Hispanic</td>\n",
              "      <td>Underweight</td>\n",
              "      <td>No</td>\n",
              "      <td>No</td>\n",
              "      <td>-2.302585</td>\n",
              "      <td>Yes</td>\n",
              "      <td>Some college, no degree</td>\n",
              "      <td>0</td>\n",
              "    </tr>\n",
              "    <tr>\n",
              "      <th>2</th>\n",
              "      <td>Male</td>\n",
              "      <td>Straight</td>\n",
              "      <td>22</td>\n",
              "      <td>$0</td>\n",
              "      <td>White non-Hispanic</td>\n",
              "      <td>Overweight</td>\n",
              "      <td>No</td>\n",
              "      <td>No</td>\n",
              "      <td>2.312535</td>\n",
              "      <td>Yes</td>\n",
              "      <td>Some college, no degree</td>\n",
              "      <td>0</td>\n",
              "    </tr>\n",
              "    <tr>\n",
              "      <th>3</th>\n",
              "      <td>Male</td>\n",
              "      <td>Straight</td>\n",
              "      <td>19</td>\n",
              "      <td>$1 to $10,000</td>\n",
              "      <td>White non-Hispanic</td>\n",
              "      <td>Overweight</td>\n",
              "      <td>Yes</td>\n",
              "      <td>No</td>\n",
              "      <td>2.091864</td>\n",
              "      <td>Yes</td>\n",
              "      <td>Some college, no degree</td>\n",
              "      <td>0</td>\n",
              "    </tr>\n",
              "    <tr>\n",
              "      <th>4</th>\n",
              "      <td>Male</td>\n",
              "      <td>Straight</td>\n",
              "      <td>23</td>\n",
              "      <td>$30,000 to $39,999</td>\n",
              "      <td>White non-Hispanic</td>\n",
              "      <td>Overweight</td>\n",
              "      <td>No</td>\n",
              "      <td>Yes and I have</td>\n",
              "      <td>2.312535</td>\n",
              "      <td>No</td>\n",
              "      <td>High school graduate, diploma or the equivalen...</td>\n",
              "      <td>0</td>\n",
              "    </tr>\n",
              "  </tbody>\n",
              "</table>\n",
              "</div>"
            ],
            "text/plain": [
              "  Gender  ... DepressionSeverity\n",
              "0   Male  ...                  2\n",
              "1   Male  ...                  0\n",
              "2   Male  ...                  0\n",
              "3   Male  ...                  0\n",
              "4   Male  ...                  0\n",
              "\n",
              "[5 rows x 12 columns]"
            ]
          },
          "metadata": {
            "tags": []
          },
          "execution_count": 198
        }
      ]
    },
    {
      "cell_type": "markdown",
      "metadata": {
        "id": "SiAEGHnqkDpC",
        "colab_type": "text"
      },
      "source": [
        "##Median imputing"
      ]
    },
    {
      "cell_type": "markdown",
      "metadata": {
        "id": "2U751oPNkF8R",
        "colab_type": "text"
      },
      "source": [
        "In datasets of any size, there can be missing data or outliers. If the number of such data is very small relative to the size of the dataset, removing these entries from the dataset may not significantly impact model performance. \n",
        "\n",
        "However, for small datasets such as this one, median imputing is often a better solution in order to preserve as much training data as possible."
      ]
    },
    {
      "cell_type": "markdown",
      "metadata": {
        "id": "1H3lsPP-k81f",
        "colab_type": "text"
      },
      "source": [
        "First, check for missingness:"
      ]
    },
    {
      "cell_type": "code",
      "metadata": {
        "id": "PoetqcVVmWG7",
        "colab_type": "code",
        "outputId": "11681dec-22c8-42cb-eadc-ad275c2f60aa",
        "colab": {
          "base_uri": "https://localhost:8080/",
          "height": 243
        }
      },
      "source": [
        "df.isnull().sum()"
      ],
      "execution_count": 0,
      "outputs": [
        {
          "output_type": "execute_result",
          "data": {
            "text/plain": [
              "Gender                      0\n",
              "SexualOrientation           0\n",
              "Age                         0\n",
              "IncomeLevel                 0\n",
              "Race                        0\n",
              "Body                        0\n",
              "ProstitutionLegalAtPlace    0\n",
              "WouldPayForSex              0\n",
              "logNumFriends               0\n",
              "HasSocialAnxiety            0\n",
              "Education                   0\n",
              "DepressionSeverity          0\n",
              "dtype: int64"
            ]
          },
          "metadata": {
            "tags": []
          },
          "execution_count": 199
        }
      ]
    },
    {
      "cell_type": "markdown",
      "metadata": {
        "id": "1ae-Axt4mabk",
        "colab_type": "text"
      },
      "source": [
        "There are no missing values in the dataset."
      ]
    },
    {
      "cell_type": "markdown",
      "metadata": {
        "id": "U-r8IcZklABc",
        "colab_type": "text"
      },
      "source": [
        "Next, inspect the values of categorical features - do they make sense?\n"
      ]
    },
    {
      "cell_type": "code",
      "metadata": {
        "id": "uyUMYwLgna39",
        "colab_type": "code",
        "outputId": "b7e894bd-9e52-4b96-d439-8a9a5f51e584",
        "colab": {
          "base_uri": "https://localhost:8080/",
          "height": 711
        }
      },
      "source": [
        "for column in df.columns:\n",
        "    #skip through numerical variables\n",
        "    if column != 'logNumFriends' and column != 'Age' and column != 'DepressionSeverity':\n",
        "        print(f'columns: {column}\\nInput set:{df[column].unique()}\\n')"
      ],
      "execution_count": 0,
      "outputs": [
        {
          "output_type": "stream",
          "text": [
            "columns: Gender\n",
            "Input set:['Male' 'Female' 'Transgender male' 'Transgender female']\n",
            "\n",
            "columns: SexualOrientation\n",
            "Input set:['Straight' 'Bisexual' 'Gay/Lesbian']\n",
            "\n",
            "columns: IncomeLevel\n",
            "Input set:['$30,000 to $39,999' '$1 to $10,000' '$0' '$50,000 to $74,999'\n",
            " '$20,000 to $29,999' '$10,000 to $19,999' '$75,000 to $99,999'\n",
            " '$174,999 to $199,999' '$100,000 to $124,999' '$40,000 to $49,999'\n",
            " '$200,000 or more']\n",
            "\n",
            "columns: Race\n",
            "Input set:['White non-Hispanic' 'Hispanic (of any race)' 'Asian' 'white and asian'\n",
            " 'caucasian' 'Black' 'Middle Eastern' 'half Arab' 'Mixed race' 'Pakistani'\n",
            " 'helicopterkin' 'Turkish' 'Indian' 'Native american' 'Mixed' 'mixed'\n",
            " 'Mixed white/asian' 'indian' 'Multi' 'Native American mix'\n",
            " 'North African' 'Half Asian half white' 'White and Native American'\n",
            " 'First two answers. Gender is androgyne, not male; sexuality is asexual, not bi.'\n",
            " 'European']\n",
            "\n",
            "columns: Body\n",
            "Input set:['Normal weight' 'Underweight' 'Overweight' 'Obese']\n",
            "\n",
            "columns: ProstitutionLegalAtPlace\n",
            "Input set:['No' 'Yes']\n",
            "\n",
            "columns: WouldPayForSex\n",
            "Input set:['No' 'Yes and I have' \"Yes but I haven't\"]\n",
            "\n",
            "columns: HasSocialAnxiety\n",
            "Input set:['Yes' 'No']\n",
            "\n",
            "columns: Education\n",
            "Input set:['Associate degree' 'Some college, no degree'\n",
            " 'High school graduate, diploma or the equivalent (for example: GED)'\n",
            " 'Bachelor’s degree' 'Trade/technical/vocational training'\n",
            " 'Master’s degree' 'Some high school, no diploma' 'Doctorate degree'\n",
            " 'Professional degree']\n",
            "\n"
          ],
          "name": "stdout"
        }
      ]
    },
    {
      "cell_type": "markdown",
      "metadata": {
        "id": "qKP3m6jKDAl2",
        "colab_type": "text"
      },
      "source": [
        "Some values do not make sense. It is possible to replace these values with the most common value from that variable. However, as the responses seem untrue, I chose to remove these entries entirely  to preserve the quality of my training data, "
      ]
    },
    {
      "cell_type": "code",
      "metadata": {
        "id": "5z7ExwzbROw2",
        "colab_type": "code",
        "outputId": "04b628a6-963d-4510-d900-bb83761a311a",
        "colab": {
          "base_uri": "https://localhost:8080/",
          "height": 52
        }
      },
      "source": [
        "#Remove rows with irrelevant data under Race,\n",
        "print(df.loc[df.Race =='First two answers. Gender is androgyne, not male; sexuality is asexual, not bi.'].index)\n",
        "print(df.loc[df.Race == 'helicopterkin'].index)\n",
        "\n",
        "df = df.drop(414, axis=0) \n",
        "df = df.drop(150, axis=0) "
      ],
      "execution_count": 0,
      "outputs": [
        {
          "output_type": "stream",
          "text": [
            "Int64Index([414], dtype='int64')\n",
            "Int64Index([150], dtype='int64')\n"
          ],
          "name": "stdout"
        }
      ]
    },
    {
      "cell_type": "markdown",
      "metadata": {
        "id": "9CqxYXLsmMhN",
        "colab_type": "text"
      },
      "source": [
        "Finally, look for outliers in the numerical variable `logNumFriends`, and impute them with the variable's median:"
      ]
    },
    {
      "cell_type": "code",
      "metadata": {
        "id": "liaADk1fr1Qm",
        "colab_type": "code",
        "outputId": "e4e32114-e459-488b-cc40-a76c7f21ca96",
        "colab": {
          "base_uri": "https://localhost:8080/",
          "height": 283
        }
      },
      "source": [
        "df.boxplot(column =['logNumFriends'], grid = True)"
      ],
      "execution_count": 0,
      "outputs": [
        {
          "output_type": "execute_result",
          "data": {
            "text/plain": [
              "<matplotlib.axes._subplots.AxesSubplot at 0x7f6be0179cf8>"
            ]
          },
          "metadata": {
            "tags": []
          },
          "execution_count": 202
        },
        {
          "output_type": "display_data",
          "data": {
            "image/png": "[encoded data removed]",
            "text/plain": [
              "<Figure size 432x288 with 1 Axes>"
            ]
          },
          "metadata": {
            "tags": []
          }
        }
      ]
    },
    {
      "cell_type": "code",
      "metadata": {
        "id": "O--qUrOPsTZj",
        "colab_type": "code",
        "outputId": "8c8146f8-d228-4136-ade8-e62f7ead5ba1",
        "colab": {
          "base_uri": "https://localhost:8080/",
          "height": 139
        }
      },
      "source": [
        "#locate outliers \n",
        "outlier_index = list(df.loc[df.logNumFriends > 4].logNumFriends.index)\n",
        "\n",
        "#impute outliers with median\n",
        "df.loc[outlier_index, 'logNumFriends'] = df.logNumFriends.median()\n",
        "\n",
        "#check\n",
        "df.logNumFriends[outlier_index]"
      ],
      "execution_count": 0,
      "outputs": [
        {
          "output_type": "execute_result",
          "data": {
            "text/plain": [
              "92     1.131402\n",
              "164    1.131402\n",
              "257    1.131402\n",
              "314    1.131402\n",
              "315    1.131402\n",
              "435    1.131402\n",
              "Name: logNumFriends, dtype: float64"
            ]
          },
          "metadata": {
            "tags": []
          },
          "execution_count": 203
        }
      ]
    },
    {
      "cell_type": "markdown",
      "metadata": {
        "id": "xa1WsP-swWMC",
        "colab_type": "text"
      },
      "source": [
        "## One-hot encoding features"
      ]
    },
    {
      "cell_type": "markdown",
      "metadata": {
        "colab_type": "text",
        "id": "bIkgir4c_gwz"
      },
      "source": [
        "Models can only process numerical data. All categorical variables must be converted into numerical variables.\n",
        "\n",
        "To begin, create a yes/no map:"
      ]
    },
    {
      "cell_type": "code",
      "metadata": {
        "colab_type": "code",
        "id": "YLQ6jn0r_gw2",
        "colab": {}
      },
      "source": [
        "#defining yes/no map\n",
        "No_map = {'Yes': 1, 'No': 0}"
      ],
      "execution_count": 0,
      "outputs": []
    },
    {
      "cell_type": "markdown",
      "metadata": {
        "id": "UghS159N3qG3",
        "colab_type": "text"
      },
      "source": [
        "`No_map` encodes `\"yes\"`/`\"no\"` inputs into numerical values `1`/`0`. It will be used to numerically label `ProstitutionLegalAtPlace` and `HasSocialAnxiety`. \n",
        "\n",
        "Convert values of both variables:"
      ]
    },
    {
      "cell_type": "code",
      "metadata": {
        "id": "fAUfjfIu3vfa",
        "colab_type": "code",
        "outputId": "ad557132-54e6-4ca8-ccd8-b42bc4dbabea",
        "colab": {
          "base_uri": "https://localhost:8080/",
          "height": 430
        }
      },
      "source": [
        "df.ProstitutionLegalAtPlace.replace(No_map,inplace=True)\n",
        "df.HasSocialAnxiety.replace(No_map,inplace=True)\n",
        "\n",
        "#verify conversion\n",
        "df.head()"
      ],
      "execution_count": 0,
      "outputs": [
        {
          "output_type": "execute_result",
          "data": {
            "text/html": [
              "<div>\n",
              "<style scoped>\n",
              "    .dataframe tbody tr th:only-of-type {\n",
              "        vertical-align: middle;\n",
              "    }\n",
              "\n",
              "    .dataframe tbody tr th {\n",
              "        vertical-align: top;\n",
              "    }\n",
              "\n",
              "    .dataframe thead th {\n",
              "        text-align: right;\n",
              "    }\n",
              "</style>\n",
              "<table border=\"1\" class=\"dataframe\">\n",
              "  <thead>\n",
              "    <tr style=\"text-align: right;\">\n",
              "      <th></th>\n",
              "      <th>Gender</th>\n",
              "      <th>SexualOrientation</th>\n",
              "      <th>Age</th>\n",
              "      <th>IncomeLevel</th>\n",
              "      <th>Race</th>\n",
              "      <th>Body</th>\n",
              "      <th>ProstitutionLegalAtPlace</th>\n",
              "      <th>WouldPayForSex</th>\n",
              "      <th>logNumFriends</th>\n",
              "      <th>HasSocialAnxiety</th>\n",
              "      <th>Education</th>\n",
              "      <th>DepressionSeverity</th>\n",
              "    </tr>\n",
              "  </thead>\n",
              "  <tbody>\n",
              "    <tr>\n",
              "      <th>0</th>\n",
              "      <td>Male</td>\n",
              "      <td>Straight</td>\n",
              "      <td>35</td>\n",
              "      <td>$30,000 to $39,999</td>\n",
              "      <td>White non-Hispanic</td>\n",
              "      <td>Normal weight</td>\n",
              "      <td>0</td>\n",
              "      <td>No</td>\n",
              "      <td>-2.302585</td>\n",
              "      <td>1</td>\n",
              "      <td>Associate degree</td>\n",
              "      <td>2</td>\n",
              "    </tr>\n",
              "    <tr>\n",
              "      <th>1</th>\n",
              "      <td>Male</td>\n",
              "      <td>Bisexual</td>\n",
              "      <td>21</td>\n",
              "      <td>$1 to $10,000</td>\n",
              "      <td>White non-Hispanic</td>\n",
              "      <td>Underweight</td>\n",
              "      <td>0</td>\n",
              "      <td>No</td>\n",
              "      <td>-2.302585</td>\n",
              "      <td>1</td>\n",
              "      <td>Some college, no degree</td>\n",
              "      <td>0</td>\n",
              "    </tr>\n",
              "    <tr>\n",
              "      <th>2</th>\n",
              "      <td>Male</td>\n",
              "      <td>Straight</td>\n",
              "      <td>22</td>\n",
              "      <td>$0</td>\n",
              "      <td>White non-Hispanic</td>\n",
              "      <td>Overweight</td>\n",
              "      <td>0</td>\n",
              "      <td>No</td>\n",
              "      <td>2.312535</td>\n",
              "      <td>1</td>\n",
              "      <td>Some college, no degree</td>\n",
              "      <td>0</td>\n",
              "    </tr>\n",
              "    <tr>\n",
              "      <th>3</th>\n",
              "      <td>Male</td>\n",
              "      <td>Straight</td>\n",
              "      <td>19</td>\n",
              "      <td>$1 to $10,000</td>\n",
              "      <td>White non-Hispanic</td>\n",
              "      <td>Overweight</td>\n",
              "      <td>1</td>\n",
              "      <td>No</td>\n",
              "      <td>2.091864</td>\n",
              "      <td>1</td>\n",
              "      <td>Some college, no degree</td>\n",
              "      <td>0</td>\n",
              "    </tr>\n",
              "    <tr>\n",
              "      <th>4</th>\n",
              "      <td>Male</td>\n",
              "      <td>Straight</td>\n",
              "      <td>23</td>\n",
              "      <td>$30,000 to $39,999</td>\n",
              "      <td>White non-Hispanic</td>\n",
              "      <td>Overweight</td>\n",
              "      <td>0</td>\n",
              "      <td>Yes and I have</td>\n",
              "      <td>2.312535</td>\n",
              "      <td>0</td>\n",
              "      <td>High school graduate, diploma or the equivalen...</td>\n",
              "      <td>0</td>\n",
              "    </tr>\n",
              "  </tbody>\n",
              "</table>\n",
              "</div>"
            ],
            "text/plain": [
              "  Gender  ... DepressionSeverity\n",
              "0   Male  ...                  2\n",
              "1   Male  ...                  0\n",
              "2   Male  ...                  0\n",
              "3   Male  ...                  0\n",
              "4   Male  ...                  0\n",
              "\n",
              "[5 rows x 12 columns]"
            ]
          },
          "metadata": {
            "tags": []
          },
          "execution_count": 205
        }
      ]
    },
    {
      "cell_type": "markdown",
      "metadata": {
        "colab_type": "text",
        "id": "oXU_NGal_gw5"
      },
      "source": [
        "The variables `race` and `education` contains many unique inputs which can be further classified. Creating respective maps and reclassify:"
      ]
    },
    {
      "cell_type": "code",
      "metadata": {
        "colab_type": "code",
        "id": "4vgM1YDB_gw5",
        "colab": {}
      },
      "source": [
        "#Education map:\n",
        "Education_map = {\"Master’s degree\": 'MastersAndBeyond', \"Doctorate degree\": 'MastersAndBeyond', \n",
        "                 'Professional degree': 'MastersAndBeyond', \n",
        "                 'Associate degree': 'CollegeOrEquivalent', 'Some college, no degree': 'CollegeOrEquivalent', \n",
        "                 'High school graduate, diploma or the equivalent (for example: GED)': 'Highschool', \n",
        "                 'Bachelor’s degree': 'CollegeOrEquivalent', 'Trade/technical/vocational training': 'CollegeOrEquivalent', \n",
        "                 'Some high school, no diploma': 'Highschool'}\n",
        "\n",
        "#race map\n",
        "Race_map = {'Mixed': 'Others','mixed': 'Others','Mixed race': 'Others','Multi': 'Others','Half Asian half white': 'Others',\n",
        "            'White and Native American': 'Others','white and asian': 'Others','half Arab': 'Others',\n",
        "            'Mixed white/asian': 'Others','Native American mix': 'Others',\n",
        "            'White non-Hispanic': 'Caucasian', 'caucasian': 'Caucasian', 'European': 'Caucasian', 'Turkish': 'Others',\n",
        "            'Indian': 'Asian', 'indian': 'Asian', 'Asian': 'Asian', 'Pakistani': 'Asian',\n",
        "            'Hispanic (of any race)': 'Hispanic',\n",
        "            'Middle Eastern': 'Others', 'Native american': 'Others',\n",
        "            'North African': 'Black'\n",
        "            }\n",
        "#reclassify\n",
        "df.Race.replace(Race_map,inplace=True)\n",
        "df.Education.replace(Education_map,inplace=True)"
      ],
      "execution_count": 0,
      "outputs": []
    },
    {
      "cell_type": "markdown",
      "metadata": {
        "colab_type": "text",
        "id": "EDHBBCIV_gw9"
      },
      "source": [
        "Finally, one-hot-encode all variables that still contain categorical values. One-hot encoding converts categorical values into new columns with {0,1} values.\n",
        "\n",
        "Define a one-hot-encoding function:"
      ]
    },
    {
      "cell_type": "code",
      "metadata": {
        "id": "koVdAtNqIJ5n",
        "colab_type": "code",
        "colab": {}
      },
      "source": [
        "#define a one-hot encoding function\n",
        "'''\n",
        "Iterate through each variable in the dictionary. \n",
        "For each value in the array of unique values, look up each value in column. \n",
        "If values match, assign 1, else assign 0 to new column in dataframe.\n",
        "Return dataframe.\n",
        "'''\n",
        "def one_hot_encode(df, unique_values_dict):\n",
        "    for key, value in unique_values_dict.items(): #for each variable,\n",
        "        for unique_value in value: #for each value in the array of unique values,\n",
        "            df[unique_value] = df[key].apply(lambda x: 1 if x == unique_value else 0)\n",
        "        df = df.drop(columns=[key])\n",
        "    return df"
      ],
      "execution_count": 0,
      "outputs": []
    },
    {
      "cell_type": "code",
      "metadata": {
        "colab_type": "code",
        "id": "oEDpCa6R_gw_",
        "outputId": "eb0daba9-80d5-4918-a6a9-0afeed1d858b",
        "colab": {
          "base_uri": "https://localhost:8080/",
          "height": 470
        }
      },
      "source": [
        "#create a dictionary with {key, val} of {variable, set of unqiue values}\n",
        "unique_values = {'Gender': df.Gender.unique(), 'SexualOrientation': df.SexualOrientation.unique(), \n",
        "                'IncomeLevel': df.IncomeLevel.unique(), 'Race': df.Race.unique(),\n",
        "                'Body': df.Body.unique(), 'Education': df.Education.unique(), \n",
        "                'WouldPayForSex': df.WouldPayForSex.unique(),}\n",
        "\n",
        "#one-hot-encode `df_oneHot` and assign to new variable, `df_oneHot`\n",
        "df_oneHot = one_hot_encode(df, unique_values)\n",
        "\n",
        "#renaming new columns from `WouldPayForSex`:\n",
        "df_oneHot = df_oneHot.rename(columns = {'No': 'No_WouldPayForSex', 'Yes and I have': 'YesAndHave_WouldPayForSex', \"Yes but I haven't\": 'YesButHaveNot_WouldPayForSex'})\n",
        "\n",
        "#renaming `DepressionSeverity` to `Target`,\n",
        "df_oneHot.rename({'DepressionSeverity': 'Target'},axis=1, inplace=True)\n",
        "\n",
        "#how does df_oneHot look like?\n",
        "df_oneHot"
      ],
      "execution_count": 0,
      "outputs": [
        {
          "output_type": "execute_result",
          "data": {
            "text/html": [
              "<div>\n",
              "<style scoped>\n",
              "    .dataframe tbody tr th:only-of-type {\n",
              "        vertical-align: middle;\n",
              "    }\n",
              "\n",
              "    .dataframe tbody tr th {\n",
              "        vertical-align: top;\n",
              "    }\n",
              "\n",
              "    .dataframe thead th {\n",
              "        text-align: right;\n",
              "    }\n",
              "</style>\n",
              "<table border=\"1\" class=\"dataframe\">\n",
              "  <thead>\n",
              "    <tr style=\"text-align: right;\">\n",
              "      <th></th>\n",
              "      <th>Age</th>\n",
              "      <th>ProstitutionLegalAtPlace</th>\n",
              "      <th>logNumFriends</th>\n",
              "      <th>HasSocialAnxiety</th>\n",
              "      <th>Target</th>\n",
              "      <th>Male</th>\n",
              "      <th>Female</th>\n",
              "      <th>Transgender male</th>\n",
              "      <th>Transgender female</th>\n",
              "      <th>Straight</th>\n",
              "      <th>Bisexual</th>\n",
              "      <th>Gay/Lesbian</th>\n",
              "      <th>$30,000 to $39,999</th>\n",
              "      <th>$1 to $10,000</th>\n",
              "      <th>$0</th>\n",
              "      <th>$50,000 to $74,999</th>\n",
              "      <th>$20,000 to $29,999</th>\n",
              "      <th>$10,000 to $19,999</th>\n",
              "      <th>$75,000 to $99,999</th>\n",
              "      <th>$174,999 to $199,999</th>\n",
              "      <th>$100,000 to $124,999</th>\n",
              "      <th>$40,000 to $49,999</th>\n",
              "      <th>$200,000 or more</th>\n",
              "      <th>Caucasian</th>\n",
              "      <th>Hispanic</th>\n",
              "      <th>Asian</th>\n",
              "      <th>Others</th>\n",
              "      <th>Black</th>\n",
              "      <th>Normal weight</th>\n",
              "      <th>Underweight</th>\n",
              "      <th>Overweight</th>\n",
              "      <th>Obese</th>\n",
              "      <th>CollegeOrEquivalent</th>\n",
              "      <th>Highschool</th>\n",
              "      <th>MastersAndBeyond</th>\n",
              "      <th>No_WouldPayForSex</th>\n",
              "      <th>YesAndHave_WouldPayForSex</th>\n",
              "      <th>YesButHaveNot_WouldPayForSex</th>\n",
              "    </tr>\n",
              "  </thead>\n",
              "  <tbody>\n",
              "    <tr>\n",
              "      <th>0</th>\n",
              "      <td>35</td>\n",
              "      <td>0</td>\n",
              "      <td>-2.302585</td>\n",
              "      <td>1</td>\n",
              "      <td>2</td>\n",
              "      <td>1</td>\n",
              "      <td>0</td>\n",
              "      <td>0</td>\n",
              "      <td>0</td>\n",
              "      <td>1</td>\n",
              "      <td>0</td>\n",
              "      <td>0</td>\n",
              "      <td>1</td>\n",
              "      <td>0</td>\n",
              "      <td>0</td>\n",
              "      <td>0</td>\n",
              "      <td>0</td>\n",
              "      <td>0</td>\n",
              "      <td>0</td>\n",
              "      <td>0</td>\n",
              "      <td>0</td>\n",
              "      <td>0</td>\n",
              "      <td>0</td>\n",
              "      <td>1</td>\n",
              "      <td>0</td>\n",
              "      <td>0</td>\n",
              "      <td>0</td>\n",
              "      <td>0</td>\n",
              "      <td>1</td>\n",
              "      <td>0</td>\n",
              "      <td>0</td>\n",
              "      <td>0</td>\n",
              "      <td>1</td>\n",
              "      <td>0</td>\n",
              "      <td>0</td>\n",
              "      <td>1</td>\n",
              "      <td>0</td>\n",
              "      <td>0</td>\n",
              "    </tr>\n",
              "    <tr>\n",
              "      <th>1</th>\n",
              "      <td>21</td>\n",
              "      <td>0</td>\n",
              "      <td>-2.302585</td>\n",
              "      <td>1</td>\n",
              "      <td>0</td>\n",
              "      <td>1</td>\n",
              "      <td>0</td>\n",
              "      <td>0</td>\n",
              "      <td>0</td>\n",
              "      <td>0</td>\n",
              "      <td>1</td>\n",
              "      <td>0</td>\n",
              "      <td>0</td>\n",
              "      <td>1</td>\n",
              "      <td>0</td>\n",
              "      <td>0</td>\n",
              "      <td>0</td>\n",
              "      <td>0</td>\n",
              "      <td>0</td>\n",
              "      <td>0</td>\n",
              "      <td>0</td>\n",
              "      <td>0</td>\n",
              "      <td>0</td>\n",
              "      <td>1</td>\n",
              "      <td>0</td>\n",
              "      <td>0</td>\n",
              "      <td>0</td>\n",
              "      <td>0</td>\n",
              "      <td>0</td>\n",
              "      <td>1</td>\n",
              "      <td>0</td>\n",
              "      <td>0</td>\n",
              "      <td>1</td>\n",
              "      <td>0</td>\n",
              "      <td>0</td>\n",
              "      <td>1</td>\n",
              "      <td>0</td>\n",
              "      <td>0</td>\n",
              "    </tr>\n",
              "    <tr>\n",
              "      <th>2</th>\n",
              "      <td>22</td>\n",
              "      <td>0</td>\n",
              "      <td>2.312535</td>\n",
              "      <td>1</td>\n",
              "      <td>0</td>\n",
              "      <td>1</td>\n",
              "      <td>0</td>\n",
              "      <td>0</td>\n",
              "      <td>0</td>\n",
              "      <td>1</td>\n",
              "      <td>0</td>\n",
              "      <td>0</td>\n",
              "      <td>0</td>\n",
              "      <td>0</td>\n",
              "      <td>1</td>\n",
              "      <td>0</td>\n",
              "      <td>0</td>\n",
              "      <td>0</td>\n",
              "      <td>0</td>\n",
              "      <td>0</td>\n",
              "      <td>0</td>\n",
              "      <td>0</td>\n",
              "      <td>0</td>\n",
              "      <td>1</td>\n",
              "      <td>0</td>\n",
              "      <td>0</td>\n",
              "      <td>0</td>\n",
              "      <td>0</td>\n",
              "      <td>0</td>\n",
              "      <td>0</td>\n",
              "      <td>1</td>\n",
              "      <td>0</td>\n",
              "      <td>1</td>\n",
              "      <td>0</td>\n",
              "      <td>0</td>\n",
              "      <td>1</td>\n",
              "      <td>0</td>\n",
              "      <td>0</td>\n",
              "    </tr>\n",
              "    <tr>\n",
              "      <th>3</th>\n",
              "      <td>19</td>\n",
              "      <td>1</td>\n",
              "      <td>2.091864</td>\n",
              "      <td>1</td>\n",
              "      <td>0</td>\n",
              "      <td>1</td>\n",
              "      <td>0</td>\n",
              "      <td>0</td>\n",
              "      <td>0</td>\n",
              "      <td>1</td>\n",
              "      <td>0</td>\n",
              "      <td>0</td>\n",
              "      <td>0</td>\n",
              "      <td>1</td>\n",
              "      <td>0</td>\n",
              "      <td>0</td>\n",
              "      <td>0</td>\n",
              "      <td>0</td>\n",
              "      <td>0</td>\n",
              "      <td>0</td>\n",
              "      <td>0</td>\n",
              "      <td>0</td>\n",
              "      <td>0</td>\n",
              "      <td>1</td>\n",
              "      <td>0</td>\n",
              "      <td>0</td>\n",
              "      <td>0</td>\n",
              "      <td>0</td>\n",
              "      <td>0</td>\n",
              "      <td>0</td>\n",
              "      <td>1</td>\n",
              "      <td>0</td>\n",
              "      <td>1</td>\n",
              "      <td>0</td>\n",
              "      <td>0</td>\n",
              "      <td>1</td>\n",
              "      <td>0</td>\n",
              "      <td>0</td>\n",
              "    </tr>\n",
              "    <tr>\n",
              "      <th>4</th>\n",
              "      <td>23</td>\n",
              "      <td>0</td>\n",
              "      <td>2.312535</td>\n",
              "      <td>0</td>\n",
              "      <td>0</td>\n",
              "      <td>1</td>\n",
              "      <td>0</td>\n",
              "      <td>0</td>\n",
              "      <td>0</td>\n",
              "      <td>1</td>\n",
              "      <td>0</td>\n",
              "      <td>0</td>\n",
              "      <td>1</td>\n",
              "      <td>0</td>\n",
              "      <td>0</td>\n",
              "      <td>0</td>\n",
              "      <td>0</td>\n",
              "      <td>0</td>\n",
              "      <td>0</td>\n",
              "      <td>0</td>\n",
              "      <td>0</td>\n",
              "      <td>0</td>\n",
              "      <td>0</td>\n",
              "      <td>1</td>\n",
              "      <td>0</td>\n",
              "      <td>0</td>\n",
              "      <td>0</td>\n",
              "      <td>0</td>\n",
              "      <td>0</td>\n",
              "      <td>0</td>\n",
              "      <td>1</td>\n",
              "      <td>0</td>\n",
              "      <td>0</td>\n",
              "      <td>1</td>\n",
              "      <td>0</td>\n",
              "      <td>0</td>\n",
              "      <td>1</td>\n",
              "      <td>0</td>\n",
              "    </tr>\n",
              "    <tr>\n",
              "      <th>...</th>\n",
              "      <td>...</td>\n",
              "      <td>...</td>\n",
              "      <td>...</td>\n",
              "      <td>...</td>\n",
              "      <td>...</td>\n",
              "      <td>...</td>\n",
              "      <td>...</td>\n",
              "      <td>...</td>\n",
              "      <td>...</td>\n",
              "      <td>...</td>\n",
              "      <td>...</td>\n",
              "      <td>...</td>\n",
              "      <td>...</td>\n",
              "      <td>...</td>\n",
              "      <td>...</td>\n",
              "      <td>...</td>\n",
              "      <td>...</td>\n",
              "      <td>...</td>\n",
              "      <td>...</td>\n",
              "      <td>...</td>\n",
              "      <td>...</td>\n",
              "      <td>...</td>\n",
              "      <td>...</td>\n",
              "      <td>...</td>\n",
              "      <td>...</td>\n",
              "      <td>...</td>\n",
              "      <td>...</td>\n",
              "      <td>...</td>\n",
              "      <td>...</td>\n",
              "      <td>...</td>\n",
              "      <td>...</td>\n",
              "      <td>...</td>\n",
              "      <td>...</td>\n",
              "      <td>...</td>\n",
              "      <td>...</td>\n",
              "      <td>...</td>\n",
              "      <td>...</td>\n",
              "      <td>...</td>\n",
              "    </tr>\n",
              "    <tr>\n",
              "      <th>464</th>\n",
              "      <td>26</td>\n",
              "      <td>0</td>\n",
              "      <td>2.312535</td>\n",
              "      <td>1</td>\n",
              "      <td>0</td>\n",
              "      <td>0</td>\n",
              "      <td>1</td>\n",
              "      <td>0</td>\n",
              "      <td>0</td>\n",
              "      <td>1</td>\n",
              "      <td>0</td>\n",
              "      <td>0</td>\n",
              "      <td>0</td>\n",
              "      <td>0</td>\n",
              "      <td>0</td>\n",
              "      <td>0</td>\n",
              "      <td>0</td>\n",
              "      <td>1</td>\n",
              "      <td>0</td>\n",
              "      <td>0</td>\n",
              "      <td>0</td>\n",
              "      <td>0</td>\n",
              "      <td>0</td>\n",
              "      <td>1</td>\n",
              "      <td>0</td>\n",
              "      <td>0</td>\n",
              "      <td>0</td>\n",
              "      <td>0</td>\n",
              "      <td>0</td>\n",
              "      <td>0</td>\n",
              "      <td>1</td>\n",
              "      <td>0</td>\n",
              "      <td>0</td>\n",
              "      <td>0</td>\n",
              "      <td>1</td>\n",
              "      <td>0</td>\n",
              "      <td>0</td>\n",
              "      <td>1</td>\n",
              "    </tr>\n",
              "    <tr>\n",
              "      <th>465</th>\n",
              "      <td>31</td>\n",
              "      <td>0</td>\n",
              "      <td>2.312535</td>\n",
              "      <td>0</td>\n",
              "      <td>0</td>\n",
              "      <td>1</td>\n",
              "      <td>0</td>\n",
              "      <td>0</td>\n",
              "      <td>0</td>\n",
              "      <td>1</td>\n",
              "      <td>0</td>\n",
              "      <td>0</td>\n",
              "      <td>1</td>\n",
              "      <td>0</td>\n",
              "      <td>0</td>\n",
              "      <td>0</td>\n",
              "      <td>0</td>\n",
              "      <td>0</td>\n",
              "      <td>0</td>\n",
              "      <td>0</td>\n",
              "      <td>0</td>\n",
              "      <td>0</td>\n",
              "      <td>0</td>\n",
              "      <td>1</td>\n",
              "      <td>0</td>\n",
              "      <td>0</td>\n",
              "      <td>0</td>\n",
              "      <td>0</td>\n",
              "      <td>1</td>\n",
              "      <td>0</td>\n",
              "      <td>0</td>\n",
              "      <td>0</td>\n",
              "      <td>0</td>\n",
              "      <td>1</td>\n",
              "      <td>0</td>\n",
              "      <td>0</td>\n",
              "      <td>0</td>\n",
              "      <td>1</td>\n",
              "    </tr>\n",
              "    <tr>\n",
              "      <th>466</th>\n",
              "      <td>17</td>\n",
              "      <td>0</td>\n",
              "      <td>3.000720</td>\n",
              "      <td>1</td>\n",
              "      <td>2</td>\n",
              "      <td>0</td>\n",
              "      <td>1</td>\n",
              "      <td>0</td>\n",
              "      <td>0</td>\n",
              "      <td>1</td>\n",
              "      <td>0</td>\n",
              "      <td>0</td>\n",
              "      <td>0</td>\n",
              "      <td>1</td>\n",
              "      <td>0</td>\n",
              "      <td>0</td>\n",
              "      <td>0</td>\n",
              "      <td>0</td>\n",
              "      <td>0</td>\n",
              "      <td>0</td>\n",
              "      <td>0</td>\n",
              "      <td>0</td>\n",
              "      <td>0</td>\n",
              "      <td>0</td>\n",
              "      <td>0</td>\n",
              "      <td>1</td>\n",
              "      <td>0</td>\n",
              "      <td>0</td>\n",
              "      <td>1</td>\n",
              "      <td>0</td>\n",
              "      <td>0</td>\n",
              "      <td>0</td>\n",
              "      <td>0</td>\n",
              "      <td>1</td>\n",
              "      <td>0</td>\n",
              "      <td>1</td>\n",
              "      <td>0</td>\n",
              "      <td>0</td>\n",
              "    </tr>\n",
              "    <tr>\n",
              "      <th>467</th>\n",
              "      <td>18</td>\n",
              "      <td>0</td>\n",
              "      <td>2.778819</td>\n",
              "      <td>1</td>\n",
              "      <td>0</td>\n",
              "      <td>1</td>\n",
              "      <td>0</td>\n",
              "      <td>0</td>\n",
              "      <td>0</td>\n",
              "      <td>1</td>\n",
              "      <td>0</td>\n",
              "      <td>0</td>\n",
              "      <td>0</td>\n",
              "      <td>0</td>\n",
              "      <td>1</td>\n",
              "      <td>0</td>\n",
              "      <td>0</td>\n",
              "      <td>0</td>\n",
              "      <td>0</td>\n",
              "      <td>0</td>\n",
              "      <td>0</td>\n",
              "      <td>0</td>\n",
              "      <td>0</td>\n",
              "      <td>0</td>\n",
              "      <td>0</td>\n",
              "      <td>1</td>\n",
              "      <td>0</td>\n",
              "      <td>0</td>\n",
              "      <td>0</td>\n",
              "      <td>0</td>\n",
              "      <td>0</td>\n",
              "      <td>1</td>\n",
              "      <td>0</td>\n",
              "      <td>1</td>\n",
              "      <td>0</td>\n",
              "      <td>1</td>\n",
              "      <td>0</td>\n",
              "      <td>0</td>\n",
              "    </tr>\n",
              "    <tr>\n",
              "      <th>468</th>\n",
              "      <td>28</td>\n",
              "      <td>0</td>\n",
              "      <td>1.131402</td>\n",
              "      <td>1</td>\n",
              "      <td>0</td>\n",
              "      <td>1</td>\n",
              "      <td>0</td>\n",
              "      <td>0</td>\n",
              "      <td>0</td>\n",
              "      <td>1</td>\n",
              "      <td>0</td>\n",
              "      <td>0</td>\n",
              "      <td>0</td>\n",
              "      <td>0</td>\n",
              "      <td>0</td>\n",
              "      <td>0</td>\n",
              "      <td>0</td>\n",
              "      <td>0</td>\n",
              "      <td>0</td>\n",
              "      <td>0</td>\n",
              "      <td>0</td>\n",
              "      <td>1</td>\n",
              "      <td>0</td>\n",
              "      <td>1</td>\n",
              "      <td>0</td>\n",
              "      <td>0</td>\n",
              "      <td>0</td>\n",
              "      <td>0</td>\n",
              "      <td>1</td>\n",
              "      <td>0</td>\n",
              "      <td>0</td>\n",
              "      <td>0</td>\n",
              "      <td>0</td>\n",
              "      <td>0</td>\n",
              "      <td>1</td>\n",
              "      <td>0</td>\n",
              "      <td>0</td>\n",
              "      <td>1</td>\n",
              "    </tr>\n",
              "  </tbody>\n",
              "</table>\n",
              "<p>467 rows × 38 columns</p>\n",
              "</div>"
            ],
            "text/plain": [
              "     Age  ...  YesButHaveNot_WouldPayForSex\n",
              "0     35  ...                             0\n",
              "1     21  ...                             0\n",
              "2     22  ...                             0\n",
              "3     19  ...                             0\n",
              "4     23  ...                             0\n",
              "..   ...  ...                           ...\n",
              "464   26  ...                             1\n",
              "465   31  ...                             1\n",
              "466   17  ...                             0\n",
              "467   18  ...                             0\n",
              "468   28  ...                             1\n",
              "\n",
              "[467 rows x 38 columns]"
            ]
          },
          "metadata": {
            "tags": []
          },
          "execution_count": 208
        }
      ]
    },
    {
      "cell_type": "markdown",
      "metadata": {
        "id": "H7EF-CPgzw3w",
        "colab_type": "text"
      },
      "source": [
        "Now all variables have numeric inputs. `df_cleaned_oneHot` now contains the target column, numerical columns `Age` and `logNumFriends` and columns with {0,1} values for each category under each categorical variable."
      ]
    },
    {
      "cell_type": "markdown",
      "metadata": {
        "id": "yW1nWklC8KQ9",
        "colab_type": "text"
      },
      "source": [
        "#Model Training and Validation"
      ]
    },
    {
      "cell_type": "markdown",
      "metadata": {
        "id": "t8M5_9gw8czZ",
        "colab_type": "text"
      },
      "source": [
        "Predicting depression severity is a multiclass classficiation problem. I used three appropriate models, Mutlinomial Logistic Regression, Decision Tree and Random Forest and compare their performances."
      ]
    },
    {
      "cell_type": "markdown",
      "metadata": {
        "id": "j1PIX7H39rV9",
        "colab_type": "text"
      },
      "source": [
        "##Metric"
      ]
    },
    {
      "cell_type": "markdown",
      "metadata": {
        "colab_type": "text",
        "id": "h6rbmXtnAhuB"
      },
      "source": [
        "Given that the problem is a multi-classification problem, and taking into account of data imbalance observed between the three labels, I chose $f_{2}$ as my scoring metric. \n",
        "\n",
        "$f_{β}$ is the weighted harmonic mean between precision and recall:\n",
        "\n",
        "<br>\n",
        "<center>$f_{β} = (1+β^2) \\cdot \\frac{precision \\cdot recall}{(β^2 \\cdot precision) + recall}, β\\in \\mathbb{R} $</center>\n",
        "<center>with β < 1 favoring precision and β > 1 favoring recall</center>\n",
        "<br>\n",
        "\n",
        "Precision and recall are suitable metrics for imbalanced target values. $f_{β}$ is chosen as a means to succinctly represent the precision and recall scores. "
      ]
    },
    {
      "cell_type": "markdown",
      "metadata": {
        "id": "S0ipDbDuEoai",
        "colab_type": "text"
      },
      "source": [
        "**As it is less consequential to mislabel a healthy person as depressed than to miss out on truly depressed individuals (false positives over false negatives), I assigned β as 2 to favor recall.**\n",
        "\n",
        "Define a function that runs model prediction and returns the model's $f_{2}$ score:"
      ]
    },
    {
      "cell_type": "code",
      "metadata": {
        "id": "MB5L2nJr9o47",
        "colab_type": "code",
        "colab": {}
      },
      "source": [
        "def evaluate_model(model, x_test, y_test, beta: int = 2):\n",
        "    y_pred = model.predict(x_test)\n",
        "    return fbeta_score(y_test, y_pred, beta=beta, average='weighted')"
      ],
      "execution_count": 0,
      "outputs": []
    },
    {
      "cell_type": "markdown",
      "metadata": {
        "id": "Ozf0TqHTJeyZ",
        "colab_type": "text"
      },
      "source": [
        "##Models\n",
        "\n",
        "For each model, split the dataset into train and validation sets. Then, fit the models and evaluate their performances on the validation set.\n",
        "\n",
        "\n",
        "Split data into training and validation sets:"
      ]
    },
    {
      "cell_type": "code",
      "metadata": {
        "id": "K7fR-ZTDUb7Q",
        "colab_type": "code",
        "colab": {}
      },
      "source": [
        "from sklearn.model_selection import train_test_split\n",
        "\n",
        "x_train, x_test, y_train, y_test = train_test_split(df_oneHot.drop('Target',1),\n",
        "                                                    df_oneHot['Target'],\n",
        "                                                    test_size=0.20, random_state=1)"
      ],
      "execution_count": 0,
      "outputs": []
    },
    {
      "cell_type": "markdown",
      "metadata": {
        "id": "e6Wl52EgAW1-",
        "colab_type": "text"
      },
      "source": [
        "### Multinomial Logistic"
      ]
    },
    {
      "cell_type": "code",
      "metadata": {
        "id": "yMNmDrJi3MME",
        "colab_type": "code",
        "outputId": "23736818-442b-4020-b4ab-b80aa9fe4b8b",
        "colab": {
          "base_uri": "https://localhost:8080/",
          "height": 228
        }
      },
      "source": [
        "from sklearn.linear_model import LogisticRegression\n",
        "from sklearn.metrics import fbeta_score\n",
        "\n",
        "# initialize multinomial logistic regression model\n",
        "multilog = LogisticRegression(penalty='l2',class_weight ='balanced', multi_class='multinomial',solver='lbfgs')\n",
        "\n",
        "# Train the model\n",
        "multilog.fit(x_train, y_train)\n",
        "\n",
        "# Validate the model\n",
        "f_multilog = evaluate_model(model=multilog, x_test=x_test, y_test=y_test, beta=2)\n",
        "print(f'f2_score of multilog: {f_multilog}')"
      ],
      "execution_count": 0,
      "outputs": [
        {
          "output_type": "stream",
          "text": [
            "f2_score of multilog: 0.590006015704154\n"
          ],
          "name": "stdout"
        },
        {
          "output_type": "stream",
          "text": [
            "/usr/local/lib/python3.6/dist-packages/sklearn/linear_model/_logistic.py:940: ConvergenceWarning:\n",
            "\n",
            "lbfgs failed to converge (status=1):\n",
            "STOP: TOTAL NO. of ITERATIONS REACHED LIMIT.\n",
            "\n",
            "Increase the number of iterations (max_iter) or scale the data as shown in:\n",
            "    https://scikit-learn.org/stable/modules/preprocessing.html\n",
            "Please also refer to the documentation for alternative solver options:\n",
            "    https://scikit-learn.org/stable/modules/linear_model.html#logistic-regression\n",
            "\n"
          ],
          "name": "stderr"
        }
      ]
    },
    {
      "cell_type": "markdown",
      "metadata": {
        "id": "ByilcnsUMU8c",
        "colab_type": "text"
      },
      "source": [
        "### Decision Tree"
      ]
    },
    {
      "cell_type": "code",
      "metadata": {
        "id": "mowANp3mPBPP",
        "colab_type": "code",
        "outputId": "022be442-5162-4303-f40c-be7fa7ef761b",
        "colab": {
          "base_uri": "https://localhost:8080/",
          "height": 35
        }
      },
      "source": [
        "from sklearn.tree import DecisionTreeClassifier\n",
        "\n",
        "# initialize decision tree\n",
        "dt = DecisionTreeClassifier(random_state=1,max_depth=14, class_weight='balanced')\n",
        "\n",
        "# train\n",
        "dt.fit(x_train, y_train)\n",
        "\n",
        "# validate\n",
        "f_dt = evaluate_model(model=dt, x_test=x_test, y_test=y_test, beta=2)\n",
        "print(f'f2_score of dt: {f_dt}')"
      ],
      "execution_count": 0,
      "outputs": [
        {
          "output_type": "stream",
          "text": [
            "f2_score of dt: 0.7635141392468935\n"
          ],
          "name": "stdout"
        }
      ]
    },
    {
      "cell_type": "code",
      "metadata": {
        "id": "pZcfRF4JI4Xx",
        "colab_type": "code",
        "outputId": "00c67e0c-cf13-4dde-fccf-60d9ef500463",
        "colab": {
          "base_uri": "https://localhost:8080/",
          "height": 1000
        }
      },
      "source": [
        "from IPython.display import SVG\n",
        "from graphviz import Source\n",
        "from sklearn.tree import export_graphviz\n",
        "from subprocess import call #QUES: arragne imports in alphabetical sequence ?\n",
        "\n",
        "# Visualize the decision tree\n",
        "dt_graph = Source(export_graphviz(dt,\n",
        "                                    feature_names = list(df_oneHot.loc[:, df_oneHot.columns != 'Target'].columns),\n",
        "                                    rounded = True, proportion = False, \n",
        "                                    filled = True))\n",
        "SVG(dt_graph.pipe(format='svg'))\n",
        "#QUES: how to reduce size?"
      ],
      "execution_count": 0,
      "outputs": [
        {
          "output_type": "execute_result",
          "data": {
            "text/plain": [
              "<IPython.core.display.SVG object>"
            ],
            "image/svg+xml": "<svg height=\"1517pt\" viewBox=\"0.00 0.00 7282.00 1517.00\" width=\"7282pt\" xmlns=\"http://www.w3.org/2000/svg\" xmlns:xlink=\"http://www.w3.org/1999/xlink\">\n<g class=\"graph\" id=\"graph0\" transform=\"scale(1 1) rotate(0) translate(4 1513)\">\n<title>Tree</title>\n<polygon fill=\"#ffffff\" points=\"-4,4 -4,-1513 7278,-1513 7278,4 -4,4\" stroke=\"transparent\"/>\n<!-- 0 -->\n<g class=\"node\" id=\"node1\">\n<title>0</title>\n<path d=\"M2360.5,-1509C2360.5,-1509 2134.5,-1509 2134.5,-1509 2128.5,-1509 2122.5,-1503 2122.5,-1497 2122.5,-1497 2122.5,-1453 2122.5,-1453 2122.5,-1447 2128.5,-1441 2134.5,-1441 2134.5,-1441 2360.5,-1441 2360.5,-1441 2366.5,-1441 2372.5,-1447 2372.5,-1453 2372.5,-1453 2372.5,-1497 2372.5,-1497 2372.5,-1503 2366.5,-1509 2360.5,-1509\" fill=\"#ffffff\" stroke=\"#000000\"/>\n<text fill=\"#000000\" font-family=\"Helvetica,sans-Serif\" font-size=\"14.00\" text-anchor=\"middle\" x=\"2247.5\" y=\"-1493.8\">logNumFriends &lt;= -1.407</text>\n<text fill=\"#000000\" font-family=\"Helvetica,sans-Serif\" font-size=\"14.00\" text-anchor=\"middle\" x=\"2247.5\" y=\"-1478.8\">gini = 0.667</text>\n<text fill=\"#000000\" font-family=\"Helvetica,sans-Serif\" font-size=\"14.00\" text-anchor=\"middle\" x=\"2247.5\" y=\"-1463.8\">samples = 373</text>\n<text fill=\"#000000\" font-family=\"Helvetica,sans-Serif\" font-size=\"14.00\" text-anchor=\"middle\" x=\"2247.5\" y=\"-1448.8\">value = [124.333, 124.333, 124.333]</text>\n</g>\n<!-- 1 -->\n<g class=\"node\" id=\"node2\">\n<title>1</title>\n<path d=\"M1942.5,-1405C1942.5,-1405 1766.5,-1405 1766.5,-1405 1760.5,-1405 1754.5,-1399 1754.5,-1393 1754.5,-1393 1754.5,-1349 1754.5,-1349 1754.5,-1343 1760.5,-1337 1766.5,-1337 1766.5,-1337 1942.5,-1337 1942.5,-1337 1948.5,-1337 1954.5,-1343 1954.5,-1349 1954.5,-1349 1954.5,-1393 1954.5,-1393 1954.5,-1399 1948.5,-1405 1942.5,-1405\" fill=\"#d5bef6\" stroke=\"#000000\"/>\n<text fill=\"#000000\" font-family=\"Helvetica,sans-Serif\" font-size=\"14.00\" text-anchor=\"middle\" x=\"1854.5\" y=\"-1389.8\">Obese &lt;= 0.5</text>\n<text fill=\"#000000\" font-family=\"Helvetica,sans-Serif\" font-size=\"14.00\" text-anchor=\"middle\" x=\"1854.5\" y=\"-1374.8\">gini = 0.48</text>\n<text fill=\"#000000\" font-family=\"Helvetica,sans-Serif\" font-size=\"14.00\" text-anchor=\"middle\" x=\"1854.5\" y=\"-1359.8\">samples = 84</text>\n<text fill=\"#000000\" font-family=\"Helvetica,sans-Serif\" font-size=\"14.00\" text-anchor=\"middle\" x=\"1854.5\" y=\"-1344.8\">value = [26.436, 0.0, 39.471]</text>\n</g>\n<!-- 0&#45;&gt;1 -->\n<g class=\"edge\" id=\"edge1\">\n<title>0-&gt;1</title>\n<path d=\"M2122.3422,-1441.8793C2071.5745,-1428.4446 2013.4554,-1413.0645 1964.3591,-1400.0721\" fill=\"none\" stroke=\"#000000\"/>\n<polygon fill=\"#000000\" points=\"1965.2276,-1396.6816 1954.665,-1397.5068 1963.4368,-1403.4486 1965.2276,-1396.6816\" stroke=\"#000000\"/>\n<text fill=\"#000000\" font-family=\"Helvetica,sans-Serif\" font-size=\"14.00\" text-anchor=\"middle\" x=\"1967.232\" y=\"-1415.4186\">True</text>\n</g>\n<!-- 62 -->\n<g class=\"node\" id=\"node63\">\n<title>62</title>\n<path d=\"M2796,-1405C2796,-1405 2587,-1405 2587,-1405 2581,-1405 2575,-1399 2575,-1393 2575,-1393 2575,-1349 2575,-1349 2575,-1343 2581,-1337 2587,-1337 2587,-1337 2796,-1337 2796,-1337 2802,-1337 2808,-1343 2808,-1349 2808,-1349 2808,-1393 2808,-1393 2808,-1399 2802,-1405 2796,-1405\" fill=\"#e6fcef\" stroke=\"#000000\"/>\n<text fill=\"#000000\" font-family=\"Helvetica,sans-Serif\" font-size=\"14.00\" text-anchor=\"middle\" x=\"2691.5\" y=\"-1389.8\">Straight &lt;= 0.5</text>\n<text fill=\"#000000\" font-family=\"Helvetica,sans-Serif\" font-size=\"14.00\" text-anchor=\"middle\" x=\"2691.5\" y=\"-1374.8\">gini = 0.658</text>\n<text fill=\"#000000\" font-family=\"Helvetica,sans-Serif\" font-size=\"14.00\" text-anchor=\"middle\" x=\"2691.5\" y=\"-1359.8\">samples = 289</text>\n<text fill=\"#000000\" font-family=\"Helvetica,sans-Serif\" font-size=\"14.00\" text-anchor=\"middle\" x=\"2691.5\" y=\"-1344.8\">value = [97.897, 124.333, 84.862]</text>\n</g>\n<!-- 0&#45;&gt;62 -->\n<g class=\"edge\" id=\"edge62\">\n<title>0-&gt;62</title>\n<path d=\"M2372.6562,-1445.6841C2432.784,-1431.6001 2504.7007,-1414.7548 2565.0023,-1400.6301\" fill=\"none\" stroke=\"#000000\"/>\n<polygon fill=\"#000000\" points=\"2566.023,-1403.9858 2574.9612,-1398.2974 2564.4265,-1397.1703 2566.023,-1403.9858\" stroke=\"#000000\"/>\n<text fill=\"#000000\" font-family=\"Helvetica,sans-Serif\" font-size=\"14.00\" text-anchor=\"middle\" x=\"2561.781\" y=\"-1415.8408\">False</text>\n</g>\n<!-- 2 -->\n<g class=\"node\" id=\"node3\">\n<title>2</title>\n<path d=\"M1543.5,-1301C1543.5,-1301 1367.5,-1301 1367.5,-1301 1361.5,-1301 1355.5,-1295 1355.5,-1289 1355.5,-1289 1355.5,-1245 1355.5,-1245 1355.5,-1239 1361.5,-1233 1367.5,-1233 1367.5,-1233 1543.5,-1233 1543.5,-1233 1549.5,-1233 1555.5,-1239 1555.5,-1245 1555.5,-1245 1555.5,-1289 1555.5,-1289 1555.5,-1295 1549.5,-1301 1543.5,-1301\" fill=\"#ccaff5\" stroke=\"#000000\"/>\n<text fill=\"#000000\" font-family=\"Helvetica,sans-Serif\" font-size=\"14.00\" text-anchor=\"middle\" x=\"1455.5\" y=\"-1285.8\">Straight &lt;= 0.5</text>\n<text fill=\"#000000\" font-family=\"Helvetica,sans-Serif\" font-size=\"14.00\" text-anchor=\"middle\" x=\"1455.5\" y=\"-1270.8\">gini = 0.468</text>\n<text fill=\"#000000\" font-family=\"Helvetica,sans-Serif\" font-size=\"14.00\" text-anchor=\"middle\" x=\"1455.5\" y=\"-1255.8\">samples = 77</text>\n<text fill=\"#000000\" font-family=\"Helvetica,sans-Serif\" font-size=\"14.00\" text-anchor=\"middle\" x=\"1455.5\" y=\"-1240.8\">value = [23.545, 0.0, 39.471]</text>\n</g>\n<!-- 1&#45;&gt;2 -->\n<g class=\"edge\" id=\"edge2\">\n<title>1-&gt;2</title>\n<path d=\"M1754.3305,-1344.8906C1696.8204,-1329.9006 1624.5251,-1311.0567 1565.4493,-1295.6585\" fill=\"none\" stroke=\"#000000\"/>\n<polygon fill=\"#000000\" points=\"1566.2702,-1292.2556 1555.7107,-1293.1201 1564.5046,-1299.0293 1566.2702,-1292.2556\" stroke=\"#000000\"/>\n</g>\n<!-- 61 -->\n<g class=\"node\" id=\"node62\">\n<title>61</title>\n<path d=\"M1926,-1293.5C1926,-1293.5 1783,-1293.5 1783,-1293.5 1777,-1293.5 1771,-1287.5 1771,-1281.5 1771,-1281.5 1771,-1252.5 1771,-1252.5 1771,-1246.5 1777,-1240.5 1783,-1240.5 1783,-1240.5 1926,-1240.5 1926,-1240.5 1932,-1240.5 1938,-1246.5 1938,-1252.5 1938,-1252.5 1938,-1281.5 1938,-1281.5 1938,-1287.5 1932,-1293.5 1926,-1293.5\" fill=\"#e58139\" stroke=\"#000000\"/>\n<text fill=\"#000000\" font-family=\"Helvetica,sans-Serif\" font-size=\"14.00\" text-anchor=\"middle\" x=\"1854.5\" y=\"-1278.3\">gini = 0.0</text>\n<text fill=\"#000000\" font-family=\"Helvetica,sans-Serif\" font-size=\"14.00\" text-anchor=\"middle\" x=\"1854.5\" y=\"-1263.3\">samples = 7</text>\n<text fill=\"#000000\" font-family=\"Helvetica,sans-Serif\" font-size=\"14.00\" text-anchor=\"middle\" x=\"1854.5\" y=\"-1248.3\">value = [2.891, 0.0, 0.0]</text>\n</g>\n<!-- 1&#45;&gt;61 -->\n<g class=\"edge\" id=\"edge61\">\n<title>1-&gt;61</title>\n<path d=\"M1854.5,-1336.9465C1854.5,-1326.2621 1854.5,-1314.4254 1854.5,-1303.5742\" fill=\"none\" stroke=\"#000000\"/>\n<polygon fill=\"#000000\" points=\"1858.0001,-1303.5421 1854.5,-1293.5422 1851.0001,-1303.5422 1858.0001,-1303.5421\" stroke=\"#000000\"/>\n</g>\n<!-- 3 -->\n<g class=\"node\" id=\"node4\">\n<title>3</title>\n<path d=\"M1196.5,-1197C1196.5,-1197 1028.5,-1197 1028.5,-1197 1022.5,-1197 1016.5,-1191 1016.5,-1185 1016.5,-1185 1016.5,-1141 1016.5,-1141 1016.5,-1135 1022.5,-1129 1028.5,-1129 1028.5,-1129 1196.5,-1129 1196.5,-1129 1202.5,-1129 1208.5,-1135 1208.5,-1141 1208.5,-1141 1208.5,-1185 1208.5,-1185 1208.5,-1191 1202.5,-1197 1196.5,-1197\" fill=\"#975cea\" stroke=\"#000000\"/>\n<text fill=\"#000000\" font-family=\"Helvetica,sans-Serif\" font-size=\"14.00\" text-anchor=\"middle\" x=\"1112.5\" y=\"-1181.8\">Age &lt;= 21.5</text>\n<text fill=\"#000000\" font-family=\"Helvetica,sans-Serif\" font-size=\"14.00\" text-anchor=\"middle\" x=\"1112.5\" y=\"-1166.8\">gini = 0.253</text>\n<text fill=\"#000000\" font-family=\"Helvetica,sans-Serif\" font-size=\"14.00\" text-anchor=\"middle\" x=\"1112.5\" y=\"-1151.8\">samples = 11</text>\n<text fill=\"#000000\" font-family=\"Helvetica,sans-Serif\" font-size=\"14.00\" text-anchor=\"middle\" x=\"1112.5\" y=\"-1136.8\">value = [2.065, 0.0, 11.841]</text>\n</g>\n<!-- 2&#45;&gt;3 -->\n<g class=\"edge\" id=\"edge3\">\n<title>2-&gt;3</title>\n<path d=\"M1355.3681,-1236.6393C1312.3512,-1223.5963 1262.043,-1208.3425 1218.4059,-1195.1114\" fill=\"none\" stroke=\"#000000\"/>\n<polygon fill=\"#000000\" points=\"1219.2109,-1191.6982 1208.6255,-1192.1459 1217.1797,-1198.397 1219.2109,-1191.6982\" stroke=\"#000000\"/>\n</g>\n<!-- 14 -->\n<g class=\"node\" id=\"node15\">\n<title>14</title>\n<path d=\"M1586.5,-1197C1586.5,-1197 1324.5,-1197 1324.5,-1197 1318.5,-1197 1312.5,-1191 1312.5,-1185 1312.5,-1185 1312.5,-1141 1312.5,-1141 1312.5,-1135 1318.5,-1129 1324.5,-1129 1324.5,-1129 1586.5,-1129 1586.5,-1129 1592.5,-1129 1598.5,-1135 1598.5,-1141 1598.5,-1141 1598.5,-1185 1598.5,-1185 1598.5,-1191 1592.5,-1197 1586.5,-1197\" fill=\"#e3d3f9\" stroke=\"#000000\"/>\n<text fill=\"#000000\" font-family=\"Helvetica,sans-Serif\" font-size=\"14.00\" text-anchor=\"middle\" x=\"1455.5\" y=\"-1181.8\">YesButHaveNot_WouldPayForSex &lt;= 0.5</text>\n<text fill=\"#000000\" font-family=\"Helvetica,sans-Serif\" font-size=\"14.00\" text-anchor=\"middle\" x=\"1455.5\" y=\"-1166.8\">gini = 0.492</text>\n<text fill=\"#000000\" font-family=\"Helvetica,sans-Serif\" font-size=\"14.00\" text-anchor=\"middle\" x=\"1455.5\" y=\"-1151.8\">samples = 66</text>\n<text fill=\"#000000\" font-family=\"Helvetica,sans-Serif\" font-size=\"14.00\" text-anchor=\"middle\" x=\"1455.5\" y=\"-1136.8\">value = [21.48, 0.0, 27.63]</text>\n</g>\n<!-- 2&#45;&gt;14 -->\n<g class=\"edge\" id=\"edge14\">\n<title>2-&gt;14</title>\n<path d=\"M1455.5,-1232.9465C1455.5,-1224.776 1455.5,-1215.9318 1455.5,-1207.3697\" fill=\"none\" stroke=\"#000000\"/>\n<polygon fill=\"#000000\" points=\"1459.0001,-1207.13 1455.5,-1197.13 1452.0001,-1207.13 1459.0001,-1207.13\" stroke=\"#000000\"/>\n</g>\n<!-- 4 -->\n<g class=\"node\" id=\"node5\">\n<title>4</title>\n<path d=\"M979.5,-1093C979.5,-1093 819.5,-1093 819.5,-1093 813.5,-1093 807.5,-1087 807.5,-1081 807.5,-1081 807.5,-1037 807.5,-1037 807.5,-1031 813.5,-1025 819.5,-1025 819.5,-1025 979.5,-1025 979.5,-1025 985.5,-1025 991.5,-1031 991.5,-1037 991.5,-1037 991.5,-1081 991.5,-1081 991.5,-1087 985.5,-1093 979.5,-1093\" fill=\"#c3a1f3\" stroke=\"#000000\"/>\n<text fill=\"#000000\" font-family=\"Helvetica,sans-Serif\" font-size=\"14.00\" text-anchor=\"middle\" x=\"899.5\" y=\"-1077.8\">Underweight &lt;= 0.5</text>\n<text fill=\"#000000\" font-family=\"Helvetica,sans-Serif\" font-size=\"14.00\" text-anchor=\"middle\" x=\"899.5\" y=\"-1062.8\">gini = 0.451</text>\n<text fill=\"#000000\" font-family=\"Helvetica,sans-Serif\" font-size=\"14.00\" text-anchor=\"middle\" x=\"899.5\" y=\"-1047.8\">samples = 7</text>\n<text fill=\"#000000\" font-family=\"Helvetica,sans-Serif\" font-size=\"14.00\" text-anchor=\"middle\" x=\"899.5\" y=\"-1032.8\">value = [2.065, 0.0, 3.947]</text>\n</g>\n<!-- 3&#45;&gt;4 -->\n<g class=\"edge\" id=\"edge4\">\n<title>3-&gt;4</title>\n<path d=\"M1042.7558,-1128.9465C1022.2524,-1118.9354 999.6773,-1107.9129 978.6318,-1097.6371\" fill=\"none\" stroke=\"#000000\"/>\n<polygon fill=\"#000000\" points=\"979.9226,-1094.3725 969.4009,-1093.13 976.8513,-1100.6627 979.9226,-1094.3725\" stroke=\"#000000\"/>\n</g>\n<!-- 13 -->\n<g class=\"node\" id=\"node14\">\n<title>13</title>\n<path d=\"M1184,-1085.5C1184,-1085.5 1041,-1085.5 1041,-1085.5 1035,-1085.5 1029,-1079.5 1029,-1073.5 1029,-1073.5 1029,-1044.5 1029,-1044.5 1029,-1038.5 1035,-1032.5 1041,-1032.5 1041,-1032.5 1184,-1032.5 1184,-1032.5 1190,-1032.5 1196,-1038.5 1196,-1044.5 1196,-1044.5 1196,-1073.5 1196,-1073.5 1196,-1079.5 1190,-1085.5 1184,-1085.5\" fill=\"#8139e5\" stroke=\"#000000\"/>\n<text fill=\"#000000\" font-family=\"Helvetica,sans-Serif\" font-size=\"14.00\" text-anchor=\"middle\" x=\"1112.5\" y=\"-1070.3\">gini = 0.0</text>\n<text fill=\"#000000\" font-family=\"Helvetica,sans-Serif\" font-size=\"14.00\" text-anchor=\"middle\" x=\"1112.5\" y=\"-1055.3\">samples = 4</text>\n<text fill=\"#000000\" font-family=\"Helvetica,sans-Serif\" font-size=\"14.00\" text-anchor=\"middle\" x=\"1112.5\" y=\"-1040.3\">value = [0.0, 0.0, 7.894]</text>\n</g>\n<!-- 3&#45;&gt;13 -->\n<g class=\"edge\" id=\"edge13\">\n<title>3-&gt;13</title>\n<path d=\"M1112.5,-1128.9465C1112.5,-1118.2621 1112.5,-1106.4254 1112.5,-1095.5742\" fill=\"none\" stroke=\"#000000\"/>\n<polygon fill=\"#000000\" points=\"1116.0001,-1095.5421 1112.5,-1085.5422 1109.0001,-1095.5422 1116.0001,-1095.5421\" stroke=\"#000000\"/>\n</g>\n<!-- 5 -->\n<g class=\"node\" id=\"node6\">\n<title>5</title>\n<path d=\"M760,-981.5C760,-981.5 617,-981.5 617,-981.5 611,-981.5 605,-975.5 605,-969.5 605,-969.5 605,-940.5 605,-940.5 605,-934.5 611,-928.5 617,-928.5 617,-928.5 760,-928.5 760,-928.5 766,-928.5 772,-934.5 772,-940.5 772,-940.5 772,-969.5 772,-969.5 772,-975.5 766,-981.5 760,-981.5\" fill=\"#e58139\" stroke=\"#000000\"/>\n<text fill=\"#000000\" font-family=\"Helvetica,sans-Serif\" font-size=\"14.00\" text-anchor=\"middle\" x=\"688.5\" y=\"-966.3\">gini = 0.0</text>\n<text fill=\"#000000\" font-family=\"Helvetica,sans-Serif\" font-size=\"14.00\" text-anchor=\"middle\" x=\"688.5\" y=\"-951.3\">samples = 3</text>\n<text fill=\"#000000\" font-family=\"Helvetica,sans-Serif\" font-size=\"14.00\" text-anchor=\"middle\" x=\"688.5\" y=\"-936.3\">value = [1.239, 0.0, 0.0]</text>\n</g>\n<!-- 4&#45;&gt;5 -->\n<g class=\"edge\" id=\"edge5\">\n<title>4-&gt;5</title>\n<path d=\"M830.4107,-1024.9465C804.9345,-1012.3895 776.2296,-998.2411 751.3359,-985.9712\" fill=\"none\" stroke=\"#000000\"/>\n<polygon fill=\"#000000\" points=\"752.867,-982.8239 742.35,-981.5422 749.7722,-989.1026 752.867,-982.8239\" stroke=\"#000000\"/>\n</g>\n<!-- 6 -->\n<g class=\"node\" id=\"node7\">\n<title>6</title>\n<path d=\"M997,-989C997,-989 802,-989 802,-989 796,-989 790,-983 790,-977 790,-977 790,-933 790,-933 790,-927 796,-921 802,-921 802,-921 997,-921 997,-921 1003,-921 1009,-927 1009,-933 1009,-933 1009,-977 1009,-977 1009,-983 1003,-989 997,-989\" fill=\"#9b62ea\" stroke=\"#000000\"/>\n<text fill=\"#000000\" font-family=\"Helvetica,sans-Serif\" font-size=\"14.00\" text-anchor=\"middle\" x=\"899.5\" y=\"-973.8\">ProstitutionLegalAtPlace &lt;= 0.5</text>\n<text fill=\"#000000\" font-family=\"Helvetica,sans-Serif\" font-size=\"14.00\" text-anchor=\"middle\" x=\"899.5\" y=\"-958.8\">gini = 0.286</text>\n<text fill=\"#000000\" font-family=\"Helvetica,sans-Serif\" font-size=\"14.00\" text-anchor=\"middle\" x=\"899.5\" y=\"-943.8\">samples = 4</text>\n<text fill=\"#000000\" font-family=\"Helvetica,sans-Serif\" font-size=\"14.00\" text-anchor=\"middle\" x=\"899.5\" y=\"-928.8\">value = [0.826, 0.0, 3.947]</text>\n</g>\n<!-- 4&#45;&gt;6 -->\n<g class=\"edge\" id=\"edge6\">\n<title>4-&gt;6</title>\n<path d=\"M899.5,-1024.9465C899.5,-1016.776 899.5,-1007.9318 899.5,-999.3697\" fill=\"none\" stroke=\"#000000\"/>\n<polygon fill=\"#000000\" points=\"903.0001,-999.13 899.5,-989.13 896.0001,-999.13 903.0001,-999.13\" stroke=\"#000000\"/>\n</g>\n<!-- 7 -->\n<g class=\"node\" id=\"node8\">\n<title>7</title>\n<path d=\"M785.5,-885C785.5,-885 625.5,-885 625.5,-885 619.5,-885 613.5,-879 613.5,-873 613.5,-873 613.5,-829 613.5,-829 613.5,-823 619.5,-817 625.5,-817 625.5,-817 785.5,-817 785.5,-817 791.5,-817 797.5,-823 797.5,-829 797.5,-829 797.5,-873 797.5,-873 797.5,-879 791.5,-885 785.5,-885\" fill=\"#8e4ee8\" stroke=\"#000000\"/>\n<text fill=\"#000000\" font-family=\"Helvetica,sans-Serif\" font-size=\"14.00\" text-anchor=\"middle\" x=\"705.5\" y=\"-869.8\">Age &lt;= 18.5</text>\n<text fill=\"#000000\" font-family=\"Helvetica,sans-Serif\" font-size=\"14.00\" text-anchor=\"middle\" x=\"705.5\" y=\"-854.8\">gini = 0.172</text>\n<text fill=\"#000000\" font-family=\"Helvetica,sans-Serif\" font-size=\"14.00\" text-anchor=\"middle\" x=\"705.5\" y=\"-839.8\">samples = 3</text>\n<text fill=\"#000000\" font-family=\"Helvetica,sans-Serif\" font-size=\"14.00\" text-anchor=\"middle\" x=\"705.5\" y=\"-824.8\">value = [0.413, 0.0, 3.947]</text>\n</g>\n<!-- 6&#45;&gt;7 -->\n<g class=\"edge\" id=\"edge7\">\n<title>6-&gt;7</title>\n<path d=\"M835.9771,-920.9465C817.4701,-911.0252 797.11,-900.1105 778.0891,-889.9138\" fill=\"none\" stroke=\"#000000\"/>\n<polygon fill=\"#000000\" points=\"779.6327,-886.7701 769.1656,-885.13 776.3254,-892.9395 779.6327,-886.7701\" stroke=\"#000000\"/>\n</g>\n<!-- 12 -->\n<g class=\"node\" id=\"node13\">\n<title>12</title>\n<path d=\"M971,-877.5C971,-877.5 828,-877.5 828,-877.5 822,-877.5 816,-871.5 816,-865.5 816,-865.5 816,-836.5 816,-836.5 816,-830.5 822,-824.5 828,-824.5 828,-824.5 971,-824.5 971,-824.5 977,-824.5 983,-830.5 983,-836.5 983,-836.5 983,-865.5 983,-865.5 983,-871.5 977,-877.5 971,-877.5\" fill=\"#e58139\" stroke=\"#000000\"/>\n<text fill=\"#000000\" font-family=\"Helvetica,sans-Serif\" font-size=\"14.00\" text-anchor=\"middle\" x=\"899.5\" y=\"-862.3\">gini = 0.0</text>\n<text fill=\"#000000\" font-family=\"Helvetica,sans-Serif\" font-size=\"14.00\" text-anchor=\"middle\" x=\"899.5\" y=\"-847.3\">samples = 1</text>\n<text fill=\"#000000\" font-family=\"Helvetica,sans-Serif\" font-size=\"14.00\" text-anchor=\"middle\" x=\"899.5\" y=\"-832.3\">value = [0.413, 0.0, 0.0]</text>\n</g>\n<!-- 6&#45;&gt;12 -->\n<g class=\"edge\" id=\"edge12\">\n<title>6-&gt;12</title>\n<path d=\"M899.5,-920.9465C899.5,-910.2621 899.5,-898.4254 899.5,-887.5742\" fill=\"none\" stroke=\"#000000\"/>\n<polygon fill=\"#000000\" points=\"903.0001,-887.5421 899.5,-877.5422 896.0001,-887.5422 903.0001,-887.5421\" stroke=\"#000000\"/>\n</g>\n<!-- 8 -->\n<g class=\"node\" id=\"node9\">\n<title>8</title>\n<path d=\"M583,-773.5C583,-773.5 440,-773.5 440,-773.5 434,-773.5 428,-767.5 428,-761.5 428,-761.5 428,-732.5 428,-732.5 428,-726.5 434,-720.5 440,-720.5 440,-720.5 583,-720.5 583,-720.5 589,-720.5 595,-726.5 595,-732.5 595,-732.5 595,-761.5 595,-761.5 595,-767.5 589,-773.5 583,-773.5\" fill=\"#8139e5\" stroke=\"#000000\"/>\n<text fill=\"#000000\" font-family=\"Helvetica,sans-Serif\" font-size=\"14.00\" text-anchor=\"middle\" x=\"511.5\" y=\"-758.3\">gini = 0.0</text>\n<text fill=\"#000000\" font-family=\"Helvetica,sans-Serif\" font-size=\"14.00\" text-anchor=\"middle\" x=\"511.5\" y=\"-743.3\">samples = 1</text>\n<text fill=\"#000000\" font-family=\"Helvetica,sans-Serif\" font-size=\"14.00\" text-anchor=\"middle\" x=\"511.5\" y=\"-728.3\">value = [0.0, 0.0, 1.974]</text>\n</g>\n<!-- 7&#45;&gt;8 -->\n<g class=\"edge\" id=\"edge8\">\n<title>7-&gt;8</title>\n<path d=\"M641.9771,-816.9465C618.759,-804.4997 592.6241,-790.4892 569.8764,-778.2946\" fill=\"none\" stroke=\"#000000\"/>\n<polygon fill=\"#000000\" points=\"571.4785,-775.1822 561.0113,-773.5422 568.1711,-781.3517 571.4785,-775.1822\" stroke=\"#000000\"/>\n</g>\n<!-- 9 -->\n<g class=\"node\" id=\"node10\">\n<title>9</title>\n<path d=\"M785.5,-781C785.5,-781 625.5,-781 625.5,-781 619.5,-781 613.5,-775 613.5,-769 613.5,-769 613.5,-725 613.5,-725 613.5,-719 619.5,-713 625.5,-713 625.5,-713 785.5,-713 785.5,-713 791.5,-713 797.5,-719 797.5,-725 797.5,-725 797.5,-769 797.5,-769 797.5,-775 791.5,-781 785.5,-781\" fill=\"#9b62ea\" stroke=\"#000000\"/>\n<text fill=\"#000000\" font-family=\"Helvetica,sans-Serif\" font-size=\"14.00\" text-anchor=\"middle\" x=\"705.5\" y=\"-765.8\">HasSocialAnxiety &lt;= 0.5</text>\n<text fill=\"#000000\" font-family=\"Helvetica,sans-Serif\" font-size=\"14.00\" text-anchor=\"middle\" x=\"705.5\" y=\"-750.8\">gini = 0.286</text>\n<text fill=\"#000000\" font-family=\"Helvetica,sans-Serif\" font-size=\"14.00\" text-anchor=\"middle\" x=\"705.5\" y=\"-735.8\">samples = 2</text>\n<text fill=\"#000000\" font-family=\"Helvetica,sans-Serif\" font-size=\"14.00\" text-anchor=\"middle\" x=\"705.5\" y=\"-720.8\">value = [0.413, 0.0, 1.974]</text>\n</g>\n<!-- 7&#45;&gt;9 -->\n<g class=\"edge\" id=\"edge9\">\n<title>7-&gt;9</title>\n<path d=\"M705.5,-816.9465C705.5,-808.776 705.5,-799.9318 705.5,-791.3697\" fill=\"none\" stroke=\"#000000\"/>\n<polygon fill=\"#000000\" points=\"709.0001,-791.13 705.5,-781.13 702.0001,-791.13 709.0001,-791.13\" stroke=\"#000000\"/>\n</g>\n<!-- 10 -->\n<g class=\"node\" id=\"node11\">\n<title>10</title>\n<path d=\"M592,-669.5C592,-669.5 449,-669.5 449,-669.5 443,-669.5 437,-663.5 437,-657.5 437,-657.5 437,-628.5 437,-628.5 437,-622.5 443,-616.5 449,-616.5 449,-616.5 592,-616.5 592,-616.5 598,-616.5 604,-622.5 604,-628.5 604,-628.5 604,-657.5 604,-657.5 604,-663.5 598,-669.5 592,-669.5\" fill=\"#8139e5\" stroke=\"#000000\"/>\n<text fill=\"#000000\" font-family=\"Helvetica,sans-Serif\" font-size=\"14.00\" text-anchor=\"middle\" x=\"520.5\" y=\"-654.3\">gini = 0.0</text>\n<text fill=\"#000000\" font-family=\"Helvetica,sans-Serif\" font-size=\"14.00\" text-anchor=\"middle\" x=\"520.5\" y=\"-639.3\">samples = 1</text>\n<text fill=\"#000000\" font-family=\"Helvetica,sans-Serif\" font-size=\"14.00\" text-anchor=\"middle\" x=\"520.5\" y=\"-624.3\">value = [0.0, 0.0, 1.974]</text>\n</g>\n<!-- 9&#45;&gt;10 -->\n<g class=\"edge\" id=\"edge10\">\n<title>9-&gt;10</title>\n<path d=\"M644.9241,-712.9465C622.881,-700.5547 598.0811,-686.6132 576.4563,-674.4565\" fill=\"none\" stroke=\"#000000\"/>\n<polygon fill=\"#000000\" points=\"578.1466,-671.3916 567.7144,-669.5422 574.7163,-677.4935 578.1466,-671.3916\" stroke=\"#000000\"/>\n</g>\n<!-- 11 -->\n<g class=\"node\" id=\"node12\">\n<title>11</title>\n<path d=\"M777,-669.5C777,-669.5 634,-669.5 634,-669.5 628,-669.5 622,-663.5 622,-657.5 622,-657.5 622,-628.5 622,-628.5 622,-622.5 628,-616.5 634,-616.5 634,-616.5 777,-616.5 777,-616.5 783,-616.5 789,-622.5 789,-628.5 789,-628.5 789,-657.5 789,-657.5 789,-663.5 783,-669.5 777,-669.5\" fill=\"#e58139\" stroke=\"#000000\"/>\n<text fill=\"#000000\" font-family=\"Helvetica,sans-Serif\" font-size=\"14.00\" text-anchor=\"middle\" x=\"705.5\" y=\"-654.3\">gini = -0.0</text>\n<text fill=\"#000000\" font-family=\"Helvetica,sans-Serif\" font-size=\"14.00\" text-anchor=\"middle\" x=\"705.5\" y=\"-639.3\">samples = 1</text>\n<text fill=\"#000000\" font-family=\"Helvetica,sans-Serif\" font-size=\"14.00\" text-anchor=\"middle\" x=\"705.5\" y=\"-624.3\">value = [0.413, 0.0, 0.0]</text>\n</g>\n<!-- 9&#45;&gt;11 -->\n<g class=\"edge\" id=\"edge11\">\n<title>9-&gt;11</title>\n<path d=\"M705.5,-712.9465C705.5,-702.2621 705.5,-690.4254 705.5,-679.5742\" fill=\"none\" stroke=\"#000000\"/>\n<polygon fill=\"#000000\" points=\"709.0001,-679.5421 705.5,-669.5422 702.0001,-679.5422 709.0001,-679.5421\" stroke=\"#000000\"/>\n</g>\n<!-- 15 -->\n<g class=\"node\" id=\"node16\">\n<title>15</title>\n<path d=\"M1419.5,-1093C1419.5,-1093 1243.5,-1093 1243.5,-1093 1237.5,-1093 1231.5,-1087 1231.5,-1081 1231.5,-1081 1231.5,-1037 1231.5,-1037 1231.5,-1031 1237.5,-1025 1243.5,-1025 1243.5,-1025 1419.5,-1025 1419.5,-1025 1425.5,-1025 1431.5,-1031 1431.5,-1037 1431.5,-1037 1431.5,-1081 1431.5,-1081 1431.5,-1087 1425.5,-1093 1419.5,-1093\" fill=\"#ccaff4\" stroke=\"#000000\"/>\n<text fill=\"#000000\" font-family=\"Helvetica,sans-Serif\" font-size=\"14.00\" text-anchor=\"middle\" x=\"1331.5\" y=\"-1077.8\">Female &lt;= 0.5</text>\n<text fill=\"#000000\" font-family=\"Helvetica,sans-Serif\" font-size=\"14.00\" text-anchor=\"middle\" x=\"1331.5\" y=\"-1062.8\">gini = 0.468</text>\n<text fill=\"#000000\" font-family=\"Helvetica,sans-Serif\" font-size=\"14.00\" text-anchor=\"middle\" x=\"1331.5\" y=\"-1047.8\">samples = 50</text>\n<text fill=\"#000000\" font-family=\"Helvetica,sans-Serif\" font-size=\"14.00\" text-anchor=\"middle\" x=\"1331.5\" y=\"-1032.8\">value = [15.283, 0.0, 25.656]</text>\n</g>\n<!-- 14&#45;&gt;15 -->\n<g class=\"edge\" id=\"edge15\">\n<title>14-&gt;15</title>\n<path d=\"M1414.8978,-1128.9465C1403.7644,-1119.6088 1391.5817,-1109.3911 1380.0511,-1099.7203\" fill=\"none\" stroke=\"#000000\"/>\n<polygon fill=\"#000000\" points=\"1382.1046,-1096.8745 1372.1935,-1093.13 1377.6062,-1102.2378 1382.1046,-1096.8745\" stroke=\"#000000\"/>\n</g>\n<!-- 56 -->\n<g class=\"node\" id=\"node57\">\n<title>56</title>\n<path d=\"M1621.5,-1093C1621.5,-1093 1461.5,-1093 1461.5,-1093 1455.5,-1093 1449.5,-1087 1449.5,-1081 1449.5,-1081 1449.5,-1037 1449.5,-1037 1449.5,-1031 1455.5,-1025 1461.5,-1025 1461.5,-1025 1621.5,-1025 1621.5,-1025 1627.5,-1025 1633.5,-1031 1633.5,-1037 1633.5,-1037 1633.5,-1081 1633.5,-1081 1633.5,-1087 1627.5,-1093 1621.5,-1093\" fill=\"#eda978\" stroke=\"#000000\"/>\n<text fill=\"#000000\" font-family=\"Helvetica,sans-Serif\" font-size=\"14.00\" text-anchor=\"middle\" x=\"1541.5\" y=\"-1077.8\">Female &lt;= 0.5</text>\n<text fill=\"#000000\" font-family=\"Helvetica,sans-Serif\" font-size=\"14.00\" text-anchor=\"middle\" x=\"1541.5\" y=\"-1062.8\">gini = 0.366</text>\n<text fill=\"#000000\" font-family=\"Helvetica,sans-Serif\" font-size=\"14.00\" text-anchor=\"middle\" x=\"1541.5\" y=\"-1047.8\">samples = 16</text>\n<text fill=\"#000000\" font-family=\"Helvetica,sans-Serif\" font-size=\"14.00\" text-anchor=\"middle\" x=\"1541.5\" y=\"-1032.8\">value = [6.196, 0.0, 1.974]</text>\n</g>\n<!-- 14&#45;&gt;56 -->\n<g class=\"edge\" id=\"edge56\">\n<title>14-&gt;56</title>\n<path d=\"M1483.6596,-1128.9465C1491.0842,-1119.968 1499.1815,-1110.1758 1506.9028,-1100.8385\" fill=\"none\" stroke=\"#000000\"/>\n<polygon fill=\"#000000\" points=\"1509.6017,-1103.0669 1513.2771,-1093.13 1504.2072,-1098.606 1509.6017,-1103.0669\" stroke=\"#000000\"/>\n</g>\n<!-- 16 -->\n<g class=\"node\" id=\"node17\">\n<title>16</title>\n<path d=\"M1226.5,-989C1226.5,-989 1050.5,-989 1050.5,-989 1044.5,-989 1038.5,-983 1038.5,-977 1038.5,-977 1038.5,-933 1038.5,-933 1038.5,-927 1044.5,-921 1050.5,-921 1050.5,-921 1226.5,-921 1226.5,-921 1232.5,-921 1238.5,-927 1238.5,-933 1238.5,-933 1238.5,-977 1238.5,-977 1238.5,-983 1232.5,-989 1226.5,-989\" fill=\"#c4a2f3\" stroke=\"#000000\"/>\n<text fill=\"#000000\" font-family=\"Helvetica,sans-Serif\" font-size=\"14.00\" text-anchor=\"middle\" x=\"1138.5\" y=\"-973.8\">Black &lt;= 0.5</text>\n<text fill=\"#000000\" font-family=\"Helvetica,sans-Serif\" font-size=\"14.00\" text-anchor=\"middle\" x=\"1138.5\" y=\"-958.8\">gini = 0.453</text>\n<text fill=\"#000000\" font-family=\"Helvetica,sans-Serif\" font-size=\"14.00\" text-anchor=\"middle\" x=\"1138.5\" y=\"-943.8\">samples = 46</text>\n<text fill=\"#000000\" font-family=\"Helvetica,sans-Serif\" font-size=\"14.00\" text-anchor=\"middle\" x=\"1138.5\" y=\"-928.8\">value = [13.631, 0.0, 25.656]</text>\n</g>\n<!-- 15&#45;&gt;16 -->\n<g class=\"edge\" id=\"edge16\">\n<title>15-&gt;16</title>\n<path d=\"M1268.3046,-1024.9465C1249.893,-1015.0252 1229.6377,-1004.1105 1210.715,-993.9138\" fill=\"none\" stroke=\"#000000\"/>\n<polygon fill=\"#000000\" points=\"1212.301,-990.7926 1201.8374,-989.13 1208.9803,-996.9549 1212.301,-990.7926\" stroke=\"#000000\"/>\n</g>\n<!-- 55 -->\n<g class=\"node\" id=\"node56\">\n<title>55</title>\n<path d=\"M1412,-981.5C1412,-981.5 1269,-981.5 1269,-981.5 1263,-981.5 1257,-975.5 1257,-969.5 1257,-969.5 1257,-940.5 1257,-940.5 1257,-934.5 1263,-928.5 1269,-928.5 1269,-928.5 1412,-928.5 1412,-928.5 1418,-928.5 1424,-934.5 1424,-940.5 1424,-940.5 1424,-969.5 1424,-969.5 1424,-975.5 1418,-981.5 1412,-981.5\" fill=\"#e58139\" stroke=\"#000000\"/>\n<text fill=\"#000000\" font-family=\"Helvetica,sans-Serif\" font-size=\"14.00\" text-anchor=\"middle\" x=\"1340.5\" y=\"-966.3\">gini = -0.0</text>\n<text fill=\"#000000\" font-family=\"Helvetica,sans-Serif\" font-size=\"14.00\" text-anchor=\"middle\" x=\"1340.5\" y=\"-951.3\">samples = 4</text>\n<text fill=\"#000000\" font-family=\"Helvetica,sans-Serif\" font-size=\"14.00\" text-anchor=\"middle\" x=\"1340.5\" y=\"-936.3\">value = [1.652, 0.0, 0.0]</text>\n</g>\n<!-- 15&#45;&gt;55 -->\n<g class=\"edge\" id=\"edge55\">\n<title>15-&gt;55</title>\n<path d=\"M1334.4469,-1024.9465C1335.3716,-1014.2621 1336.3959,-1002.4254 1337.3349,-991.5742\" fill=\"none\" stroke=\"#000000\"/>\n<polygon fill=\"#000000\" points=\"1340.8278,-991.8067 1338.2031,-981.5422 1333.8539,-991.2031 1340.8278,-991.8067\" stroke=\"#000000\"/>\n</g>\n<!-- 17 -->\n<g class=\"node\" id=\"node18\">\n<title>17</title>\n<path d=\"M1207.5,-885C1207.5,-885 1031.5,-885 1031.5,-885 1025.5,-885 1019.5,-879 1019.5,-873 1019.5,-873 1019.5,-829 1019.5,-829 1019.5,-823 1025.5,-817 1031.5,-817 1031.5,-817 1207.5,-817 1207.5,-817 1213.5,-817 1219.5,-823 1219.5,-829 1219.5,-829 1219.5,-873 1219.5,-873 1219.5,-879 1213.5,-885 1207.5,-885\" fill=\"#be99f2\" stroke=\"#000000\"/>\n<text fill=\"#000000\" font-family=\"Helvetica,sans-Serif\" font-size=\"14.00\" text-anchor=\"middle\" x=\"1119.5\" y=\"-869.8\">Age &lt;= 29.5</text>\n<text fill=\"#000000\" font-family=\"Helvetica,sans-Serif\" font-size=\"14.00\" text-anchor=\"middle\" x=\"1119.5\" y=\"-854.8\">gini = 0.439</text>\n<text fill=\"#000000\" font-family=\"Helvetica,sans-Serif\" font-size=\"14.00\" text-anchor=\"middle\" x=\"1119.5\" y=\"-839.8\">samples = 43</text>\n<text fill=\"#000000\" font-family=\"Helvetica,sans-Serif\" font-size=\"14.00\" text-anchor=\"middle\" x=\"1119.5\" y=\"-824.8\">value = [12.392, 0.0, 25.656]</text>\n</g>\n<!-- 16&#45;&gt;17 -->\n<g class=\"edge\" id=\"edge17\">\n<title>16-&gt;17</title>\n<path d=\"M1132.2787,-920.9465C1130.7696,-912.6863 1129.1347,-903.7374 1127.5545,-895.0875\" fill=\"none\" stroke=\"#000000\"/>\n<polygon fill=\"#000000\" points=\"1130.9756,-894.3381 1125.7353,-885.13 1124.0895,-895.5962 1130.9756,-894.3381\" stroke=\"#000000\"/>\n</g>\n<!-- 54 -->\n<g class=\"node\" id=\"node55\">\n<title>54</title>\n<path d=\"M1393,-877.5C1393,-877.5 1250,-877.5 1250,-877.5 1244,-877.5 1238,-871.5 1238,-865.5 1238,-865.5 1238,-836.5 1238,-836.5 1238,-830.5 1244,-824.5 1250,-824.5 1250,-824.5 1393,-824.5 1393,-824.5 1399,-824.5 1405,-830.5 1405,-836.5 1405,-836.5 1405,-865.5 1405,-865.5 1405,-871.5 1399,-877.5 1393,-877.5\" fill=\"#e58139\" stroke=\"#000000\"/>\n<text fill=\"#000000\" font-family=\"Helvetica,sans-Serif\" font-size=\"14.00\" text-anchor=\"middle\" x=\"1321.5\" y=\"-862.3\">gini = -0.0</text>\n<text fill=\"#000000\" font-family=\"Helvetica,sans-Serif\" font-size=\"14.00\" text-anchor=\"middle\" x=\"1321.5\" y=\"-847.3\">samples = 3</text>\n<text fill=\"#000000\" font-family=\"Helvetica,sans-Serif\" font-size=\"14.00\" text-anchor=\"middle\" x=\"1321.5\" y=\"-832.3\">value = [1.239, 0.0, 0.0]</text>\n</g>\n<!-- 16&#45;&gt;54 -->\n<g class=\"edge\" id=\"edge54\">\n<title>16-&gt;54</title>\n<path d=\"M1198.421,-920.9465C1220.1289,-908.6098 1244.5396,-894.7371 1265.8632,-882.6187\" fill=\"none\" stroke=\"#000000\"/>\n<polygon fill=\"#000000\" points=\"1267.8312,-885.5261 1274.796,-877.5422 1264.3725,-879.4402 1267.8312,-885.5261\" stroke=\"#000000\"/>\n</g>\n<!-- 18 -->\n<g class=\"node\" id=\"node19\">\n<title>18</title>\n<path d=\"M1189.5,-781C1189.5,-781 1013.5,-781 1013.5,-781 1007.5,-781 1001.5,-775 1001.5,-769 1001.5,-769 1001.5,-725 1001.5,-725 1001.5,-719 1007.5,-713 1013.5,-713 1013.5,-713 1189.5,-713 1189.5,-713 1195.5,-713 1201.5,-719 1201.5,-725 1201.5,-725 1201.5,-769 1201.5,-769 1201.5,-775 1195.5,-781 1189.5,-781\" fill=\"#d0b5f5\" stroke=\"#000000\"/>\n<text fill=\"#000000\" font-family=\"Helvetica,sans-Serif\" font-size=\"14.00\" text-anchor=\"middle\" x=\"1101.5\" y=\"-765.8\">Age &lt;= 25.5</text>\n<text fill=\"#000000\" font-family=\"Helvetica,sans-Serif\" font-size=\"14.00\" text-anchor=\"middle\" x=\"1101.5\" y=\"-750.8\">gini = 0.474</text>\n<text fill=\"#000000\" font-family=\"Helvetica,sans-Serif\" font-size=\"14.00\" text-anchor=\"middle\" x=\"1101.5\" y=\"-735.8\">samples = 36</text>\n<text fill=\"#000000\" font-family=\"Helvetica,sans-Serif\" font-size=\"14.00\" text-anchor=\"middle\" x=\"1101.5\" y=\"-720.8\">value = [11.153, 0.0, 17.762]</text>\n</g>\n<!-- 17&#45;&gt;18 -->\n<g class=\"edge\" id=\"edge18\">\n<title>17-&gt;18</title>\n<path d=\"M1113.6061,-816.9465C1112.1765,-808.6863 1110.6276,-799.7374 1109.1305,-791.0875\" fill=\"none\" stroke=\"#000000\"/>\n<polygon fill=\"#000000\" points=\"1112.5613,-790.3866 1107.4071,-781.13 1105.6639,-791.5804 1112.5613,-790.3866\" stroke=\"#000000\"/>\n</g>\n<!-- 45 -->\n<g class=\"node\" id=\"node46\">\n<title>45</title>\n<path d=\"M1391.5,-781C1391.5,-781 1231.5,-781 1231.5,-781 1225.5,-781 1219.5,-775 1219.5,-769 1219.5,-769 1219.5,-725 1219.5,-725 1219.5,-719 1225.5,-713 1231.5,-713 1231.5,-713 1391.5,-713 1391.5,-713 1397.5,-713 1403.5,-719 1403.5,-725 1403.5,-725 1403.5,-769 1403.5,-769 1403.5,-775 1397.5,-781 1391.5,-781\" fill=\"#9558e9\" stroke=\"#000000\"/>\n<text fill=\"#000000\" font-family=\"Helvetica,sans-Serif\" font-size=\"14.00\" text-anchor=\"middle\" x=\"1311.5\" y=\"-765.8\">$200,000 or more &lt;= 0.5</text>\n<text fill=\"#000000\" font-family=\"Helvetica,sans-Serif\" font-size=\"14.00\" text-anchor=\"middle\" x=\"1311.5\" y=\"-750.8\">gini = 0.235</text>\n<text fill=\"#000000\" font-family=\"Helvetica,sans-Serif\" font-size=\"14.00\" text-anchor=\"middle\" x=\"1311.5\" y=\"-735.8\">samples = 7</text>\n<text fill=\"#000000\" font-family=\"Helvetica,sans-Serif\" font-size=\"14.00\" text-anchor=\"middle\" x=\"1311.5\" y=\"-720.8\">value = [1.239, 0.0, 7.894]</text>\n</g>\n<!-- 17&#45;&gt;45 -->\n<g class=\"edge\" id=\"edge45\">\n<title>17-&gt;45</title>\n<path d=\"M1182.368,-816.9465C1200.6842,-807.0252 1220.8345,-796.1105 1239.6592,-785.9138\" fill=\"none\" stroke=\"#000000\"/>\n<polygon fill=\"#000000\" points=\"1241.3649,-788.9704 1248.4908,-781.13 1238.0308,-782.8154 1241.3649,-788.9704\" stroke=\"#000000\"/>\n</g>\n<!-- 19 -->\n<g class=\"node\" id=\"node20\">\n<title>19</title>\n<path d=\"M987.5,-677C987.5,-677 819.5,-677 819.5,-677 813.5,-677 807.5,-671 807.5,-665 807.5,-665 807.5,-621 807.5,-621 807.5,-615 813.5,-609 819.5,-609 819.5,-609 987.5,-609 987.5,-609 993.5,-609 999.5,-615 999.5,-621 999.5,-621 999.5,-665 999.5,-665 999.5,-671 993.5,-677 987.5,-677\" fill=\"#bf9af2\" stroke=\"#000000\"/>\n<text fill=\"#000000\" font-family=\"Helvetica,sans-Serif\" font-size=\"14.00\" text-anchor=\"middle\" x=\"903.5\" y=\"-661.8\">Overweight &lt;= 0.5</text>\n<text fill=\"#000000\" font-family=\"Helvetica,sans-Serif\" font-size=\"14.00\" text-anchor=\"middle\" x=\"903.5\" y=\"-646.8\">gini = 0.441</text>\n<text fill=\"#000000\" font-family=\"Helvetica,sans-Serif\" font-size=\"14.00\" text-anchor=\"middle\" x=\"903.5\" y=\"-631.8\">samples = 30</text>\n<text fill=\"#000000\" font-family=\"Helvetica,sans-Serif\" font-size=\"14.00\" text-anchor=\"middle\" x=\"903.5\" y=\"-616.8\">value = [8.674, 0.0, 17.762]</text>\n</g>\n<!-- 18&#45;&gt;19 -->\n<g class=\"edge\" id=\"edge19\">\n<title>18-&gt;19</title>\n<path d=\"M1036.6674,-712.9465C1017.7788,-703.0252 996.9988,-692.1105 977.5858,-681.9138\" fill=\"none\" stroke=\"#000000\"/>\n<polygon fill=\"#000000\" points=\"978.9589,-678.6816 968.4783,-677.13 975.7038,-684.8787 978.9589,-678.6816\" stroke=\"#000000\"/>\n</g>\n<!-- 44 -->\n<g class=\"node\" id=\"node45\">\n<title>44</title>\n<path d=\"M1173,-669.5C1173,-669.5 1030,-669.5 1030,-669.5 1024,-669.5 1018,-663.5 1018,-657.5 1018,-657.5 1018,-628.5 1018,-628.5 1018,-622.5 1024,-616.5 1030,-616.5 1030,-616.5 1173,-616.5 1173,-616.5 1179,-616.5 1185,-622.5 1185,-628.5 1185,-628.5 1185,-657.5 1185,-657.5 1185,-663.5 1179,-669.5 1173,-669.5\" fill=\"#e58139\" stroke=\"#000000\"/>\n<text fill=\"#000000\" font-family=\"Helvetica,sans-Serif\" font-size=\"14.00\" text-anchor=\"middle\" x=\"1101.5\" y=\"-654.3\">gini = -0.0</text>\n<text fill=\"#000000\" font-family=\"Helvetica,sans-Serif\" font-size=\"14.00\" text-anchor=\"middle\" x=\"1101.5\" y=\"-639.3\">samples = 6</text>\n<text fill=\"#000000\" font-family=\"Helvetica,sans-Serif\" font-size=\"14.00\" text-anchor=\"middle\" x=\"1101.5\" y=\"-624.3\">value = [2.478, 0.0, 0.0]</text>\n</g>\n<!-- 18&#45;&gt;44 -->\n<g class=\"edge\" id=\"edge44\">\n<title>18-&gt;44</title>\n<path d=\"M1101.5,-712.9465C1101.5,-702.2621 1101.5,-690.4254 1101.5,-679.5742\" fill=\"none\" stroke=\"#000000\"/>\n<polygon fill=\"#000000\" points=\"1105.0001,-679.5421 1101.5,-669.5422 1098.0001,-679.5422 1105.0001,-679.5421\" stroke=\"#000000\"/>\n</g>\n<!-- 20 -->\n<g class=\"node\" id=\"node21\">\n<title>20</title>\n<path d=\"M778.5,-573C778.5,-573 610.5,-573 610.5,-573 604.5,-573 598.5,-567 598.5,-561 598.5,-561 598.5,-517 598.5,-517 598.5,-511 604.5,-505 610.5,-505 610.5,-505 778.5,-505 778.5,-505 784.5,-505 790.5,-511 790.5,-517 790.5,-517 790.5,-561 790.5,-561 790.5,-567 784.5,-573 778.5,-573\" fill=\"#d9c3f7\" stroke=\"#000000\"/>\n<text fill=\"#000000\" font-family=\"Helvetica,sans-Serif\" font-size=\"14.00\" text-anchor=\"middle\" x=\"694.5\" y=\"-557.8\">Age &lt;= 23.5</text>\n<text fill=\"#000000\" font-family=\"Helvetica,sans-Serif\" font-size=\"14.00\" text-anchor=\"middle\" x=\"694.5\" y=\"-542.8\">gini = 0.484</text>\n<text fill=\"#000000\" font-family=\"Helvetica,sans-Serif\" font-size=\"14.00\" text-anchor=\"middle\" x=\"694.5\" y=\"-527.8\">samples = 26</text>\n<text fill=\"#000000\" font-family=\"Helvetica,sans-Serif\" font-size=\"14.00\" text-anchor=\"middle\" x=\"694.5\" y=\"-512.8\">value = [8.261, 0.0, 11.841]</text>\n</g>\n<!-- 19&#45;&gt;20 -->\n<g class=\"edge\" id=\"edge20\">\n<title>19-&gt;20</title>\n<path d=\"M835.0656,-608.9465C814.9472,-598.9354 792.796,-587.9129 772.1457,-577.6371\" fill=\"none\" stroke=\"#000000\"/>\n<polygon fill=\"#000000\" points=\"773.6003,-574.4516 763.0882,-573.13 770.4817,-580.7185 773.6003,-574.4516\" stroke=\"#000000\"/>\n</g>\n<!-- 41 -->\n<g class=\"node\" id=\"node42\">\n<title>41</title>\n<path d=\"M983.5,-573C983.5,-573 823.5,-573 823.5,-573 817.5,-573 811.5,-567 811.5,-561 811.5,-561 811.5,-517 811.5,-517 811.5,-511 817.5,-505 823.5,-505 823.5,-505 983.5,-505 983.5,-505 989.5,-505 995.5,-511 995.5,-517 995.5,-517 995.5,-561 995.5,-561 995.5,-567 989.5,-573 983.5,-573\" fill=\"#8a47e7\" stroke=\"#000000\"/>\n<text fill=\"#000000\" font-family=\"Helvetica,sans-Serif\" font-size=\"14.00\" text-anchor=\"middle\" x=\"903.5\" y=\"-557.8\">Age &lt;= 22.5</text>\n<text fill=\"#000000\" font-family=\"Helvetica,sans-Serif\" font-size=\"14.00\" text-anchor=\"middle\" x=\"903.5\" y=\"-542.8\">gini = 0.122</text>\n<text fill=\"#000000\" font-family=\"Helvetica,sans-Serif\" font-size=\"14.00\" text-anchor=\"middle\" x=\"903.5\" y=\"-527.8\">samples = 4</text>\n<text fill=\"#000000\" font-family=\"Helvetica,sans-Serif\" font-size=\"14.00\" text-anchor=\"middle\" x=\"903.5\" y=\"-512.8\">value = [0.413, 0.0, 5.921]</text>\n</g>\n<!-- 19&#45;&gt;41 -->\n<g class=\"edge\" id=\"edge41\">\n<title>19-&gt;41</title>\n<path d=\"M903.5,-608.9465C903.5,-600.776 903.5,-591.9318 903.5,-583.3697\" fill=\"none\" stroke=\"#000000\"/>\n<polygon fill=\"#000000\" points=\"907.0001,-583.13 903.5,-573.13 900.0001,-583.13 907.0001,-583.13\" stroke=\"#000000\"/>\n</g>\n<!-- 21 -->\n<g class=\"node\" id=\"node22\">\n<title>21</title>\n<path d=\"M563.5,-469C563.5,-469 403.5,-469 403.5,-469 397.5,-469 391.5,-463 391.5,-457 391.5,-457 391.5,-413 391.5,-413 391.5,-407 397.5,-401 403.5,-401 403.5,-401 563.5,-401 563.5,-401 569.5,-401 575.5,-407 575.5,-413 575.5,-413 575.5,-457 575.5,-457 575.5,-463 569.5,-469 563.5,-469\" fill=\"#fbebe0\" stroke=\"#000000\"/>\n<text fill=\"#000000\" font-family=\"Helvetica,sans-Serif\" font-size=\"14.00\" text-anchor=\"middle\" x=\"483.5\" y=\"-453.8\">Age &lt;= 19.0</text>\n<text fill=\"#000000\" font-family=\"Helvetica,sans-Serif\" font-size=\"14.00\" text-anchor=\"middle\" x=\"483.5\" y=\"-438.8\">gini = 0.496</text>\n<text fill=\"#000000\" font-family=\"Helvetica,sans-Serif\" font-size=\"14.00\" text-anchor=\"middle\" x=\"483.5\" y=\"-423.8\">samples = 20</text>\n<text fill=\"#000000\" font-family=\"Helvetica,sans-Serif\" font-size=\"14.00\" text-anchor=\"middle\" x=\"483.5\" y=\"-408.8\">value = [7.022, 0.0, 5.921]</text>\n</g>\n<!-- 20&#45;&gt;21 -->\n<g class=\"edge\" id=\"edge21\">\n<title>20-&gt;21</title>\n<path d=\"M625.4107,-504.9465C605.0998,-494.9354 582.7367,-483.9129 561.8888,-473.6371\" fill=\"none\" stroke=\"#000000\"/>\n<polygon fill=\"#000000\" points=\"563.2615,-470.4117 552.7445,-469.13 560.1668,-476.6905 563.2615,-470.4117\" stroke=\"#000000\"/>\n</g>\n<!-- 34 -->\n<g class=\"node\" id=\"node35\">\n<title>34</title>\n<path d=\"M774.5,-469C774.5,-469 614.5,-469 614.5,-469 608.5,-469 602.5,-463 602.5,-457 602.5,-457 602.5,-413 602.5,-413 602.5,-407 608.5,-401 614.5,-401 614.5,-401 774.5,-401 774.5,-401 780.5,-401 786.5,-407 786.5,-413 786.5,-413 786.5,-457 786.5,-457 786.5,-463 780.5,-469 774.5,-469\" fill=\"#9b62ea\" stroke=\"#000000\"/>\n<text fill=\"#000000\" font-family=\"Helvetica,sans-Serif\" font-size=\"14.00\" text-anchor=\"middle\" x=\"694.5\" y=\"-453.8\">HasSocialAnxiety &lt;= 0.5</text>\n<text fill=\"#000000\" font-family=\"Helvetica,sans-Serif\" font-size=\"14.00\" text-anchor=\"middle\" x=\"694.5\" y=\"-438.8\">gini = 0.286</text>\n<text fill=\"#000000\" font-family=\"Helvetica,sans-Serif\" font-size=\"14.00\" text-anchor=\"middle\" x=\"694.5\" y=\"-423.8\">samples = 6</text>\n<text fill=\"#000000\" font-family=\"Helvetica,sans-Serif\" font-size=\"14.00\" text-anchor=\"middle\" x=\"694.5\" y=\"-408.8\">value = [1.239, 0.0, 5.921]</text>\n</g>\n<!-- 20&#45;&gt;34 -->\n<g class=\"edge\" id=\"edge34\">\n<title>20-&gt;34</title>\n<path d=\"M694.5,-504.9465C694.5,-496.776 694.5,-487.9318 694.5,-479.3697\" fill=\"none\" stroke=\"#000000\"/>\n<polygon fill=\"#000000\" points=\"698.0001,-479.13 694.5,-469.13 691.0001,-479.13 698.0001,-479.13\" stroke=\"#000000\"/>\n</g>\n<!-- 22 -->\n<g class=\"node\" id=\"node23\">\n<title>22</title>\n<path d=\"M357.5,-365C357.5,-365 197.5,-365 197.5,-365 191.5,-365 185.5,-359 185.5,-353 185.5,-353 185.5,-309 185.5,-309 185.5,-303 191.5,-297 197.5,-297 197.5,-297 357.5,-297 357.5,-297 363.5,-297 369.5,-303 369.5,-309 369.5,-309 369.5,-353 369.5,-353 369.5,-359 363.5,-365 357.5,-365\" fill=\"#a977ed\" stroke=\"#000000\"/>\n<text fill=\"#000000\" font-family=\"Helvetica,sans-Serif\" font-size=\"14.00\" text-anchor=\"middle\" x=\"277.5\" y=\"-349.8\">$0 &lt;= 0.5</text>\n<text fill=\"#000000\" font-family=\"Helvetica,sans-Serif\" font-size=\"14.00\" text-anchor=\"middle\" x=\"277.5\" y=\"-334.8\">gini = 0.364</text>\n<text fill=\"#000000\" font-family=\"Helvetica,sans-Serif\" font-size=\"14.00\" text-anchor=\"middle\" x=\"277.5\" y=\"-319.8\">samples = 5</text>\n<text fill=\"#000000\" font-family=\"Helvetica,sans-Serif\" font-size=\"14.00\" text-anchor=\"middle\" x=\"277.5\" y=\"-304.8\">value = [1.239, 0.0, 3.947]</text>\n</g>\n<!-- 21&#45;&gt;22 -->\n<g class=\"edge\" id=\"edge22\">\n<title>21-&gt;22</title>\n<path d=\"M416.0479,-400.9465C396.2183,-390.9354 374.3851,-379.9129 354.0312,-369.6371\" fill=\"none\" stroke=\"#000000\"/>\n<polygon fill=\"#000000\" points=\"355.6079,-366.5124 345.1036,-365.13 352.4531,-372.7612 355.6079,-366.5124\" stroke=\"#000000\"/>\n</g>\n<!-- 29 -->\n<g class=\"node\" id=\"node30\">\n<title>29</title>\n<path d=\"M563.5,-365C563.5,-365 403.5,-365 403.5,-365 397.5,-365 391.5,-359 391.5,-353 391.5,-353 391.5,-309 391.5,-309 391.5,-303 397.5,-297 403.5,-297 403.5,-297 563.5,-297 563.5,-297 569.5,-297 575.5,-303 575.5,-309 575.5,-309 575.5,-353 575.5,-353 575.5,-359 569.5,-365 563.5,-365\" fill=\"#eeac7d\" stroke=\"#000000\"/>\n<text fill=\"#000000\" font-family=\"Helvetica,sans-Serif\" font-size=\"14.00\" text-anchor=\"middle\" x=\"483.5\" y=\"-349.8\">$1 to $10,000 &lt;= 0.5</text>\n<text fill=\"#000000\" font-family=\"Helvetica,sans-Serif\" font-size=\"14.00\" text-anchor=\"middle\" x=\"483.5\" y=\"-334.8\">gini = 0.379</text>\n<text fill=\"#000000\" font-family=\"Helvetica,sans-Serif\" font-size=\"14.00\" text-anchor=\"middle\" x=\"483.5\" y=\"-319.8\">samples = 15</text>\n<text fill=\"#000000\" font-family=\"Helvetica,sans-Serif\" font-size=\"14.00\" text-anchor=\"middle\" x=\"483.5\" y=\"-304.8\">value = [5.783, 0.0, 1.974]</text>\n</g>\n<!-- 21&#45;&gt;29 -->\n<g class=\"edge\" id=\"edge29\">\n<title>21-&gt;29</title>\n<path d=\"M483.5,-400.9465C483.5,-392.776 483.5,-383.9318 483.5,-375.3697\" fill=\"none\" stroke=\"#000000\"/>\n<polygon fill=\"#000000\" points=\"487.0001,-375.13 483.5,-365.13 480.0001,-375.13 487.0001,-375.13\" stroke=\"#000000\"/>\n</g>\n<!-- 23 -->\n<g class=\"node\" id=\"node24\">\n<title>23</title>\n<path d=\"M155,-253.5C155,-253.5 12,-253.5 12,-253.5 6,-253.5 0,-247.5 0,-241.5 0,-241.5 0,-212.5 0,-212.5 0,-206.5 6,-200.5 12,-200.5 12,-200.5 155,-200.5 155,-200.5 161,-200.5 167,-206.5 167,-212.5 167,-212.5 167,-241.5 167,-241.5 167,-247.5 161,-253.5 155,-253.5\" fill=\"#e58139\" stroke=\"#000000\"/>\n<text fill=\"#000000\" font-family=\"Helvetica,sans-Serif\" font-size=\"14.00\" text-anchor=\"middle\" x=\"83.5\" y=\"-238.3\">gini = 0.0</text>\n<text fill=\"#000000\" font-family=\"Helvetica,sans-Serif\" font-size=\"14.00\" text-anchor=\"middle\" x=\"83.5\" y=\"-223.3\">samples = 2</text>\n<text fill=\"#000000\" font-family=\"Helvetica,sans-Serif\" font-size=\"14.00\" text-anchor=\"middle\" x=\"83.5\" y=\"-208.3\">value = [0.826, 0.0, 0.0]</text>\n</g>\n<!-- 22&#45;&gt;23 -->\n<g class=\"edge\" id=\"edge23\">\n<title>22-&gt;23</title>\n<path d=\"M213.9771,-296.9465C190.759,-284.4997 164.6241,-270.4892 141.8764,-258.2946\" fill=\"none\" stroke=\"#000000\"/>\n<polygon fill=\"#000000\" points=\"143.4785,-255.1822 133.0113,-253.5422 140.1711,-261.3517 143.4785,-255.1822\" stroke=\"#000000\"/>\n</g>\n<!-- 24 -->\n<g class=\"node\" id=\"node25\">\n<title>24</title>\n<path d=\"M357.5,-261C357.5,-261 197.5,-261 197.5,-261 191.5,-261 185.5,-255 185.5,-249 185.5,-249 185.5,-205 185.5,-205 185.5,-199 191.5,-193 197.5,-193 197.5,-193 357.5,-193 357.5,-193 363.5,-193 369.5,-199 369.5,-205 369.5,-205 369.5,-249 369.5,-249 369.5,-255 363.5,-261 357.5,-261\" fill=\"#8e4ee8\" stroke=\"#000000\"/>\n<text fill=\"#000000\" font-family=\"Helvetica,sans-Serif\" font-size=\"14.00\" text-anchor=\"middle\" x=\"277.5\" y=\"-245.8\">Age &lt;= 17.0</text>\n<text fill=\"#000000\" font-family=\"Helvetica,sans-Serif\" font-size=\"14.00\" text-anchor=\"middle\" x=\"277.5\" y=\"-230.8\">gini = 0.172</text>\n<text fill=\"#000000\" font-family=\"Helvetica,sans-Serif\" font-size=\"14.00\" text-anchor=\"middle\" x=\"277.5\" y=\"-215.8\">samples = 3</text>\n<text fill=\"#000000\" font-family=\"Helvetica,sans-Serif\" font-size=\"14.00\" text-anchor=\"middle\" x=\"277.5\" y=\"-200.8\">value = [0.413, 0.0, 3.947]</text>\n</g>\n<!-- 22&#45;&gt;24 -->\n<g class=\"edge\" id=\"edge24\">\n<title>22-&gt;24</title>\n<path d=\"M277.5,-296.9465C277.5,-288.776 277.5,-279.9318 277.5,-271.3697\" fill=\"none\" stroke=\"#000000\"/>\n<polygon fill=\"#000000\" points=\"281.0001,-271.13 277.5,-261.13 274.0001,-271.13 281.0001,-271.13\" stroke=\"#000000\"/>\n</g>\n<!-- 25 -->\n<g class=\"node\" id=\"node26\">\n<title>25</title>\n<path d=\"M268,-149.5C268,-149.5 125,-149.5 125,-149.5 119,-149.5 113,-143.5 113,-137.5 113,-137.5 113,-108.5 113,-108.5 113,-102.5 119,-96.5 125,-96.5 125,-96.5 268,-96.5 268,-96.5 274,-96.5 280,-102.5 280,-108.5 280,-108.5 280,-137.5 280,-137.5 280,-143.5 274,-149.5 268,-149.5\" fill=\"#8139e5\" stroke=\"#000000\"/>\n<text fill=\"#000000\" font-family=\"Helvetica,sans-Serif\" font-size=\"14.00\" text-anchor=\"middle\" x=\"196.5\" y=\"-134.3\">gini = 0.0</text>\n<text fill=\"#000000\" font-family=\"Helvetica,sans-Serif\" font-size=\"14.00\" text-anchor=\"middle\" x=\"196.5\" y=\"-119.3\">samples = 1</text>\n<text fill=\"#000000\" font-family=\"Helvetica,sans-Serif\" font-size=\"14.00\" text-anchor=\"middle\" x=\"196.5\" y=\"-104.3\">value = [0.0, 0.0, 1.974]</text>\n</g>\n<!-- 24&#45;&gt;25 -->\n<g class=\"edge\" id=\"edge25\">\n<title>24-&gt;25</title>\n<path d=\"M250.9776,-192.9465C242.1413,-181.6012 232.2932,-168.9567 223.4266,-157.5724\" fill=\"none\" stroke=\"#000000\"/>\n<polygon fill=\"#000000\" points=\"226.0783,-155.281 217.1723,-149.5422 220.5556,-159.5823 226.0783,-155.281\" stroke=\"#000000\"/>\n</g>\n<!-- 26 -->\n<g class=\"node\" id=\"node27\">\n<title>26</title>\n<path d=\"M470.5,-157C470.5,-157 310.5,-157 310.5,-157 304.5,-157 298.5,-151 298.5,-145 298.5,-145 298.5,-101 298.5,-101 298.5,-95 304.5,-89 310.5,-89 310.5,-89 470.5,-89 470.5,-89 476.5,-89 482.5,-95 482.5,-101 482.5,-101 482.5,-145 482.5,-145 482.5,-151 476.5,-157 470.5,-157\" fill=\"#9b62ea\" stroke=\"#000000\"/>\n<text fill=\"#000000\" font-family=\"Helvetica,sans-Serif\" font-size=\"14.00\" text-anchor=\"middle\" x=\"390.5\" y=\"-141.8\">Underweight &lt;= 0.5</text>\n<text fill=\"#000000\" font-family=\"Helvetica,sans-Serif\" font-size=\"14.00\" text-anchor=\"middle\" x=\"390.5\" y=\"-126.8\">gini = 0.286</text>\n<text fill=\"#000000\" font-family=\"Helvetica,sans-Serif\" font-size=\"14.00\" text-anchor=\"middle\" x=\"390.5\" y=\"-111.8\">samples = 2</text>\n<text fill=\"#000000\" font-family=\"Helvetica,sans-Serif\" font-size=\"14.00\" text-anchor=\"middle\" x=\"390.5\" y=\"-96.8\">value = [0.413, 0.0, 1.974]</text>\n</g>\n<!-- 24&#45;&gt;26 -->\n<g class=\"edge\" id=\"edge26\">\n<title>24-&gt;26</title>\n<path d=\"M314.5004,-192.9465C324.5486,-183.6986 335.5347,-173.5876 345.9526,-163.9994\" fill=\"none\" stroke=\"#000000\"/>\n<polygon fill=\"#000000\" points=\"348.4286,-166.4773 353.4164,-157.13 343.6882,-161.3267 348.4286,-166.4773\" stroke=\"#000000\"/>\n</g>\n<!-- 27 -->\n<g class=\"node\" id=\"node28\">\n<title>27</title>\n<path d=\"M369,-53C369,-53 226,-53 226,-53 220,-53 214,-47 214,-41 214,-41 214,-12 214,-12 214,-6 220,0 226,0 226,0 369,0 369,0 375,0 381,-6 381,-12 381,-12 381,-41 381,-41 381,-47 375,-53 369,-53\" fill=\"#8139e5\" stroke=\"#000000\"/>\n<text fill=\"#000000\" font-family=\"Helvetica,sans-Serif\" font-size=\"14.00\" text-anchor=\"middle\" x=\"297.5\" y=\"-37.8\">gini = 0.0</text>\n<text fill=\"#000000\" font-family=\"Helvetica,sans-Serif\" font-size=\"14.00\" text-anchor=\"middle\" x=\"297.5\" y=\"-22.8\">samples = 1</text>\n<text fill=\"#000000\" font-family=\"Helvetica,sans-Serif\" font-size=\"14.00\" text-anchor=\"middle\" x=\"297.5\" y=\"-7.8\">value = [0.0, 0.0, 1.974]</text>\n</g>\n<!-- 26&#45;&gt;27 -->\n<g class=\"edge\" id=\"edge27\">\n<title>26-&gt;27</title>\n<path d=\"M357.7117,-88.9777C348.7986,-79.7292 339.1473,-69.7147 330.2371,-60.4691\" fill=\"none\" stroke=\"#000000\"/>\n<polygon fill=\"#000000\" points=\"332.7378,-58.0202 323.2783,-53.2485 327.6975,-62.8777 332.7378,-58.0202\" stroke=\"#000000\"/>\n</g>\n<!-- 28 -->\n<g class=\"node\" id=\"node29\">\n<title>28</title>\n<path d=\"M554,-53C554,-53 411,-53 411,-53 405,-53 399,-47 399,-41 399,-41 399,-12 399,-12 399,-6 405,0 411,0 411,0 554,0 554,0 560,0 566,-6 566,-12 566,-12 566,-41 566,-41 566,-47 560,-53 554,-53\" fill=\"#e58139\" stroke=\"#000000\"/>\n<text fill=\"#000000\" font-family=\"Helvetica,sans-Serif\" font-size=\"14.00\" text-anchor=\"middle\" x=\"482.5\" y=\"-37.8\">gini = -0.0</text>\n<text fill=\"#000000\" font-family=\"Helvetica,sans-Serif\" font-size=\"14.00\" text-anchor=\"middle\" x=\"482.5\" y=\"-22.8\">samples = 1</text>\n<text fill=\"#000000\" font-family=\"Helvetica,sans-Serif\" font-size=\"14.00\" text-anchor=\"middle\" x=\"482.5\" y=\"-7.8\">value = [0.413, 0.0, 0.0]</text>\n</g>\n<!-- 26&#45;&gt;28 -->\n<g class=\"edge\" id=\"edge28\">\n<title>26-&gt;28</title>\n<path d=\"M422.9358,-88.9777C431.6657,-79.8207 441.1115,-69.9129 449.8529,-60.744\" fill=\"none\" stroke=\"#000000\"/>\n<polygon fill=\"#000000\" points=\"452.6318,-62.9014 456.9989,-53.2485 447.5653,-58.0712 452.6318,-62.9014\" stroke=\"#000000\"/>\n</g>\n<!-- 30 -->\n<g class=\"node\" id=\"node31\">\n<title>30</title>\n<path d=\"M543,-253.5C543,-253.5 400,-253.5 400,-253.5 394,-253.5 388,-247.5 388,-241.5 388,-241.5 388,-212.5 388,-212.5 388,-206.5 394,-200.5 400,-200.5 400,-200.5 543,-200.5 543,-200.5 549,-200.5 555,-206.5 555,-212.5 555,-212.5 555,-241.5 555,-241.5 555,-247.5 549,-253.5 543,-253.5\" fill=\"#e58139\" stroke=\"#000000\"/>\n<text fill=\"#000000\" font-family=\"Helvetica,sans-Serif\" font-size=\"14.00\" text-anchor=\"middle\" x=\"471.5\" y=\"-238.3\">gini = 0.0</text>\n<text fill=\"#000000\" font-family=\"Helvetica,sans-Serif\" font-size=\"14.00\" text-anchor=\"middle\" x=\"471.5\" y=\"-223.3\">samples = 12</text>\n<text fill=\"#000000\" font-family=\"Helvetica,sans-Serif\" font-size=\"14.00\" text-anchor=\"middle\" x=\"471.5\" y=\"-208.3\">value = [4.957, 0.0, 0.0]</text>\n</g>\n<!-- 29&#45;&gt;30 -->\n<g class=\"edge\" id=\"edge30\">\n<title>29-&gt;30</title>\n<path d=\"M479.5708,-296.9465C478.3379,-286.2621 476.9722,-274.4254 475.7201,-263.5742\" fill=\"none\" stroke=\"#000000\"/>\n<polygon fill=\"#000000\" points=\"479.1858,-263.075 474.5626,-253.5422 472.232,-263.8775 479.1858,-263.075\" stroke=\"#000000\"/>\n</g>\n<!-- 31 -->\n<g class=\"node\" id=\"node32\">\n<title>31</title>\n<path d=\"M780,-261C780,-261 585,-261 585,-261 579,-261 573,-255 573,-249 573,-249 573,-205 573,-205 573,-199 579,-193 585,-193 585,-193 780,-193 780,-193 786,-193 792,-199 792,-205 792,-205 792,-249 792,-249 792,-255 786,-261 780,-261\" fill=\"#b68cf0\" stroke=\"#000000\"/>\n<text fill=\"#000000\" font-family=\"Helvetica,sans-Serif\" font-size=\"14.00\" text-anchor=\"middle\" x=\"682.5\" y=\"-245.8\">ProstitutionLegalAtPlace &lt;= 0.5</text>\n<text fill=\"#000000\" font-family=\"Helvetica,sans-Serif\" font-size=\"14.00\" text-anchor=\"middle\" x=\"682.5\" y=\"-230.8\">gini = 0.416</text>\n<text fill=\"#000000\" font-family=\"Helvetica,sans-Serif\" font-size=\"14.00\" text-anchor=\"middle\" x=\"682.5\" y=\"-215.8\">samples = 3</text>\n<text fill=\"#000000\" font-family=\"Helvetica,sans-Serif\" font-size=\"14.00\" text-anchor=\"middle\" x=\"682.5\" y=\"-200.8\">value = [0.826, 0.0, 1.974]</text>\n</g>\n<!-- 29&#45;&gt;31 -->\n<g class=\"edge\" id=\"edge31\">\n<title>29-&gt;31</title>\n<path d=\"M548.66,-296.9465C567.7299,-286.9803 588.718,-276.0117 608.3048,-265.7754\" fill=\"none\" stroke=\"#000000\"/>\n<polygon fill=\"#000000\" points=\"609.952,-268.8637 617.1936,-261.13 606.7098,-262.6599 609.952,-268.8637\" stroke=\"#000000\"/>\n</g>\n<!-- 32 -->\n<g class=\"node\" id=\"node33\">\n<title>32</title>\n<path d=\"M664,-149.5C664,-149.5 521,-149.5 521,-149.5 515,-149.5 509,-143.5 509,-137.5 509,-137.5 509,-108.5 509,-108.5 509,-102.5 515,-96.5 521,-96.5 521,-96.5 664,-96.5 664,-96.5 670,-96.5 676,-102.5 676,-108.5 676,-108.5 676,-137.5 676,-137.5 676,-143.5 670,-149.5 664,-149.5\" fill=\"#e58139\" stroke=\"#000000\"/>\n<text fill=\"#000000\" font-family=\"Helvetica,sans-Serif\" font-size=\"14.00\" text-anchor=\"middle\" x=\"592.5\" y=\"-134.3\">gini = 0.0</text>\n<text fill=\"#000000\" font-family=\"Helvetica,sans-Serif\" font-size=\"14.00\" text-anchor=\"middle\" x=\"592.5\" y=\"-119.3\">samples = 2</text>\n<text fill=\"#000000\" font-family=\"Helvetica,sans-Serif\" font-size=\"14.00\" text-anchor=\"middle\" x=\"592.5\" y=\"-104.3\">value = [0.826, 0.0, 0.0]</text>\n</g>\n<!-- 31&#45;&gt;32 -->\n<g class=\"edge\" id=\"edge32\">\n<title>31-&gt;32</title>\n<path d=\"M653.0306,-192.9465C643.1172,-181.491 632.0576,-168.711 622.1318,-157.2412\" fill=\"none\" stroke=\"#000000\"/>\n<polygon fill=\"#000000\" points=\"624.6596,-154.8135 615.4692,-149.5422 619.3664,-159.3942 624.6596,-154.8135\" stroke=\"#000000\"/>\n</g>\n<!-- 33 -->\n<g class=\"node\" id=\"node34\">\n<title>33</title>\n<path d=\"M849,-149.5C849,-149.5 706,-149.5 706,-149.5 700,-149.5 694,-143.5 694,-137.5 694,-137.5 694,-108.5 694,-108.5 694,-102.5 700,-96.5 706,-96.5 706,-96.5 849,-96.5 849,-96.5 855,-96.5 861,-102.5 861,-108.5 861,-108.5 861,-137.5 861,-137.5 861,-143.5 855,-149.5 849,-149.5\" fill=\"#8139e5\" stroke=\"#000000\"/>\n<text fill=\"#000000\" font-family=\"Helvetica,sans-Serif\" font-size=\"14.00\" text-anchor=\"middle\" x=\"777.5\" y=\"-134.3\">gini = 0.0</text>\n<text fill=\"#000000\" font-family=\"Helvetica,sans-Serif\" font-size=\"14.00\" text-anchor=\"middle\" x=\"777.5\" y=\"-119.3\">samples = 1</text>\n<text fill=\"#000000\" font-family=\"Helvetica,sans-Serif\" font-size=\"14.00\" text-anchor=\"middle\" x=\"777.5\" y=\"-104.3\">value = [0.0, 0.0, 1.974]</text>\n</g>\n<!-- 31&#45;&gt;33 -->\n<g class=\"edge\" id=\"edge33\">\n<title>31-&gt;33</title>\n<path d=\"M713.6066,-192.9465C724.0707,-181.491 735.7447,-168.711 746.222,-157.2412\" fill=\"none\" stroke=\"#000000\"/>\n<polygon fill=\"#000000\" points=\"749.0945,-159.2861 753.2548,-149.5422 743.9262,-154.565 749.0945,-159.2861\" stroke=\"#000000\"/>\n</g>\n<!-- 35 -->\n<g class=\"node\" id=\"node36\">\n<title>35</title>\n<path d=\"M766,-357.5C766,-357.5 623,-357.5 623,-357.5 617,-357.5 611,-351.5 611,-345.5 611,-345.5 611,-316.5 611,-316.5 611,-310.5 617,-304.5 623,-304.5 623,-304.5 766,-304.5 766,-304.5 772,-304.5 778,-310.5 778,-316.5 778,-316.5 778,-345.5 778,-345.5 778,-351.5 772,-357.5 766,-357.5\" fill=\"#e58139\" stroke=\"#000000\"/>\n<text fill=\"#000000\" font-family=\"Helvetica,sans-Serif\" font-size=\"14.00\" text-anchor=\"middle\" x=\"694.5\" y=\"-342.3\">gini = 0.0</text>\n<text fill=\"#000000\" font-family=\"Helvetica,sans-Serif\" font-size=\"14.00\" text-anchor=\"middle\" x=\"694.5\" y=\"-327.3\">samples = 2</text>\n<text fill=\"#000000\" font-family=\"Helvetica,sans-Serif\" font-size=\"14.00\" text-anchor=\"middle\" x=\"694.5\" y=\"-312.3\">value = [0.826, 0.0, 0.0]</text>\n</g>\n<!-- 34&#45;&gt;35 -->\n<g class=\"edge\" id=\"edge35\">\n<title>34-&gt;35</title>\n<path d=\"M694.5,-400.9465C694.5,-390.2621 694.5,-378.4254 694.5,-367.5742\" fill=\"none\" stroke=\"#000000\"/>\n<polygon fill=\"#000000\" points=\"698.0001,-367.5421 694.5,-357.5422 691.0001,-367.5422 698.0001,-367.5421\" stroke=\"#000000\"/>\n</g>\n<!-- 36 -->\n<g class=\"node\" id=\"node37\">\n<title>36</title>\n<path d=\"M973.5,-365C973.5,-365 813.5,-365 813.5,-365 807.5,-365 801.5,-359 801.5,-353 801.5,-353 801.5,-309 801.5,-309 801.5,-303 807.5,-297 813.5,-297 813.5,-297 973.5,-297 973.5,-297 979.5,-297 985.5,-303 985.5,-309 985.5,-309 985.5,-353 985.5,-353 985.5,-359 979.5,-365 973.5,-365\" fill=\"#8a47e7\" stroke=\"#000000\"/>\n<text fill=\"#000000\" font-family=\"Helvetica,sans-Serif\" font-size=\"14.00\" text-anchor=\"middle\" x=\"893.5\" y=\"-349.8\">Highschool &lt;= 0.5</text>\n<text fill=\"#000000\" font-family=\"Helvetica,sans-Serif\" font-size=\"14.00\" text-anchor=\"middle\" x=\"893.5\" y=\"-334.8\">gini = 0.122</text>\n<text fill=\"#000000\" font-family=\"Helvetica,sans-Serif\" font-size=\"14.00\" text-anchor=\"middle\" x=\"893.5\" y=\"-319.8\">samples = 4</text>\n<text fill=\"#000000\" font-family=\"Helvetica,sans-Serif\" font-size=\"14.00\" text-anchor=\"middle\" x=\"893.5\" y=\"-304.8\">value = [0.413, 0.0, 5.921]</text>\n</g>\n<!-- 34&#45;&gt;36 -->\n<g class=\"edge\" id=\"edge36\">\n<title>34-&gt;36</title>\n<path d=\"M759.66,-400.9465C778.7299,-390.9803 799.718,-380.0117 819.3048,-369.7754\" fill=\"none\" stroke=\"#000000\"/>\n<polygon fill=\"#000000\" points=\"820.952,-372.8637 828.1936,-365.13 817.7098,-366.6599 820.952,-372.8637\" stroke=\"#000000\"/>\n</g>\n<!-- 37 -->\n<g class=\"node\" id=\"node38\">\n<title>37</title>\n<path d=\"M965,-253.5C965,-253.5 822,-253.5 822,-253.5 816,-253.5 810,-247.5 810,-241.5 810,-241.5 810,-212.5 810,-212.5 810,-206.5 816,-200.5 822,-200.5 822,-200.5 965,-200.5 965,-200.5 971,-200.5 977,-206.5 977,-212.5 977,-212.5 977,-241.5 977,-241.5 977,-247.5 971,-253.5 965,-253.5\" fill=\"#8139e5\" stroke=\"#000000\"/>\n<text fill=\"#000000\" font-family=\"Helvetica,sans-Serif\" font-size=\"14.00\" text-anchor=\"middle\" x=\"893.5\" y=\"-238.3\">gini = 0.0</text>\n<text fill=\"#000000\" font-family=\"Helvetica,sans-Serif\" font-size=\"14.00\" text-anchor=\"middle\" x=\"893.5\" y=\"-223.3\">samples = 2</text>\n<text fill=\"#000000\" font-family=\"Helvetica,sans-Serif\" font-size=\"14.00\" text-anchor=\"middle\" x=\"893.5\" y=\"-208.3\">value = [0.0, 0.0, 3.947]</text>\n</g>\n<!-- 36&#45;&gt;37 -->\n<g class=\"edge\" id=\"edge37\">\n<title>36-&gt;37</title>\n<path d=\"M893.5,-296.9465C893.5,-286.2621 893.5,-274.4254 893.5,-263.5742\" fill=\"none\" stroke=\"#000000\"/>\n<polygon fill=\"#000000\" points=\"897.0001,-263.5421 893.5,-253.5422 890.0001,-263.5422 897.0001,-263.5421\" stroke=\"#000000\"/>\n</g>\n<!-- 38 -->\n<g class=\"node\" id=\"node39\">\n<title>38</title>\n<path d=\"M1167.5,-261C1167.5,-261 1007.5,-261 1007.5,-261 1001.5,-261 995.5,-255 995.5,-249 995.5,-249 995.5,-205 995.5,-205 995.5,-199 1001.5,-193 1007.5,-193 1007.5,-193 1167.5,-193 1167.5,-193 1173.5,-193 1179.5,-199 1179.5,-205 1179.5,-205 1179.5,-249 1179.5,-249 1179.5,-255 1173.5,-261 1167.5,-261\" fill=\"#9b62ea\" stroke=\"#000000\"/>\n<text fill=\"#000000\" font-family=\"Helvetica,sans-Serif\" font-size=\"14.00\" text-anchor=\"middle\" x=\"1087.5\" y=\"-245.8\">Age &lt;= 24.5</text>\n<text fill=\"#000000\" font-family=\"Helvetica,sans-Serif\" font-size=\"14.00\" text-anchor=\"middle\" x=\"1087.5\" y=\"-230.8\">gini = 0.286</text>\n<text fill=\"#000000\" font-family=\"Helvetica,sans-Serif\" font-size=\"14.00\" text-anchor=\"middle\" x=\"1087.5\" y=\"-215.8\">samples = 2</text>\n<text fill=\"#000000\" font-family=\"Helvetica,sans-Serif\" font-size=\"14.00\" text-anchor=\"middle\" x=\"1087.5\" y=\"-200.8\">value = [0.413, 0.0, 1.974]</text>\n</g>\n<!-- 36&#45;&gt;38 -->\n<g class=\"edge\" id=\"edge38\">\n<title>36-&gt;38</title>\n<path d=\"M957.0229,-296.9465C975.5299,-287.0252 995.89,-276.1105 1014.9109,-265.9138\" fill=\"none\" stroke=\"#000000\"/>\n<polygon fill=\"#000000\" points=\"1016.6746,-268.9395 1023.8344,-261.13 1013.3673,-262.7701 1016.6746,-268.9395\" stroke=\"#000000\"/>\n</g>\n<!-- 39 -->\n<g class=\"node\" id=\"node40\">\n<title>39</title>\n<path d=\"M1056,-149.5C1056,-149.5 913,-149.5 913,-149.5 907,-149.5 901,-143.5 901,-137.5 901,-137.5 901,-108.5 901,-108.5 901,-102.5 907,-96.5 913,-96.5 913,-96.5 1056,-96.5 1056,-96.5 1062,-96.5 1068,-102.5 1068,-108.5 1068,-108.5 1068,-137.5 1068,-137.5 1068,-143.5 1062,-149.5 1056,-149.5\" fill=\"#8139e5\" stroke=\"#000000\"/>\n<text fill=\"#000000\" font-family=\"Helvetica,sans-Serif\" font-size=\"14.00\" text-anchor=\"middle\" x=\"984.5\" y=\"-134.3\">gini = 0.0</text>\n<text fill=\"#000000\" font-family=\"Helvetica,sans-Serif\" font-size=\"14.00\" text-anchor=\"middle\" x=\"984.5\" y=\"-119.3\">samples = 1</text>\n<text fill=\"#000000\" font-family=\"Helvetica,sans-Serif\" font-size=\"14.00\" text-anchor=\"middle\" x=\"984.5\" y=\"-104.3\">value = [0.0, 0.0, 1.974]</text>\n</g>\n<!-- 38&#45;&gt;39 -->\n<g class=\"edge\" id=\"edge39\">\n<title>38-&gt;39</title>\n<path d=\"M1053.7739,-192.9465C1042.3195,-181.3809 1029.528,-168.4652 1018.0846,-156.9107\" fill=\"none\" stroke=\"#000000\"/>\n<polygon fill=\"#000000\" points=\"1020.3106,-154.1844 1010.787,-149.5422 1015.337,-159.1102 1020.3106,-154.1844\" stroke=\"#000000\"/>\n</g>\n<!-- 40 -->\n<g class=\"node\" id=\"node41\">\n<title>40</title>\n<path d=\"M1241,-149.5C1241,-149.5 1098,-149.5 1098,-149.5 1092,-149.5 1086,-143.5 1086,-137.5 1086,-137.5 1086,-108.5 1086,-108.5 1086,-102.5 1092,-96.5 1098,-96.5 1098,-96.5 1241,-96.5 1241,-96.5 1247,-96.5 1253,-102.5 1253,-108.5 1253,-108.5 1253,-137.5 1253,-137.5 1253,-143.5 1247,-149.5 1241,-149.5\" fill=\"#e58139\" stroke=\"#000000\"/>\n<text fill=\"#000000\" font-family=\"Helvetica,sans-Serif\" font-size=\"14.00\" text-anchor=\"middle\" x=\"1169.5\" y=\"-134.3\">gini = -0.0</text>\n<text fill=\"#000000\" font-family=\"Helvetica,sans-Serif\" font-size=\"14.00\" text-anchor=\"middle\" x=\"1169.5\" y=\"-119.3\">samples = 1</text>\n<text fill=\"#000000\" font-family=\"Helvetica,sans-Serif\" font-size=\"14.00\" text-anchor=\"middle\" x=\"1169.5\" y=\"-104.3\">value = [0.413, 0.0, 0.0]</text>\n</g>\n<!-- 38&#45;&gt;40 -->\n<g class=\"edge\" id=\"edge40\">\n<title>38-&gt;40</title>\n<path d=\"M1114.3499,-192.9465C1123.2952,-181.6012 1133.2649,-168.9567 1142.241,-157.5724\" fill=\"none\" stroke=\"#000000\"/>\n<polygon fill=\"#000000\" points=\"1145.1294,-159.5619 1148.5725,-149.5422 1139.6325,-155.2278 1145.1294,-159.5619\" stroke=\"#000000\"/>\n</g>\n<!-- 42 -->\n<g class=\"node\" id=\"node43\">\n<title>42</title>\n<path d=\"M960,-461.5C960,-461.5 817,-461.5 817,-461.5 811,-461.5 805,-455.5 805,-449.5 805,-449.5 805,-420.5 805,-420.5 805,-414.5 811,-408.5 817,-408.5 817,-408.5 960,-408.5 960,-408.5 966,-408.5 972,-414.5 972,-420.5 972,-420.5 972,-449.5 972,-449.5 972,-455.5 966,-461.5 960,-461.5\" fill=\"#8139e5\" stroke=\"#000000\"/>\n<text fill=\"#000000\" font-family=\"Helvetica,sans-Serif\" font-size=\"14.00\" text-anchor=\"middle\" x=\"888.5\" y=\"-446.3\">gini = -0.0</text>\n<text fill=\"#000000\" font-family=\"Helvetica,sans-Serif\" font-size=\"14.00\" text-anchor=\"middle\" x=\"888.5\" y=\"-431.3\">samples = 3</text>\n<text fill=\"#000000\" font-family=\"Helvetica,sans-Serif\" font-size=\"14.00\" text-anchor=\"middle\" x=\"888.5\" y=\"-416.3\">value = [0.0, 0.0, 5.921]</text>\n</g>\n<!-- 41&#45;&gt;42 -->\n<g class=\"edge\" id=\"edge42\">\n<title>41-&gt;42</title>\n<path d=\"M898.5884,-504.9465C897.0474,-494.2621 895.3402,-482.4254 893.7751,-471.5742\" fill=\"none\" stroke=\"#000000\"/>\n<polygon fill=\"#000000\" points=\"897.22,-470.9401 892.3282,-461.5422 890.2917,-471.9394 897.22,-470.9401\" stroke=\"#000000\"/>\n</g>\n<!-- 43 -->\n<g class=\"node\" id=\"node44\">\n<title>43</title>\n<path d=\"M1145,-461.5C1145,-461.5 1002,-461.5 1002,-461.5 996,-461.5 990,-455.5 990,-449.5 990,-449.5 990,-420.5 990,-420.5 990,-414.5 996,-408.5 1002,-408.5 1002,-408.5 1145,-408.5 1145,-408.5 1151,-408.5 1157,-414.5 1157,-420.5 1157,-420.5 1157,-449.5 1157,-449.5 1157,-455.5 1151,-461.5 1145,-461.5\" fill=\"#e58139\" stroke=\"#000000\"/>\n<text fill=\"#000000\" font-family=\"Helvetica,sans-Serif\" font-size=\"14.00\" text-anchor=\"middle\" x=\"1073.5\" y=\"-446.3\">gini = 0.0</text>\n<text fill=\"#000000\" font-family=\"Helvetica,sans-Serif\" font-size=\"14.00\" text-anchor=\"middle\" x=\"1073.5\" y=\"-431.3\">samples = 1</text>\n<text fill=\"#000000\" font-family=\"Helvetica,sans-Serif\" font-size=\"14.00\" text-anchor=\"middle\" x=\"1073.5\" y=\"-416.3\">value = [0.413, 0.0, 0.0]</text>\n</g>\n<!-- 41&#45;&gt;43 -->\n<g class=\"edge\" id=\"edge43\">\n<title>41-&gt;43</title>\n<path d=\"M959.1644,-504.9465C979.2401,-492.6649 1001.8043,-478.8609 1021.5501,-466.7811\" fill=\"none\" stroke=\"#000000\"/>\n<polygon fill=\"#000000\" points=\"1023.4099,-469.7464 1030.1138,-461.5422 1019.7569,-463.7751 1023.4099,-469.7464\" stroke=\"#000000\"/>\n</g>\n<!-- 46 -->\n<g class=\"node\" id=\"node47\">\n<title>46</title>\n<path d=\"M1383.5,-677C1383.5,-677 1223.5,-677 1223.5,-677 1217.5,-677 1211.5,-671 1211.5,-665 1211.5,-665 1211.5,-621 1211.5,-621 1211.5,-615 1217.5,-609 1223.5,-609 1223.5,-609 1383.5,-609 1383.5,-609 1389.5,-609 1395.5,-615 1395.5,-621 1395.5,-621 1395.5,-665 1395.5,-665 1395.5,-671 1389.5,-677 1383.5,-677\" fill=\"#8e4ee8\" stroke=\"#000000\"/>\n<text fill=\"#000000\" font-family=\"Helvetica,sans-Serif\" font-size=\"14.00\" text-anchor=\"middle\" x=\"1303.5\" y=\"-661.8\">Age &lt;= 51.0</text>\n<text fill=\"#000000\" font-family=\"Helvetica,sans-Serif\" font-size=\"14.00\" text-anchor=\"middle\" x=\"1303.5\" y=\"-646.8\">gini = 0.172</text>\n<text fill=\"#000000\" font-family=\"Helvetica,sans-Serif\" font-size=\"14.00\" text-anchor=\"middle\" x=\"1303.5\" y=\"-631.8\">samples = 6</text>\n<text fill=\"#000000\" font-family=\"Helvetica,sans-Serif\" font-size=\"14.00\" text-anchor=\"middle\" x=\"1303.5\" y=\"-616.8\">value = [0.826, 0.0, 7.894]</text>\n</g>\n<!-- 45&#45;&gt;46 -->\n<g class=\"edge\" id=\"edge46\">\n<title>45-&gt;46</title>\n<path d=\"M1308.8805,-712.9465C1308.252,-704.776 1307.5717,-695.9318 1306.9131,-687.3697\" fill=\"none\" stroke=\"#000000\"/>\n<polygon fill=\"#000000\" points=\"1310.3821,-686.8321 1306.1254,-677.13 1303.4027,-687.369 1310.3821,-686.8321\" stroke=\"#000000\"/>\n</g>\n<!-- 53 -->\n<g class=\"node\" id=\"node54\">\n<title>53</title>\n<path d=\"M1569,-669.5C1569,-669.5 1426,-669.5 1426,-669.5 1420,-669.5 1414,-663.5 1414,-657.5 1414,-657.5 1414,-628.5 1414,-628.5 1414,-622.5 1420,-616.5 1426,-616.5 1426,-616.5 1569,-616.5 1569,-616.5 1575,-616.5 1581,-622.5 1581,-628.5 1581,-628.5 1581,-657.5 1581,-657.5 1581,-663.5 1575,-669.5 1569,-669.5\" fill=\"#e58139\" stroke=\"#000000\"/>\n<text fill=\"#000000\" font-family=\"Helvetica,sans-Serif\" font-size=\"14.00\" text-anchor=\"middle\" x=\"1497.5\" y=\"-654.3\">gini = 0.0</text>\n<text fill=\"#000000\" font-family=\"Helvetica,sans-Serif\" font-size=\"14.00\" text-anchor=\"middle\" x=\"1497.5\" y=\"-639.3\">samples = 1</text>\n<text fill=\"#000000\" font-family=\"Helvetica,sans-Serif\" font-size=\"14.00\" text-anchor=\"middle\" x=\"1497.5\" y=\"-624.3\">value = [0.413, 0.0, 0.0]</text>\n</g>\n<!-- 45&#45;&gt;53 -->\n<g class=\"edge\" id=\"edge53\">\n<title>45-&gt;53</title>\n<path d=\"M1372.4034,-712.9465C1394.5656,-700.5547 1419.4995,-686.6132 1441.2412,-674.4565\" fill=\"none\" stroke=\"#000000\"/>\n<polygon fill=\"#000000\" points=\"1443.0102,-677.4774 1450.0304,-669.5422 1439.594,-671.3676 1443.0102,-677.4774\" stroke=\"#000000\"/>\n</g>\n<!-- 47 -->\n<g class=\"node\" id=\"node48\">\n<title>47</title>\n<path d=\"M1370.5,-573C1370.5,-573 1210.5,-573 1210.5,-573 1204.5,-573 1198.5,-567 1198.5,-561 1198.5,-561 1198.5,-517 1198.5,-517 1198.5,-511 1204.5,-505 1210.5,-505 1210.5,-505 1370.5,-505 1370.5,-505 1376.5,-505 1382.5,-511 1382.5,-517 1382.5,-517 1382.5,-561 1382.5,-561 1382.5,-567 1376.5,-573 1370.5,-573\" fill=\"#8843e6\" stroke=\"#000000\"/>\n<text fill=\"#000000\" font-family=\"Helvetica,sans-Serif\" font-size=\"14.00\" text-anchor=\"middle\" x=\"1290.5\" y=\"-557.8\">HasSocialAnxiety &lt;= 0.5</text>\n<text fill=\"#000000\" font-family=\"Helvetica,sans-Serif\" font-size=\"14.00\" text-anchor=\"middle\" x=\"1290.5\" y=\"-542.8\">gini = 0.095</text>\n<text fill=\"#000000\" font-family=\"Helvetica,sans-Serif\" font-size=\"14.00\" text-anchor=\"middle\" x=\"1290.5\" y=\"-527.8\">samples = 5</text>\n<text fill=\"#000000\" font-family=\"Helvetica,sans-Serif\" font-size=\"14.00\" text-anchor=\"middle\" x=\"1290.5\" y=\"-512.8\">value = [0.413, 0.0, 7.894]</text>\n</g>\n<!-- 46&#45;&gt;47 -->\n<g class=\"edge\" id=\"edge47\">\n<title>46-&gt;47</title>\n<path d=\"M1299.2433,-608.9465C1298.2108,-600.6863 1297.0922,-591.7374 1296.0109,-583.0875\" fill=\"none\" stroke=\"#000000\"/>\n<polygon fill=\"#000000\" points=\"1299.4797,-582.6186 1294.7662,-573.13 1292.5337,-583.4869 1299.4797,-582.6186\" stroke=\"#000000\"/>\n</g>\n<!-- 52 -->\n<g class=\"node\" id=\"node53\">\n<title>52</title>\n<path d=\"M1556,-565.5C1556,-565.5 1413,-565.5 1413,-565.5 1407,-565.5 1401,-559.5 1401,-553.5 1401,-553.5 1401,-524.5 1401,-524.5 1401,-518.5 1407,-512.5 1413,-512.5 1413,-512.5 1556,-512.5 1556,-512.5 1562,-512.5 1568,-518.5 1568,-524.5 1568,-524.5 1568,-553.5 1568,-553.5 1568,-559.5 1562,-565.5 1556,-565.5\" fill=\"#e58139\" stroke=\"#000000\"/>\n<text fill=\"#000000\" font-family=\"Helvetica,sans-Serif\" font-size=\"14.00\" text-anchor=\"middle\" x=\"1484.5\" y=\"-550.3\">gini = 0.0</text>\n<text fill=\"#000000\" font-family=\"Helvetica,sans-Serif\" font-size=\"14.00\" text-anchor=\"middle\" x=\"1484.5\" y=\"-535.3\">samples = 1</text>\n<text fill=\"#000000\" font-family=\"Helvetica,sans-Serif\" font-size=\"14.00\" text-anchor=\"middle\" x=\"1484.5\" y=\"-520.3\">value = [0.413, 0.0, 0.0]</text>\n</g>\n<!-- 46&#45;&gt;52 -->\n<g class=\"edge\" id=\"edge52\">\n<title>46-&gt;52</title>\n<path d=\"M1362.7662,-608.9465C1384.2368,-596.6098 1408.3807,-582.7371 1429.4713,-570.6187\" fill=\"none\" stroke=\"#000000\"/>\n<polygon fill=\"#000000\" points=\"1431.3795,-573.5589 1438.3064,-565.5422 1427.8921,-567.4895 1431.3795,-573.5589\" stroke=\"#000000\"/>\n</g>\n<!-- 48 -->\n<g class=\"node\" id=\"node49\">\n<title>48</title>\n<path d=\"M1347.5,-469C1347.5,-469 1187.5,-469 1187.5,-469 1181.5,-469 1175.5,-463 1175.5,-457 1175.5,-457 1175.5,-413 1175.5,-413 1175.5,-407 1181.5,-401 1187.5,-401 1187.5,-401 1347.5,-401 1347.5,-401 1353.5,-401 1359.5,-407 1359.5,-413 1359.5,-413 1359.5,-457 1359.5,-457 1359.5,-463 1353.5,-469 1347.5,-469\" fill=\"#9b62ea\" stroke=\"#000000\"/>\n<text fill=\"#000000\" font-family=\"Helvetica,sans-Serif\" font-size=\"14.00\" text-anchor=\"middle\" x=\"1267.5\" y=\"-453.8\">Age &lt;= 30.5</text>\n<text fill=\"#000000\" font-family=\"Helvetica,sans-Serif\" font-size=\"14.00\" text-anchor=\"middle\" x=\"1267.5\" y=\"-438.8\">gini = 0.286</text>\n<text fill=\"#000000\" font-family=\"Helvetica,sans-Serif\" font-size=\"14.00\" text-anchor=\"middle\" x=\"1267.5\" y=\"-423.8\">samples = 2</text>\n<text fill=\"#000000\" font-family=\"Helvetica,sans-Serif\" font-size=\"14.00\" text-anchor=\"middle\" x=\"1267.5\" y=\"-408.8\">value = [0.413, 0.0, 1.974]</text>\n</g>\n<!-- 47&#45;&gt;48 -->\n<g class=\"edge\" id=\"edge48\">\n<title>47-&gt;48</title>\n<path d=\"M1282.9689,-504.9465C1281.1422,-496.6863 1279.1631,-487.7374 1277.2501,-479.0875\" fill=\"none\" stroke=\"#000000\"/>\n<polygon fill=\"#000000\" points=\"1280.6248,-478.1383 1275.048,-469.13 1273.79,-479.6499 1280.6248,-478.1383\" stroke=\"#000000\"/>\n</g>\n<!-- 51 -->\n<g class=\"node\" id=\"node52\">\n<title>51</title>\n<path d=\"M1533,-461.5C1533,-461.5 1390,-461.5 1390,-461.5 1384,-461.5 1378,-455.5 1378,-449.5 1378,-449.5 1378,-420.5 1378,-420.5 1378,-414.5 1384,-408.5 1390,-408.5 1390,-408.5 1533,-408.5 1533,-408.5 1539,-408.5 1545,-414.5 1545,-420.5 1545,-420.5 1545,-449.5 1545,-449.5 1545,-455.5 1539,-461.5 1533,-461.5\" fill=\"#8139e5\" stroke=\"#000000\"/>\n<text fill=\"#000000\" font-family=\"Helvetica,sans-Serif\" font-size=\"14.00\" text-anchor=\"middle\" x=\"1461.5\" y=\"-446.3\">gini = -0.0</text>\n<text fill=\"#000000\" font-family=\"Helvetica,sans-Serif\" font-size=\"14.00\" text-anchor=\"middle\" x=\"1461.5\" y=\"-431.3\">samples = 3</text>\n<text fill=\"#000000\" font-family=\"Helvetica,sans-Serif\" font-size=\"14.00\" text-anchor=\"middle\" x=\"1461.5\" y=\"-416.3\">value = [0.0, 0.0, 5.921]</text>\n</g>\n<!-- 47&#45;&gt;51 -->\n<g class=\"edge\" id=\"edge51\">\n<title>47-&gt;51</title>\n<path d=\"M1346.4918,-504.9465C1366.6856,-492.6649 1389.3826,-478.8609 1409.2445,-466.7811\" fill=\"none\" stroke=\"#000000\"/>\n<polygon fill=\"#000000\" points=\"1411.1333,-469.7289 1417.8586,-461.5422 1407.4959,-463.7481 1411.1333,-469.7289\" stroke=\"#000000\"/>\n</g>\n<!-- 49 -->\n<g class=\"node\" id=\"node50\">\n<title>49</title>\n<path d=\"M1249,-357.5C1249,-357.5 1106,-357.5 1106,-357.5 1100,-357.5 1094,-351.5 1094,-345.5 1094,-345.5 1094,-316.5 1094,-316.5 1094,-310.5 1100,-304.5 1106,-304.5 1106,-304.5 1249,-304.5 1249,-304.5 1255,-304.5 1261,-310.5 1261,-316.5 1261,-316.5 1261,-345.5 1261,-345.5 1261,-351.5 1255,-357.5 1249,-357.5\" fill=\"#8139e5\" stroke=\"#000000\"/>\n<text fill=\"#000000\" font-family=\"Helvetica,sans-Serif\" font-size=\"14.00\" text-anchor=\"middle\" x=\"1177.5\" y=\"-342.3\">gini = 0.0</text>\n<text fill=\"#000000\" font-family=\"Helvetica,sans-Serif\" font-size=\"14.00\" text-anchor=\"middle\" x=\"1177.5\" y=\"-327.3\">samples = 1</text>\n<text fill=\"#000000\" font-family=\"Helvetica,sans-Serif\" font-size=\"14.00\" text-anchor=\"middle\" x=\"1177.5\" y=\"-312.3\">value = [0.0, 0.0, 1.974]</text>\n</g>\n<!-- 48&#45;&gt;49 -->\n<g class=\"edge\" id=\"edge49\">\n<title>48-&gt;49</title>\n<path d=\"M1238.0306,-400.9465C1228.1172,-389.491 1217.0576,-376.711 1207.1318,-365.2412\" fill=\"none\" stroke=\"#000000\"/>\n<polygon fill=\"#000000\" points=\"1209.6596,-362.8135 1200.4692,-357.5422 1204.3664,-367.3942 1209.6596,-362.8135\" stroke=\"#000000\"/>\n</g>\n<!-- 50 -->\n<g class=\"node\" id=\"node51\">\n<title>50</title>\n<path d=\"M1434,-357.5C1434,-357.5 1291,-357.5 1291,-357.5 1285,-357.5 1279,-351.5 1279,-345.5 1279,-345.5 1279,-316.5 1279,-316.5 1279,-310.5 1285,-304.5 1291,-304.5 1291,-304.5 1434,-304.5 1434,-304.5 1440,-304.5 1446,-310.5 1446,-316.5 1446,-316.5 1446,-345.5 1446,-345.5 1446,-351.5 1440,-357.5 1434,-357.5\" fill=\"#e58139\" stroke=\"#000000\"/>\n<text fill=\"#000000\" font-family=\"Helvetica,sans-Serif\" font-size=\"14.00\" text-anchor=\"middle\" x=\"1362.5\" y=\"-342.3\">gini = -0.0</text>\n<text fill=\"#000000\" font-family=\"Helvetica,sans-Serif\" font-size=\"14.00\" text-anchor=\"middle\" x=\"1362.5\" y=\"-327.3\">samples = 1</text>\n<text fill=\"#000000\" font-family=\"Helvetica,sans-Serif\" font-size=\"14.00\" text-anchor=\"middle\" x=\"1362.5\" y=\"-312.3\">value = [0.413, 0.0, 0.0]</text>\n</g>\n<!-- 48&#45;&gt;50 -->\n<g class=\"edge\" id=\"edge50\">\n<title>48-&gt;50</title>\n<path d=\"M1298.6066,-400.9465C1309.0707,-389.491 1320.7447,-376.711 1331.222,-365.2412\" fill=\"none\" stroke=\"#000000\"/>\n<polygon fill=\"#000000\" points=\"1334.0945,-367.2861 1338.2548,-357.5422 1328.9262,-362.565 1334.0945,-367.2861\" stroke=\"#000000\"/>\n</g>\n<!-- 57 -->\n<g class=\"node\" id=\"node58\">\n<title>57</title>\n<path d=\"M1603,-981.5C1603,-981.5 1460,-981.5 1460,-981.5 1454,-981.5 1448,-975.5 1448,-969.5 1448,-969.5 1448,-940.5 1448,-940.5 1448,-934.5 1454,-928.5 1460,-928.5 1460,-928.5 1603,-928.5 1603,-928.5 1609,-928.5 1615,-934.5 1615,-940.5 1615,-940.5 1615,-969.5 1615,-969.5 1615,-975.5 1609,-981.5 1603,-981.5\" fill=\"#e58139\" stroke=\"#000000\"/>\n<text fill=\"#000000\" font-family=\"Helvetica,sans-Serif\" font-size=\"14.00\" text-anchor=\"middle\" x=\"1531.5\" y=\"-966.3\">gini = 0.0</text>\n<text fill=\"#000000\" font-family=\"Helvetica,sans-Serif\" font-size=\"14.00\" text-anchor=\"middle\" x=\"1531.5\" y=\"-951.3\">samples = 14</text>\n<text fill=\"#000000\" font-family=\"Helvetica,sans-Serif\" font-size=\"14.00\" text-anchor=\"middle\" x=\"1531.5\" y=\"-936.3\">value = [5.783, 0.0, 0.0]</text>\n</g>\n<!-- 56&#45;&gt;57 -->\n<g class=\"edge\" id=\"edge57\">\n<title>56-&gt;57</title>\n<path d=\"M1538.2256,-1024.9465C1537.1983,-1014.2621 1536.0601,-1002.4254 1535.0168,-991.5742\" fill=\"none\" stroke=\"#000000\"/>\n<polygon fill=\"#000000\" points=\"1538.4933,-991.1612 1534.0521,-981.5422 1531.5254,-991.8313 1538.4933,-991.1612\" stroke=\"#000000\"/>\n</g>\n<!-- 58 -->\n<g class=\"node\" id=\"node59\">\n<title>58</title>\n<path d=\"M1814.5,-989C1814.5,-989 1644.5,-989 1644.5,-989 1638.5,-989 1632.5,-983 1632.5,-977 1632.5,-977 1632.5,-933 1632.5,-933 1632.5,-927 1638.5,-921 1644.5,-921 1644.5,-921 1814.5,-921 1814.5,-921 1820.5,-921 1826.5,-927 1826.5,-933 1826.5,-933 1826.5,-977 1826.5,-977 1826.5,-983 1820.5,-989 1814.5,-989\" fill=\"#9b62ea\" stroke=\"#000000\"/>\n<text fill=\"#000000\" font-family=\"Helvetica,sans-Serif\" font-size=\"14.00\" text-anchor=\"middle\" x=\"1729.5\" y=\"-973.8\">CollegeOrEquivalent &lt;= 0.5</text>\n<text fill=\"#000000\" font-family=\"Helvetica,sans-Serif\" font-size=\"14.00\" text-anchor=\"middle\" x=\"1729.5\" y=\"-958.8\">gini = 0.286</text>\n<text fill=\"#000000\" font-family=\"Helvetica,sans-Serif\" font-size=\"14.00\" text-anchor=\"middle\" x=\"1729.5\" y=\"-943.8\">samples = 2</text>\n<text fill=\"#000000\" font-family=\"Helvetica,sans-Serif\" font-size=\"14.00\" text-anchor=\"middle\" x=\"1729.5\" y=\"-928.8\">value = [0.413, 0.0, 1.974]</text>\n</g>\n<!-- 56&#45;&gt;58 -->\n<g class=\"edge\" id=\"edge58\">\n<title>56-&gt;58</title>\n<path d=\"M1603.0582,-1024.9465C1620.9117,-1015.0701 1640.5448,-1004.2093 1658.9056,-994.0522\" fill=\"none\" stroke=\"#000000\"/>\n<polygon fill=\"#000000\" points=\"1660.7473,-997.0333 1667.8035,-989.13 1657.3589,-990.908 1660.7473,-997.0333\" stroke=\"#000000\"/>\n</g>\n<!-- 59 -->\n<g class=\"node\" id=\"node60\">\n<title>59</title>\n<path d=\"M1619,-877.5C1619,-877.5 1476,-877.5 1476,-877.5 1470,-877.5 1464,-871.5 1464,-865.5 1464,-865.5 1464,-836.5 1464,-836.5 1464,-830.5 1470,-824.5 1476,-824.5 1476,-824.5 1619,-824.5 1619,-824.5 1625,-824.5 1631,-830.5 1631,-836.5 1631,-836.5 1631,-865.5 1631,-865.5 1631,-871.5 1625,-877.5 1619,-877.5\" fill=\"#8139e5\" stroke=\"#000000\"/>\n<text fill=\"#000000\" font-family=\"Helvetica,sans-Serif\" font-size=\"14.00\" text-anchor=\"middle\" x=\"1547.5\" y=\"-862.3\">gini = 0.0</text>\n<text fill=\"#000000\" font-family=\"Helvetica,sans-Serif\" font-size=\"14.00\" text-anchor=\"middle\" x=\"1547.5\" y=\"-847.3\">samples = 1</text>\n<text fill=\"#000000\" font-family=\"Helvetica,sans-Serif\" font-size=\"14.00\" text-anchor=\"middle\" x=\"1547.5\" y=\"-832.3\">value = [0.0, 0.0, 1.974]</text>\n</g>\n<!-- 58&#45;&gt;59 -->\n<g class=\"edge\" id=\"edge59\">\n<title>58-&gt;59</title>\n<path d=\"M1669.9064,-920.9465C1648.3172,-908.6098 1624.0399,-894.7371 1602.8328,-882.6187\" fill=\"none\" stroke=\"#000000\"/>\n<polygon fill=\"#000000\" points=\"1604.3677,-879.4647 1593.9488,-877.5422 1600.8947,-885.5425 1604.3677,-879.4647\" stroke=\"#000000\"/>\n</g>\n<!-- 60 -->\n<g class=\"node\" id=\"node61\">\n<title>60</title>\n<path d=\"M1804,-877.5C1804,-877.5 1661,-877.5 1661,-877.5 1655,-877.5 1649,-871.5 1649,-865.5 1649,-865.5 1649,-836.5 1649,-836.5 1649,-830.5 1655,-824.5 1661,-824.5 1661,-824.5 1804,-824.5 1804,-824.5 1810,-824.5 1816,-830.5 1816,-836.5 1816,-836.5 1816,-865.5 1816,-865.5 1816,-871.5 1810,-877.5 1804,-877.5\" fill=\"#e58139\" stroke=\"#000000\"/>\n<text fill=\"#000000\" font-family=\"Helvetica,sans-Serif\" font-size=\"14.00\" text-anchor=\"middle\" x=\"1732.5\" y=\"-862.3\">gini = -0.0</text>\n<text fill=\"#000000\" font-family=\"Helvetica,sans-Serif\" font-size=\"14.00\" text-anchor=\"middle\" x=\"1732.5\" y=\"-847.3\">samples = 1</text>\n<text fill=\"#000000\" font-family=\"Helvetica,sans-Serif\" font-size=\"14.00\" text-anchor=\"middle\" x=\"1732.5\" y=\"-832.3\">value = [0.413, 0.0, 0.0]</text>\n</g>\n<!-- 58&#45;&gt;60 -->\n<g class=\"edge\" id=\"edge60\">\n<title>58-&gt;60</title>\n<path d=\"M1730.4823,-920.9465C1730.7905,-910.2621 1731.132,-898.4254 1731.445,-887.5742\" fill=\"none\" stroke=\"#000000\"/>\n<polygon fill=\"#000000\" points=\"1734.9445,-887.639 1731.7344,-877.5422 1727.9474,-887.4371 1734.9445,-887.639\" stroke=\"#000000\"/>\n</g>\n<!-- 63 -->\n<g class=\"node\" id=\"node64\">\n<title>63</title>\n<path d=\"M2788,-1301C2788,-1301 2595,-1301 2595,-1301 2589,-1301 2583,-1295 2583,-1289 2583,-1289 2583,-1245 2583,-1245 2583,-1239 2589,-1233 2595,-1233 2595,-1233 2788,-1233 2788,-1233 2794,-1233 2800,-1239 2800,-1245 2800,-1245 2800,-1289 2800,-1289 2800,-1295 2794,-1301 2788,-1301\" fill=\"#95f1bc\" stroke=\"#000000\"/>\n<text fill=\"#000000\" font-family=\"Helvetica,sans-Serif\" font-size=\"14.00\" text-anchor=\"middle\" x=\"2691.5\" y=\"-1285.8\">$1 to $10,000 &lt;= 0.5</text>\n<text fill=\"#000000\" font-family=\"Helvetica,sans-Serif\" font-size=\"14.00\" text-anchor=\"middle\" x=\"2691.5\" y=\"-1270.8\">gini = 0.497</text>\n<text fill=\"#000000\" font-family=\"Helvetica,sans-Serif\" font-size=\"14.00\" text-anchor=\"middle\" x=\"2691.5\" y=\"-1255.8\">samples = 33</text>\n<text fill=\"#000000\" font-family=\"Helvetica,sans-Serif\" font-size=\"14.00\" text-anchor=\"middle\" x=\"2691.5\" y=\"-1240.8\">value = [7.435, 55.259, 21.709]</text>\n</g>\n<!-- 62&#45;&gt;63 -->\n<g class=\"edge\" id=\"edge63\">\n<title>62-&gt;63</title>\n<path d=\"M2691.5,-1336.9465C2691.5,-1328.776 2691.5,-1319.9318 2691.5,-1311.3697\" fill=\"none\" stroke=\"#000000\"/>\n<polygon fill=\"#000000\" points=\"2695.0001,-1311.13 2691.5,-1301.13 2688.0001,-1311.13 2695.0001,-1311.13\" stroke=\"#000000\"/>\n</g>\n<!-- 96 -->\n<g class=\"node\" id=\"node97\">\n<title>96</title>\n<path d=\"M3381,-1301C3381,-1301 3180,-1301 3180,-1301 3174,-1301 3168,-1295 3168,-1289 3168,-1289 3168,-1245 3168,-1245 3168,-1239 3174,-1233 3180,-1233 3180,-1233 3381,-1233 3381,-1233 3387,-1233 3393,-1239 3393,-1245 3393,-1245 3393,-1289 3393,-1289 3393,-1295 3387,-1301 3381,-1301\" fill=\"#fbede3\" stroke=\"#000000\"/>\n<text fill=\"#000000\" font-family=\"Helvetica,sans-Serif\" font-size=\"14.00\" text-anchor=\"middle\" x=\"3280.5\" y=\"-1285.8\">Age &lt;= 22.5</text>\n<text fill=\"#000000\" font-family=\"Helvetica,sans-Serif\" font-size=\"14.00\" text-anchor=\"middle\" x=\"3280.5\" y=\"-1270.8\">gini = 0.658</text>\n<text fill=\"#000000\" font-family=\"Helvetica,sans-Serif\" font-size=\"14.00\" text-anchor=\"middle\" x=\"3280.5\" y=\"-1255.8\">samples = 256</text>\n<text fill=\"#000000\" font-family=\"Helvetica,sans-Serif\" font-size=\"14.00\" text-anchor=\"middle\" x=\"3280.5\" y=\"-1240.8\">value = [90.462, 69.074, 63.153]</text>\n</g>\n<!-- 62&#45;&gt;96 -->\n<g class=\"edge\" id=\"edge96\">\n<title>62-&gt;96</title>\n<path d=\"M2808.2194,-1350.3908C2909.1596,-1332.5678 3054.6281,-1306.8823 3157.392,-1288.7372\" fill=\"none\" stroke=\"#000000\"/>\n<polygon fill=\"#000000\" points=\"3158.2737,-1292.1358 3167.5128,-1286.9502 3157.0565,-1285.2424 3158.2737,-1292.1358\" stroke=\"#000000\"/>\n</g>\n<!-- 64 -->\n<g class=\"node\" id=\"node65\">\n<title>64</title>\n<path d=\"M2670,-1197C2670,-1197 2477,-1197 2477,-1197 2471,-1197 2465,-1191 2465,-1185 2465,-1185 2465,-1141 2465,-1141 2465,-1135 2471,-1129 2477,-1129 2477,-1129 2670,-1129 2670,-1129 2676,-1129 2682,-1135 2682,-1141 2682,-1141 2682,-1185 2682,-1185 2682,-1191 2676,-1197 2670,-1197\" fill=\"#80eeae\" stroke=\"#000000\"/>\n<text fill=\"#000000\" font-family=\"Helvetica,sans-Serif\" font-size=\"14.00\" text-anchor=\"middle\" x=\"2573.5\" y=\"-1181.8\">MastersAndBeyond &lt;= 0.5</text>\n<text fill=\"#000000\" font-family=\"Helvetica,sans-Serif\" font-size=\"14.00\" text-anchor=\"middle\" x=\"2573.5\" y=\"-1166.8\">gini = 0.44</text>\n<text fill=\"#000000\" font-family=\"Helvetica,sans-Serif\" font-size=\"14.00\" text-anchor=\"middle\" x=\"2573.5\" y=\"-1151.8\">samples = 27</text>\n<text fill=\"#000000\" font-family=\"Helvetica,sans-Serif\" font-size=\"14.00\" text-anchor=\"middle\" x=\"2573.5\" y=\"-1136.8\">value = [6.196, 55.259, 15.788]</text>\n</g>\n<!-- 63&#45;&gt;64 -->\n<g class=\"edge\" id=\"edge64\">\n<title>63-&gt;64</title>\n<path d=\"M2652.8624,-1232.9465C2642.3696,-1223.6986 2630.8974,-1213.5876 2620.0186,-1203.9994\" fill=\"none\" stroke=\"#000000\"/>\n<polygon fill=\"#000000\" points=\"2622.0407,-1201.1163 2612.2244,-1197.13 2617.4123,-1206.3678 2622.0407,-1201.1163\" stroke=\"#000000\"/>\n</g>\n<!-- 93 -->\n<g class=\"node\" id=\"node94\">\n<title>93</title>\n<path d=\"M2907,-1197C2907,-1197 2712,-1197 2712,-1197 2706,-1197 2700,-1191 2700,-1185 2700,-1185 2700,-1141 2700,-1141 2700,-1135 2706,-1129 2712,-1129 2712,-1129 2907,-1129 2907,-1129 2913,-1129 2919,-1135 2919,-1141 2919,-1141 2919,-1185 2919,-1185 2919,-1191 2913,-1197 2907,-1197\" fill=\"#9b62ea\" stroke=\"#000000\"/>\n<text fill=\"#000000\" font-family=\"Helvetica,sans-Serif\" font-size=\"14.00\" text-anchor=\"middle\" x=\"2809.5\" y=\"-1181.8\">ProstitutionLegalAtPlace &lt;= 0.5</text>\n<text fill=\"#000000\" font-family=\"Helvetica,sans-Serif\" font-size=\"14.00\" text-anchor=\"middle\" x=\"2809.5\" y=\"-1166.8\">gini = 0.286</text>\n<text fill=\"#000000\" font-family=\"Helvetica,sans-Serif\" font-size=\"14.00\" text-anchor=\"middle\" x=\"2809.5\" y=\"-1151.8\">samples = 6</text>\n<text fill=\"#000000\" font-family=\"Helvetica,sans-Serif\" font-size=\"14.00\" text-anchor=\"middle\" x=\"2809.5\" y=\"-1136.8\">value = [1.239, 0.0, 5.921]</text>\n</g>\n<!-- 63&#45;&gt;93 -->\n<g class=\"edge\" id=\"edge93\">\n<title>63-&gt;93</title>\n<path d=\"M2730.1376,-1232.9465C2740.6304,-1223.6986 2752.1026,-1213.5876 2762.9814,-1203.9994\" fill=\"none\" stroke=\"#000000\"/>\n<polygon fill=\"#000000\" points=\"2765.5877,-1206.3678 2770.7756,-1197.13 2760.9593,-1201.1163 2765.5877,-1206.3678\" stroke=\"#000000\"/>\n</g>\n<!-- 65 -->\n<g class=\"node\" id=\"node66\">\n<title>65</title>\n<path d=\"M2473,-1093C2473,-1093 2280,-1093 2280,-1093 2274,-1093 2268,-1087 2268,-1081 2268,-1081 2268,-1037 2268,-1037 2268,-1031 2274,-1025 2280,-1025 2280,-1025 2473,-1025 2473,-1025 2479,-1025 2485,-1031 2485,-1037 2485,-1037 2485,-1081 2485,-1081 2485,-1087 2479,-1093 2473,-1093\" fill=\"#73eda6\" stroke=\"#000000\"/>\n<text fill=\"#000000\" font-family=\"Helvetica,sans-Serif\" font-size=\"14.00\" text-anchor=\"middle\" x=\"2376.5\" y=\"-1077.8\">Age &lt;= 26.5</text>\n<text fill=\"#000000\" font-family=\"Helvetica,sans-Serif\" font-size=\"14.00\" text-anchor=\"middle\" x=\"2376.5\" y=\"-1062.8\">gini = 0.398</text>\n<text fill=\"#000000\" font-family=\"Helvetica,sans-Serif\" font-size=\"14.00\" text-anchor=\"middle\" x=\"2376.5\" y=\"-1047.8\">samples = 25</text>\n<text fill=\"#000000\" font-family=\"Helvetica,sans-Serif\" font-size=\"14.00\" text-anchor=\"middle\" x=\"2376.5\" y=\"-1032.8\">value = [6.196, 55.259, 11.841]</text>\n</g>\n<!-- 64&#45;&gt;65 -->\n<g class=\"edge\" id=\"edge65\">\n<title>64-&gt;65</title>\n<path d=\"M2508.9948,-1128.9465C2490.2016,-1119.0252 2469.5266,-1108.1105 2450.2117,-1097.9138\" fill=\"none\" stroke=\"#000000\"/>\n<polygon fill=\"#000000\" points=\"2451.6274,-1094.7034 2441.1501,-1093.13 2448.3594,-1100.8938 2451.6274,-1094.7034\" stroke=\"#000000\"/>\n</g>\n<!-- 92 -->\n<g class=\"node\" id=\"node93\">\n<title>92</title>\n<path d=\"M2658,-1085.5C2658,-1085.5 2515,-1085.5 2515,-1085.5 2509,-1085.5 2503,-1079.5 2503,-1073.5 2503,-1073.5 2503,-1044.5 2503,-1044.5 2503,-1038.5 2509,-1032.5 2515,-1032.5 2515,-1032.5 2658,-1032.5 2658,-1032.5 2664,-1032.5 2670,-1038.5 2670,-1044.5 2670,-1044.5 2670,-1073.5 2670,-1073.5 2670,-1079.5 2664,-1085.5 2658,-1085.5\" fill=\"#8139e5\" stroke=\"#000000\"/>\n<text fill=\"#000000\" font-family=\"Helvetica,sans-Serif\" font-size=\"14.00\" text-anchor=\"middle\" x=\"2586.5\" y=\"-1070.3\">gini = 0.0</text>\n<text fill=\"#000000\" font-family=\"Helvetica,sans-Serif\" font-size=\"14.00\" text-anchor=\"middle\" x=\"2586.5\" y=\"-1055.3\">samples = 2</text>\n<text fill=\"#000000\" font-family=\"Helvetica,sans-Serif\" font-size=\"14.00\" text-anchor=\"middle\" x=\"2586.5\" y=\"-1040.3\">value = [0.0, 0.0, 3.947]</text>\n</g>\n<!-- 64&#45;&gt;92 -->\n<g class=\"edge\" id=\"edge92\">\n<title>64-&gt;92</title>\n<path d=\"M2577.7567,-1128.9465C2579.0922,-1118.2621 2580.5718,-1106.4254 2581.9282,-1095.5742\" fill=\"none\" stroke=\"#000000\"/>\n<polygon fill=\"#000000\" points=\"2585.4148,-1095.8991 2583.1822,-1085.5422 2578.4688,-1095.0308 2585.4148,-1095.8991\" stroke=\"#000000\"/>\n</g>\n<!-- 66 -->\n<g class=\"node\" id=\"node67\">\n<title>66</title>\n<path d=\"M2266,-989C2266,-989 2081,-989 2081,-989 2075,-989 2069,-983 2069,-977 2069,-977 2069,-933 2069,-933 2069,-927 2075,-921 2081,-921 2081,-921 2266,-921 2266,-921 2272,-921 2278,-927 2278,-933 2278,-933 2278,-977 2278,-977 2278,-983 2272,-989 2266,-989\" fill=\"#63eb9c\" stroke=\"#000000\"/>\n<text fill=\"#000000\" font-family=\"Helvetica,sans-Serif\" font-size=\"14.00\" text-anchor=\"middle\" x=\"2173.5\" y=\"-973.8\">$20,000 to $29,999 &lt;= 0.5</text>\n<text fill=\"#000000\" font-family=\"Helvetica,sans-Serif\" font-size=\"14.00\" text-anchor=\"middle\" x=\"2173.5\" y=\"-958.8\">gini = 0.323</text>\n<text fill=\"#000000\" font-family=\"Helvetica,sans-Serif\" font-size=\"14.00\" text-anchor=\"middle\" x=\"2173.5\" y=\"-943.8\">samples = 20</text>\n<text fill=\"#000000\" font-family=\"Helvetica,sans-Serif\" font-size=\"14.00\" text-anchor=\"middle\" x=\"2173.5\" y=\"-928.8\">value = [4.957, 55.259, 7.894]</text>\n</g>\n<!-- 65&#45;&gt;66 -->\n<g class=\"edge\" id=\"edge66\">\n<title>65-&gt;66</title>\n<path d=\"M2310.0302,-1024.9465C2290.577,-1014.9803 2269.1671,-1004.0117 2249.1866,-993.7754\" fill=\"none\" stroke=\"#000000\"/>\n<polygon fill=\"#000000\" points=\"2250.615,-990.5747 2240.1191,-989.13 2247.4233,-996.8047 2250.615,-990.5747\" stroke=\"#000000\"/>\n</g>\n<!-- 89 -->\n<g class=\"node\" id=\"node90\">\n<title>89</title>\n<path d=\"M2468.5,-989C2468.5,-989 2308.5,-989 2308.5,-989 2302.5,-989 2296.5,-983 2296.5,-977 2296.5,-977 2296.5,-933 2296.5,-933 2296.5,-927 2302.5,-921 2308.5,-921 2308.5,-921 2468.5,-921 2468.5,-921 2474.5,-921 2480.5,-927 2480.5,-933 2480.5,-933 2480.5,-977 2480.5,-977 2480.5,-983 2474.5,-989 2468.5,-989\" fill=\"#a977ed\" stroke=\"#000000\"/>\n<text fill=\"#000000\" font-family=\"Helvetica,sans-Serif\" font-size=\"14.00\" text-anchor=\"middle\" x=\"2388.5\" y=\"-973.8\">logNumFriends &lt;= 1.527</text>\n<text fill=\"#000000\" font-family=\"Helvetica,sans-Serif\" font-size=\"14.00\" text-anchor=\"middle\" x=\"2388.5\" y=\"-958.8\">gini = 0.364</text>\n<text fill=\"#000000\" font-family=\"Helvetica,sans-Serif\" font-size=\"14.00\" text-anchor=\"middle\" x=\"2388.5\" y=\"-943.8\">samples = 5</text>\n<text fill=\"#000000\" font-family=\"Helvetica,sans-Serif\" font-size=\"14.00\" text-anchor=\"middle\" x=\"2388.5\" y=\"-928.8\">value = [1.239, 0.0, 3.947]</text>\n</g>\n<!-- 65&#45;&gt;89 -->\n<g class=\"edge\" id=\"edge89\">\n<title>65-&gt;89</title>\n<path d=\"M2380.4292,-1024.9465C2381.3824,-1016.6863 2382.4149,-1007.7374 2383.413,-999.0875\" fill=\"none\" stroke=\"#000000\"/>\n<polygon fill=\"#000000\" points=\"2386.8925,-999.4653 2384.5619,-989.13 2379.9387,-998.6629 2386.8925,-999.4653\" stroke=\"#000000\"/>\n</g>\n<!-- 67 -->\n<g class=\"node\" id=\"node68\">\n<title>67</title>\n<path d=\"M2054,-885C2054,-885 1869,-885 1869,-885 1863,-885 1857,-879 1857,-873 1857,-873 1857,-829 1857,-829 1857,-823 1863,-817 1869,-817 1869,-817 2054,-817 2054,-817 2060,-817 2066,-823 2066,-829 2066,-829 2066,-873 2066,-873 2066,-879 2060,-885 2054,-885\" fill=\"#5be996\" stroke=\"#000000\"/>\n<text fill=\"#000000\" font-family=\"Helvetica,sans-Serif\" font-size=\"14.00\" text-anchor=\"middle\" x=\"1961.5\" y=\"-869.8\">Others &lt;= 0.5</text>\n<text fill=\"#000000\" font-family=\"Helvetica,sans-Serif\" font-size=\"14.00\" text-anchor=\"middle\" x=\"1961.5\" y=\"-854.8\">gini = 0.272</text>\n<text fill=\"#000000\" font-family=\"Helvetica,sans-Serif\" font-size=\"14.00\" text-anchor=\"middle\" x=\"1961.5\" y=\"-839.8\">samples = 17</text>\n<text fill=\"#000000\" font-family=\"Helvetica,sans-Serif\" font-size=\"14.00\" text-anchor=\"middle\" x=\"1961.5\" y=\"-824.8\">value = [4.131, 55.259, 5.921]</text>\n</g>\n<!-- 66&#45;&gt;67 -->\n<g class=\"edge\" id=\"edge67\">\n<title>66-&gt;67</title>\n<path d=\"M2104.0833,-920.9465C2083.6761,-910.9354 2061.207,-899.9129 2040.2603,-889.6371\" fill=\"none\" stroke=\"#000000\"/>\n<polygon fill=\"#000000\" points=\"2041.5921,-886.392 2031.0727,-885.13 2038.5091,-892.6766 2041.5921,-886.392\" stroke=\"#000000\"/>\n</g>\n<!-- 86 -->\n<g class=\"node\" id=\"node87\">\n<title>86</title>\n<path d=\"M2274.5,-885C2274.5,-885 2096.5,-885 2096.5,-885 2090.5,-885 2084.5,-879 2084.5,-873 2084.5,-873 2084.5,-829 2084.5,-829 2084.5,-823 2090.5,-817 2096.5,-817 2096.5,-817 2274.5,-817 2274.5,-817 2280.5,-817 2286.5,-823 2286.5,-829 2286.5,-829 2286.5,-873 2286.5,-873 2286.5,-879 2280.5,-885 2274.5,-885\" fill=\"#b68cf0\" stroke=\"#000000\"/>\n<text fill=\"#000000\" font-family=\"Helvetica,sans-Serif\" font-size=\"14.00\" text-anchor=\"middle\" x=\"2185.5\" y=\"-869.8\">No_WouldPayForSex &lt;= 0.5</text>\n<text fill=\"#000000\" font-family=\"Helvetica,sans-Serif\" font-size=\"14.00\" text-anchor=\"middle\" x=\"2185.5\" y=\"-854.8\">gini = 0.416</text>\n<text fill=\"#000000\" font-family=\"Helvetica,sans-Serif\" font-size=\"14.00\" text-anchor=\"middle\" x=\"2185.5\" y=\"-839.8\">samples = 3</text>\n<text fill=\"#000000\" font-family=\"Helvetica,sans-Serif\" font-size=\"14.00\" text-anchor=\"middle\" x=\"2185.5\" y=\"-824.8\">value = [0.826, 0.0, 1.974]</text>\n</g>\n<!-- 66&#45;&gt;86 -->\n<g class=\"edge\" id=\"edge86\">\n<title>66-&gt;86</title>\n<path d=\"M2177.4292,-920.9465C2178.3824,-912.6863 2179.4149,-903.7374 2180.413,-895.0875\" fill=\"none\" stroke=\"#000000\"/>\n<polygon fill=\"#000000\" points=\"2183.8925,-895.4653 2181.5619,-885.13 2176.9387,-894.6629 2183.8925,-895.4653\" stroke=\"#000000\"/>\n</g>\n<!-- 68 -->\n<g class=\"node\" id=\"node69\">\n<title>68</title>\n<path d=\"M1887,-781C1887,-781 1702,-781 1702,-781 1696,-781 1690,-775 1690,-769 1690,-769 1690,-725 1690,-725 1690,-719 1696,-713 1702,-713 1702,-713 1887,-713 1887,-713 1893,-713 1899,-719 1899,-725 1899,-725 1899,-769 1899,-769 1899,-775 1893,-781 1887,-781\" fill=\"#54e992\" stroke=\"#000000\"/>\n<text fill=\"#000000\" font-family=\"Helvetica,sans-Serif\" font-size=\"14.00\" text-anchor=\"middle\" x=\"1794.5\" y=\"-765.8\">Underweight &lt;= 0.5</text>\n<text fill=\"#000000\" font-family=\"Helvetica,sans-Serif\" font-size=\"14.00\" text-anchor=\"middle\" x=\"1794.5\" y=\"-750.8\">gini = 0.231</text>\n<text fill=\"#000000\" font-family=\"Helvetica,sans-Serif\" font-size=\"14.00\" text-anchor=\"middle\" x=\"1794.5\" y=\"-735.8\">samples = 16</text>\n<text fill=\"#000000\" font-family=\"Helvetica,sans-Serif\" font-size=\"14.00\" text-anchor=\"middle\" x=\"1794.5\" y=\"-720.8\">value = [4.131, 55.259, 3.947]</text>\n</g>\n<!-- 67&#45;&gt;68 -->\n<g class=\"edge\" id=\"edge68\">\n<title>67-&gt;68</title>\n<path d=\"M1906.818,-816.9465C1891.2471,-807.2497 1874.1524,-796.6039 1858.0996,-786.6069\" fill=\"none\" stroke=\"#000000\"/>\n<polygon fill=\"#000000\" points=\"1859.6437,-783.4453 1849.3049,-781.13 1855.9432,-789.3873 1859.6437,-783.4453\" stroke=\"#000000\"/>\n</g>\n<!-- 85 -->\n<g class=\"node\" id=\"node86\">\n<title>85</title>\n<path d=\"M2072,-773.5C2072,-773.5 1929,-773.5 1929,-773.5 1923,-773.5 1917,-767.5 1917,-761.5 1917,-761.5 1917,-732.5 1917,-732.5 1917,-726.5 1923,-720.5 1929,-720.5 1929,-720.5 2072,-720.5 2072,-720.5 2078,-720.5 2084,-726.5 2084,-732.5 2084,-732.5 2084,-761.5 2084,-761.5 2084,-767.5 2078,-773.5 2072,-773.5\" fill=\"#8139e5\" stroke=\"#000000\"/>\n<text fill=\"#000000\" font-family=\"Helvetica,sans-Serif\" font-size=\"14.00\" text-anchor=\"middle\" x=\"2000.5\" y=\"-758.3\">gini = 0.0</text>\n<text fill=\"#000000\" font-family=\"Helvetica,sans-Serif\" font-size=\"14.00\" text-anchor=\"middle\" x=\"2000.5\" y=\"-743.3\">samples = 1</text>\n<text fill=\"#000000\" font-family=\"Helvetica,sans-Serif\" font-size=\"14.00\" text-anchor=\"middle\" x=\"2000.5\" y=\"-728.3\">value = [0.0, 0.0, 1.974]</text>\n</g>\n<!-- 67&#45;&gt;85 -->\n<g class=\"edge\" id=\"edge85\">\n<title>67-&gt;85</title>\n<path d=\"M1974.2701,-816.9465C1978.318,-806.1519 1982.807,-794.1813 1986.9104,-783.2389\" fill=\"none\" stroke=\"#000000\"/>\n<polygon fill=\"#000000\" points=\"1990.3125,-784.1344 1990.5467,-773.5422 1983.7582,-781.6765 1990.3125,-784.1344\" stroke=\"#000000\"/>\n</g>\n<!-- 69 -->\n<g class=\"node\" id=\"node70\">\n<title>69</title>\n<path d=\"M1887,-677C1887,-677 1702,-677 1702,-677 1696,-677 1690,-671 1690,-665 1690,-665 1690,-621 1690,-621 1690,-615 1696,-609 1702,-609 1702,-609 1887,-609 1887,-609 1893,-609 1899,-615 1899,-621 1899,-621 1899,-665 1899,-665 1899,-671 1893,-677 1887,-677\" fill=\"#52e891\" stroke=\"#000000\"/>\n<text fill=\"#000000\" font-family=\"Helvetica,sans-Serif\" font-size=\"14.00\" text-anchor=\"middle\" x=\"1794.5\" y=\"-661.8\">logNumFriends &lt;= 0.937</text>\n<text fill=\"#000000\" font-family=\"Helvetica,sans-Serif\" font-size=\"14.00\" text-anchor=\"middle\" x=\"1794.5\" y=\"-646.8\">gini = 0.212</text>\n<text fill=\"#000000\" font-family=\"Helvetica,sans-Serif\" font-size=\"14.00\" text-anchor=\"middle\" x=\"1794.5\" y=\"-631.8\">samples = 14</text>\n<text fill=\"#000000\" font-family=\"Helvetica,sans-Serif\" font-size=\"14.00\" text-anchor=\"middle\" x=\"1794.5\" y=\"-616.8\">value = [3.305, 55.259, 3.947]</text>\n</g>\n<!-- 68&#45;&gt;69 -->\n<g class=\"edge\" id=\"edge69\">\n<title>68-&gt;69</title>\n<path d=\"M1794.5,-712.9465C1794.5,-704.776 1794.5,-695.9318 1794.5,-687.3697\" fill=\"none\" stroke=\"#000000\"/>\n<polygon fill=\"#000000\" points=\"1798.0001,-687.13 1794.5,-677.13 1791.0001,-687.13 1798.0001,-687.13\" stroke=\"#000000\"/>\n</g>\n<!-- 84 -->\n<g class=\"node\" id=\"node85\">\n<title>84</title>\n<path d=\"M2072,-669.5C2072,-669.5 1929,-669.5 1929,-669.5 1923,-669.5 1917,-663.5 1917,-657.5 1917,-657.5 1917,-628.5 1917,-628.5 1917,-622.5 1923,-616.5 1929,-616.5 1929,-616.5 2072,-616.5 2072,-616.5 2078,-616.5 2084,-622.5 2084,-628.5 2084,-628.5 2084,-657.5 2084,-657.5 2084,-663.5 2078,-669.5 2072,-669.5\" fill=\"#e58139\" stroke=\"#000000\"/>\n<text fill=\"#000000\" font-family=\"Helvetica,sans-Serif\" font-size=\"14.00\" text-anchor=\"middle\" x=\"2000.5\" y=\"-654.3\">gini = -0.0</text>\n<text fill=\"#000000\" font-family=\"Helvetica,sans-Serif\" font-size=\"14.00\" text-anchor=\"middle\" x=\"2000.5\" y=\"-639.3\">samples = 2</text>\n<text fill=\"#000000\" font-family=\"Helvetica,sans-Serif\" font-size=\"14.00\" text-anchor=\"middle\" x=\"2000.5\" y=\"-624.3\">value = [0.826, 0.0, 0.0]</text>\n</g>\n<!-- 68&#45;&gt;84 -->\n<g class=\"edge\" id=\"edge84\">\n<title>68-&gt;84</title>\n<path d=\"M1861.9521,-712.9465C1886.7155,-700.4446 1914.6036,-686.3652 1938.8331,-674.1328\" fill=\"none\" stroke=\"#000000\"/>\n<polygon fill=\"#000000\" points=\"1940.5766,-677.1734 1947.9261,-669.5422 1937.4218,-670.9246 1940.5766,-677.1734\" stroke=\"#000000\"/>\n</g>\n<!-- 70 -->\n<g class=\"node\" id=\"node71\">\n<title>70</title>\n<path d=\"M1887,-573C1887,-573 1702,-573 1702,-573 1696,-573 1690,-567 1690,-561 1690,-561 1690,-517 1690,-517 1690,-511 1696,-505 1702,-505 1702,-505 1887,-505 1887,-505 1893,-505 1899,-511 1899,-517 1899,-517 1899,-561 1899,-561 1899,-567 1893,-573 1887,-573\" fill=\"#44e688\" stroke=\"#000000\"/>\n<text fill=\"#000000\" font-family=\"Helvetica,sans-Serif\" font-size=\"14.00\" text-anchor=\"middle\" x=\"1794.5\" y=\"-557.8\">CollegeOrEquivalent &lt;= 0.5</text>\n<text fill=\"#000000\" font-family=\"Helvetica,sans-Serif\" font-size=\"14.00\" text-anchor=\"middle\" x=\"1794.5\" y=\"-542.8\">gini = 0.104</text>\n<text fill=\"#000000\" font-family=\"Helvetica,sans-Serif\" font-size=\"14.00\" text-anchor=\"middle\" x=\"1794.5\" y=\"-527.8\">samples = 5</text>\n<text fill=\"#000000\" font-family=\"Helvetica,sans-Serif\" font-size=\"14.00\" text-anchor=\"middle\" x=\"1794.5\" y=\"-512.8\">value = [0.413, 41.444, 1.974]</text>\n</g>\n<!-- 69&#45;&gt;70 -->\n<g class=\"edge\" id=\"edge70\">\n<title>69-&gt;70</title>\n<path d=\"M1794.5,-608.9465C1794.5,-600.776 1794.5,-591.9318 1794.5,-583.3697\" fill=\"none\" stroke=\"#000000\"/>\n<polygon fill=\"#000000\" points=\"1798.0001,-583.13 1794.5,-573.13 1791.0001,-583.13 1798.0001,-583.13\" stroke=\"#000000\"/>\n</g>\n<!-- 77 -->\n<g class=\"node\" id=\"node78\">\n<title>77</title>\n<path d=\"M2160,-573C2160,-573 1975,-573 1975,-573 1969,-573 1963,-567 1963,-561 1963,-561 1963,-517 1963,-517 1963,-511 1969,-505 1975,-505 1975,-505 2160,-505 2160,-505 2166,-505 2172,-511 2172,-517 2172,-517 2172,-561 2172,-561 2172,-567 2166,-573 2160,-573\" fill=\"#76eda8\" stroke=\"#000000\"/>\n<text fill=\"#000000\" font-family=\"Helvetica,sans-Serif\" font-size=\"14.00\" text-anchor=\"middle\" x=\"2067.5\" y=\"-557.8\">Age &lt;= 24.5</text>\n<text fill=\"#000000\" font-family=\"Helvetica,sans-Serif\" font-size=\"14.00\" text-anchor=\"middle\" x=\"2067.5\" y=\"-542.8\">gini = 0.418</text>\n<text fill=\"#000000\" font-family=\"Helvetica,sans-Serif\" font-size=\"14.00\" text-anchor=\"middle\" x=\"2067.5\" y=\"-527.8\">samples = 9</text>\n<text fill=\"#000000\" font-family=\"Helvetica,sans-Serif\" font-size=\"14.00\" text-anchor=\"middle\" x=\"2067.5\" y=\"-512.8\">value = [2.891, 13.815, 1.974]</text>\n</g>\n<!-- 69&#45;&gt;77 -->\n<g class=\"edge\" id=\"edge77\">\n<title>69-&gt;77</title>\n<path d=\"M1883.8904,-608.9465C1910.8765,-598.6661 1940.6627,-587.319 1968.2505,-576.8093\" fill=\"none\" stroke=\"#000000\"/>\n<polygon fill=\"#000000\" points=\"1969.8099,-579.9607 1977.9088,-573.13 1967.3179,-573.4193 1969.8099,-579.9607\" stroke=\"#000000\"/>\n</g>\n<!-- 71 -->\n<g class=\"node\" id=\"node72\">\n<title>71</title>\n<path d=\"M1760,-469C1760,-469 1575,-469 1575,-469 1569,-469 1563,-463 1563,-457 1563,-457 1563,-413 1563,-413 1563,-407 1569,-401 1575,-401 1575,-401 1760,-401 1760,-401 1766,-401 1772,-407 1772,-413 1772,-413 1772,-457 1772,-457 1772,-463 1766,-469 1760,-469\" fill=\"#5ae996\" stroke=\"#000000\"/>\n<text fill=\"#000000\" font-family=\"Helvetica,sans-Serif\" font-size=\"14.00\" text-anchor=\"middle\" x=\"1667.5\" y=\"-453.8\">Age &lt;= 15.5</text>\n<text fill=\"#000000\" font-family=\"Helvetica,sans-Serif\" font-size=\"14.00\" text-anchor=\"middle\" x=\"1667.5\" y=\"-438.8\">gini = 0.257</text>\n<text fill=\"#000000\" font-family=\"Helvetica,sans-Serif\" font-size=\"14.00\" text-anchor=\"middle\" x=\"1667.5\" y=\"-423.8\">samples = 3</text>\n<text fill=\"#000000\" font-family=\"Helvetica,sans-Serif\" font-size=\"14.00\" text-anchor=\"middle\" x=\"1667.5\" y=\"-408.8\">value = [0.413, 13.815, 1.974]</text>\n</g>\n<!-- 70&#45;&gt;71 -->\n<g class=\"edge\" id=\"edge71\">\n<title>70-&gt;71</title>\n<path d=\"M1752.9155,-504.9465C1741.5127,-495.6088 1729.0353,-485.3911 1717.2257,-475.7203\" fill=\"none\" stroke=\"#000000\"/>\n<polygon fill=\"#000000\" points=\"1719.1324,-472.7578 1709.178,-469.13 1714.6974,-478.1736 1719.1324,-472.7578\" stroke=\"#000000\"/>\n</g>\n<!-- 76 -->\n<g class=\"node\" id=\"node77\">\n<title>76</title>\n<path d=\"M1945,-461.5C1945,-461.5 1802,-461.5 1802,-461.5 1796,-461.5 1790,-455.5 1790,-449.5 1790,-449.5 1790,-420.5 1790,-420.5 1790,-414.5 1796,-408.5 1802,-408.5 1802,-408.5 1945,-408.5 1945,-408.5 1951,-408.5 1957,-414.5 1957,-420.5 1957,-420.5 1957,-449.5 1957,-449.5 1957,-455.5 1951,-461.5 1945,-461.5\" fill=\"#39e581\" stroke=\"#000000\"/>\n<text fill=\"#000000\" font-family=\"Helvetica,sans-Serif\" font-size=\"14.00\" text-anchor=\"middle\" x=\"1873.5\" y=\"-446.3\">gini = 0.0</text>\n<text fill=\"#000000\" font-family=\"Helvetica,sans-Serif\" font-size=\"14.00\" text-anchor=\"middle\" x=\"1873.5\" y=\"-431.3\">samples = 2</text>\n<text fill=\"#000000\" font-family=\"Helvetica,sans-Serif\" font-size=\"14.00\" text-anchor=\"middle\" x=\"1873.5\" y=\"-416.3\">value = [0.0, 27.63, 0.0]</text>\n</g>\n<!-- 70&#45;&gt;76 -->\n<g class=\"edge\" id=\"edge76\">\n<title>70-&gt;76</title>\n<path d=\"M1820.3676,-504.9465C1828.9857,-493.6012 1838.5906,-480.9567 1847.2383,-469.5724\" fill=\"none\" stroke=\"#000000\"/>\n<polygon fill=\"#000000\" points=\"1850.0763,-471.6224 1853.3382,-461.5422 1844.5021,-467.3882 1850.0763,-471.6224\" stroke=\"#000000\"/>\n</g>\n<!-- 72 -->\n<g class=\"node\" id=\"node73\">\n<title>72</title>\n<path d=\"M1640.5,-357.5C1640.5,-357.5 1488.5,-357.5 1488.5,-357.5 1482.5,-357.5 1476.5,-351.5 1476.5,-345.5 1476.5,-345.5 1476.5,-316.5 1476.5,-316.5 1476.5,-310.5 1482.5,-304.5 1488.5,-304.5 1488.5,-304.5 1640.5,-304.5 1640.5,-304.5 1646.5,-304.5 1652.5,-310.5 1652.5,-316.5 1652.5,-316.5 1652.5,-345.5 1652.5,-345.5 1652.5,-351.5 1646.5,-357.5 1640.5,-357.5\" fill=\"#39e581\" stroke=\"#000000\"/>\n<text fill=\"#000000\" font-family=\"Helvetica,sans-Serif\" font-size=\"14.00\" text-anchor=\"middle\" x=\"1564.5\" y=\"-342.3\">gini = 0.0</text>\n<text fill=\"#000000\" font-family=\"Helvetica,sans-Serif\" font-size=\"14.00\" text-anchor=\"middle\" x=\"1564.5\" y=\"-327.3\">samples = 1</text>\n<text fill=\"#000000\" font-family=\"Helvetica,sans-Serif\" font-size=\"14.00\" text-anchor=\"middle\" x=\"1564.5\" y=\"-312.3\">value = [0.0, 13.815, 0.0]</text>\n</g>\n<!-- 71&#45;&gt;72 -->\n<g class=\"edge\" id=\"edge72\">\n<title>71-&gt;72</title>\n<path d=\"M1633.7739,-400.9465C1622.3195,-389.3809 1609.528,-376.4652 1598.0846,-364.9107\" fill=\"none\" stroke=\"#000000\"/>\n<polygon fill=\"#000000\" points=\"1600.3106,-362.1844 1590.787,-357.5422 1595.337,-367.1102 1600.3106,-362.1844\" stroke=\"#000000\"/>\n</g>\n<!-- 73 -->\n<g class=\"node\" id=\"node74\">\n<title>73</title>\n<path d=\"M1842.5,-365C1842.5,-365 1682.5,-365 1682.5,-365 1676.5,-365 1670.5,-359 1670.5,-353 1670.5,-353 1670.5,-309 1670.5,-309 1670.5,-303 1676.5,-297 1682.5,-297 1682.5,-297 1842.5,-297 1842.5,-297 1848.5,-297 1854.5,-303 1854.5,-309 1854.5,-309 1854.5,-353 1854.5,-353 1854.5,-359 1848.5,-365 1842.5,-365\" fill=\"#9b62ea\" stroke=\"#000000\"/>\n<text fill=\"#000000\" font-family=\"Helvetica,sans-Serif\" font-size=\"14.00\" text-anchor=\"middle\" x=\"1762.5\" y=\"-349.8\">Age &lt;= 19.5</text>\n<text fill=\"#000000\" font-family=\"Helvetica,sans-Serif\" font-size=\"14.00\" text-anchor=\"middle\" x=\"1762.5\" y=\"-334.8\">gini = 0.286</text>\n<text fill=\"#000000\" font-family=\"Helvetica,sans-Serif\" font-size=\"14.00\" text-anchor=\"middle\" x=\"1762.5\" y=\"-319.8\">samples = 2</text>\n<text fill=\"#000000\" font-family=\"Helvetica,sans-Serif\" font-size=\"14.00\" text-anchor=\"middle\" x=\"1762.5\" y=\"-304.8\">value = [0.413, 0.0, 1.974]</text>\n</g>\n<!-- 71&#45;&gt;73 -->\n<g class=\"edge\" id=\"edge73\">\n<title>71-&gt;73</title>\n<path d=\"M1698.6066,-400.9465C1706.8901,-391.8782 1715.9318,-381.9799 1724.5379,-372.5585\" fill=\"none\" stroke=\"#000000\"/>\n<polygon fill=\"#000000\" points=\"1727.1633,-374.8739 1731.3236,-365.13 1721.995,-370.1528 1727.1633,-374.8739\" stroke=\"#000000\"/>\n</g>\n<!-- 74 -->\n<g class=\"node\" id=\"node75\">\n<title>74</title>\n<path d=\"M1710,-253.5C1710,-253.5 1567,-253.5 1567,-253.5 1561,-253.5 1555,-247.5 1555,-241.5 1555,-241.5 1555,-212.5 1555,-212.5 1555,-206.5 1561,-200.5 1567,-200.5 1567,-200.5 1710,-200.5 1710,-200.5 1716,-200.5 1722,-206.5 1722,-212.5 1722,-212.5 1722,-241.5 1722,-241.5 1722,-247.5 1716,-253.5 1710,-253.5\" fill=\"#8139e5\" stroke=\"#000000\"/>\n<text fill=\"#000000\" font-family=\"Helvetica,sans-Serif\" font-size=\"14.00\" text-anchor=\"middle\" x=\"1638.5\" y=\"-238.3\">gini = 0.0</text>\n<text fill=\"#000000\" font-family=\"Helvetica,sans-Serif\" font-size=\"14.00\" text-anchor=\"middle\" x=\"1638.5\" y=\"-223.3\">samples = 1</text>\n<text fill=\"#000000\" font-family=\"Helvetica,sans-Serif\" font-size=\"14.00\" text-anchor=\"middle\" x=\"1638.5\" y=\"-208.3\">value = [0.0, 0.0, 1.974]</text>\n</g>\n<!-- 73&#45;&gt;74 -->\n<g class=\"edge\" id=\"edge74\">\n<title>73-&gt;74</title>\n<path d=\"M1721.8978,-296.9465C1707.8453,-285.1606 1692.1212,-271.9726 1678.1465,-260.2519\" fill=\"none\" stroke=\"#000000\"/>\n<polygon fill=\"#000000\" points=\"1680.0575,-257.2866 1670.1464,-253.5422 1675.5592,-262.65 1680.0575,-257.2866\" stroke=\"#000000\"/>\n</g>\n<!-- 75 -->\n<g class=\"node\" id=\"node76\">\n<title>75</title>\n<path d=\"M1895,-253.5C1895,-253.5 1752,-253.5 1752,-253.5 1746,-253.5 1740,-247.5 1740,-241.5 1740,-241.5 1740,-212.5 1740,-212.5 1740,-206.5 1746,-200.5 1752,-200.5 1752,-200.5 1895,-200.5 1895,-200.5 1901,-200.5 1907,-206.5 1907,-212.5 1907,-212.5 1907,-241.5 1907,-241.5 1907,-247.5 1901,-253.5 1895,-253.5\" fill=\"#e58139\" stroke=\"#000000\"/>\n<text fill=\"#000000\" font-family=\"Helvetica,sans-Serif\" font-size=\"14.00\" text-anchor=\"middle\" x=\"1823.5\" y=\"-238.3\">gini = -0.0</text>\n<text fill=\"#000000\" font-family=\"Helvetica,sans-Serif\" font-size=\"14.00\" text-anchor=\"middle\" x=\"1823.5\" y=\"-223.3\">samples = 1</text>\n<text fill=\"#000000\" font-family=\"Helvetica,sans-Serif\" font-size=\"14.00\" text-anchor=\"middle\" x=\"1823.5\" y=\"-208.3\">value = [0.413, 0.0, 0.0]</text>\n</g>\n<!-- 73&#45;&gt;75 -->\n<g class=\"edge\" id=\"edge75\">\n<title>73-&gt;75</title>\n<path d=\"M1782.4737,-296.9465C1788.999,-285.8215 1796.2569,-273.4473 1802.8322,-262.237\" fill=\"none\" stroke=\"#000000\"/>\n<polygon fill=\"#000000\" points=\"1805.8916,-263.9387 1807.932,-253.5422 1799.8536,-260.3971 1805.8916,-263.9387\" stroke=\"#000000\"/>\n</g>\n<!-- 78 -->\n<g class=\"node\" id=\"node79\">\n<title>78</title>\n<path d=\"M2147.5,-469C2147.5,-469 1987.5,-469 1987.5,-469 1981.5,-469 1975.5,-463 1975.5,-457 1975.5,-457 1975.5,-413 1975.5,-413 1975.5,-407 1981.5,-401 1987.5,-401 1987.5,-401 2147.5,-401 2147.5,-401 2153.5,-401 2159.5,-407 2159.5,-413 2159.5,-413 2159.5,-457 2159.5,-457 2159.5,-463 2153.5,-469 2147.5,-469\" fill=\"#f7d7c0\" stroke=\"#000000\"/>\n<text fill=\"#000000\" font-family=\"Helvetica,sans-Serif\" font-size=\"14.00\" text-anchor=\"middle\" x=\"2067.5\" y=\"-453.8\">Hispanic &lt;= 0.5</text>\n<text fill=\"#000000\" font-family=\"Helvetica,sans-Serif\" font-size=\"14.00\" text-anchor=\"middle\" x=\"2067.5\" y=\"-438.8\">gini = 0.482</text>\n<text fill=\"#000000\" font-family=\"Helvetica,sans-Serif\" font-size=\"14.00\" text-anchor=\"middle\" x=\"2067.5\" y=\"-423.8\">samples = 8</text>\n<text fill=\"#000000\" font-family=\"Helvetica,sans-Serif\" font-size=\"14.00\" text-anchor=\"middle\" x=\"2067.5\" y=\"-408.8\">value = [2.891, 0.0, 1.974]</text>\n</g>\n<!-- 77&#45;&gt;78 -->\n<g class=\"edge\" id=\"edge78\">\n<title>77-&gt;78</title>\n<path d=\"M2067.5,-504.9465C2067.5,-496.776 2067.5,-487.9318 2067.5,-479.3697\" fill=\"none\" stroke=\"#000000\"/>\n<polygon fill=\"#000000\" points=\"2071.0001,-479.13 2067.5,-469.13 2064.0001,-479.13 2071.0001,-479.13\" stroke=\"#000000\"/>\n</g>\n<!-- 83 -->\n<g class=\"node\" id=\"node84\">\n<title>83</title>\n<path d=\"M2341.5,-461.5C2341.5,-461.5 2189.5,-461.5 2189.5,-461.5 2183.5,-461.5 2177.5,-455.5 2177.5,-449.5 2177.5,-449.5 2177.5,-420.5 2177.5,-420.5 2177.5,-414.5 2183.5,-408.5 2189.5,-408.5 2189.5,-408.5 2341.5,-408.5 2341.5,-408.5 2347.5,-408.5 2353.5,-414.5 2353.5,-420.5 2353.5,-420.5 2353.5,-449.5 2353.5,-449.5 2353.5,-455.5 2347.5,-461.5 2341.5,-461.5\" fill=\"#39e581\" stroke=\"#000000\"/>\n<text fill=\"#000000\" font-family=\"Helvetica,sans-Serif\" font-size=\"14.00\" text-anchor=\"middle\" x=\"2265.5\" y=\"-446.3\">gini = 0.0</text>\n<text fill=\"#000000\" font-family=\"Helvetica,sans-Serif\" font-size=\"14.00\" text-anchor=\"middle\" x=\"2265.5\" y=\"-431.3\">samples = 1</text>\n<text fill=\"#000000\" font-family=\"Helvetica,sans-Serif\" font-size=\"14.00\" text-anchor=\"middle\" x=\"2265.5\" y=\"-416.3\">value = [0.0, 13.815, 0.0]</text>\n</g>\n<!-- 77&#45;&gt;83 -->\n<g class=\"edge\" id=\"edge83\">\n<title>77-&gt;83</title>\n<path d=\"M2132.3326,-504.9465C2156.0295,-492.4997 2182.7032,-478.4892 2205.92,-466.2946\" fill=\"none\" stroke=\"#000000\"/>\n<polygon fill=\"#000000\" points=\"2207.7423,-469.2909 2214.9678,-461.5422 2204.4872,-463.0937 2207.7423,-469.2909\" stroke=\"#000000\"/>\n</g>\n<!-- 79 -->\n<g class=\"node\" id=\"node80\">\n<title>79</title>\n<path d=\"M2038,-357.5C2038,-357.5 1895,-357.5 1895,-357.5 1889,-357.5 1883,-351.5 1883,-345.5 1883,-345.5 1883,-316.5 1883,-316.5 1883,-310.5 1889,-304.5 1895,-304.5 1895,-304.5 2038,-304.5 2038,-304.5 2044,-304.5 2050,-310.5 2050,-316.5 2050,-316.5 2050,-345.5 2050,-345.5 2050,-351.5 2044,-357.5 2038,-357.5\" fill=\"#e58139\" stroke=\"#000000\"/>\n<text fill=\"#000000\" font-family=\"Helvetica,sans-Serif\" font-size=\"14.00\" text-anchor=\"middle\" x=\"1966.5\" y=\"-342.3\">gini = 0.0</text>\n<text fill=\"#000000\" font-family=\"Helvetica,sans-Serif\" font-size=\"14.00\" text-anchor=\"middle\" x=\"1966.5\" y=\"-327.3\">samples = 6</text>\n<text fill=\"#000000\" font-family=\"Helvetica,sans-Serif\" font-size=\"14.00\" text-anchor=\"middle\" x=\"1966.5\" y=\"-312.3\">value = [2.478, 0.0, 0.0]</text>\n</g>\n<!-- 78&#45;&gt;79 -->\n<g class=\"edge\" id=\"edge79\">\n<title>78-&gt;79</title>\n<path d=\"M2034.4288,-400.9465C2023.1968,-389.3809 2010.6537,-376.4652 1999.4325,-364.9107\" fill=\"none\" stroke=\"#000000\"/>\n<polygon fill=\"#000000\" points=\"2001.7542,-362.2776 1992.2765,-357.5422 1996.7326,-367.1544 2001.7542,-362.2776\" stroke=\"#000000\"/>\n</g>\n<!-- 80 -->\n<g class=\"node\" id=\"node81\">\n<title>80</title>\n<path d=\"M2240.5,-365C2240.5,-365 2080.5,-365 2080.5,-365 2074.5,-365 2068.5,-359 2068.5,-353 2068.5,-353 2068.5,-309 2068.5,-309 2068.5,-303 2074.5,-297 2080.5,-297 2080.5,-297 2240.5,-297 2240.5,-297 2246.5,-297 2252.5,-303 2252.5,-309 2252.5,-309 2252.5,-353 2252.5,-353 2252.5,-359 2246.5,-365 2240.5,-365\" fill=\"#9b62ea\" stroke=\"#000000\"/>\n<text fill=\"#000000\" font-family=\"Helvetica,sans-Serif\" font-size=\"14.00\" text-anchor=\"middle\" x=\"2160.5\" y=\"-349.8\">logNumFriends &lt;= 1.722</text>\n<text fill=\"#000000\" font-family=\"Helvetica,sans-Serif\" font-size=\"14.00\" text-anchor=\"middle\" x=\"2160.5\" y=\"-334.8\">gini = 0.286</text>\n<text fill=\"#000000\" font-family=\"Helvetica,sans-Serif\" font-size=\"14.00\" text-anchor=\"middle\" x=\"2160.5\" y=\"-319.8\">samples = 2</text>\n<text fill=\"#000000\" font-family=\"Helvetica,sans-Serif\" font-size=\"14.00\" text-anchor=\"middle\" x=\"2160.5\" y=\"-304.8\">value = [0.413, 0.0, 1.974]</text>\n</g>\n<!-- 78&#45;&gt;80 -->\n<g class=\"edge\" id=\"edge80\">\n<title>78-&gt;80</title>\n<path d=\"M2097.9517,-400.9465C2105.9806,-391.968 2114.737,-382.1758 2123.0867,-372.8385\" fill=\"none\" stroke=\"#000000\"/>\n<polygon fill=\"#000000\" points=\"2125.923,-374.9174 2129.9799,-365.13 2120.705,-370.2512 2125.923,-374.9174\" stroke=\"#000000\"/>\n</g>\n<!-- 81 -->\n<g class=\"node\" id=\"node82\">\n<title>81</title>\n<path d=\"M2130,-253.5C2130,-253.5 1987,-253.5 1987,-253.5 1981,-253.5 1975,-247.5 1975,-241.5 1975,-241.5 1975,-212.5 1975,-212.5 1975,-206.5 1981,-200.5 1987,-200.5 1987,-200.5 2130,-200.5 2130,-200.5 2136,-200.5 2142,-206.5 2142,-212.5 2142,-212.5 2142,-241.5 2142,-241.5 2142,-247.5 2136,-253.5 2130,-253.5\" fill=\"#e58139\" stroke=\"#000000\"/>\n<text fill=\"#000000\" font-family=\"Helvetica,sans-Serif\" font-size=\"14.00\" text-anchor=\"middle\" x=\"2058.5\" y=\"-238.3\">gini = 0.0</text>\n<text fill=\"#000000\" font-family=\"Helvetica,sans-Serif\" font-size=\"14.00\" text-anchor=\"middle\" x=\"2058.5\" y=\"-223.3\">samples = 1</text>\n<text fill=\"#000000\" font-family=\"Helvetica,sans-Serif\" font-size=\"14.00\" text-anchor=\"middle\" x=\"2058.5\" y=\"-208.3\">value = [0.413, 0.0, 0.0]</text>\n</g>\n<!-- 80&#45;&gt;81 -->\n<g class=\"edge\" id=\"edge81\">\n<title>80-&gt;81</title>\n<path d=\"M2127.1014,-296.9465C2115.7582,-285.3809 2103.0908,-272.4652 2091.7585,-260.9107\" fill=\"none\" stroke=\"#000000\"/>\n<polygon fill=\"#000000\" points=\"2094.0326,-258.2308 2084.5317,-253.5422 2089.0351,-263.1323 2094.0326,-258.2308\" stroke=\"#000000\"/>\n</g>\n<!-- 82 -->\n<g class=\"node\" id=\"node83\">\n<title>82</title>\n<path d=\"M2315,-253.5C2315,-253.5 2172,-253.5 2172,-253.5 2166,-253.5 2160,-247.5 2160,-241.5 2160,-241.5 2160,-212.5 2160,-212.5 2160,-206.5 2166,-200.5 2172,-200.5 2172,-200.5 2315,-200.5 2315,-200.5 2321,-200.5 2327,-206.5 2327,-212.5 2327,-212.5 2327,-241.5 2327,-241.5 2327,-247.5 2321,-253.5 2315,-253.5\" fill=\"#8139e5\" stroke=\"#000000\"/>\n<text fill=\"#000000\" font-family=\"Helvetica,sans-Serif\" font-size=\"14.00\" text-anchor=\"middle\" x=\"2243.5\" y=\"-238.3\">gini = -0.0</text>\n<text fill=\"#000000\" font-family=\"Helvetica,sans-Serif\" font-size=\"14.00\" text-anchor=\"middle\" x=\"2243.5\" y=\"-223.3\">samples = 1</text>\n<text fill=\"#000000\" font-family=\"Helvetica,sans-Serif\" font-size=\"14.00\" text-anchor=\"middle\" x=\"2243.5\" y=\"-208.3\">value = [0.0, 0.0, 1.974]</text>\n</g>\n<!-- 80&#45;&gt;82 -->\n<g class=\"edge\" id=\"edge82\">\n<title>80-&gt;82</title>\n<path d=\"M2187.6773,-296.9465C2196.7318,-285.6012 2206.823,-272.9567 2215.9086,-261.5724\" fill=\"none\" stroke=\"#000000\"/>\n<polygon fill=\"#000000\" points=\"2218.8151,-263.5414 2222.3173,-253.5422 2213.3439,-259.175 2218.8151,-263.5414\" stroke=\"#000000\"/>\n</g>\n<!-- 87 -->\n<g class=\"node\" id=\"node88\">\n<title>87</title>\n<path d=\"M2257,-773.5C2257,-773.5 2114,-773.5 2114,-773.5 2108,-773.5 2102,-767.5 2102,-761.5 2102,-761.5 2102,-732.5 2102,-732.5 2102,-726.5 2108,-720.5 2114,-720.5 2114,-720.5 2257,-720.5 2257,-720.5 2263,-720.5 2269,-726.5 2269,-732.5 2269,-732.5 2269,-761.5 2269,-761.5 2269,-767.5 2263,-773.5 2257,-773.5\" fill=\"#e58139\" stroke=\"#000000\"/>\n<text fill=\"#000000\" font-family=\"Helvetica,sans-Serif\" font-size=\"14.00\" text-anchor=\"middle\" x=\"2185.5\" y=\"-758.3\">gini = 0.0</text>\n<text fill=\"#000000\" font-family=\"Helvetica,sans-Serif\" font-size=\"14.00\" text-anchor=\"middle\" x=\"2185.5\" y=\"-743.3\">samples = 2</text>\n<text fill=\"#000000\" font-family=\"Helvetica,sans-Serif\" font-size=\"14.00\" text-anchor=\"middle\" x=\"2185.5\" y=\"-728.3\">value = [0.826, 0.0, 0.0]</text>\n</g>\n<!-- 86&#45;&gt;87 -->\n<g class=\"edge\" id=\"edge87\">\n<title>86-&gt;87</title>\n<path d=\"M2185.5,-816.9465C2185.5,-806.2621 2185.5,-794.4254 2185.5,-783.5742\" fill=\"none\" stroke=\"#000000\"/>\n<polygon fill=\"#000000\" points=\"2189.0001,-783.5421 2185.5,-773.5422 2182.0001,-783.5422 2189.0001,-783.5421\" stroke=\"#000000\"/>\n</g>\n<!-- 88 -->\n<g class=\"node\" id=\"node89\">\n<title>88</title>\n<path d=\"M2442,-773.5C2442,-773.5 2299,-773.5 2299,-773.5 2293,-773.5 2287,-767.5 2287,-761.5 2287,-761.5 2287,-732.5 2287,-732.5 2287,-726.5 2293,-720.5 2299,-720.5 2299,-720.5 2442,-720.5 2442,-720.5 2448,-720.5 2454,-726.5 2454,-732.5 2454,-732.5 2454,-761.5 2454,-761.5 2454,-767.5 2448,-773.5 2442,-773.5\" fill=\"#8139e5\" stroke=\"#000000\"/>\n<text fill=\"#000000\" font-family=\"Helvetica,sans-Serif\" font-size=\"14.00\" text-anchor=\"middle\" x=\"2370.5\" y=\"-758.3\">gini = 0.0</text>\n<text fill=\"#000000\" font-family=\"Helvetica,sans-Serif\" font-size=\"14.00\" text-anchor=\"middle\" x=\"2370.5\" y=\"-743.3\">samples = 1</text>\n<text fill=\"#000000\" font-family=\"Helvetica,sans-Serif\" font-size=\"14.00\" text-anchor=\"middle\" x=\"2370.5\" y=\"-728.3\">value = [0.0, 0.0, 1.974]</text>\n</g>\n<!-- 86&#45;&gt;88 -->\n<g class=\"edge\" id=\"edge88\">\n<title>86-&gt;88</title>\n<path d=\"M2246.0759,-816.9465C2268.119,-804.5547 2292.9189,-790.6132 2314.5437,-778.4565\" fill=\"none\" stroke=\"#000000\"/>\n<polygon fill=\"#000000\" points=\"2316.2837,-781.4935 2323.2856,-773.5422 2312.8534,-775.3916 2316.2837,-781.4935\" stroke=\"#000000\"/>\n</g>\n<!-- 90 -->\n<g class=\"node\" id=\"node91\">\n<title>90</title>\n<path d=\"M2460,-877.5C2460,-877.5 2317,-877.5 2317,-877.5 2311,-877.5 2305,-871.5 2305,-865.5 2305,-865.5 2305,-836.5 2305,-836.5 2305,-830.5 2311,-824.5 2317,-824.5 2317,-824.5 2460,-824.5 2460,-824.5 2466,-824.5 2472,-830.5 2472,-836.5 2472,-836.5 2472,-865.5 2472,-865.5 2472,-871.5 2466,-877.5 2460,-877.5\" fill=\"#8139e5\" stroke=\"#000000\"/>\n<text fill=\"#000000\" font-family=\"Helvetica,sans-Serif\" font-size=\"14.00\" text-anchor=\"middle\" x=\"2388.5\" y=\"-862.3\">gini = 0.0</text>\n<text fill=\"#000000\" font-family=\"Helvetica,sans-Serif\" font-size=\"14.00\" text-anchor=\"middle\" x=\"2388.5\" y=\"-847.3\">samples = 2</text>\n<text fill=\"#000000\" font-family=\"Helvetica,sans-Serif\" font-size=\"14.00\" text-anchor=\"middle\" x=\"2388.5\" y=\"-832.3\">value = [0.0, 0.0, 3.947]</text>\n</g>\n<!-- 89&#45;&gt;90 -->\n<g class=\"edge\" id=\"edge90\">\n<title>89-&gt;90</title>\n<path d=\"M2388.5,-920.9465C2388.5,-910.2621 2388.5,-898.4254 2388.5,-887.5742\" fill=\"none\" stroke=\"#000000\"/>\n<polygon fill=\"#000000\" points=\"2392.0001,-887.5421 2388.5,-877.5422 2385.0001,-887.5422 2392.0001,-887.5421\" stroke=\"#000000\"/>\n</g>\n<!-- 91 -->\n<g class=\"node\" id=\"node92\">\n<title>91</title>\n<path d=\"M2645,-877.5C2645,-877.5 2502,-877.5 2502,-877.5 2496,-877.5 2490,-871.5 2490,-865.5 2490,-865.5 2490,-836.5 2490,-836.5 2490,-830.5 2496,-824.5 2502,-824.5 2502,-824.5 2645,-824.5 2645,-824.5 2651,-824.5 2657,-830.5 2657,-836.5 2657,-836.5 2657,-865.5 2657,-865.5 2657,-871.5 2651,-877.5 2645,-877.5\" fill=\"#e58139\" stroke=\"#000000\"/>\n<text fill=\"#000000\" font-family=\"Helvetica,sans-Serif\" font-size=\"14.00\" text-anchor=\"middle\" x=\"2573.5\" y=\"-862.3\">gini = -0.0</text>\n<text fill=\"#000000\" font-family=\"Helvetica,sans-Serif\" font-size=\"14.00\" text-anchor=\"middle\" x=\"2573.5\" y=\"-847.3\">samples = 3</text>\n<text fill=\"#000000\" font-family=\"Helvetica,sans-Serif\" font-size=\"14.00\" text-anchor=\"middle\" x=\"2573.5\" y=\"-832.3\">value = [1.239, 0.0, 0.0]</text>\n</g>\n<!-- 89&#45;&gt;91 -->\n<g class=\"edge\" id=\"edge91\">\n<title>89-&gt;91</title>\n<path d=\"M2449.0759,-920.9465C2471.119,-908.5547 2495.9189,-894.6132 2517.5437,-882.4565\" fill=\"none\" stroke=\"#000000\"/>\n<polygon fill=\"#000000\" points=\"2519.2837,-885.4935 2526.2856,-877.5422 2515.8534,-879.3916 2519.2837,-885.4935\" stroke=\"#000000\"/>\n</g>\n<!-- 94 -->\n<g class=\"node\" id=\"node95\">\n<title>94</title>\n<path d=\"M2856,-1085.5C2856,-1085.5 2713,-1085.5 2713,-1085.5 2707,-1085.5 2701,-1079.5 2701,-1073.5 2701,-1073.5 2701,-1044.5 2701,-1044.5 2701,-1038.5 2707,-1032.5 2713,-1032.5 2713,-1032.5 2856,-1032.5 2856,-1032.5 2862,-1032.5 2868,-1038.5 2868,-1044.5 2868,-1044.5 2868,-1073.5 2868,-1073.5 2868,-1079.5 2862,-1085.5 2856,-1085.5\" fill=\"#e58139\" stroke=\"#000000\"/>\n<text fill=\"#000000\" font-family=\"Helvetica,sans-Serif\" font-size=\"14.00\" text-anchor=\"middle\" x=\"2784.5\" y=\"-1070.3\">gini = 0.0</text>\n<text fill=\"#000000\" font-family=\"Helvetica,sans-Serif\" font-size=\"14.00\" text-anchor=\"middle\" x=\"2784.5\" y=\"-1055.3\">samples = 3</text>\n<text fill=\"#000000\" font-family=\"Helvetica,sans-Serif\" font-size=\"14.00\" text-anchor=\"middle\" x=\"2784.5\" y=\"-1040.3\">value = [1.239, 0.0, 0.0]</text>\n</g>\n<!-- 93&#45;&gt;94 -->\n<g class=\"edge\" id=\"edge94\">\n<title>93-&gt;94</title>\n<path d=\"M2801.3141,-1128.9465C2798.7457,-1118.2621 2795.9003,-1106.4254 2793.2919,-1095.5742\" fill=\"none\" stroke=\"#000000\"/>\n<polygon fill=\"#000000\" points=\"2796.6207,-1094.4471 2790.8803,-1085.5422 2789.8146,-1096.0833 2796.6207,-1094.4471\" stroke=\"#000000\"/>\n</g>\n<!-- 95 -->\n<g class=\"node\" id=\"node96\">\n<title>95</title>\n<path d=\"M3041,-1085.5C3041,-1085.5 2898,-1085.5 2898,-1085.5 2892,-1085.5 2886,-1079.5 2886,-1073.5 2886,-1073.5 2886,-1044.5 2886,-1044.5 2886,-1038.5 2892,-1032.5 2898,-1032.5 2898,-1032.5 3041,-1032.5 3041,-1032.5 3047,-1032.5 3053,-1038.5 3053,-1044.5 3053,-1044.5 3053,-1073.5 3053,-1073.5 3053,-1079.5 3047,-1085.5 3041,-1085.5\" fill=\"#8139e5\" stroke=\"#000000\"/>\n<text fill=\"#000000\" font-family=\"Helvetica,sans-Serif\" font-size=\"14.00\" text-anchor=\"middle\" x=\"2969.5\" y=\"-1070.3\">gini = -0.0</text>\n<text fill=\"#000000\" font-family=\"Helvetica,sans-Serif\" font-size=\"14.00\" text-anchor=\"middle\" x=\"2969.5\" y=\"-1055.3\">samples = 3</text>\n<text fill=\"#000000\" font-family=\"Helvetica,sans-Serif\" font-size=\"14.00\" text-anchor=\"middle\" x=\"2969.5\" y=\"-1040.3\">value = [0.0, 0.0, 5.921]</text>\n</g>\n<!-- 93&#45;&gt;95 -->\n<g class=\"edge\" id=\"edge95\">\n<title>93-&gt;95</title>\n<path d=\"M2861.89,-1128.9465C2880.6153,-1116.775 2901.641,-1103.1084 2920.1053,-1091.1066\" fill=\"none\" stroke=\"#000000\"/>\n<polygon fill=\"#000000\" points=\"2922.1889,-1093.9267 2928.6659,-1085.5422 2918.374,-1088.0575 2922.1889,-1093.9267\" stroke=\"#000000\"/>\n</g>\n<!-- 97 -->\n<g class=\"node\" id=\"node98\">\n<title>97</title>\n<path d=\"M3368.5,-1197C3368.5,-1197 3192.5,-1197 3192.5,-1197 3186.5,-1197 3180.5,-1191 3180.5,-1185 3180.5,-1185 3180.5,-1141 3180.5,-1141 3180.5,-1135 3186.5,-1129 3192.5,-1129 3192.5,-1129 3368.5,-1129 3368.5,-1129 3374.5,-1129 3380.5,-1135 3380.5,-1141 3380.5,-1141 3380.5,-1185 3380.5,-1185 3380.5,-1191 3374.5,-1197 3368.5,-1197\" fill=\"#fae6d8\" stroke=\"#000000\"/>\n<text fill=\"#000000\" font-family=\"Helvetica,sans-Serif\" font-size=\"14.00\" text-anchor=\"middle\" x=\"3280.5\" y=\"-1181.8\">$1 to $10,000 &lt;= 0.5</text>\n<text fill=\"#000000\" font-family=\"Helvetica,sans-Serif\" font-size=\"14.00\" text-anchor=\"middle\" x=\"3280.5\" y=\"-1166.8\">gini = 0.494</text>\n<text fill=\"#000000\" font-family=\"Helvetica,sans-Serif\" font-size=\"14.00\" text-anchor=\"middle\" x=\"3280.5\" y=\"-1151.8\">samples = 111</text>\n<text fill=\"#000000\" font-family=\"Helvetica,sans-Serif\" font-size=\"14.00\" text-anchor=\"middle\" x=\"3280.5\" y=\"-1136.8\">value = [39.241, 0.0, 31.577]</text>\n</g>\n<!-- 96&#45;&gt;97 -->\n<g class=\"edge\" id=\"edge97\">\n<title>96-&gt;97</title>\n<path d=\"M3280.5,-1232.9465C3280.5,-1224.776 3280.5,-1215.9318 3280.5,-1207.3697\" fill=\"none\" stroke=\"#000000\"/>\n<polygon fill=\"#000000\" points=\"3284.0001,-1207.13 3280.5,-1197.13 3277.0001,-1207.13 3284.0001,-1207.13\" stroke=\"#000000\"/>\n</g>\n<!-- 130 -->\n<g class=\"node\" id=\"node131\">\n<title>130</title>\n<path d=\"M5106,-1197C5106,-1197 4913,-1197 4913,-1197 4907,-1197 4901,-1191 4901,-1185 4901,-1185 4901,-1141 4901,-1141 4901,-1135 4907,-1129 4913,-1129 4913,-1129 5106,-1129 5106,-1129 5112,-1129 5118,-1135 5118,-1141 5118,-1141 5118,-1185 5118,-1185 5118,-1191 5112,-1197 5106,-1197\" fill=\"#dcfae9\" stroke=\"#000000\"/>\n<text fill=\"#000000\" font-family=\"Helvetica,sans-Serif\" font-size=\"14.00\" text-anchor=\"middle\" x=\"5009.5\" y=\"-1181.8\">logNumFriends &lt;= 1.719</text>\n<text fill=\"#000000\" font-family=\"Helvetica,sans-Serif\" font-size=\"14.00\" text-anchor=\"middle\" x=\"5009.5\" y=\"-1166.8\">gini = 0.636</text>\n<text fill=\"#000000\" font-family=\"Helvetica,sans-Serif\" font-size=\"14.00\" text-anchor=\"middle\" x=\"5009.5\" y=\"-1151.8\">samples = 145</text>\n<text fill=\"#000000\" font-family=\"Helvetica,sans-Serif\" font-size=\"14.00\" text-anchor=\"middle\" x=\"5009.5\" y=\"-1136.8\">value = [51.22, 69.074, 31.577]</text>\n</g>\n<!-- 96&#45;&gt;130 -->\n<g class=\"edge\" id=\"edge130\">\n<title>96-&gt;130</title>\n<path d=\"M3393.2776,-1260.2164C3704.3474,-1241.5054 4572.4726,-1189.2874 4890.6565,-1170.1485\" fill=\"none\" stroke=\"#000000\"/>\n<polygon fill=\"#000000\" points=\"4891.054,-1173.631 4900.8258,-1169.5368 4890.6337,-1166.6436 4891.054,-1173.631\" stroke=\"#000000\"/>\n</g>\n<!-- 98 -->\n<g class=\"node\" id=\"node99\">\n<title>98</title>\n<path d=\"M3259.5,-1093C3259.5,-1093 3083.5,-1093 3083.5,-1093 3077.5,-1093 3071.5,-1087 3071.5,-1081 3071.5,-1081 3071.5,-1037 3071.5,-1037 3071.5,-1031 3077.5,-1025 3083.5,-1025 3083.5,-1025 3259.5,-1025 3259.5,-1025 3265.5,-1025 3271.5,-1031 3271.5,-1037 3271.5,-1037 3271.5,-1081 3271.5,-1081 3271.5,-1087 3265.5,-1093 3259.5,-1093\" fill=\"#f0b78e\" stroke=\"#000000\"/>\n<text fill=\"#000000\" font-family=\"Helvetica,sans-Serif\" font-size=\"14.00\" text-anchor=\"middle\" x=\"3171.5\" y=\"-1077.8\">Black &lt;= 0.5</text>\n<text fill=\"#000000\" font-family=\"Helvetica,sans-Serif\" font-size=\"14.00\" text-anchor=\"middle\" x=\"3171.5\" y=\"-1062.8\">gini = 0.42</text>\n<text fill=\"#000000\" font-family=\"Helvetica,sans-Serif\" font-size=\"14.00\" text-anchor=\"middle\" x=\"3171.5\" y=\"-1047.8\">samples = 73</text>\n<text fill=\"#000000\" font-family=\"Helvetica,sans-Serif\" font-size=\"14.00\" text-anchor=\"middle\" x=\"3171.5\" y=\"-1032.8\">value = [27.676, 0.0, 11.841]</text>\n</g>\n<!-- 97&#45;&gt;98 -->\n<g class=\"edge\" id=\"edge98\">\n<title>97-&gt;98</title>\n<path d=\"M3244.8093,-1128.9465C3235.2109,-1119.7884 3224.7253,-1109.7838 3214.7634,-1100.2788\" fill=\"none\" stroke=\"#000000\"/>\n<polygon fill=\"#000000\" points=\"3216.9221,-1097.5009 3207.2709,-1093.13 3212.0898,-1102.5655 3216.9221,-1097.5009\" stroke=\"#000000\"/>\n</g>\n<!-- 113 -->\n<g class=\"node\" id=\"node114\">\n<title>113</title>\n<path d=\"M3477.5,-1093C3477.5,-1093 3301.5,-1093 3301.5,-1093 3295.5,-1093 3289.5,-1087 3289.5,-1081 3289.5,-1081 3289.5,-1037 3289.5,-1037 3289.5,-1031 3295.5,-1025 3301.5,-1025 3301.5,-1025 3477.5,-1025 3477.5,-1025 3483.5,-1025 3489.5,-1031 3489.5,-1037 3489.5,-1037 3489.5,-1081 3489.5,-1081 3489.5,-1087 3483.5,-1093 3477.5,-1093\" fill=\"#cbadf4\" stroke=\"#000000\"/>\n<text fill=\"#000000\" font-family=\"Helvetica,sans-Serif\" font-size=\"14.00\" text-anchor=\"middle\" x=\"3389.5\" y=\"-1077.8\">HasSocialAnxiety &lt;= 0.5</text>\n<text fill=\"#000000\" font-family=\"Helvetica,sans-Serif\" font-size=\"14.00\" text-anchor=\"middle\" x=\"3389.5\" y=\"-1062.8\">gini = 0.466</text>\n<text fill=\"#000000\" font-family=\"Helvetica,sans-Serif\" font-size=\"14.00\" text-anchor=\"middle\" x=\"3389.5\" y=\"-1047.8\">samples = 38</text>\n<text fill=\"#000000\" font-family=\"Helvetica,sans-Serif\" font-size=\"14.00\" text-anchor=\"middle\" x=\"3389.5\" y=\"-1032.8\">value = [11.566, 0.0, 19.735]</text>\n</g>\n<!-- 97&#45;&gt;113 -->\n<g class=\"edge\" id=\"edge113\">\n<title>97-&gt;113</title>\n<path d=\"M3316.1907,-1128.9465C3325.7891,-1119.7884 3336.2747,-1109.7838 3346.2366,-1100.2788\" fill=\"none\" stroke=\"#000000\"/>\n<polygon fill=\"#000000\" points=\"3348.9102,-1102.5655 3353.7291,-1093.13 3344.0779,-1097.5009 3348.9102,-1102.5655\" stroke=\"#000000\"/>\n</g>\n<!-- 99 -->\n<g class=\"node\" id=\"node100\">\n<title>99</title>\n<path d=\"M3057.5,-989C3057.5,-989 2889.5,-989 2889.5,-989 2883.5,-989 2877.5,-983 2877.5,-977 2877.5,-977 2877.5,-933 2877.5,-933 2877.5,-927 2883.5,-921 2889.5,-921 2889.5,-921 3057.5,-921 3057.5,-921 3063.5,-921 3069.5,-927 3069.5,-933 3069.5,-933 3069.5,-977 3069.5,-977 3069.5,-983 3063.5,-989 3057.5,-989\" fill=\"#eca571\" stroke=\"#000000\"/>\n<text fill=\"#000000\" font-family=\"Helvetica,sans-Serif\" font-size=\"14.00\" text-anchor=\"middle\" x=\"2973.5\" y=\"-973.8\">logNumFriends &lt;= 1.271</text>\n<text fill=\"#000000\" font-family=\"Helvetica,sans-Serif\" font-size=\"14.00\" text-anchor=\"middle\" x=\"2973.5\" y=\"-958.8\">gini = 0.345</text>\n<text fill=\"#000000\" font-family=\"Helvetica,sans-Serif\" font-size=\"14.00\" text-anchor=\"middle\" x=\"2973.5\" y=\"-943.8\">samples = 71</text>\n<text fill=\"#000000\" font-family=\"Helvetica,sans-Serif\" font-size=\"14.00\" text-anchor=\"middle\" x=\"2973.5\" y=\"-928.8\">value = [27.676, 0.0, 7.894]</text>\n</g>\n<!-- 98&#45;&gt;99 -->\n<g class=\"edge\" id=\"edge99\">\n<title>98-&gt;99</title>\n<path d=\"M3106.6674,-1024.9465C3087.7788,-1015.0252 3066.9988,-1004.1105 3047.5858,-993.9138\" fill=\"none\" stroke=\"#000000\"/>\n<polygon fill=\"#000000\" points=\"3048.9589,-990.6816 3038.4783,-989.13 3045.7038,-996.8787 3048.9589,-990.6816\" stroke=\"#000000\"/>\n</g>\n<!-- 112 -->\n<g class=\"node\" id=\"node113\">\n<title>112</title>\n<path d=\"M3243,-981.5C3243,-981.5 3100,-981.5 3100,-981.5 3094,-981.5 3088,-975.5 3088,-969.5 3088,-969.5 3088,-940.5 3088,-940.5 3088,-934.5 3094,-928.5 3100,-928.5 3100,-928.5 3243,-928.5 3243,-928.5 3249,-928.5 3255,-934.5 3255,-940.5 3255,-940.5 3255,-969.5 3255,-969.5 3255,-975.5 3249,-981.5 3243,-981.5\" fill=\"#8139e5\" stroke=\"#000000\"/>\n<text fill=\"#000000\" font-family=\"Helvetica,sans-Serif\" font-size=\"14.00\" text-anchor=\"middle\" x=\"3171.5\" y=\"-966.3\">gini = 0.0</text>\n<text fill=\"#000000\" font-family=\"Helvetica,sans-Serif\" font-size=\"14.00\" text-anchor=\"middle\" x=\"3171.5\" y=\"-951.3\">samples = 2</text>\n<text fill=\"#000000\" font-family=\"Helvetica,sans-Serif\" font-size=\"14.00\" text-anchor=\"middle\" x=\"3171.5\" y=\"-936.3\">value = [0.0, 0.0, 3.947]</text>\n</g>\n<!-- 98&#45;&gt;112 -->\n<g class=\"edge\" id=\"edge112\">\n<title>98-&gt;112</title>\n<path d=\"M3171.5,-1024.9465C3171.5,-1014.2621 3171.5,-1002.4254 3171.5,-991.5742\" fill=\"none\" stroke=\"#000000\"/>\n<polygon fill=\"#000000\" points=\"3175.0001,-991.5421 3171.5,-981.5422 3168.0001,-991.5422 3175.0001,-991.5421\" stroke=\"#000000\"/>\n</g>\n<!-- 100 -->\n<g class=\"node\" id=\"node101\">\n<title>100</title>\n<path d=\"M2855.5,-885C2855.5,-885 2687.5,-885 2687.5,-885 2681.5,-885 2675.5,-879 2675.5,-873 2675.5,-873 2675.5,-829 2675.5,-829 2675.5,-823 2681.5,-817 2687.5,-817 2687.5,-817 2855.5,-817 2855.5,-817 2861.5,-817 2867.5,-823 2867.5,-829 2867.5,-829 2867.5,-873 2867.5,-873 2867.5,-879 2861.5,-885 2855.5,-885\" fill=\"#f9e1d0\" stroke=\"#000000\"/>\n<text fill=\"#000000\" font-family=\"Helvetica,sans-Serif\" font-size=\"14.00\" text-anchor=\"middle\" x=\"2771.5\" y=\"-869.8\">$0 &lt;= 0.5</text>\n<text fill=\"#000000\" font-family=\"Helvetica,sans-Serif\" font-size=\"14.00\" text-anchor=\"middle\" x=\"2771.5\" y=\"-854.8\">gini = 0.491</text>\n<text fill=\"#000000\" font-family=\"Helvetica,sans-Serif\" font-size=\"14.00\" text-anchor=\"middle\" x=\"2771.5\" y=\"-839.8\">samples = 29</text>\n<text fill=\"#000000\" font-family=\"Helvetica,sans-Serif\" font-size=\"14.00\" text-anchor=\"middle\" x=\"2771.5\" y=\"-824.8\">value = [10.327, 0.0, 7.894]</text>\n</g>\n<!-- 99&#45;&gt;100 -->\n<g class=\"edge\" id=\"edge100\">\n<title>99-&gt;100</title>\n<path d=\"M2907.3576,-920.9465C2888.0003,-910.9803 2866.6958,-900.0117 2846.8138,-889.7754\" fill=\"none\" stroke=\"#000000\"/>\n<polygon fill=\"#000000\" points=\"2848.2839,-886.5957 2837.791,-885.13 2845.0797,-892.8193 2848.2839,-886.5957\" stroke=\"#000000\"/>\n</g>\n<!-- 111 -->\n<g class=\"node\" id=\"node112\">\n<title>111</title>\n<path d=\"M3049.5,-877.5C3049.5,-877.5 2897.5,-877.5 2897.5,-877.5 2891.5,-877.5 2885.5,-871.5 2885.5,-865.5 2885.5,-865.5 2885.5,-836.5 2885.5,-836.5 2885.5,-830.5 2891.5,-824.5 2897.5,-824.5 2897.5,-824.5 3049.5,-824.5 3049.5,-824.5 3055.5,-824.5 3061.5,-830.5 3061.5,-836.5 3061.5,-836.5 3061.5,-865.5 3061.5,-865.5 3061.5,-871.5 3055.5,-877.5 3049.5,-877.5\" fill=\"#e58139\" stroke=\"#000000\"/>\n<text fill=\"#000000\" font-family=\"Helvetica,sans-Serif\" font-size=\"14.00\" text-anchor=\"middle\" x=\"2973.5\" y=\"-862.3\">gini = -0.0</text>\n<text fill=\"#000000\" font-family=\"Helvetica,sans-Serif\" font-size=\"14.00\" text-anchor=\"middle\" x=\"2973.5\" y=\"-847.3\">samples = 42</text>\n<text fill=\"#000000\" font-family=\"Helvetica,sans-Serif\" font-size=\"14.00\" text-anchor=\"middle\" x=\"2973.5\" y=\"-832.3\">value = [17.349, 0.0, 0.0]</text>\n</g>\n<!-- 99&#45;&gt;111 -->\n<g class=\"edge\" id=\"edge111\">\n<title>99-&gt;111</title>\n<path d=\"M2973.5,-920.9465C2973.5,-910.2621 2973.5,-898.4254 2973.5,-887.5742\" fill=\"none\" stroke=\"#000000\"/>\n<polygon fill=\"#000000\" points=\"2977.0001,-887.5421 2973.5,-877.5422 2970.0001,-887.5422 2977.0001,-887.5421\" stroke=\"#000000\"/>\n</g>\n<!-- 101 -->\n<g class=\"node\" id=\"node102\">\n<title>101</title>\n<path d=\"M2649,-773.5C2649,-773.5 2514,-773.5 2514,-773.5 2508,-773.5 2502,-767.5 2502,-761.5 2502,-761.5 2502,-732.5 2502,-732.5 2502,-726.5 2508,-720.5 2514,-720.5 2514,-720.5 2649,-720.5 2649,-720.5 2655,-720.5 2661,-726.5 2661,-732.5 2661,-732.5 2661,-761.5 2661,-761.5 2661,-767.5 2655,-773.5 2649,-773.5\" fill=\"#e58139\" stroke=\"#000000\"/>\n<text fill=\"#000000\" font-family=\"Helvetica,sans-Serif\" font-size=\"14.00\" text-anchor=\"middle\" x=\"2581.5\" y=\"-758.3\">gini = 0.0</text>\n<text fill=\"#000000\" font-family=\"Helvetica,sans-Serif\" font-size=\"14.00\" text-anchor=\"middle\" x=\"2581.5\" y=\"-743.3\">samples = 13</text>\n<text fill=\"#000000\" font-family=\"Helvetica,sans-Serif\" font-size=\"14.00\" text-anchor=\"middle\" x=\"2581.5\" y=\"-728.3\">value = [5.37, 0.0, 0.0]</text>\n</g>\n<!-- 100&#45;&gt;101 -->\n<g class=\"edge\" id=\"edge101\">\n<title>100-&gt;101</title>\n<path d=\"M2709.2869,-816.9465C2686.6481,-804.5547 2661.1779,-790.6132 2638.9687,-778.4565\" fill=\"none\" stroke=\"#000000\"/>\n<polygon fill=\"#000000\" points=\"2640.4429,-775.2735 2629.9905,-773.5422 2637.0819,-781.4138 2640.4429,-775.2735\" stroke=\"#000000\"/>\n</g>\n<!-- 102 -->\n<g class=\"node\" id=\"node103\">\n<title>102</title>\n<path d=\"M2851.5,-781C2851.5,-781 2691.5,-781 2691.5,-781 2685.5,-781 2679.5,-775 2679.5,-769 2679.5,-769 2679.5,-725 2679.5,-725 2679.5,-719 2685.5,-713 2691.5,-713 2691.5,-713 2851.5,-713 2851.5,-713 2857.5,-713 2863.5,-719 2863.5,-725 2863.5,-725 2863.5,-769 2863.5,-769 2863.5,-775 2857.5,-781 2851.5,-781\" fill=\"#d0b5f5\" stroke=\"#000000\"/>\n<text fill=\"#000000\" font-family=\"Helvetica,sans-Serif\" font-size=\"14.00\" text-anchor=\"middle\" x=\"2771.5\" y=\"-765.8\">logNumFriends &lt;= 0.937</text>\n<text fill=\"#000000\" font-family=\"Helvetica,sans-Serif\" font-size=\"14.00\" text-anchor=\"middle\" x=\"2771.5\" y=\"-750.8\">gini = 0.474</text>\n<text fill=\"#000000\" font-family=\"Helvetica,sans-Serif\" font-size=\"14.00\" text-anchor=\"middle\" x=\"2771.5\" y=\"-735.8\">samples = 16</text>\n<text fill=\"#000000\" font-family=\"Helvetica,sans-Serif\" font-size=\"14.00\" text-anchor=\"middle\" x=\"2771.5\" y=\"-720.8\">value = [4.957, 0.0, 7.894]</text>\n</g>\n<!-- 100&#45;&gt;102 -->\n<g class=\"edge\" id=\"edge102\">\n<title>100-&gt;102</title>\n<path d=\"M2771.5,-816.9465C2771.5,-808.776 2771.5,-799.9318 2771.5,-791.3697\" fill=\"none\" stroke=\"#000000\"/>\n<polygon fill=\"#000000\" points=\"2775.0001,-791.13 2771.5,-781.13 2768.0001,-791.13 2775.0001,-791.13\" stroke=\"#000000\"/>\n</g>\n<!-- 103 -->\n<g class=\"node\" id=\"node104\">\n<title>103</title>\n<path d=\"M2598.5,-677C2598.5,-677 2438.5,-677 2438.5,-677 2432.5,-677 2426.5,-671 2426.5,-665 2426.5,-665 2426.5,-621 2426.5,-621 2426.5,-615 2432.5,-609 2438.5,-609 2438.5,-609 2598.5,-609 2598.5,-609 2604.5,-609 2610.5,-615 2610.5,-621 2610.5,-621 2610.5,-665 2610.5,-665 2610.5,-671 2604.5,-677 2598.5,-677\" fill=\"#f0b88f\" stroke=\"#000000\"/>\n<text fill=\"#000000\" font-family=\"Helvetica,sans-Serif\" font-size=\"14.00\" text-anchor=\"middle\" x=\"2518.5\" y=\"-661.8\">Hispanic &lt;= 0.5</text>\n<text fill=\"#000000\" font-family=\"Helvetica,sans-Serif\" font-size=\"14.00\" text-anchor=\"middle\" x=\"2518.5\" y=\"-646.8\">gini = 0.422</text>\n<text fill=\"#000000\" font-family=\"Helvetica,sans-Serif\" font-size=\"14.00\" text-anchor=\"middle\" x=\"2518.5\" y=\"-631.8\">samples = 12</text>\n<text fill=\"#000000\" font-family=\"Helvetica,sans-Serif\" font-size=\"14.00\" text-anchor=\"middle\" x=\"2518.5\" y=\"-616.8\">value = [4.544, 0.0, 1.974]</text>\n</g>\n<!-- 102&#45;&gt;103 -->\n<g class=\"edge\" id=\"edge103\">\n<title>102-&gt;103</title>\n<path d=\"M2688.6583,-712.9465C2663.7584,-702.711 2636.2863,-691.4181 2610.8135,-680.9471\" fill=\"none\" stroke=\"#000000\"/>\n<polygon fill=\"#000000\" points=\"2612.1076,-677.6949 2601.5278,-677.13 2609.4461,-684.1692 2612.1076,-677.6949\" stroke=\"#000000\"/>\n</g>\n<!-- 108 -->\n<g class=\"node\" id=\"node109\">\n<title>108</title>\n<path d=\"M2851.5,-677C2851.5,-677 2691.5,-677 2691.5,-677 2685.5,-677 2679.5,-671 2679.5,-665 2679.5,-665 2679.5,-621 2679.5,-621 2679.5,-615 2685.5,-609 2691.5,-609 2691.5,-609 2851.5,-609 2851.5,-609 2857.5,-609 2863.5,-615 2863.5,-621 2863.5,-621 2863.5,-665 2863.5,-665 2863.5,-671 2857.5,-677 2851.5,-677\" fill=\"#8a47e7\" stroke=\"#000000\"/>\n<text fill=\"#000000\" font-family=\"Helvetica,sans-Serif\" font-size=\"14.00\" text-anchor=\"middle\" x=\"2771.5\" y=\"-661.8\">Age &lt;= 19.5</text>\n<text fill=\"#000000\" font-family=\"Helvetica,sans-Serif\" font-size=\"14.00\" text-anchor=\"middle\" x=\"2771.5\" y=\"-646.8\">gini = 0.122</text>\n<text fill=\"#000000\" font-family=\"Helvetica,sans-Serif\" font-size=\"14.00\" text-anchor=\"middle\" x=\"2771.5\" y=\"-631.8\">samples = 4</text>\n<text fill=\"#000000\" font-family=\"Helvetica,sans-Serif\" font-size=\"14.00\" text-anchor=\"middle\" x=\"2771.5\" y=\"-616.8\">value = [0.413, 0.0, 5.921]</text>\n</g>\n<!-- 102&#45;&gt;108 -->\n<g class=\"edge\" id=\"edge108\">\n<title>102-&gt;108</title>\n<path d=\"M2771.5,-712.9465C2771.5,-704.776 2771.5,-695.9318 2771.5,-687.3697\" fill=\"none\" stroke=\"#000000\"/>\n<polygon fill=\"#000000\" points=\"2775.0001,-687.13 2771.5,-677.13 2768.0001,-687.13 2775.0001,-687.13\" stroke=\"#000000\"/>\n</g>\n<!-- 104 -->\n<g class=\"node\" id=\"node105\">\n<title>104</title>\n<path d=\"M2396,-565.5C2396,-565.5 2253,-565.5 2253,-565.5 2247,-565.5 2241,-559.5 2241,-553.5 2241,-553.5 2241,-524.5 2241,-524.5 2241,-518.5 2247,-512.5 2253,-512.5 2253,-512.5 2396,-512.5 2396,-512.5 2402,-512.5 2408,-518.5 2408,-524.5 2408,-524.5 2408,-553.5 2408,-553.5 2408,-559.5 2402,-565.5 2396,-565.5\" fill=\"#e58139\" stroke=\"#000000\"/>\n<text fill=\"#000000\" font-family=\"Helvetica,sans-Serif\" font-size=\"14.00\" text-anchor=\"middle\" x=\"2324.5\" y=\"-550.3\">gini = 0.0</text>\n<text fill=\"#000000\" font-family=\"Helvetica,sans-Serif\" font-size=\"14.00\" text-anchor=\"middle\" x=\"2324.5\" y=\"-535.3\">samples = 10</text>\n<text fill=\"#000000\" font-family=\"Helvetica,sans-Serif\" font-size=\"14.00\" text-anchor=\"middle\" x=\"2324.5\" y=\"-520.3\">value = [4.131, 0.0, 0.0]</text>\n</g>\n<!-- 103&#45;&gt;104 -->\n<g class=\"edge\" id=\"edge104\">\n<title>103-&gt;104</title>\n<path d=\"M2454.9771,-608.9465C2431.759,-596.4997 2405.6241,-582.4892 2382.8764,-570.2946\" fill=\"none\" stroke=\"#000000\"/>\n<polygon fill=\"#000000\" points=\"2384.4785,-567.1822 2374.0113,-565.5422 2381.1711,-573.3517 2384.4785,-567.1822\" stroke=\"#000000\"/>\n</g>\n<!-- 105 -->\n<g class=\"node\" id=\"node106\">\n<title>105</title>\n<path d=\"M2598.5,-573C2598.5,-573 2438.5,-573 2438.5,-573 2432.5,-573 2426.5,-567 2426.5,-561 2426.5,-561 2426.5,-517 2426.5,-517 2426.5,-511 2432.5,-505 2438.5,-505 2438.5,-505 2598.5,-505 2598.5,-505 2604.5,-505 2610.5,-511 2610.5,-517 2610.5,-517 2610.5,-561 2610.5,-561 2610.5,-567 2604.5,-573 2598.5,-573\" fill=\"#9b62ea\" stroke=\"#000000\"/>\n<text fill=\"#000000\" font-family=\"Helvetica,sans-Serif\" font-size=\"14.00\" text-anchor=\"middle\" x=\"2518.5\" y=\"-557.8\">logNumFriends &lt;= 0.419</text>\n<text fill=\"#000000\" font-family=\"Helvetica,sans-Serif\" font-size=\"14.00\" text-anchor=\"middle\" x=\"2518.5\" y=\"-542.8\">gini = 0.286</text>\n<text fill=\"#000000\" font-family=\"Helvetica,sans-Serif\" font-size=\"14.00\" text-anchor=\"middle\" x=\"2518.5\" y=\"-527.8\">samples = 2</text>\n<text fill=\"#000000\" font-family=\"Helvetica,sans-Serif\" font-size=\"14.00\" text-anchor=\"middle\" x=\"2518.5\" y=\"-512.8\">value = [0.413, 0.0, 1.974]</text>\n</g>\n<!-- 103&#45;&gt;105 -->\n<g class=\"edge\" id=\"edge105\">\n<title>103-&gt;105</title>\n<path d=\"M2518.5,-608.9465C2518.5,-600.776 2518.5,-591.9318 2518.5,-583.3697\" fill=\"none\" stroke=\"#000000\"/>\n<polygon fill=\"#000000\" points=\"2522.0001,-583.13 2518.5,-573.13 2515.0001,-583.13 2522.0001,-583.13\" stroke=\"#000000\"/>\n</g>\n<!-- 106 -->\n<g class=\"node\" id=\"node107\">\n<title>106</title>\n<path d=\"M2558,-461.5C2558,-461.5 2415,-461.5 2415,-461.5 2409,-461.5 2403,-455.5 2403,-449.5 2403,-449.5 2403,-420.5 2403,-420.5 2403,-414.5 2409,-408.5 2415,-408.5 2415,-408.5 2558,-408.5 2558,-408.5 2564,-408.5 2570,-414.5 2570,-420.5 2570,-420.5 2570,-449.5 2570,-449.5 2570,-455.5 2564,-461.5 2558,-461.5\" fill=\"#8139e5\" stroke=\"#000000\"/>\n<text fill=\"#000000\" font-family=\"Helvetica,sans-Serif\" font-size=\"14.00\" text-anchor=\"middle\" x=\"2486.5\" y=\"-446.3\">gini = 0.0</text>\n<text fill=\"#000000\" font-family=\"Helvetica,sans-Serif\" font-size=\"14.00\" text-anchor=\"middle\" x=\"2486.5\" y=\"-431.3\">samples = 1</text>\n<text fill=\"#000000\" font-family=\"Helvetica,sans-Serif\" font-size=\"14.00\" text-anchor=\"middle\" x=\"2486.5\" y=\"-416.3\">value = [0.0, 0.0, 1.974]</text>\n</g>\n<!-- 105&#45;&gt;106 -->\n<g class=\"edge\" id=\"edge106\">\n<title>105-&gt;106</title>\n<path d=\"M2508.022,-504.9465C2504.7006,-494.1519 2501.0173,-482.1813 2497.6504,-471.2389\" fill=\"none\" stroke=\"#000000\"/>\n<polygon fill=\"#000000\" points=\"2500.953,-470.0706 2494.6668,-461.5422 2494.2625,-472.1293 2500.953,-470.0706\" stroke=\"#000000\"/>\n</g>\n<!-- 107 -->\n<g class=\"node\" id=\"node108\">\n<title>107</title>\n<path d=\"M2743,-461.5C2743,-461.5 2600,-461.5 2600,-461.5 2594,-461.5 2588,-455.5 2588,-449.5 2588,-449.5 2588,-420.5 2588,-420.5 2588,-414.5 2594,-408.5 2600,-408.5 2600,-408.5 2743,-408.5 2743,-408.5 2749,-408.5 2755,-414.5 2755,-420.5 2755,-420.5 2755,-449.5 2755,-449.5 2755,-455.5 2749,-461.5 2743,-461.5\" fill=\"#e58139\" stroke=\"#000000\"/>\n<text fill=\"#000000\" font-family=\"Helvetica,sans-Serif\" font-size=\"14.00\" text-anchor=\"middle\" x=\"2671.5\" y=\"-446.3\">gini = -0.0</text>\n<text fill=\"#000000\" font-family=\"Helvetica,sans-Serif\" font-size=\"14.00\" text-anchor=\"middle\" x=\"2671.5\" y=\"-431.3\">samples = 1</text>\n<text fill=\"#000000\" font-family=\"Helvetica,sans-Serif\" font-size=\"14.00\" text-anchor=\"middle\" x=\"2671.5\" y=\"-416.3\">value = [0.413, 0.0, 0.0]</text>\n</g>\n<!-- 105&#45;&gt;107 -->\n<g class=\"edge\" id=\"edge107\">\n<title>105-&gt;107</title>\n<path d=\"M2568.5979,-504.9465C2586.423,-492.8301 2606.4279,-479.232 2624.0265,-467.2696\" fill=\"none\" stroke=\"#000000\"/>\n<polygon fill=\"#000000\" points=\"2626.1497,-470.0584 2632.4524,-461.5422 2622.2145,-464.2692 2626.1497,-470.0584\" stroke=\"#000000\"/>\n</g>\n<!-- 109 -->\n<g class=\"node\" id=\"node110\">\n<title>109</title>\n<path d=\"M2784,-565.5C2784,-565.5 2641,-565.5 2641,-565.5 2635,-565.5 2629,-559.5 2629,-553.5 2629,-553.5 2629,-524.5 2629,-524.5 2629,-518.5 2635,-512.5 2641,-512.5 2641,-512.5 2784,-512.5 2784,-512.5 2790,-512.5 2796,-518.5 2796,-524.5 2796,-524.5 2796,-553.5 2796,-553.5 2796,-559.5 2790,-565.5 2784,-565.5\" fill=\"#8139e5\" stroke=\"#000000\"/>\n<text fill=\"#000000\" font-family=\"Helvetica,sans-Serif\" font-size=\"14.00\" text-anchor=\"middle\" x=\"2712.5\" y=\"-550.3\">gini = -0.0</text>\n<text fill=\"#000000\" font-family=\"Helvetica,sans-Serif\" font-size=\"14.00\" text-anchor=\"middle\" x=\"2712.5\" y=\"-535.3\">samples = 3</text>\n<text fill=\"#000000\" font-family=\"Helvetica,sans-Serif\" font-size=\"14.00\" text-anchor=\"middle\" x=\"2712.5\" y=\"-520.3\">value = [0.0, 0.0, 5.921]</text>\n</g>\n<!-- 108&#45;&gt;109 -->\n<g class=\"edge\" id=\"edge109\">\n<title>108-&gt;109</title>\n<path d=\"M2752.1812,-608.9465C2745.9324,-597.9316 2738.9888,-585.6922 2732.6793,-574.5703\" fill=\"none\" stroke=\"#000000\"/>\n<polygon fill=\"#000000\" points=\"2735.5362,-572.513 2727.5576,-565.5422 2729.4477,-575.967 2735.5362,-572.513\" stroke=\"#000000\"/>\n</g>\n<!-- 110 -->\n<g class=\"node\" id=\"node111\">\n<title>110</title>\n<path d=\"M2969,-565.5C2969,-565.5 2826,-565.5 2826,-565.5 2820,-565.5 2814,-559.5 2814,-553.5 2814,-553.5 2814,-524.5 2814,-524.5 2814,-518.5 2820,-512.5 2826,-512.5 2826,-512.5 2969,-512.5 2969,-512.5 2975,-512.5 2981,-518.5 2981,-524.5 2981,-524.5 2981,-553.5 2981,-553.5 2981,-559.5 2975,-565.5 2969,-565.5\" fill=\"#e58139\" stroke=\"#000000\"/>\n<text fill=\"#000000\" font-family=\"Helvetica,sans-Serif\" font-size=\"14.00\" text-anchor=\"middle\" x=\"2897.5\" y=\"-550.3\">gini = 0.0</text>\n<text fill=\"#000000\" font-family=\"Helvetica,sans-Serif\" font-size=\"14.00\" text-anchor=\"middle\" x=\"2897.5\" y=\"-535.3\">samples = 1</text>\n<text fill=\"#000000\" font-family=\"Helvetica,sans-Serif\" font-size=\"14.00\" text-anchor=\"middle\" x=\"2897.5\" y=\"-520.3\">value = [0.413, 0.0, 0.0]</text>\n</g>\n<!-- 108&#45;&gt;110 -->\n<g class=\"edge\" id=\"edge110\">\n<title>108-&gt;110</title>\n<path d=\"M2812.7571,-608.9465C2827.1697,-597.0504 2843.3127,-583.726 2857.6117,-571.9237\" fill=\"none\" stroke=\"#000000\"/>\n<polygon fill=\"#000000\" points=\"2859.8589,-574.6071 2865.3431,-565.5422 2855.4029,-569.2086 2859.8589,-574.6071\" stroke=\"#000000\"/>\n</g>\n<!-- 114 -->\n<g class=\"node\" id=\"node115\">\n<title>114</title>\n<path d=\"M3439,-981.5C3439,-981.5 3304,-981.5 3304,-981.5 3298,-981.5 3292,-975.5 3292,-969.5 3292,-969.5 3292,-940.5 3292,-940.5 3292,-934.5 3298,-928.5 3304,-928.5 3304,-928.5 3439,-928.5 3439,-928.5 3445,-928.5 3451,-934.5 3451,-940.5 3451,-940.5 3451,-969.5 3451,-969.5 3451,-975.5 3445,-981.5 3439,-981.5\" fill=\"#e58139\" stroke=\"#000000\"/>\n<text fill=\"#000000\" font-family=\"Helvetica,sans-Serif\" font-size=\"14.00\" text-anchor=\"middle\" x=\"3371.5\" y=\"-966.3\">gini = 0.0</text>\n<text fill=\"#000000\" font-family=\"Helvetica,sans-Serif\" font-size=\"14.00\" text-anchor=\"middle\" x=\"3371.5\" y=\"-951.3\">samples = 13</text>\n<text fill=\"#000000\" font-family=\"Helvetica,sans-Serif\" font-size=\"14.00\" text-anchor=\"middle\" x=\"3371.5\" y=\"-936.3\">value = [5.37, 0.0, 0.0]</text>\n</g>\n<!-- 113&#45;&gt;114 -->\n<g class=\"edge\" id=\"edge114\">\n<title>113-&gt;114</title>\n<path d=\"M3383.6061,-1024.9465C3381.7569,-1014.2621 3379.7082,-1002.4254 3377.8302,-991.5742\" fill=\"none\" stroke=\"#000000\"/>\n<polygon fill=\"#000000\" points=\"3381.2481,-990.7987 3376.0938,-981.5422 3374.3506,-991.9926 3381.2481,-990.7987\" stroke=\"#000000\"/>\n</g>\n<!-- 115 -->\n<g class=\"node\" id=\"node116\">\n<title>115</title>\n<path d=\"M3649.5,-989C3649.5,-989 3481.5,-989 3481.5,-989 3475.5,-989 3469.5,-983 3469.5,-977 3469.5,-977 3469.5,-933 3469.5,-933 3469.5,-927 3475.5,-921 3481.5,-921 3481.5,-921 3649.5,-921 3649.5,-921 3655.5,-921 3661.5,-927 3661.5,-933 3661.5,-933 3661.5,-977 3661.5,-977 3661.5,-983 3655.5,-989 3649.5,-989\" fill=\"#a977ed\" stroke=\"#000000\"/>\n<text fill=\"#000000\" font-family=\"Helvetica,sans-Serif\" font-size=\"14.00\" text-anchor=\"middle\" x=\"3565.5\" y=\"-973.8\">Normal weight &lt;= 0.5</text>\n<text fill=\"#000000\" font-family=\"Helvetica,sans-Serif\" font-size=\"14.00\" text-anchor=\"middle\" x=\"3565.5\" y=\"-958.8\">gini = 0.364</text>\n<text fill=\"#000000\" font-family=\"Helvetica,sans-Serif\" font-size=\"14.00\" text-anchor=\"middle\" x=\"3565.5\" y=\"-943.8\">samples = 25</text>\n<text fill=\"#000000\" font-family=\"Helvetica,sans-Serif\" font-size=\"14.00\" text-anchor=\"middle\" x=\"3565.5\" y=\"-928.8\">value = [6.196, 0.0, 19.735]</text>\n</g>\n<!-- 113&#45;&gt;115 -->\n<g class=\"edge\" id=\"edge115\">\n<title>113-&gt;115</title>\n<path d=\"M3447.129,-1024.9465C3463.6909,-1015.1599 3481.8888,-1004.4066 3498.9425,-994.3294\" fill=\"none\" stroke=\"#000000\"/>\n<polygon fill=\"#000000\" points=\"3500.9128,-997.2306 3507.7415,-989.13 3497.3517,-991.2041 3500.9128,-997.2306\" stroke=\"#000000\"/>\n</g>\n<!-- 116 -->\n<g class=\"node\" id=\"node117\">\n<title>116</title>\n<path d=\"M3552.5,-885C3552.5,-885 3384.5,-885 3384.5,-885 3378.5,-885 3372.5,-879 3372.5,-873 3372.5,-873 3372.5,-829 3372.5,-829 3372.5,-823 3378.5,-817 3384.5,-817 3384.5,-817 3552.5,-817 3552.5,-817 3558.5,-817 3564.5,-823 3564.5,-829 3564.5,-829 3564.5,-873 3564.5,-873 3564.5,-879 3558.5,-885 3552.5,-885\" fill=\"#9153e8\" stroke=\"#000000\"/>\n<text fill=\"#000000\" font-family=\"Helvetica,sans-Serif\" font-size=\"14.00\" text-anchor=\"middle\" x=\"3468.5\" y=\"-869.8\">logNumFriends &lt;= 1.52</text>\n<text fill=\"#000000\" font-family=\"Helvetica,sans-Serif\" font-size=\"14.00\" text-anchor=\"middle\" x=\"3468.5\" y=\"-854.8\">gini = 0.205</text>\n<text fill=\"#000000\" font-family=\"Helvetica,sans-Serif\" font-size=\"14.00\" text-anchor=\"middle\" x=\"3468.5\" y=\"-839.8\">samples = 13</text>\n<text fill=\"#000000\" font-family=\"Helvetica,sans-Serif\" font-size=\"14.00\" text-anchor=\"middle\" x=\"3468.5\" y=\"-824.8\">value = [2.065, 0.0, 15.788]</text>\n</g>\n<!-- 115&#45;&gt;116 -->\n<g class=\"edge\" id=\"edge116\">\n<title>115-&gt;116</title>\n<path d=\"M3533.7386,-920.9465C3525.2806,-911.8782 3516.0486,-901.9799 3507.2613,-892.5585\" fill=\"none\" stroke=\"#000000\"/>\n<polygon fill=\"#000000\" points=\"3509.713,-890.0557 3500.3328,-885.13 3504.594,-894.8302 3509.713,-890.0557\" stroke=\"#000000\"/>\n</g>\n<!-- 125 -->\n<g class=\"node\" id=\"node126\">\n<title>125</title>\n<path d=\"M3754.5,-885C3754.5,-885 3594.5,-885 3594.5,-885 3588.5,-885 3582.5,-879 3582.5,-873 3582.5,-873 3582.5,-829 3582.5,-829 3582.5,-823 3588.5,-817 3594.5,-817 3594.5,-817 3754.5,-817 3754.5,-817 3760.5,-817 3766.5,-823 3766.5,-829 3766.5,-829 3766.5,-873 3766.5,-873 3766.5,-879 3760.5,-885 3754.5,-885\" fill=\"#fef9f6\" stroke=\"#000000\"/>\n<text fill=\"#000000\" font-family=\"Helvetica,sans-Serif\" font-size=\"14.00\" text-anchor=\"middle\" x=\"3674.5\" y=\"-869.8\">logNumFriends &lt;= 1.61</text>\n<text fill=\"#000000\" font-family=\"Helvetica,sans-Serif\" font-size=\"14.00\" text-anchor=\"middle\" x=\"3674.5\" y=\"-854.8\">gini = 0.5</text>\n<text fill=\"#000000\" font-family=\"Helvetica,sans-Serif\" font-size=\"14.00\" text-anchor=\"middle\" x=\"3674.5\" y=\"-839.8\">samples = 12</text>\n<text fill=\"#000000\" font-family=\"Helvetica,sans-Serif\" font-size=\"14.00\" text-anchor=\"middle\" x=\"3674.5\" y=\"-824.8\">value = [4.131, 0.0, 3.947]</text>\n</g>\n<!-- 115&#45;&gt;125 -->\n<g class=\"edge\" id=\"edge125\">\n<title>115-&gt;125</title>\n<path d=\"M3601.1907,-920.9465C3610.7891,-911.7884 3621.2747,-901.7838 3631.2366,-892.2788\" fill=\"none\" stroke=\"#000000\"/>\n<polygon fill=\"#000000\" points=\"3633.9102,-894.5655 3638.7291,-885.13 3629.0779,-889.5009 3633.9102,-894.5655\" stroke=\"#000000\"/>\n</g>\n<!-- 117 -->\n<g class=\"node\" id=\"node118\">\n<title>117</title>\n<path d=\"M3345.5,-781C3345.5,-781 3185.5,-781 3185.5,-781 3179.5,-781 3173.5,-775 3173.5,-769 3173.5,-769 3173.5,-725 3173.5,-725 3173.5,-719 3179.5,-713 3185.5,-713 3185.5,-713 3345.5,-713 3345.5,-713 3351.5,-713 3357.5,-719 3357.5,-725 3357.5,-725 3357.5,-769 3357.5,-769 3357.5,-775 3351.5,-781 3345.5,-781\" fill=\"#8641e6\" stroke=\"#000000\"/>\n<text fill=\"#000000\" font-family=\"Helvetica,sans-Serif\" font-size=\"14.00\" text-anchor=\"middle\" x=\"3265.5\" y=\"-765.8\">Age &lt;= 19.0</text>\n<text fill=\"#000000\" font-family=\"Helvetica,sans-Serif\" font-size=\"14.00\" text-anchor=\"middle\" x=\"3265.5\" y=\"-750.8\">gini = 0.077</text>\n<text fill=\"#000000\" font-family=\"Helvetica,sans-Serif\" font-size=\"14.00\" text-anchor=\"middle\" x=\"3265.5\" y=\"-735.8\">samples = 6</text>\n<text fill=\"#000000\" font-family=\"Helvetica,sans-Serif\" font-size=\"14.00\" text-anchor=\"middle\" x=\"3265.5\" y=\"-720.8\">value = [0.413, 0.0, 9.868]</text>\n</g>\n<!-- 116&#45;&gt;117 -->\n<g class=\"edge\" id=\"edge117\">\n<title>116-&gt;117</title>\n<path d=\"M3402.0302,-816.9465C3382.577,-806.9803 3361.1671,-796.0117 3341.1866,-785.7754\" fill=\"none\" stroke=\"#000000\"/>\n<polygon fill=\"#000000\" points=\"3342.615,-782.5747 3332.1191,-781.13 3339.4233,-788.8047 3342.615,-782.5747\" stroke=\"#000000\"/>\n</g>\n<!-- 122 -->\n<g class=\"node\" id=\"node123\">\n<title>122</title>\n<path d=\"M3557.5,-781C3557.5,-781 3387.5,-781 3387.5,-781 3381.5,-781 3375.5,-775 3375.5,-769 3375.5,-769 3375.5,-725 3375.5,-725 3375.5,-719 3381.5,-713 3387.5,-713 3387.5,-713 3557.5,-713 3557.5,-713 3563.5,-713 3569.5,-719 3569.5,-725 3569.5,-725 3569.5,-769 3569.5,-769 3569.5,-775 3563.5,-781 3557.5,-781\" fill=\"#a470ec\" stroke=\"#000000\"/>\n<text fill=\"#000000\" font-family=\"Helvetica,sans-Serif\" font-size=\"14.00\" text-anchor=\"middle\" x=\"3472.5\" y=\"-765.8\">CollegeOrEquivalent &lt;= 0.5</text>\n<text fill=\"#000000\" font-family=\"Helvetica,sans-Serif\" font-size=\"14.00\" text-anchor=\"middle\" x=\"3472.5\" y=\"-750.8\">gini = 0.341</text>\n<text fill=\"#000000\" font-family=\"Helvetica,sans-Serif\" font-size=\"14.00\" text-anchor=\"middle\" x=\"3472.5\" y=\"-735.8\">samples = 7</text>\n<text fill=\"#000000\" font-family=\"Helvetica,sans-Serif\" font-size=\"14.00\" text-anchor=\"middle\" x=\"3472.5\" y=\"-720.8\">value = [1.652, 0.0, 5.921]</text>\n</g>\n<!-- 116&#45;&gt;122 -->\n<g class=\"edge\" id=\"edge122\">\n<title>116-&gt;122</title>\n<path d=\"M3469.8097,-816.9465C3470.124,-808.776 3470.4642,-799.9318 3470.7935,-791.3697\" fill=\"none\" stroke=\"#000000\"/>\n<polygon fill=\"#000000\" points=\"3474.3003,-791.2572 3471.1873,-781.13 3467.3055,-790.9881 3474.3003,-791.2572\" stroke=\"#000000\"/>\n</g>\n<!-- 118 -->\n<g class=\"node\" id=\"node119\">\n<title>118</title>\n<path d=\"M3162.5,-677C3162.5,-677 3002.5,-677 3002.5,-677 2996.5,-677 2990.5,-671 2990.5,-665 2990.5,-665 2990.5,-621 2990.5,-621 2990.5,-615 2996.5,-609 3002.5,-609 3002.5,-609 3162.5,-609 3162.5,-609 3168.5,-609 3174.5,-615 3174.5,-621 3174.5,-621 3174.5,-665 3174.5,-665 3174.5,-671 3168.5,-677 3162.5,-677\" fill=\"#9b62ea\" stroke=\"#000000\"/>\n<text fill=\"#000000\" font-family=\"Helvetica,sans-Serif\" font-size=\"14.00\" text-anchor=\"middle\" x=\"3082.5\" y=\"-661.8\">Age &lt;= 17.5</text>\n<text fill=\"#000000\" font-family=\"Helvetica,sans-Serif\" font-size=\"14.00\" text-anchor=\"middle\" x=\"3082.5\" y=\"-646.8\">gini = 0.286</text>\n<text fill=\"#000000\" font-family=\"Helvetica,sans-Serif\" font-size=\"14.00\" text-anchor=\"middle\" x=\"3082.5\" y=\"-631.8\">samples = 2</text>\n<text fill=\"#000000\" font-family=\"Helvetica,sans-Serif\" font-size=\"14.00\" text-anchor=\"middle\" x=\"3082.5\" y=\"-616.8\">value = [0.413, 0.0, 1.974]</text>\n</g>\n<!-- 117&#45;&gt;118 -->\n<g class=\"edge\" id=\"edge118\">\n<title>117-&gt;118</title>\n<path d=\"M3205.579,-712.9465C3188.3583,-703.1599 3169.4367,-692.4066 3151.7046,-682.3294\" fill=\"none\" stroke=\"#000000\"/>\n<polygon fill=\"#000000\" points=\"3152.9791,-679.028 3142.5557,-677.13 3149.5204,-685.1139 3152.9791,-679.028\" stroke=\"#000000\"/>\n</g>\n<!-- 121 -->\n<g class=\"node\" id=\"node122\">\n<title>121</title>\n<path d=\"M3348,-669.5C3348,-669.5 3205,-669.5 3205,-669.5 3199,-669.5 3193,-663.5 3193,-657.5 3193,-657.5 3193,-628.5 3193,-628.5 3193,-622.5 3199,-616.5 3205,-616.5 3205,-616.5 3348,-616.5 3348,-616.5 3354,-616.5 3360,-622.5 3360,-628.5 3360,-628.5 3360,-657.5 3360,-657.5 3360,-663.5 3354,-669.5 3348,-669.5\" fill=\"#8139e5\" stroke=\"#000000\"/>\n<text fill=\"#000000\" font-family=\"Helvetica,sans-Serif\" font-size=\"14.00\" text-anchor=\"middle\" x=\"3276.5\" y=\"-654.3\">gini = -0.0</text>\n<text fill=\"#000000\" font-family=\"Helvetica,sans-Serif\" font-size=\"14.00\" text-anchor=\"middle\" x=\"3276.5\" y=\"-639.3\">samples = 4</text>\n<text fill=\"#000000\" font-family=\"Helvetica,sans-Serif\" font-size=\"14.00\" text-anchor=\"middle\" x=\"3276.5\" y=\"-624.3\">value = [0.0, 0.0, 7.894]</text>\n</g>\n<!-- 117&#45;&gt;121 -->\n<g class=\"edge\" id=\"edge121\">\n<title>117-&gt;121</title>\n<path d=\"M3269.1018,-712.9465C3270.2319,-702.2621 3271.4838,-690.4254 3272.6316,-679.5742\" fill=\"none\" stroke=\"#000000\"/>\n<polygon fill=\"#000000\" points=\"3276.1213,-679.8549 3273.6927,-669.5422 3269.1602,-679.1185 3276.1213,-679.8549\" stroke=\"#000000\"/>\n</g>\n<!-- 119 -->\n<g class=\"node\" id=\"node120\">\n<title>119</title>\n<path d=\"M3154,-565.5C3154,-565.5 3011,-565.5 3011,-565.5 3005,-565.5 2999,-559.5 2999,-553.5 2999,-553.5 2999,-524.5 2999,-524.5 2999,-518.5 3005,-512.5 3011,-512.5 3011,-512.5 3154,-512.5 3154,-512.5 3160,-512.5 3166,-518.5 3166,-524.5 3166,-524.5 3166,-553.5 3166,-553.5 3166,-559.5 3160,-565.5 3154,-565.5\" fill=\"#8139e5\" stroke=\"#000000\"/>\n<text fill=\"#000000\" font-family=\"Helvetica,sans-Serif\" font-size=\"14.00\" text-anchor=\"middle\" x=\"3082.5\" y=\"-550.3\">gini = 0.0</text>\n<text fill=\"#000000\" font-family=\"Helvetica,sans-Serif\" font-size=\"14.00\" text-anchor=\"middle\" x=\"3082.5\" y=\"-535.3\">samples = 1</text>\n<text fill=\"#000000\" font-family=\"Helvetica,sans-Serif\" font-size=\"14.00\" text-anchor=\"middle\" x=\"3082.5\" y=\"-520.3\">value = [0.0, 0.0, 1.974]</text>\n</g>\n<!-- 118&#45;&gt;119 -->\n<g class=\"edge\" id=\"edge119\">\n<title>118-&gt;119</title>\n<path d=\"M3082.5,-608.9465C3082.5,-598.2621 3082.5,-586.4254 3082.5,-575.5742\" fill=\"none\" stroke=\"#000000\"/>\n<polygon fill=\"#000000\" points=\"3086.0001,-575.5421 3082.5,-565.5422 3079.0001,-575.5422 3086.0001,-575.5421\" stroke=\"#000000\"/>\n</g>\n<!-- 120 -->\n<g class=\"node\" id=\"node121\">\n<title>120</title>\n<path d=\"M3339,-565.5C3339,-565.5 3196,-565.5 3196,-565.5 3190,-565.5 3184,-559.5 3184,-553.5 3184,-553.5 3184,-524.5 3184,-524.5 3184,-518.5 3190,-512.5 3196,-512.5 3196,-512.5 3339,-512.5 3339,-512.5 3345,-512.5 3351,-518.5 3351,-524.5 3351,-524.5 3351,-553.5 3351,-553.5 3351,-559.5 3345,-565.5 3339,-565.5\" fill=\"#e58139\" stroke=\"#000000\"/>\n<text fill=\"#000000\" font-family=\"Helvetica,sans-Serif\" font-size=\"14.00\" text-anchor=\"middle\" x=\"3267.5\" y=\"-550.3\">gini = -0.0</text>\n<text fill=\"#000000\" font-family=\"Helvetica,sans-Serif\" font-size=\"14.00\" text-anchor=\"middle\" x=\"3267.5\" y=\"-535.3\">samples = 1</text>\n<text fill=\"#000000\" font-family=\"Helvetica,sans-Serif\" font-size=\"14.00\" text-anchor=\"middle\" x=\"3267.5\" y=\"-520.3\">value = [0.413, 0.0, 0.0]</text>\n</g>\n<!-- 118&#45;&gt;120 -->\n<g class=\"edge\" id=\"edge120\">\n<title>118-&gt;120</title>\n<path d=\"M3143.0759,-608.9465C3165.119,-596.5547 3189.9189,-582.6132 3211.5437,-570.4565\" fill=\"none\" stroke=\"#000000\"/>\n<polygon fill=\"#000000\" points=\"3213.2837,-573.4935 3220.2856,-565.5422 3209.8534,-567.3916 3213.2837,-573.4935\" stroke=\"#000000\"/>\n</g>\n<!-- 123 -->\n<g class=\"node\" id=\"node124\">\n<title>123</title>\n<path d=\"M3533,-669.5C3533,-669.5 3390,-669.5 3390,-669.5 3384,-669.5 3378,-663.5 3378,-657.5 3378,-657.5 3378,-628.5 3378,-628.5 3378,-622.5 3384,-616.5 3390,-616.5 3390,-616.5 3533,-616.5 3533,-616.5 3539,-616.5 3545,-622.5 3545,-628.5 3545,-628.5 3545,-657.5 3545,-657.5 3545,-663.5 3539,-669.5 3533,-669.5\" fill=\"#8139e5\" stroke=\"#000000\"/>\n<text fill=\"#000000\" font-family=\"Helvetica,sans-Serif\" font-size=\"14.00\" text-anchor=\"middle\" x=\"3461.5\" y=\"-654.3\">gini = 0.0</text>\n<text fill=\"#000000\" font-family=\"Helvetica,sans-Serif\" font-size=\"14.00\" text-anchor=\"middle\" x=\"3461.5\" y=\"-639.3\">samples = 3</text>\n<text fill=\"#000000\" font-family=\"Helvetica,sans-Serif\" font-size=\"14.00\" text-anchor=\"middle\" x=\"3461.5\" y=\"-624.3\">value = [0.0, 0.0, 5.921]</text>\n</g>\n<!-- 122&#45;&gt;123 -->\n<g class=\"edge\" id=\"edge123\">\n<title>122-&gt;123</title>\n<path d=\"M3468.8982,-712.9465C3467.7681,-702.2621 3466.5162,-690.4254 3465.3684,-679.5742\" fill=\"none\" stroke=\"#000000\"/>\n<polygon fill=\"#000000\" points=\"3468.8398,-679.1185 3464.3073,-669.5422 3461.8787,-679.8549 3468.8398,-679.1185\" stroke=\"#000000\"/>\n</g>\n<!-- 124 -->\n<g class=\"node\" id=\"node125\">\n<title>124</title>\n<path d=\"M3718,-669.5C3718,-669.5 3575,-669.5 3575,-669.5 3569,-669.5 3563,-663.5 3563,-657.5 3563,-657.5 3563,-628.5 3563,-628.5 3563,-622.5 3569,-616.5 3575,-616.5 3575,-616.5 3718,-616.5 3718,-616.5 3724,-616.5 3730,-622.5 3730,-628.5 3730,-628.5 3730,-657.5 3730,-657.5 3730,-663.5 3724,-669.5 3718,-669.5\" fill=\"#e58139\" stroke=\"#000000\"/>\n<text fill=\"#000000\" font-family=\"Helvetica,sans-Serif\" font-size=\"14.00\" text-anchor=\"middle\" x=\"3646.5\" y=\"-654.3\">gini = -0.0</text>\n<text fill=\"#000000\" font-family=\"Helvetica,sans-Serif\" font-size=\"14.00\" text-anchor=\"middle\" x=\"3646.5\" y=\"-639.3\">samples = 4</text>\n<text fill=\"#000000\" font-family=\"Helvetica,sans-Serif\" font-size=\"14.00\" text-anchor=\"middle\" x=\"3646.5\" y=\"-624.3\">value = [1.652, 0.0, 0.0]</text>\n</g>\n<!-- 122&#45;&gt;124 -->\n<g class=\"edge\" id=\"edge124\">\n<title>122-&gt;124</title>\n<path d=\"M3529.4741,-712.9465C3550.0222,-700.6649 3573.1173,-686.8609 3593.3277,-674.7811\" fill=\"none\" stroke=\"#000000\"/>\n<polygon fill=\"#000000\" points=\"3595.305,-677.6769 3602.0929,-669.5422 3591.7136,-671.6684 3595.305,-677.6769\" stroke=\"#000000\"/>\n</g>\n<!-- 126 -->\n<g class=\"node\" id=\"node127\">\n<title>126</title>\n<path d=\"M3744,-773.5C3744,-773.5 3601,-773.5 3601,-773.5 3595,-773.5 3589,-767.5 3589,-761.5 3589,-761.5 3589,-732.5 3589,-732.5 3589,-726.5 3595,-720.5 3601,-720.5 3601,-720.5 3744,-720.5 3744,-720.5 3750,-720.5 3756,-726.5 3756,-732.5 3756,-732.5 3756,-761.5 3756,-761.5 3756,-767.5 3750,-773.5 3744,-773.5\" fill=\"#e58139\" stroke=\"#000000\"/>\n<text fill=\"#000000\" font-family=\"Helvetica,sans-Serif\" font-size=\"14.00\" text-anchor=\"middle\" x=\"3672.5\" y=\"-758.3\">gini = 0.0</text>\n<text fill=\"#000000\" font-family=\"Helvetica,sans-Serif\" font-size=\"14.00\" text-anchor=\"middle\" x=\"3672.5\" y=\"-743.3\">samples = 8</text>\n<text fill=\"#000000\" font-family=\"Helvetica,sans-Serif\" font-size=\"14.00\" text-anchor=\"middle\" x=\"3672.5\" y=\"-728.3\">value = [3.305, 0.0, 0.0]</text>\n</g>\n<!-- 125&#45;&gt;126 -->\n<g class=\"edge\" id=\"edge126\">\n<title>125-&gt;126</title>\n<path d=\"M3673.8451,-816.9465C3673.6397,-806.2621 3673.412,-794.4254 3673.2034,-783.5742\" fill=\"none\" stroke=\"#000000\"/>\n<polygon fill=\"#000000\" points=\"3676.7021,-783.473 3673.0104,-773.5422 3669.7034,-783.6076 3676.7021,-783.473\" stroke=\"#000000\"/>\n</g>\n<!-- 127 -->\n<g class=\"node\" id=\"node128\">\n<title>127</title>\n<path d=\"M3946.5,-781C3946.5,-781 3786.5,-781 3786.5,-781 3780.5,-781 3774.5,-775 3774.5,-769 3774.5,-769 3774.5,-725 3774.5,-725 3774.5,-719 3780.5,-713 3786.5,-713 3786.5,-713 3946.5,-713 3946.5,-713 3952.5,-713 3958.5,-719 3958.5,-725 3958.5,-725 3958.5,-769 3958.5,-769 3958.5,-775 3952.5,-781 3946.5,-781\" fill=\"#9b62ea\" stroke=\"#000000\"/>\n<text fill=\"#000000\" font-family=\"Helvetica,sans-Serif\" font-size=\"14.00\" text-anchor=\"middle\" x=\"3866.5\" y=\"-765.8\">Age &lt;= 19.5</text>\n<text fill=\"#000000\" font-family=\"Helvetica,sans-Serif\" font-size=\"14.00\" text-anchor=\"middle\" x=\"3866.5\" y=\"-750.8\">gini = 0.286</text>\n<text fill=\"#000000\" font-family=\"Helvetica,sans-Serif\" font-size=\"14.00\" text-anchor=\"middle\" x=\"3866.5\" y=\"-735.8\">samples = 4</text>\n<text fill=\"#000000\" font-family=\"Helvetica,sans-Serif\" font-size=\"14.00\" text-anchor=\"middle\" x=\"3866.5\" y=\"-720.8\">value = [0.826, 0.0, 3.947]</text>\n</g>\n<!-- 125&#45;&gt;127 -->\n<g class=\"edge\" id=\"edge127\">\n<title>125-&gt;127</title>\n<path d=\"M3737.368,-816.9465C3755.6842,-807.0252 3775.8345,-796.1105 3794.6592,-785.9138\" fill=\"none\" stroke=\"#000000\"/>\n<polygon fill=\"#000000\" points=\"3796.3649,-788.9704 3803.4908,-781.13 3793.0308,-782.8154 3796.3649,-788.9704\" stroke=\"#000000\"/>\n</g>\n<!-- 128 -->\n<g class=\"node\" id=\"node129\">\n<title>128</title>\n<path d=\"M3903,-669.5C3903,-669.5 3760,-669.5 3760,-669.5 3754,-669.5 3748,-663.5 3748,-657.5 3748,-657.5 3748,-628.5 3748,-628.5 3748,-622.5 3754,-616.5 3760,-616.5 3760,-616.5 3903,-616.5 3903,-616.5 3909,-616.5 3915,-622.5 3915,-628.5 3915,-628.5 3915,-657.5 3915,-657.5 3915,-663.5 3909,-669.5 3903,-669.5\" fill=\"#8139e5\" stroke=\"#000000\"/>\n<text fill=\"#000000\" font-family=\"Helvetica,sans-Serif\" font-size=\"14.00\" text-anchor=\"middle\" x=\"3831.5\" y=\"-654.3\">gini = 0.0</text>\n<text fill=\"#000000\" font-family=\"Helvetica,sans-Serif\" font-size=\"14.00\" text-anchor=\"middle\" x=\"3831.5\" y=\"-639.3\">samples = 2</text>\n<text fill=\"#000000\" font-family=\"Helvetica,sans-Serif\" font-size=\"14.00\" text-anchor=\"middle\" x=\"3831.5\" y=\"-624.3\">value = [0.0, 0.0, 3.947]</text>\n</g>\n<!-- 127&#45;&gt;128 -->\n<g class=\"edge\" id=\"edge128\">\n<title>127-&gt;128</title>\n<path d=\"M3855.0397,-712.9465C3851.4069,-702.1519 3847.3783,-690.1813 3843.6958,-679.2389\" fill=\"none\" stroke=\"#000000\"/>\n<polygon fill=\"#000000\" points=\"3846.9393,-677.9035 3840.4325,-669.5422 3840.3049,-680.1362 3846.9393,-677.9035\" stroke=\"#000000\"/>\n</g>\n<!-- 129 -->\n<g class=\"node\" id=\"node130\">\n<title>129</title>\n<path d=\"M4088,-669.5C4088,-669.5 3945,-669.5 3945,-669.5 3939,-669.5 3933,-663.5 3933,-657.5 3933,-657.5 3933,-628.5 3933,-628.5 3933,-622.5 3939,-616.5 3945,-616.5 3945,-616.5 4088,-616.5 4088,-616.5 4094,-616.5 4100,-622.5 4100,-628.5 4100,-628.5 4100,-657.5 4100,-657.5 4100,-663.5 4094,-669.5 4088,-669.5\" fill=\"#e58139\" stroke=\"#000000\"/>\n<text fill=\"#000000\" font-family=\"Helvetica,sans-Serif\" font-size=\"14.00\" text-anchor=\"middle\" x=\"4016.5\" y=\"-654.3\">gini = -0.0</text>\n<text fill=\"#000000\" font-family=\"Helvetica,sans-Serif\" font-size=\"14.00\" text-anchor=\"middle\" x=\"4016.5\" y=\"-639.3\">samples = 2</text>\n<text fill=\"#000000\" font-family=\"Helvetica,sans-Serif\" font-size=\"14.00\" text-anchor=\"middle\" x=\"4016.5\" y=\"-624.3\">value = [0.826, 0.0, 0.0]</text>\n</g>\n<!-- 127&#45;&gt;129 -->\n<g class=\"edge\" id=\"edge129\">\n<title>127-&gt;129</title>\n<path d=\"M3915.6156,-712.9465C3933.0912,-700.8301 3952.7038,-687.232 3969.9573,-675.2696\" fill=\"none\" stroke=\"#000000\"/>\n<polygon fill=\"#000000\" points=\"3971.9943,-678.1163 3978.218,-669.5422 3968.0058,-672.3637 3971.9943,-678.1163\" stroke=\"#000000\"/>\n</g>\n<!-- 131 -->\n<g class=\"node\" id=\"node132\">\n<title>131</title>\n<path d=\"M5110,-1093C5110,-1093 4909,-1093 4909,-1093 4903,-1093 4897,-1087 4897,-1081 4897,-1081 4897,-1037 4897,-1037 4897,-1031 4903,-1025 4909,-1025 4909,-1025 5110,-1025 5110,-1025 5116,-1025 5122,-1031 5122,-1037 5122,-1037 5122,-1081 5122,-1081 5122,-1087 5116,-1093 5110,-1093\" fill=\"#f9e3d3\" stroke=\"#000000\"/>\n<text fill=\"#000000\" font-family=\"Helvetica,sans-Serif\" font-size=\"14.00\" text-anchor=\"middle\" x=\"5009.5\" y=\"-1077.8\">Highschool &lt;= 0.5</text>\n<text fill=\"#000000\" font-family=\"Helvetica,sans-Serif\" font-size=\"14.00\" text-anchor=\"middle\" x=\"5009.5\" y=\"-1062.8\">gini = 0.631</text>\n<text fill=\"#000000\" font-family=\"Helvetica,sans-Serif\" font-size=\"14.00\" text-anchor=\"middle\" x=\"5009.5\" y=\"-1047.8\">samples = 89</text>\n<text fill=\"#000000\" font-family=\"Helvetica,sans-Serif\" font-size=\"14.00\" text-anchor=\"middle\" x=\"5009.5\" y=\"-1032.8\">value = [31.806, 13.815, 21.709]</text>\n</g>\n<!-- 130&#45;&gt;131 -->\n<g class=\"edge\" id=\"edge131\">\n<title>130-&gt;131</title>\n<path d=\"M5009.5,-1128.9465C5009.5,-1120.776 5009.5,-1111.9318 5009.5,-1103.3697\" fill=\"none\" stroke=\"#000000\"/>\n<polygon fill=\"#000000\" points=\"5013.0001,-1103.13 5009.5,-1093.13 5006.0001,-1103.13 5013.0001,-1103.13\" stroke=\"#000000\"/>\n</g>\n<!-- 160 -->\n<g class=\"node\" id=\"node161\">\n<title>160</title>\n<path d=\"M6139,-1093C6139,-1093 5946,-1093 5946,-1093 5940,-1093 5934,-1087 5934,-1081 5934,-1081 5934,-1037 5934,-1037 5934,-1031 5940,-1025 5946,-1025 5946,-1025 6139,-1025 6139,-1025 6145,-1025 6151,-1031 6151,-1037 6151,-1037 6151,-1081 6151,-1081 6151,-1087 6145,-1093 6139,-1093\" fill=\"#92f1ba\" stroke=\"#000000\"/>\n<text fill=\"#000000\" font-family=\"Helvetica,sans-Serif\" font-size=\"14.00\" text-anchor=\"middle\" x=\"6042.5\" y=\"-1077.8\">CollegeOrEquivalent &lt;= 0.5</text>\n<text fill=\"#000000\" font-family=\"Helvetica,sans-Serif\" font-size=\"14.00\" text-anchor=\"middle\" x=\"6042.5\" y=\"-1062.8\">gini = 0.506</text>\n<text fill=\"#000000\" font-family=\"Helvetica,sans-Serif\" font-size=\"14.00\" text-anchor=\"middle\" x=\"6042.5\" y=\"-1047.8\">samples = 56</text>\n<text fill=\"#000000\" font-family=\"Helvetica,sans-Serif\" font-size=\"14.00\" text-anchor=\"middle\" x=\"6042.5\" y=\"-1032.8\">value = [19.414, 55.259, 9.868]</text>\n</g>\n<!-- 130&#45;&gt;160 -->\n<g class=\"edge\" id=\"edge160\">\n<title>130-&gt;160</title>\n<path d=\"M5118.0967,-1152.0667C5313.1991,-1132.4243 5721.4955,-1091.318 5923.7436,-1070.9561\" fill=\"none\" stroke=\"#000000\"/>\n<polygon fill=\"#000000\" points=\"5924.2092,-1074.427 5933.8083,-1069.9428 5923.508,-1067.4622 5924.2092,-1074.427\" stroke=\"#000000\"/>\n</g>\n<!-- 132 -->\n<g class=\"node\" id=\"node133\">\n<title>132</title>\n<path d=\"M4785.5,-989C4785.5,-989 4617.5,-989 4617.5,-989 4611.5,-989 4605.5,-983 4605.5,-977 4605.5,-977 4605.5,-933 4605.5,-933 4605.5,-927 4611.5,-921 4617.5,-921 4617.5,-921 4785.5,-921 4785.5,-921 4791.5,-921 4797.5,-927 4797.5,-933 4797.5,-933 4797.5,-977 4797.5,-977 4797.5,-983 4791.5,-989 4785.5,-989\" fill=\"#eead7e\" stroke=\"#000000\"/>\n<text fill=\"#000000\" font-family=\"Helvetica,sans-Serif\" font-size=\"14.00\" text-anchor=\"middle\" x=\"4701.5\" y=\"-973.8\">Male &lt;= 0.5</text>\n<text fill=\"#000000\" font-family=\"Helvetica,sans-Serif\" font-size=\"14.00\" text-anchor=\"middle\" x=\"4701.5\" y=\"-958.8\">gini = 0.382</text>\n<text fill=\"#000000\" font-family=\"Helvetica,sans-Serif\" font-size=\"14.00\" text-anchor=\"middle\" x=\"4701.5\" y=\"-943.8\">samples = 74</text>\n<text fill=\"#000000\" font-family=\"Helvetica,sans-Serif\" font-size=\"14.00\" text-anchor=\"middle\" x=\"4701.5\" y=\"-928.8\">value = [28.502, 0.0, 9.868]</text>\n</g>\n<!-- 131&#45;&gt;132 -->\n<g class=\"edge\" id=\"edge132\">\n<title>131-&gt;132</title>\n<path d=\"M4908.6493,-1024.9465C4876.1547,-1013.9743 4840.0616,-1001.787 4807.2259,-990.6997\" fill=\"none\" stroke=\"#000000\"/>\n<polygon fill=\"#000000\" points=\"4808.1981,-987.3338 4797.6039,-987.4507 4805.9586,-993.9659 4808.1981,-987.3338\" stroke=\"#000000\"/>\n</g>\n<!-- 145 -->\n<g class=\"node\" id=\"node146\">\n<title>145</title>\n<path d=\"M5328,-989C5328,-989 5135,-989 5135,-989 5129,-989 5123,-983 5123,-977 5123,-977 5123,-933 5123,-933 5123,-927 5129,-921 5135,-921 5135,-921 5328,-921 5328,-921 5334,-921 5340,-927 5340,-933 5340,-933 5340,-977 5340,-977 5340,-983 5334,-989 5328,-989\" fill=\"#e8fcf0\" stroke=\"#000000\"/>\n<text fill=\"#000000\" font-family=\"Helvetica,sans-Serif\" font-size=\"14.00\" text-anchor=\"middle\" x=\"5231.5\" y=\"-973.8\">$1 to $10,000 &lt;= 0.5</text>\n<text fill=\"#000000\" font-family=\"Helvetica,sans-Serif\" font-size=\"14.00\" text-anchor=\"middle\" x=\"5231.5\" y=\"-958.8\">gini = 0.592</text>\n<text fill=\"#000000\" font-family=\"Helvetica,sans-Serif\" font-size=\"14.00\" text-anchor=\"middle\" x=\"5231.5\" y=\"-943.8\">samples = 15</text>\n<text fill=\"#000000\" font-family=\"Helvetica,sans-Serif\" font-size=\"14.00\" text-anchor=\"middle\" x=\"5231.5\" y=\"-928.8\">value = [3.305, 13.815, 11.841]</text>\n</g>\n<!-- 131&#45;&gt;145 -->\n<g class=\"edge\" id=\"edge145\">\n<title>131-&gt;145</title>\n<path d=\"M5082.1911,-1024.9465C5103.6567,-1014.8906 5127.3009,-1003.814 5149.3196,-993.4989\" fill=\"none\" stroke=\"#000000\"/>\n<polygon fill=\"#000000\" points=\"5151.0748,-996.5418 5158.6456,-989.13 5148.1052,-990.2028 5151.0748,-996.5418\" stroke=\"#000000\"/>\n</g>\n<!-- 133 -->\n<g class=\"node\" id=\"node134\">\n<title>133</title>\n<path d=\"M4484.5,-885C4484.5,-885 4324.5,-885 4324.5,-885 4318.5,-885 4312.5,-879 4312.5,-873 4312.5,-873 4312.5,-829 4312.5,-829 4312.5,-823 4318.5,-817 4324.5,-817 4324.5,-817 4484.5,-817 4484.5,-817 4490.5,-817 4496.5,-823 4496.5,-829 4496.5,-829 4496.5,-873 4496.5,-873 4496.5,-879 4490.5,-885 4484.5,-885\" fill=\"#bc96f1\" stroke=\"#000000\"/>\n<text fill=\"#000000\" font-family=\"Helvetica,sans-Serif\" font-size=\"14.00\" text-anchor=\"middle\" x=\"4404.5\" y=\"-869.8\">logNumFriends &lt;= 1.271</text>\n<text fill=\"#000000\" font-family=\"Helvetica,sans-Serif\" font-size=\"14.00\" text-anchor=\"middle\" x=\"4404.5\" y=\"-854.8\">gini = 0.435</text>\n<text fill=\"#000000\" font-family=\"Helvetica,sans-Serif\" font-size=\"14.00\" text-anchor=\"middle\" x=\"4404.5\" y=\"-839.8\">samples = 13</text>\n<text fill=\"#000000\" font-family=\"Helvetica,sans-Serif\" font-size=\"14.00\" text-anchor=\"middle\" x=\"4404.5\" y=\"-824.8\">value = [3.718, 0.0, 7.894]</text>\n</g>\n<!-- 132&#45;&gt;133 -->\n<g class=\"edge\" id=\"edge133\">\n<title>132-&gt;133</title>\n<path d=\"M4605.4828,-921.3778C4573.8433,-910.2987 4538.5561,-897.9422 4506.4877,-886.7129\" fill=\"none\" stroke=\"#000000\"/>\n<polygon fill=\"#000000\" points=\"4507.2412,-883.2684 4496.6464,-883.2667 4504.9277,-889.8751 4507.2412,-883.2684\" stroke=\"#000000\"/>\n</g>\n<!-- 140 -->\n<g class=\"node\" id=\"node141\">\n<title>140</title>\n<path d=\"M4785.5,-885C4785.5,-885 4617.5,-885 4617.5,-885 4611.5,-885 4605.5,-879 4605.5,-873 4605.5,-873 4605.5,-829 4605.5,-829 4605.5,-823 4611.5,-817 4617.5,-817 4617.5,-817 4785.5,-817 4785.5,-817 4791.5,-817 4797.5,-823 4797.5,-829 4797.5,-829 4797.5,-873 4797.5,-873 4797.5,-879 4791.5,-885 4785.5,-885\" fill=\"#e78b49\" stroke=\"#000000\"/>\n<text fill=\"#000000\" font-family=\"Helvetica,sans-Serif\" font-size=\"14.00\" text-anchor=\"middle\" x=\"4701.5\" y=\"-869.8\">logNumFriends &lt;= 1.52</text>\n<text fill=\"#000000\" font-family=\"Helvetica,sans-Serif\" font-size=\"14.00\" text-anchor=\"middle\" x=\"4701.5\" y=\"-854.8\">gini = 0.137</text>\n<text fill=\"#000000\" font-family=\"Helvetica,sans-Serif\" font-size=\"14.00\" text-anchor=\"middle\" x=\"4701.5\" y=\"-839.8\">samples = 61</text>\n<text fill=\"#000000\" font-family=\"Helvetica,sans-Serif\" font-size=\"14.00\" text-anchor=\"middle\" x=\"4701.5\" y=\"-824.8\">value = [24.784, 0.0, 1.974]</text>\n</g>\n<!-- 132&#45;&gt;140 -->\n<g class=\"edge\" id=\"edge140\">\n<title>132-&gt;140</title>\n<path d=\"M4701.5,-920.9465C4701.5,-912.776 4701.5,-903.9318 4701.5,-895.3697\" fill=\"none\" stroke=\"#000000\"/>\n<polygon fill=\"#000000\" points=\"4705.0001,-895.13 4701.5,-885.13 4698.0001,-895.13 4705.0001,-895.13\" stroke=\"#000000\"/>\n</g>\n<!-- 134 -->\n<g class=\"node\" id=\"node135\">\n<title>134</title>\n<path d=\"M4282,-773.5C4282,-773.5 4139,-773.5 4139,-773.5 4133,-773.5 4127,-767.5 4127,-761.5 4127,-761.5 4127,-732.5 4127,-732.5 4127,-726.5 4133,-720.5 4139,-720.5 4139,-720.5 4282,-720.5 4282,-720.5 4288,-720.5 4294,-726.5 4294,-732.5 4294,-732.5 4294,-761.5 4294,-761.5 4294,-767.5 4288,-773.5 4282,-773.5\" fill=\"#e58139\" stroke=\"#000000\"/>\n<text fill=\"#000000\" font-family=\"Helvetica,sans-Serif\" font-size=\"14.00\" text-anchor=\"middle\" x=\"4210.5\" y=\"-758.3\">gini = 0.0</text>\n<text fill=\"#000000\" font-family=\"Helvetica,sans-Serif\" font-size=\"14.00\" text-anchor=\"middle\" x=\"4210.5\" y=\"-743.3\">samples = 6</text>\n<text fill=\"#000000\" font-family=\"Helvetica,sans-Serif\" font-size=\"14.00\" text-anchor=\"middle\" x=\"4210.5\" y=\"-728.3\">value = [2.478, 0.0, 0.0]</text>\n</g>\n<!-- 133&#45;&gt;134 -->\n<g class=\"edge\" id=\"edge134\">\n<title>133-&gt;134</title>\n<path d=\"M4340.9771,-816.9465C4317.759,-804.4997 4291.6241,-790.4892 4268.8764,-778.2946\" fill=\"none\" stroke=\"#000000\"/>\n<polygon fill=\"#000000\" points=\"4270.4785,-775.1822 4260.0113,-773.5422 4267.1711,-781.3517 4270.4785,-775.1822\" stroke=\"#000000\"/>\n</g>\n<!-- 135 -->\n<g class=\"node\" id=\"node136\">\n<title>135</title>\n<path d=\"M4484.5,-781C4484.5,-781 4324.5,-781 4324.5,-781 4318.5,-781 4312.5,-775 4312.5,-769 4312.5,-769 4312.5,-725 4312.5,-725 4312.5,-719 4318.5,-713 4324.5,-713 4324.5,-713 4484.5,-713 4484.5,-713 4490.5,-713 4496.5,-719 4496.5,-725 4496.5,-725 4496.5,-769 4496.5,-769 4496.5,-775 4490.5,-781 4484.5,-781\" fill=\"#9558e9\" stroke=\"#000000\"/>\n<text fill=\"#000000\" font-family=\"Helvetica,sans-Serif\" font-size=\"14.00\" text-anchor=\"middle\" x=\"4404.5\" y=\"-765.8\">Normal weight &lt;= 0.5</text>\n<text fill=\"#000000\" font-family=\"Helvetica,sans-Serif\" font-size=\"14.00\" text-anchor=\"middle\" x=\"4404.5\" y=\"-750.8\">gini = 0.235</text>\n<text fill=\"#000000\" font-family=\"Helvetica,sans-Serif\" font-size=\"14.00\" text-anchor=\"middle\" x=\"4404.5\" y=\"-735.8\">samples = 7</text>\n<text fill=\"#000000\" font-family=\"Helvetica,sans-Serif\" font-size=\"14.00\" text-anchor=\"middle\" x=\"4404.5\" y=\"-720.8\">value = [1.239, 0.0, 7.894]</text>\n</g>\n<!-- 133&#45;&gt;135 -->\n<g class=\"edge\" id=\"edge135\">\n<title>133-&gt;135</title>\n<path d=\"M4404.5,-816.9465C4404.5,-808.776 4404.5,-799.9318 4404.5,-791.3697\" fill=\"none\" stroke=\"#000000\"/>\n<polygon fill=\"#000000\" points=\"4408.0001,-791.13 4404.5,-781.13 4401.0001,-791.13 4408.0001,-791.13\" stroke=\"#000000\"/>\n</g>\n<!-- 136 -->\n<g class=\"node\" id=\"node137\">\n<title>136</title>\n<path d=\"M4273,-669.5C4273,-669.5 4130,-669.5 4130,-669.5 4124,-669.5 4118,-663.5 4118,-657.5 4118,-657.5 4118,-628.5 4118,-628.5 4118,-622.5 4124,-616.5 4130,-616.5 4130,-616.5 4273,-616.5 4273,-616.5 4279,-616.5 4285,-622.5 4285,-628.5 4285,-628.5 4285,-657.5 4285,-657.5 4285,-663.5 4279,-669.5 4273,-669.5\" fill=\"#e58139\" stroke=\"#000000\"/>\n<text fill=\"#000000\" font-family=\"Helvetica,sans-Serif\" font-size=\"14.00\" text-anchor=\"middle\" x=\"4201.5\" y=\"-654.3\">gini = 0.0</text>\n<text fill=\"#000000\" font-family=\"Helvetica,sans-Serif\" font-size=\"14.00\" text-anchor=\"middle\" x=\"4201.5\" y=\"-639.3\">samples = 2</text>\n<text fill=\"#000000\" font-family=\"Helvetica,sans-Serif\" font-size=\"14.00\" text-anchor=\"middle\" x=\"4201.5\" y=\"-624.3\">value = [0.826, 0.0, 0.0]</text>\n</g>\n<!-- 135&#45;&gt;136 -->\n<g class=\"edge\" id=\"edge136\">\n<title>135-&gt;136</title>\n<path d=\"M4338.0302,-712.9465C4313.6274,-700.4446 4286.1455,-686.3652 4262.2688,-674.1328\" fill=\"none\" stroke=\"#000000\"/>\n<polygon fill=\"#000000\" points=\"4263.8042,-670.9868 4253.3083,-669.5422 4260.6124,-677.2168 4263.8042,-670.9868\" stroke=\"#000000\"/>\n</g>\n<!-- 137 -->\n<g class=\"node\" id=\"node138\">\n<title>137</title>\n<path d=\"M4493.5,-677C4493.5,-677 4315.5,-677 4315.5,-677 4309.5,-677 4303.5,-671 4303.5,-665 4303.5,-665 4303.5,-621 4303.5,-621 4303.5,-615 4309.5,-609 4315.5,-609 4315.5,-609 4493.5,-609 4493.5,-609 4499.5,-609 4505.5,-615 4505.5,-621 4505.5,-621 4505.5,-665 4505.5,-665 4505.5,-671 4499.5,-677 4493.5,-677\" fill=\"#8843e6\" stroke=\"#000000\"/>\n<text fill=\"#000000\" font-family=\"Helvetica,sans-Serif\" font-size=\"14.00\" text-anchor=\"middle\" x=\"4404.5\" y=\"-661.8\">No_WouldPayForSex &lt;= 0.5</text>\n<text fill=\"#000000\" font-family=\"Helvetica,sans-Serif\" font-size=\"14.00\" text-anchor=\"middle\" x=\"4404.5\" y=\"-646.8\">gini = 0.095</text>\n<text fill=\"#000000\" font-family=\"Helvetica,sans-Serif\" font-size=\"14.00\" text-anchor=\"middle\" x=\"4404.5\" y=\"-631.8\">samples = 5</text>\n<text fill=\"#000000\" font-family=\"Helvetica,sans-Serif\" font-size=\"14.00\" text-anchor=\"middle\" x=\"4404.5\" y=\"-616.8\">value = [0.413, 0.0, 7.894]</text>\n</g>\n<!-- 135&#45;&gt;137 -->\n<g class=\"edge\" id=\"edge137\">\n<title>135-&gt;137</title>\n<path d=\"M4404.5,-712.9465C4404.5,-704.776 4404.5,-695.9318 4404.5,-687.3697\" fill=\"none\" stroke=\"#000000\"/>\n<polygon fill=\"#000000\" points=\"4408.0001,-687.13 4404.5,-677.13 4401.0001,-687.13 4408.0001,-687.13\" stroke=\"#000000\"/>\n</g>\n<!-- 138 -->\n<g class=\"node\" id=\"node139\">\n<title>138</title>\n<path d=\"M4384,-565.5C4384,-565.5 4241,-565.5 4241,-565.5 4235,-565.5 4229,-559.5 4229,-553.5 4229,-553.5 4229,-524.5 4229,-524.5 4229,-518.5 4235,-512.5 4241,-512.5 4241,-512.5 4384,-512.5 4384,-512.5 4390,-512.5 4396,-518.5 4396,-524.5 4396,-524.5 4396,-553.5 4396,-553.5 4396,-559.5 4390,-565.5 4384,-565.5\" fill=\"#e58139\" stroke=\"#000000\"/>\n<text fill=\"#000000\" font-family=\"Helvetica,sans-Serif\" font-size=\"14.00\" text-anchor=\"middle\" x=\"4312.5\" y=\"-550.3\">gini = 0.0</text>\n<text fill=\"#000000\" font-family=\"Helvetica,sans-Serif\" font-size=\"14.00\" text-anchor=\"middle\" x=\"4312.5\" y=\"-535.3\">samples = 1</text>\n<text fill=\"#000000\" font-family=\"Helvetica,sans-Serif\" font-size=\"14.00\" text-anchor=\"middle\" x=\"4312.5\" y=\"-520.3\">value = [0.413, 0.0, 0.0]</text>\n</g>\n<!-- 137&#45;&gt;138 -->\n<g class=\"edge\" id=\"edge138\">\n<title>137-&gt;138</title>\n<path d=\"M4374.3758,-608.9465C4364.242,-597.491 4352.9367,-584.711 4342.7903,-573.2412\" fill=\"none\" stroke=\"#000000\"/>\n<polygon fill=\"#000000\" points=\"4345.2269,-570.7131 4335.9796,-565.5422 4339.9839,-575.3512 4345.2269,-570.7131\" stroke=\"#000000\"/>\n</g>\n<!-- 139 -->\n<g class=\"node\" id=\"node140\">\n<title>139</title>\n<path d=\"M4569,-565.5C4569,-565.5 4426,-565.5 4426,-565.5 4420,-565.5 4414,-559.5 4414,-553.5 4414,-553.5 4414,-524.5 4414,-524.5 4414,-518.5 4420,-512.5 4426,-512.5 4426,-512.5 4569,-512.5 4569,-512.5 4575,-512.5 4581,-518.5 4581,-524.5 4581,-524.5 4581,-553.5 4581,-553.5 4581,-559.5 4575,-565.5 4569,-565.5\" fill=\"#8139e5\" stroke=\"#000000\"/>\n<text fill=\"#000000\" font-family=\"Helvetica,sans-Serif\" font-size=\"14.00\" text-anchor=\"middle\" x=\"4497.5\" y=\"-550.3\">gini = 0.0</text>\n<text fill=\"#000000\" font-family=\"Helvetica,sans-Serif\" font-size=\"14.00\" text-anchor=\"middle\" x=\"4497.5\" y=\"-535.3\">samples = 4</text>\n<text fill=\"#000000\" font-family=\"Helvetica,sans-Serif\" font-size=\"14.00\" text-anchor=\"middle\" x=\"4497.5\" y=\"-520.3\">value = [0.0, 0.0, 7.894]</text>\n</g>\n<!-- 137&#45;&gt;139 -->\n<g class=\"edge\" id=\"edge139\">\n<title>137-&gt;139</title>\n<path d=\"M4434.9517,-608.9465C4445.1955,-597.491 4456.6238,-584.711 4466.8805,-573.2412\" fill=\"none\" stroke=\"#000000\"/>\n<polygon fill=\"#000000\" points=\"4469.7083,-575.3295 4473.7652,-565.5422 4464.4903,-570.6634 4469.7083,-575.3295\" stroke=\"#000000\"/>\n</g>\n<!-- 141 -->\n<g class=\"node\" id=\"node142\">\n<title>141</title>\n<path d=\"M4670,-773.5C4670,-773.5 4527,-773.5 4527,-773.5 4521,-773.5 4515,-767.5 4515,-761.5 4515,-761.5 4515,-732.5 4515,-732.5 4515,-726.5 4521,-720.5 4527,-720.5 4527,-720.5 4670,-720.5 4670,-720.5 4676,-720.5 4682,-726.5 4682,-732.5 4682,-732.5 4682,-761.5 4682,-761.5 4682,-767.5 4676,-773.5 4670,-773.5\" fill=\"#e58139\" stroke=\"#000000\"/>\n<text fill=\"#000000\" font-family=\"Helvetica,sans-Serif\" font-size=\"14.00\" text-anchor=\"middle\" x=\"4598.5\" y=\"-758.3\">gini = 0.0</text>\n<text fill=\"#000000\" font-family=\"Helvetica,sans-Serif\" font-size=\"14.00\" text-anchor=\"middle\" x=\"4598.5\" y=\"-743.3\">samples = 52</text>\n<text fill=\"#000000\" font-family=\"Helvetica,sans-Serif\" font-size=\"14.00\" text-anchor=\"middle\" x=\"4598.5\" y=\"-728.3\">value = [21.48, 0.0, 0.0]</text>\n</g>\n<!-- 140&#45;&gt;141 -->\n<g class=\"edge\" id=\"edge141\">\n<title>140-&gt;141</title>\n<path d=\"M4667.7739,-816.9465C4656.3195,-805.3809 4643.528,-792.4652 4632.0846,-780.9107\" fill=\"none\" stroke=\"#000000\"/>\n<polygon fill=\"#000000\" points=\"4634.3106,-778.1844 4624.787,-773.5422 4629.337,-783.1102 4634.3106,-778.1844\" stroke=\"#000000\"/>\n</g>\n<!-- 142 -->\n<g class=\"node\" id=\"node143\">\n<title>142</title>\n<path d=\"M4872.5,-781C4872.5,-781 4712.5,-781 4712.5,-781 4706.5,-781 4700.5,-775 4700.5,-769 4700.5,-769 4700.5,-725 4700.5,-725 4700.5,-719 4706.5,-713 4712.5,-713 4712.5,-713 4872.5,-713 4872.5,-713 4878.5,-713 4884.5,-719 4884.5,-725 4884.5,-725 4884.5,-769 4884.5,-769 4884.5,-775 4878.5,-781 4872.5,-781\" fill=\"#f5ccaf\" stroke=\"#000000\"/>\n<text fill=\"#000000\" font-family=\"Helvetica,sans-Serif\" font-size=\"14.00\" text-anchor=\"middle\" x=\"4792.5\" y=\"-765.8\">Age &lt;= 23.5</text>\n<text fill=\"#000000\" font-family=\"Helvetica,sans-Serif\" font-size=\"14.00\" text-anchor=\"middle\" x=\"4792.5\" y=\"-750.8\">gini = 0.468</text>\n<text fill=\"#000000\" font-family=\"Helvetica,sans-Serif\" font-size=\"14.00\" text-anchor=\"middle\" x=\"4792.5\" y=\"-735.8\">samples = 9</text>\n<text fill=\"#000000\" font-family=\"Helvetica,sans-Serif\" font-size=\"14.00\" text-anchor=\"middle\" x=\"4792.5\" y=\"-720.8\">value = [3.305, 0.0, 1.974]</text>\n</g>\n<!-- 140&#45;&gt;142 -->\n<g class=\"edge\" id=\"edge142\">\n<title>140-&gt;142</title>\n<path d=\"M4731.2968,-816.9465C4739.153,-807.968 4747.7212,-798.1758 4755.8913,-788.8385\" fill=\"none\" stroke=\"#000000\"/>\n<polygon fill=\"#000000\" points=\"4758.6852,-790.9606 4762.6363,-781.13 4753.4171,-786.351 4758.6852,-790.9606\" stroke=\"#000000\"/>\n</g>\n<!-- 143 -->\n<g class=\"node\" id=\"node144\">\n<title>143</title>\n<path d=\"M4679,-669.5C4679,-669.5 4536,-669.5 4536,-669.5 4530,-669.5 4524,-663.5 4524,-657.5 4524,-657.5 4524,-628.5 4524,-628.5 4524,-622.5 4530,-616.5 4536,-616.5 4536,-616.5 4679,-616.5 4679,-616.5 4685,-616.5 4691,-622.5 4691,-628.5 4691,-628.5 4691,-657.5 4691,-657.5 4691,-663.5 4685,-669.5 4679,-669.5\" fill=\"#8139e5\" stroke=\"#000000\"/>\n<text fill=\"#000000\" font-family=\"Helvetica,sans-Serif\" font-size=\"14.00\" text-anchor=\"middle\" x=\"4607.5\" y=\"-654.3\">gini = 0.0</text>\n<text fill=\"#000000\" font-family=\"Helvetica,sans-Serif\" font-size=\"14.00\" text-anchor=\"middle\" x=\"4607.5\" y=\"-639.3\">samples = 1</text>\n<text fill=\"#000000\" font-family=\"Helvetica,sans-Serif\" font-size=\"14.00\" text-anchor=\"middle\" x=\"4607.5\" y=\"-624.3\">value = [0.0, 0.0, 1.974]</text>\n</g>\n<!-- 142&#45;&gt;143 -->\n<g class=\"edge\" id=\"edge143\">\n<title>142-&gt;143</title>\n<path d=\"M4731.9241,-712.9465C4709.881,-700.5547 4685.0811,-686.6132 4663.4563,-674.4565\" fill=\"none\" stroke=\"#000000\"/>\n<polygon fill=\"#000000\" points=\"4665.1466,-671.3916 4654.7144,-669.5422 4661.7163,-677.4935 4665.1466,-671.3916\" stroke=\"#000000\"/>\n</g>\n<!-- 144 -->\n<g class=\"node\" id=\"node145\">\n<title>144</title>\n<path d=\"M4864,-669.5C4864,-669.5 4721,-669.5 4721,-669.5 4715,-669.5 4709,-663.5 4709,-657.5 4709,-657.5 4709,-628.5 4709,-628.5 4709,-622.5 4715,-616.5 4721,-616.5 4721,-616.5 4864,-616.5 4864,-616.5 4870,-616.5 4876,-622.5 4876,-628.5 4876,-628.5 4876,-657.5 4876,-657.5 4876,-663.5 4870,-669.5 4864,-669.5\" fill=\"#e58139\" stroke=\"#000000\"/>\n<text fill=\"#000000\" font-family=\"Helvetica,sans-Serif\" font-size=\"14.00\" text-anchor=\"middle\" x=\"4792.5\" y=\"-654.3\">gini = 0.0</text>\n<text fill=\"#000000\" font-family=\"Helvetica,sans-Serif\" font-size=\"14.00\" text-anchor=\"middle\" x=\"4792.5\" y=\"-639.3\">samples = 8</text>\n<text fill=\"#000000\" font-family=\"Helvetica,sans-Serif\" font-size=\"14.00\" text-anchor=\"middle\" x=\"4792.5\" y=\"-624.3\">value = [3.305, 0.0, 0.0]</text>\n</g>\n<!-- 142&#45;&gt;144 -->\n<g class=\"edge\" id=\"edge144\">\n<title>142-&gt;144</title>\n<path d=\"M4792.5,-712.9465C4792.5,-702.2621 4792.5,-690.4254 4792.5,-679.5742\" fill=\"none\" stroke=\"#000000\"/>\n<polygon fill=\"#000000\" points=\"4796.0001,-679.5421 4792.5,-669.5422 4789.0001,-679.5422 4796.0001,-679.5421\" stroke=\"#000000\"/>\n</g>\n<!-- 146 -->\n<g class=\"node\" id=\"node147\">\n<title>146</title>\n<path d=\"M5320.5,-885C5320.5,-885 5142.5,-885 5142.5,-885 5136.5,-885 5130.5,-879 5130.5,-873 5130.5,-873 5130.5,-829 5130.5,-829 5130.5,-823 5136.5,-817 5142.5,-817 5142.5,-817 5320.5,-817 5320.5,-817 5326.5,-817 5332.5,-823 5332.5,-829 5332.5,-829 5332.5,-873 5332.5,-873 5332.5,-879 5326.5,-885 5320.5,-885\" fill=\"#a673ed\" stroke=\"#000000\"/>\n<text fill=\"#000000\" font-family=\"Helvetica,sans-Serif\" font-size=\"14.00\" text-anchor=\"middle\" x=\"5231.5\" y=\"-869.8\">No_WouldPayForSex &lt;= 0.5</text>\n<text fill=\"#000000\" font-family=\"Helvetica,sans-Serif\" font-size=\"14.00\" text-anchor=\"middle\" x=\"5231.5\" y=\"-854.8\">gini = 0.351</text>\n<text fill=\"#000000\" font-family=\"Helvetica,sans-Serif\" font-size=\"14.00\" text-anchor=\"middle\" x=\"5231.5\" y=\"-839.8\">samples = 12</text>\n<text fill=\"#000000\" font-family=\"Helvetica,sans-Serif\" font-size=\"14.00\" text-anchor=\"middle\" x=\"5231.5\" y=\"-824.8\">value = [2.891, 0.0, 9.868]</text>\n</g>\n<!-- 145&#45;&gt;146 -->\n<g class=\"edge\" id=\"edge146\">\n<title>145-&gt;146</title>\n<path d=\"M5231.5,-920.9465C5231.5,-912.776 5231.5,-903.9318 5231.5,-895.3697\" fill=\"none\" stroke=\"#000000\"/>\n<polygon fill=\"#000000\" points=\"5235.0001,-895.13 5231.5,-885.13 5228.0001,-895.13 5235.0001,-895.13\" stroke=\"#000000\"/>\n</g>\n<!-- 155 -->\n<g class=\"node\" id=\"node156\">\n<title>155</title>\n<path d=\"M5636,-885C5636,-885 5451,-885 5451,-885 5445,-885 5439,-879 5439,-873 5439,-873 5439,-829 5439,-829 5439,-823 5445,-817 5451,-817 5451,-817 5636,-817 5636,-817 5642,-817 5648,-823 5648,-829 5648,-829 5648,-873 5648,-873 5648,-879 5642,-885 5636,-885\" fill=\"#5ae996\" stroke=\"#000000\"/>\n<text fill=\"#000000\" font-family=\"Helvetica,sans-Serif\" font-size=\"14.00\" text-anchor=\"middle\" x=\"5543.5\" y=\"-869.8\">Overweight &lt;= 0.5</text>\n<text fill=\"#000000\" font-family=\"Helvetica,sans-Serif\" font-size=\"14.00\" text-anchor=\"middle\" x=\"5543.5\" y=\"-854.8\">gini = 0.257</text>\n<text fill=\"#000000\" font-family=\"Helvetica,sans-Serif\" font-size=\"14.00\" text-anchor=\"middle\" x=\"5543.5\" y=\"-839.8\">samples = 3</text>\n<text fill=\"#000000\" font-family=\"Helvetica,sans-Serif\" font-size=\"14.00\" text-anchor=\"middle\" x=\"5543.5\" y=\"-824.8\">value = [0.413, 13.815, 1.974]</text>\n</g>\n<!-- 145&#45;&gt;155 -->\n<g class=\"edge\" id=\"edge155\">\n<title>145-&gt;155</title>\n<path d=\"M5333.6605,-920.9465C5364.9863,-910.5046 5399.6135,-898.9622 5431.5562,-888.3146\" fill=\"none\" stroke=\"#000000\"/>\n<polygon fill=\"#000000\" points=\"5432.9966,-891.5239 5441.3766,-885.0411 5430.783,-884.8831 5432.9966,-891.5239\" stroke=\"#000000\"/>\n</g>\n<!-- 147 -->\n<g class=\"node\" id=\"node148\">\n<title>147</title>\n<path d=\"M5223.5,-781C5223.5,-781 5063.5,-781 5063.5,-781 5057.5,-781 5051.5,-775 5051.5,-769 5051.5,-769 5051.5,-725 5051.5,-725 5051.5,-719 5057.5,-713 5063.5,-713 5063.5,-713 5223.5,-713 5223.5,-713 5229.5,-713 5235.5,-719 5235.5,-725 5235.5,-725 5235.5,-769 5235.5,-769 5235.5,-775 5229.5,-781 5223.5,-781\" fill=\"#8843e6\" stroke=\"#000000\"/>\n<text fill=\"#000000\" font-family=\"Helvetica,sans-Serif\" font-size=\"14.00\" text-anchor=\"middle\" x=\"5143.5\" y=\"-765.8\">Age &lt;= 27.0</text>\n<text fill=\"#000000\" font-family=\"Helvetica,sans-Serif\" font-size=\"14.00\" text-anchor=\"middle\" x=\"5143.5\" y=\"-750.8\">gini = 0.095</text>\n<text fill=\"#000000\" font-family=\"Helvetica,sans-Serif\" font-size=\"14.00\" text-anchor=\"middle\" x=\"5143.5\" y=\"-735.8\">samples = 5</text>\n<text fill=\"#000000\" font-family=\"Helvetica,sans-Serif\" font-size=\"14.00\" text-anchor=\"middle\" x=\"5143.5\" y=\"-720.8\">value = [0.413, 0.0, 7.894]</text>\n</g>\n<!-- 146&#45;&gt;147 -->\n<g class=\"edge\" id=\"edge147\">\n<title>146-&gt;147</title>\n<path d=\"M5202.6855,-816.9465C5195.0883,-807.968 5186.8026,-798.1758 5178.9018,-788.8385\" fill=\"none\" stroke=\"#000000\"/>\n<polygon fill=\"#000000\" points=\"5181.5105,-786.5031 5172.3792,-781.13 5176.1668,-791.0247 5181.5105,-786.5031\" stroke=\"#000000\"/>\n</g>\n<!-- 150 -->\n<g class=\"node\" id=\"node151\">\n<title>150</title>\n<path d=\"M5425.5,-781C5425.5,-781 5265.5,-781 5265.5,-781 5259.5,-781 5253.5,-775 5253.5,-769 5253.5,-769 5253.5,-725 5253.5,-725 5253.5,-719 5259.5,-713 5265.5,-713 5265.5,-713 5425.5,-713 5425.5,-713 5431.5,-713 5437.5,-719 5437.5,-725 5437.5,-725 5437.5,-769 5437.5,-769 5437.5,-775 5431.5,-781 5425.5,-781\" fill=\"#fae5d7\" stroke=\"#000000\"/>\n<text fill=\"#000000\" font-family=\"Helvetica,sans-Serif\" font-size=\"14.00\" text-anchor=\"middle\" x=\"5345.5\" y=\"-765.8\">Age &lt;= 32.5</text>\n<text fill=\"#000000\" font-family=\"Helvetica,sans-Serif\" font-size=\"14.00\" text-anchor=\"middle\" x=\"5345.5\" y=\"-750.8\">gini = 0.494</text>\n<text fill=\"#000000\" font-family=\"Helvetica,sans-Serif\" font-size=\"14.00\" text-anchor=\"middle\" x=\"5345.5\" y=\"-735.8\">samples = 7</text>\n<text fill=\"#000000\" font-family=\"Helvetica,sans-Serif\" font-size=\"14.00\" text-anchor=\"middle\" x=\"5345.5\" y=\"-720.8\">value = [2.478, 0.0, 1.974]</text>\n</g>\n<!-- 146&#45;&gt;150 -->\n<g class=\"edge\" id=\"edge150\">\n<title>146-&gt;150</title>\n<path d=\"M5268.8279,-816.9465C5278.965,-807.6986 5290.0483,-797.5876 5300.5583,-787.9994\" fill=\"none\" stroke=\"#000000\"/>\n<polygon fill=\"#000000\" points=\"5303.0595,-790.4553 5308.0883,-781.13 5298.3417,-785.284 5303.0595,-790.4553\" stroke=\"#000000\"/>\n</g>\n<!-- 148 -->\n<g class=\"node\" id=\"node149\">\n<title>148</title>\n<path d=\"M5049,-669.5C5049,-669.5 4906,-669.5 4906,-669.5 4900,-669.5 4894,-663.5 4894,-657.5 4894,-657.5 4894,-628.5 4894,-628.5 4894,-622.5 4900,-616.5 4906,-616.5 4906,-616.5 5049,-616.5 5049,-616.5 5055,-616.5 5061,-622.5 5061,-628.5 5061,-628.5 5061,-657.5 5061,-657.5 5061,-663.5 5055,-669.5 5049,-669.5\" fill=\"#8139e5\" stroke=\"#000000\"/>\n<text fill=\"#000000\" font-family=\"Helvetica,sans-Serif\" font-size=\"14.00\" text-anchor=\"middle\" x=\"4977.5\" y=\"-654.3\">gini = -0.0</text>\n<text fill=\"#000000\" font-family=\"Helvetica,sans-Serif\" font-size=\"14.00\" text-anchor=\"middle\" x=\"4977.5\" y=\"-639.3\">samples = 4</text>\n<text fill=\"#000000\" font-family=\"Helvetica,sans-Serif\" font-size=\"14.00\" text-anchor=\"middle\" x=\"4977.5\" y=\"-624.3\">value = [0.0, 0.0, 7.894]</text>\n</g>\n<!-- 147&#45;&gt;148 -->\n<g class=\"edge\" id=\"edge148\">\n<title>147-&gt;148</title>\n<path d=\"M5089.1454,-712.9465C5069.6299,-700.72 5047.7063,-686.9847 5028.4871,-674.9437\" fill=\"none\" stroke=\"#000000\"/>\n<polygon fill=\"#000000\" points=\"5030.1979,-671.8854 5019.8654,-669.5422 5026.4814,-677.8174 5030.1979,-671.8854\" stroke=\"#000000\"/>\n</g>\n<!-- 149 -->\n<g class=\"node\" id=\"node150\">\n<title>149</title>\n<path d=\"M5234,-669.5C5234,-669.5 5091,-669.5 5091,-669.5 5085,-669.5 5079,-663.5 5079,-657.5 5079,-657.5 5079,-628.5 5079,-628.5 5079,-622.5 5085,-616.5 5091,-616.5 5091,-616.5 5234,-616.5 5234,-616.5 5240,-616.5 5246,-622.5 5246,-628.5 5246,-628.5 5246,-657.5 5246,-657.5 5246,-663.5 5240,-669.5 5234,-669.5\" fill=\"#e58139\" stroke=\"#000000\"/>\n<text fill=\"#000000\" font-family=\"Helvetica,sans-Serif\" font-size=\"14.00\" text-anchor=\"middle\" x=\"5162.5\" y=\"-654.3\">gini = 0.0</text>\n<text fill=\"#000000\" font-family=\"Helvetica,sans-Serif\" font-size=\"14.00\" text-anchor=\"middle\" x=\"5162.5\" y=\"-639.3\">samples = 1</text>\n<text fill=\"#000000\" font-family=\"Helvetica,sans-Serif\" font-size=\"14.00\" text-anchor=\"middle\" x=\"5162.5\" y=\"-624.3\">value = [0.413, 0.0, 0.0]</text>\n</g>\n<!-- 147&#45;&gt;149 -->\n<g class=\"edge\" id=\"edge149\">\n<title>147-&gt;149</title>\n<path d=\"M5149.7213,-712.9465C5151.6733,-702.2621 5153.8357,-690.4254 5155.8182,-679.5742\" fill=\"none\" stroke=\"#000000\"/>\n<polygon fill=\"#000000\" points=\"5159.2967,-680.0084 5157.651,-669.5422 5152.4107,-678.7503 5159.2967,-680.0084\" stroke=\"#000000\"/>\n</g>\n<!-- 151 -->\n<g class=\"node\" id=\"node152\">\n<title>151</title>\n<path d=\"M5419,-669.5C5419,-669.5 5276,-669.5 5276,-669.5 5270,-669.5 5264,-663.5 5264,-657.5 5264,-657.5 5264,-628.5 5264,-628.5 5264,-622.5 5270,-616.5 5276,-616.5 5276,-616.5 5419,-616.5 5419,-616.5 5425,-616.5 5431,-622.5 5431,-628.5 5431,-628.5 5431,-657.5 5431,-657.5 5431,-663.5 5425,-669.5 5419,-669.5\" fill=\"#e58139\" stroke=\"#000000\"/>\n<text fill=\"#000000\" font-family=\"Helvetica,sans-Serif\" font-size=\"14.00\" text-anchor=\"middle\" x=\"5347.5\" y=\"-654.3\">gini = 0.0</text>\n<text fill=\"#000000\" font-family=\"Helvetica,sans-Serif\" font-size=\"14.00\" text-anchor=\"middle\" x=\"5347.5\" y=\"-639.3\">samples = 5</text>\n<text fill=\"#000000\" font-family=\"Helvetica,sans-Serif\" font-size=\"14.00\" text-anchor=\"middle\" x=\"5347.5\" y=\"-624.3\">value = [2.065, 0.0, 0.0]</text>\n</g>\n<!-- 150&#45;&gt;151 -->\n<g class=\"edge\" id=\"edge151\">\n<title>150-&gt;151</title>\n<path d=\"M5346.1549,-712.9465C5346.3603,-702.2621 5346.588,-690.4254 5346.7966,-679.5742\" fill=\"none\" stroke=\"#000000\"/>\n<polygon fill=\"#000000\" points=\"5350.2966,-679.6076 5346.9896,-669.5422 5343.2979,-679.473 5350.2966,-679.6076\" stroke=\"#000000\"/>\n</g>\n<!-- 152 -->\n<g class=\"node\" id=\"node153\">\n<title>152</title>\n<path d=\"M5624,-677C5624,-677 5461,-677 5461,-677 5455,-677 5449,-671 5449,-665 5449,-665 5449,-621 5449,-621 5449,-615 5455,-609 5461,-609 5461,-609 5624,-609 5624,-609 5630,-609 5636,-615 5636,-621 5636,-621 5636,-665 5636,-665 5636,-671 5630,-677 5624,-677\" fill=\"#9b62ea\" stroke=\"#000000\"/>\n<text fill=\"#000000\" font-family=\"Helvetica,sans-Serif\" font-size=\"14.00\" text-anchor=\"middle\" x=\"5542.5\" y=\"-661.8\">$10,000 to $19,999 &lt;= 0.5</text>\n<text fill=\"#000000\" font-family=\"Helvetica,sans-Serif\" font-size=\"14.00\" text-anchor=\"middle\" x=\"5542.5\" y=\"-646.8\">gini = 0.286</text>\n<text fill=\"#000000\" font-family=\"Helvetica,sans-Serif\" font-size=\"14.00\" text-anchor=\"middle\" x=\"5542.5\" y=\"-631.8\">samples = 2</text>\n<text fill=\"#000000\" font-family=\"Helvetica,sans-Serif\" font-size=\"14.00\" text-anchor=\"middle\" x=\"5542.5\" y=\"-616.8\">value = [0.413, 0.0, 1.974]</text>\n</g>\n<!-- 150&#45;&gt;152 -->\n<g class=\"edge\" id=\"edge152\">\n<title>150-&gt;152</title>\n<path d=\"M5410.0052,-712.9465C5428.7984,-703.0252 5449.4734,-692.1105 5468.7883,-681.9138\" fill=\"none\" stroke=\"#000000\"/>\n<polygon fill=\"#000000\" points=\"5470.6406,-684.8938 5477.8499,-677.13 5467.3726,-678.7034 5470.6406,-684.8938\" stroke=\"#000000\"/>\n</g>\n<!-- 153 -->\n<g class=\"node\" id=\"node154\">\n<title>153</title>\n<path d=\"M5522,-565.5C5522,-565.5 5379,-565.5 5379,-565.5 5373,-565.5 5367,-559.5 5367,-553.5 5367,-553.5 5367,-524.5 5367,-524.5 5367,-518.5 5373,-512.5 5379,-512.5 5379,-512.5 5522,-512.5 5522,-512.5 5528,-512.5 5534,-518.5 5534,-524.5 5534,-524.5 5534,-553.5 5534,-553.5 5534,-559.5 5528,-565.5 5522,-565.5\" fill=\"#8139e5\" stroke=\"#000000\"/>\n<text fill=\"#000000\" font-family=\"Helvetica,sans-Serif\" font-size=\"14.00\" text-anchor=\"middle\" x=\"5450.5\" y=\"-550.3\">gini = 0.0</text>\n<text fill=\"#000000\" font-family=\"Helvetica,sans-Serif\" font-size=\"14.00\" text-anchor=\"middle\" x=\"5450.5\" y=\"-535.3\">samples = 1</text>\n<text fill=\"#000000\" font-family=\"Helvetica,sans-Serif\" font-size=\"14.00\" text-anchor=\"middle\" x=\"5450.5\" y=\"-520.3\">value = [0.0, 0.0, 1.974]</text>\n</g>\n<!-- 152&#45;&gt;153 -->\n<g class=\"edge\" id=\"edge153\">\n<title>152-&gt;153</title>\n<path d=\"M5512.3758,-608.9465C5502.242,-597.491 5490.9367,-584.711 5480.7903,-573.2412\" fill=\"none\" stroke=\"#000000\"/>\n<polygon fill=\"#000000\" points=\"5483.2269,-570.7131 5473.9796,-565.5422 5477.9839,-575.3512 5483.2269,-570.7131\" stroke=\"#000000\"/>\n</g>\n<!-- 154 -->\n<g class=\"node\" id=\"node155\">\n<title>154</title>\n<path d=\"M5707,-565.5C5707,-565.5 5564,-565.5 5564,-565.5 5558,-565.5 5552,-559.5 5552,-553.5 5552,-553.5 5552,-524.5 5552,-524.5 5552,-518.5 5558,-512.5 5564,-512.5 5564,-512.5 5707,-512.5 5707,-512.5 5713,-512.5 5719,-518.5 5719,-524.5 5719,-524.5 5719,-553.5 5719,-553.5 5719,-559.5 5713,-565.5 5707,-565.5\" fill=\"#e58139\" stroke=\"#000000\"/>\n<text fill=\"#000000\" font-family=\"Helvetica,sans-Serif\" font-size=\"14.00\" text-anchor=\"middle\" x=\"5635.5\" y=\"-550.3\">gini = -0.0</text>\n<text fill=\"#000000\" font-family=\"Helvetica,sans-Serif\" font-size=\"14.00\" text-anchor=\"middle\" x=\"5635.5\" y=\"-535.3\">samples = 1</text>\n<text fill=\"#000000\" font-family=\"Helvetica,sans-Serif\" font-size=\"14.00\" text-anchor=\"middle\" x=\"5635.5\" y=\"-520.3\">value = [0.413, 0.0, 0.0]</text>\n</g>\n<!-- 152&#45;&gt;154 -->\n<g class=\"edge\" id=\"edge154\">\n<title>152-&gt;154</title>\n<path d=\"M5572.9517,-608.9465C5583.1955,-597.491 5594.6238,-584.711 5604.8805,-573.2412\" fill=\"none\" stroke=\"#000000\"/>\n<polygon fill=\"#000000\" points=\"5607.7083,-575.3295 5611.7652,-565.5422 5602.4903,-570.6634 5607.7083,-575.3295\" stroke=\"#000000\"/>\n</g>\n<!-- 156 -->\n<g class=\"node\" id=\"node157\">\n<title>156</title>\n<path d=\"M5619.5,-773.5C5619.5,-773.5 5467.5,-773.5 5467.5,-773.5 5461.5,-773.5 5455.5,-767.5 5455.5,-761.5 5455.5,-761.5 5455.5,-732.5 5455.5,-732.5 5455.5,-726.5 5461.5,-720.5 5467.5,-720.5 5467.5,-720.5 5619.5,-720.5 5619.5,-720.5 5625.5,-720.5 5631.5,-726.5 5631.5,-732.5 5631.5,-732.5 5631.5,-761.5 5631.5,-761.5 5631.5,-767.5 5625.5,-773.5 5619.5,-773.5\" fill=\"#39e581\" stroke=\"#000000\"/>\n<text fill=\"#000000\" font-family=\"Helvetica,sans-Serif\" font-size=\"14.00\" text-anchor=\"middle\" x=\"5543.5\" y=\"-758.3\">gini = 0.0</text>\n<text fill=\"#000000\" font-family=\"Helvetica,sans-Serif\" font-size=\"14.00\" text-anchor=\"middle\" x=\"5543.5\" y=\"-743.3\">samples = 1</text>\n<text fill=\"#000000\" font-family=\"Helvetica,sans-Serif\" font-size=\"14.00\" text-anchor=\"middle\" x=\"5543.5\" y=\"-728.3\">value = [0.0, 13.815, 0.0]</text>\n</g>\n<!-- 155&#45;&gt;156 -->\n<g class=\"edge\" id=\"edge156\">\n<title>155-&gt;156</title>\n<path d=\"M5543.5,-816.9465C5543.5,-806.2621 5543.5,-794.4254 5543.5,-783.5742\" fill=\"none\" stroke=\"#000000\"/>\n<polygon fill=\"#000000\" points=\"5547.0001,-783.5421 5543.5,-773.5422 5540.0001,-783.5422 5547.0001,-783.5421\" stroke=\"#000000\"/>\n</g>\n<!-- 157 -->\n<g class=\"node\" id=\"node158\">\n<title>157</title>\n<path d=\"M5821.5,-781C5821.5,-781 5661.5,-781 5661.5,-781 5655.5,-781 5649.5,-775 5649.5,-769 5649.5,-769 5649.5,-725 5649.5,-725 5649.5,-719 5655.5,-713 5661.5,-713 5661.5,-713 5821.5,-713 5821.5,-713 5827.5,-713 5833.5,-719 5833.5,-725 5833.5,-725 5833.5,-769 5833.5,-769 5833.5,-775 5827.5,-781 5821.5,-781\" fill=\"#9b62ea\" stroke=\"#000000\"/>\n<text fill=\"#000000\" font-family=\"Helvetica,sans-Serif\" font-size=\"14.00\" text-anchor=\"middle\" x=\"5741.5\" y=\"-765.8\">Male &lt;= 0.5</text>\n<text fill=\"#000000\" font-family=\"Helvetica,sans-Serif\" font-size=\"14.00\" text-anchor=\"middle\" x=\"5741.5\" y=\"-750.8\">gini = 0.286</text>\n<text fill=\"#000000\" font-family=\"Helvetica,sans-Serif\" font-size=\"14.00\" text-anchor=\"middle\" x=\"5741.5\" y=\"-735.8\">samples = 2</text>\n<text fill=\"#000000\" font-family=\"Helvetica,sans-Serif\" font-size=\"14.00\" text-anchor=\"middle\" x=\"5741.5\" y=\"-720.8\">value = [0.413, 0.0, 1.974]</text>\n</g>\n<!-- 155&#45;&gt;157 -->\n<g class=\"edge\" id=\"edge157\">\n<title>155-&gt;157</title>\n<path d=\"M5608.3326,-816.9465C5627.2212,-807.0252 5648.0012,-796.1105 5667.4142,-785.9138\" fill=\"none\" stroke=\"#000000\"/>\n<polygon fill=\"#000000\" points=\"5669.2962,-788.8787 5676.5217,-781.13 5666.0411,-782.6816 5669.2962,-788.8787\" stroke=\"#000000\"/>\n</g>\n<!-- 158 -->\n<g class=\"node\" id=\"node159\">\n<title>158</title>\n<path d=\"M5812,-669.5C5812,-669.5 5669,-669.5 5669,-669.5 5663,-669.5 5657,-663.5 5657,-657.5 5657,-657.5 5657,-628.5 5657,-628.5 5657,-622.5 5663,-616.5 5669,-616.5 5669,-616.5 5812,-616.5 5812,-616.5 5818,-616.5 5824,-622.5 5824,-628.5 5824,-628.5 5824,-657.5 5824,-657.5 5824,-663.5 5818,-669.5 5812,-669.5\" fill=\"#8139e5\" stroke=\"#000000\"/>\n<text fill=\"#000000\" font-family=\"Helvetica,sans-Serif\" font-size=\"14.00\" text-anchor=\"middle\" x=\"5740.5\" y=\"-654.3\">gini = 0.0</text>\n<text fill=\"#000000\" font-family=\"Helvetica,sans-Serif\" font-size=\"14.00\" text-anchor=\"middle\" x=\"5740.5\" y=\"-639.3\">samples = 1</text>\n<text fill=\"#000000\" font-family=\"Helvetica,sans-Serif\" font-size=\"14.00\" text-anchor=\"middle\" x=\"5740.5\" y=\"-624.3\">value = [0.0, 0.0, 1.974]</text>\n</g>\n<!-- 157&#45;&gt;158 -->\n<g class=\"edge\" id=\"edge158\">\n<title>157-&gt;158</title>\n<path d=\"M5741.1726,-712.9465C5741.0698,-702.2621 5740.956,-690.4254 5740.8517,-679.5742\" fill=\"none\" stroke=\"#000000\"/>\n<polygon fill=\"#000000\" points=\"5744.3513,-679.508 5740.7552,-669.5422 5737.3516,-679.5754 5744.3513,-679.508\" stroke=\"#000000\"/>\n</g>\n<!-- 159 -->\n<g class=\"node\" id=\"node160\">\n<title>159</title>\n<path d=\"M5997,-669.5C5997,-669.5 5854,-669.5 5854,-669.5 5848,-669.5 5842,-663.5 5842,-657.5 5842,-657.5 5842,-628.5 5842,-628.5 5842,-622.5 5848,-616.5 5854,-616.5 5854,-616.5 5997,-616.5 5997,-616.5 6003,-616.5 6009,-622.5 6009,-628.5 6009,-628.5 6009,-657.5 6009,-657.5 6009,-663.5 6003,-669.5 5997,-669.5\" fill=\"#e58139\" stroke=\"#000000\"/>\n<text fill=\"#000000\" font-family=\"Helvetica,sans-Serif\" font-size=\"14.00\" text-anchor=\"middle\" x=\"5925.5\" y=\"-654.3\">gini = -0.0</text>\n<text fill=\"#000000\" font-family=\"Helvetica,sans-Serif\" font-size=\"14.00\" text-anchor=\"middle\" x=\"5925.5\" y=\"-639.3\">samples = 1</text>\n<text fill=\"#000000\" font-family=\"Helvetica,sans-Serif\" font-size=\"14.00\" text-anchor=\"middle\" x=\"5925.5\" y=\"-624.3\">value = [0.413, 0.0, 0.0]</text>\n</g>\n<!-- 157&#45;&gt;159 -->\n<g class=\"edge\" id=\"edge159\">\n<title>157-&gt;159</title>\n<path d=\"M5801.7485,-712.9465C5823.5749,-700.6098 5848.119,-686.7371 5869.5592,-674.6187\" fill=\"none\" stroke=\"#000000\"/>\n<polygon fill=\"#000000\" points=\"5871.5574,-677.5098 5878.5408,-669.5422 5868.1129,-671.4158 5871.5574,-677.5098\" stroke=\"#000000\"/>\n</g>\n<!-- 161 -->\n<g class=\"node\" id=\"node162\">\n<title>161</title>\n<path d=\"M6122.5,-989C6122.5,-989 5962.5,-989 5962.5,-989 5956.5,-989 5950.5,-983 5950.5,-977 5950.5,-977 5950.5,-933 5950.5,-933 5950.5,-927 5956.5,-921 5962.5,-921 5962.5,-921 6122.5,-921 6122.5,-921 6128.5,-921 6134.5,-927 6134.5,-933 6134.5,-933 6134.5,-977 6134.5,-977 6134.5,-983 6128.5,-989 6122.5,-989\" fill=\"#f2c09d\" stroke=\"#000000\"/>\n<text fill=\"#000000\" font-family=\"Helvetica,sans-Serif\" font-size=\"14.00\" text-anchor=\"middle\" x=\"6042.5\" y=\"-973.8\">logNumFriends &lt;= 1.884</text>\n<text fill=\"#000000\" font-family=\"Helvetica,sans-Serif\" font-size=\"14.00\" text-anchor=\"middle\" x=\"6042.5\" y=\"-958.8\">gini = 0.445</text>\n<text fill=\"#000000\" font-family=\"Helvetica,sans-Serif\" font-size=\"14.00\" text-anchor=\"middle\" x=\"6042.5\" y=\"-943.8\">samples = 21</text>\n<text fill=\"#000000\" font-family=\"Helvetica,sans-Serif\" font-size=\"14.00\" text-anchor=\"middle\" x=\"6042.5\" y=\"-928.8\">value = [7.848, 0.0, 3.947]</text>\n</g>\n<!-- 160&#45;&gt;161 -->\n<g class=\"edge\" id=\"edge161\">\n<title>160-&gt;161</title>\n<path d=\"M6042.5,-1024.9465C6042.5,-1016.776 6042.5,-1007.9318 6042.5,-999.3697\" fill=\"none\" stroke=\"#000000\"/>\n<polygon fill=\"#000000\" points=\"6046.0001,-999.13 6042.5,-989.13 6039.0001,-999.13 6046.0001,-999.13\" stroke=\"#000000\"/>\n</g>\n<!-- 166 -->\n<g class=\"node\" id=\"node167\">\n<title>166</title>\n<path d=\"M6577,-989C6577,-989 6384,-989 6384,-989 6378,-989 6372,-983 6372,-977 6372,-977 6372,-933 6372,-933 6372,-927 6378,-921 6384,-921 6384,-921 6577,-921 6577,-921 6583,-921 6589,-927 6589,-933 6589,-933 6589,-977 6589,-977 6589,-983 6583,-989 6577,-989\" fill=\"#72eca5\" stroke=\"#000000\"/>\n<text fill=\"#000000\" font-family=\"Helvetica,sans-Serif\" font-size=\"14.00\" text-anchor=\"middle\" x=\"6480.5\" y=\"-973.8\">$50,000 to $74,999 &lt;= 0.5</text>\n<text fill=\"#000000\" font-family=\"Helvetica,sans-Serif\" font-size=\"14.00\" text-anchor=\"middle\" x=\"6480.5\" y=\"-958.8\">gini = 0.391</text>\n<text fill=\"#000000\" font-family=\"Helvetica,sans-Serif\" font-size=\"14.00\" text-anchor=\"middle\" x=\"6480.5\" y=\"-943.8\">samples = 35</text>\n<text fill=\"#000000\" font-family=\"Helvetica,sans-Serif\" font-size=\"14.00\" text-anchor=\"middle\" x=\"6480.5\" y=\"-928.8\">value = [11.566, 55.259, 5.921]</text>\n</g>\n<!-- 160&#45;&gt;166 -->\n<g class=\"edge\" id=\"edge166\">\n<title>160-&gt;166</title>\n<path d=\"M6151.051,-1033.2253C6215.0294,-1018.0341 6296.0436,-998.7979 6361.7236,-983.2026\" fill=\"none\" stroke=\"#000000\"/>\n<polygon fill=\"#000000\" points=\"6362.792,-986.5463 6371.7129,-980.8307 6361.1749,-979.7357 6362.792,-986.5463\" stroke=\"#000000\"/>\n</g>\n<!-- 162 -->\n<g class=\"node\" id=\"node163\">\n<title>162</title>\n<path d=\"M6025.5,-885C6025.5,-885 5865.5,-885 5865.5,-885 5859.5,-885 5853.5,-879 5853.5,-873 5853.5,-873 5853.5,-829 5853.5,-829 5853.5,-823 5859.5,-817 5865.5,-817 5865.5,-817 6025.5,-817 6025.5,-817 6031.5,-817 6037.5,-823 6037.5,-829 6037.5,-829 6037.5,-873 6037.5,-873 6037.5,-879 6031.5,-885 6025.5,-885\" fill=\"#b68cf0\" stroke=\"#000000\"/>\n<text fill=\"#000000\" font-family=\"Helvetica,sans-Serif\" font-size=\"14.00\" text-anchor=\"middle\" x=\"5945.5\" y=\"-869.8\">Age &lt;= 26.5</text>\n<text fill=\"#000000\" font-family=\"Helvetica,sans-Serif\" font-size=\"14.00\" text-anchor=\"middle\" x=\"5945.5\" y=\"-854.8\">gini = 0.416</text>\n<text fill=\"#000000\" font-family=\"Helvetica,sans-Serif\" font-size=\"14.00\" text-anchor=\"middle\" x=\"5945.5\" y=\"-839.8\">samples = 6</text>\n<text fill=\"#000000\" font-family=\"Helvetica,sans-Serif\" font-size=\"14.00\" text-anchor=\"middle\" x=\"5945.5\" y=\"-824.8\">value = [1.652, 0.0, 3.947]</text>\n</g>\n<!-- 161&#45;&gt;162 -->\n<g class=\"edge\" id=\"edge162\">\n<title>161-&gt;162</title>\n<path d=\"M6010.7386,-920.9465C6002.2806,-911.8782 5993.0486,-901.9799 5984.2613,-892.5585\" fill=\"none\" stroke=\"#000000\"/>\n<polygon fill=\"#000000\" points=\"5986.713,-890.0557 5977.3328,-885.13 5981.594,-894.8302 5986.713,-890.0557\" stroke=\"#000000\"/>\n</g>\n<!-- 165 -->\n<g class=\"node\" id=\"node166\">\n<title>165</title>\n<path d=\"M6211,-877.5C6211,-877.5 6068,-877.5 6068,-877.5 6062,-877.5 6056,-871.5 6056,-865.5 6056,-865.5 6056,-836.5 6056,-836.5 6056,-830.5 6062,-824.5 6068,-824.5 6068,-824.5 6211,-824.5 6211,-824.5 6217,-824.5 6223,-830.5 6223,-836.5 6223,-836.5 6223,-865.5 6223,-865.5 6223,-871.5 6217,-877.5 6211,-877.5\" fill=\"#e58139\" stroke=\"#000000\"/>\n<text fill=\"#000000\" font-family=\"Helvetica,sans-Serif\" font-size=\"14.00\" text-anchor=\"middle\" x=\"6139.5\" y=\"-862.3\">gini = 0.0</text>\n<text fill=\"#000000\" font-family=\"Helvetica,sans-Serif\" font-size=\"14.00\" text-anchor=\"middle\" x=\"6139.5\" y=\"-847.3\">samples = 15</text>\n<text fill=\"#000000\" font-family=\"Helvetica,sans-Serif\" font-size=\"14.00\" text-anchor=\"middle\" x=\"6139.5\" y=\"-832.3\">value = [6.196, 0.0, 0.0]</text>\n</g>\n<!-- 161&#45;&gt;165 -->\n<g class=\"edge\" id=\"edge165\">\n<title>161-&gt;165</title>\n<path d=\"M6074.2614,-920.9465C6085.0486,-909.3809 6097.095,-896.4652 6107.8718,-884.9107\" fill=\"none\" stroke=\"#000000\"/>\n<polygon fill=\"#000000\" points=\"6110.4831,-887.2423 6114.7443,-877.5422 6105.3641,-882.4678 6110.4831,-887.2423\" stroke=\"#000000\"/>\n</g>\n<!-- 163 -->\n<g class=\"node\" id=\"node164\">\n<title>163</title>\n<path d=\"M6007,-773.5C6007,-773.5 5864,-773.5 5864,-773.5 5858,-773.5 5852,-767.5 5852,-761.5 5852,-761.5 5852,-732.5 5852,-732.5 5852,-726.5 5858,-720.5 5864,-720.5 5864,-720.5 6007,-720.5 6007,-720.5 6013,-720.5 6019,-726.5 6019,-732.5 6019,-732.5 6019,-761.5 6019,-761.5 6019,-767.5 6013,-773.5 6007,-773.5\" fill=\"#e58139\" stroke=\"#000000\"/>\n<text fill=\"#000000\" font-family=\"Helvetica,sans-Serif\" font-size=\"14.00\" text-anchor=\"middle\" x=\"5935.5\" y=\"-758.3\">gini = 0.0</text>\n<text fill=\"#000000\" font-family=\"Helvetica,sans-Serif\" font-size=\"14.00\" text-anchor=\"middle\" x=\"5935.5\" y=\"-743.3\">samples = 4</text>\n<text fill=\"#000000\" font-family=\"Helvetica,sans-Serif\" font-size=\"14.00\" text-anchor=\"middle\" x=\"5935.5\" y=\"-728.3\">value = [1.652, 0.0, 0.0]</text>\n</g>\n<!-- 162&#45;&gt;163 -->\n<g class=\"edge\" id=\"edge163\">\n<title>162-&gt;163</title>\n<path d=\"M5942.2256,-816.9465C5941.1983,-806.2621 5940.0601,-794.4254 5939.0168,-783.5742\" fill=\"none\" stroke=\"#000000\"/>\n<polygon fill=\"#000000\" points=\"5942.4933,-783.1612 5938.0521,-773.5422 5935.5254,-783.8313 5942.4933,-783.1612\" stroke=\"#000000\"/>\n</g>\n<!-- 164 -->\n<g class=\"node\" id=\"node165\">\n<title>164</title>\n<path d=\"M6192,-773.5C6192,-773.5 6049,-773.5 6049,-773.5 6043,-773.5 6037,-767.5 6037,-761.5 6037,-761.5 6037,-732.5 6037,-732.5 6037,-726.5 6043,-720.5 6049,-720.5 6049,-720.5 6192,-720.5 6192,-720.5 6198,-720.5 6204,-726.5 6204,-732.5 6204,-732.5 6204,-761.5 6204,-761.5 6204,-767.5 6198,-773.5 6192,-773.5\" fill=\"#8139e5\" stroke=\"#000000\"/>\n<text fill=\"#000000\" font-family=\"Helvetica,sans-Serif\" font-size=\"14.00\" text-anchor=\"middle\" x=\"6120.5\" y=\"-758.3\">gini = 0.0</text>\n<text fill=\"#000000\" font-family=\"Helvetica,sans-Serif\" font-size=\"14.00\" text-anchor=\"middle\" x=\"6120.5\" y=\"-743.3\">samples = 2</text>\n<text fill=\"#000000\" font-family=\"Helvetica,sans-Serif\" font-size=\"14.00\" text-anchor=\"middle\" x=\"6120.5\" y=\"-728.3\">value = [0.0, 0.0, 3.947]</text>\n</g>\n<!-- 162&#45;&gt;164 -->\n<g class=\"edge\" id=\"edge164\">\n<title>162-&gt;164</title>\n<path d=\"M6002.8015,-816.9465C6023.4677,-804.6649 6046.6956,-790.8609 6067.0221,-778.7811\" fill=\"none\" stroke=\"#000000\"/>\n<polygon fill=\"#000000\" points=\"6069.0293,-781.6598 6075.8377,-773.5422 6065.4531,-775.6422 6069.0293,-781.6598\" stroke=\"#000000\"/>\n</g>\n<!-- 167 -->\n<g class=\"node\" id=\"node168\">\n<title>167</title>\n<path d=\"M6573,-885C6573,-885 6388,-885 6388,-885 6382,-885 6376,-879 6376,-873 6376,-873 6376,-829 6376,-829 6376,-823 6382,-817 6388,-817 6388,-817 6573,-817 6573,-817 6579,-817 6585,-823 6585,-829 6585,-829 6585,-873 6585,-873 6585,-879 6579,-885 6573,-885\" fill=\"#61ea9a\" stroke=\"#000000\"/>\n<text fill=\"#000000\" font-family=\"Helvetica,sans-Serif\" font-size=\"14.00\" text-anchor=\"middle\" x=\"6480.5\" y=\"-869.8\">Age &lt;= 28.5</text>\n<text fill=\"#000000\" font-family=\"Helvetica,sans-Serif\" font-size=\"14.00\" text-anchor=\"middle\" x=\"6480.5\" y=\"-854.8\">gini = 0.293</text>\n<text fill=\"#000000\" font-family=\"Helvetica,sans-Serif\" font-size=\"14.00\" text-anchor=\"middle\" x=\"6480.5\" y=\"-839.8\">samples = 28</text>\n<text fill=\"#000000\" font-family=\"Helvetica,sans-Serif\" font-size=\"14.00\" text-anchor=\"middle\" x=\"6480.5\" y=\"-824.8\">value = [9.501, 55.259, 1.974]</text>\n</g>\n<!-- 166&#45;&gt;167 -->\n<g class=\"edge\" id=\"edge167\">\n<title>166-&gt;167</title>\n<path d=\"M6480.5,-920.9465C6480.5,-912.776 6480.5,-903.9318 6480.5,-895.3697\" fill=\"none\" stroke=\"#000000\"/>\n<polygon fill=\"#000000\" points=\"6484.0001,-895.13 6480.5,-885.13 6477.0001,-895.13 6484.0001,-895.13\" stroke=\"#000000\"/>\n</g>\n<!-- 178 -->\n<g class=\"node\" id=\"node179\">\n<title>178</title>\n<path d=\"M6899.5,-885C6899.5,-885 6739.5,-885 6739.5,-885 6733.5,-885 6727.5,-879 6727.5,-873 6727.5,-873 6727.5,-829 6727.5,-829 6727.5,-823 6733.5,-817 6739.5,-817 6739.5,-817 6899.5,-817 6899.5,-817 6905.5,-817 6911.5,-823 6911.5,-829 6911.5,-829 6911.5,-873 6911.5,-873 6911.5,-879 6905.5,-885 6899.5,-885\" fill=\"#c3a1f3\" stroke=\"#000000\"/>\n<text fill=\"#000000\" font-family=\"Helvetica,sans-Serif\" font-size=\"14.00\" text-anchor=\"middle\" x=\"6819.5\" y=\"-869.8\">Caucasian &lt;= 0.5</text>\n<text fill=\"#000000\" font-family=\"Helvetica,sans-Serif\" font-size=\"14.00\" text-anchor=\"middle\" x=\"6819.5\" y=\"-854.8\">gini = 0.451</text>\n<text fill=\"#000000\" font-family=\"Helvetica,sans-Serif\" font-size=\"14.00\" text-anchor=\"middle\" x=\"6819.5\" y=\"-839.8\">samples = 7</text>\n<text fill=\"#000000\" font-family=\"Helvetica,sans-Serif\" font-size=\"14.00\" text-anchor=\"middle\" x=\"6819.5\" y=\"-824.8\">value = [2.065, 0.0, 3.947]</text>\n</g>\n<!-- 166&#45;&gt;178 -->\n<g class=\"edge\" id=\"edge178\">\n<title>166-&gt;178</title>\n<path d=\"M6589.1605,-921.6646C6630.3974,-909.0138 6677.1736,-894.6636 6717.7495,-882.2155\" fill=\"none\" stroke=\"#000000\"/>\n<polygon fill=\"#000000\" points=\"6718.849,-885.5393 6727.3827,-879.2602 6716.7959,-878.8471 6718.849,-885.5393\" stroke=\"#000000\"/>\n</g>\n<!-- 168 -->\n<g class=\"node\" id=\"node169\">\n<title>168</title>\n<path d=\"M6478.5,-781C6478.5,-781 6234.5,-781 6234.5,-781 6228.5,-781 6222.5,-775 6222.5,-769 6222.5,-769 6222.5,-725 6222.5,-725 6222.5,-719 6228.5,-713 6234.5,-713 6234.5,-713 6478.5,-713 6478.5,-713 6484.5,-713 6490.5,-719 6490.5,-725 6490.5,-725 6490.5,-769 6490.5,-769 6490.5,-775 6484.5,-781 6478.5,-781\" fill=\"#aff5cc\" stroke=\"#000000\"/>\n<text fill=\"#000000\" font-family=\"Helvetica,sans-Serif\" font-size=\"14.00\" text-anchor=\"middle\" x=\"6356.5\" y=\"-765.8\">YesAndHave_WouldPayForSex &lt;= 0.5</text>\n<text fill=\"#000000\" font-family=\"Helvetica,sans-Serif\" font-size=\"14.00\" text-anchor=\"middle\" x=\"6356.5\" y=\"-750.8\">gini = 0.468</text>\n<text fill=\"#000000\" font-family=\"Helvetica,sans-Serif\" font-size=\"14.00\" text-anchor=\"middle\" x=\"6356.5\" y=\"-735.8\">samples = 21</text>\n<text fill=\"#000000\" font-family=\"Helvetica,sans-Serif\" font-size=\"14.00\" text-anchor=\"middle\" x=\"6356.5\" y=\"-720.8\">value = [8.261, 13.815, 0.0]</text>\n</g>\n<!-- 167&#45;&gt;168 -->\n<g class=\"edge\" id=\"edge168\">\n<title>167-&gt;168</title>\n<path d=\"M6439.8978,-816.9465C6428.7644,-807.6088 6416.5817,-797.3911 6405.0511,-787.7203\" fill=\"none\" stroke=\"#000000\"/>\n<polygon fill=\"#000000\" points=\"6407.1046,-784.8745 6397.1935,-781.13 6402.6062,-790.2378 6407.1046,-784.8745\" stroke=\"#000000\"/>\n</g>\n<!-- 171 -->\n<g class=\"node\" id=\"node172\">\n<title>171</title>\n<path d=\"M6706,-781C6706,-781 6521,-781 6521,-781 6515,-781 6509,-775 6509,-769 6509,-769 6509,-725 6509,-725 6509,-719 6515,-713 6521,-713 6521,-713 6706,-713 6706,-713 6712,-713 6718,-719 6718,-725 6718,-725 6718,-769 6718,-769 6718,-775 6712,-781 6706,-781\" fill=\"#48e78a\" stroke=\"#000000\"/>\n<text fill=\"#000000\" font-family=\"Helvetica,sans-Serif\" font-size=\"14.00\" text-anchor=\"middle\" x=\"6613.5\" y=\"-765.8\">logNumFriends &lt;= 2.403</text>\n<text fill=\"#000000\" font-family=\"Helvetica,sans-Serif\" font-size=\"14.00\" text-anchor=\"middle\" x=\"6613.5\" y=\"-750.8\">gini = 0.136</text>\n<text fill=\"#000000\" font-family=\"Helvetica,sans-Serif\" font-size=\"14.00\" text-anchor=\"middle\" x=\"6613.5\" y=\"-735.8\">samples = 7</text>\n<text fill=\"#000000\" font-family=\"Helvetica,sans-Serif\" font-size=\"14.00\" text-anchor=\"middle\" x=\"6613.5\" y=\"-720.8\">value = [1.239, 41.444, 1.974]</text>\n</g>\n<!-- 167&#45;&gt;171 -->\n<g class=\"edge\" id=\"edge171\">\n<title>167-&gt;171</title>\n<path d=\"M6524.0492,-816.9465C6536.1054,-807.519 6549.3089,-797.1946 6561.7816,-787.4415\" fill=\"none\" stroke=\"#000000\"/>\n<polygon fill=\"#000000\" points=\"6564.1314,-790.0471 6569.853,-781.13 6559.8194,-784.5328 6564.1314,-790.0471\" stroke=\"#000000\"/>\n</g>\n<!-- 169 -->\n<g class=\"node\" id=\"node170\">\n<title>169</title>\n<path d=\"M6247,-669.5C6247,-669.5 6104,-669.5 6104,-669.5 6098,-669.5 6092,-663.5 6092,-657.5 6092,-657.5 6092,-628.5 6092,-628.5 6092,-622.5 6098,-616.5 6104,-616.5 6104,-616.5 6247,-616.5 6247,-616.5 6253,-616.5 6259,-622.5 6259,-628.5 6259,-628.5 6259,-657.5 6259,-657.5 6259,-663.5 6253,-669.5 6247,-669.5\" fill=\"#e58139\" stroke=\"#000000\"/>\n<text fill=\"#000000\" font-family=\"Helvetica,sans-Serif\" font-size=\"14.00\" text-anchor=\"middle\" x=\"6175.5\" y=\"-654.3\">gini = 0.0</text>\n<text fill=\"#000000\" font-family=\"Helvetica,sans-Serif\" font-size=\"14.00\" text-anchor=\"middle\" x=\"6175.5\" y=\"-639.3\">samples = 20</text>\n<text fill=\"#000000\" font-family=\"Helvetica,sans-Serif\" font-size=\"14.00\" text-anchor=\"middle\" x=\"6175.5\" y=\"-624.3\">value = [8.261, 0.0, 0.0]</text>\n</g>\n<!-- 168&#45;&gt;169 -->\n<g class=\"edge\" id=\"edge169\">\n<title>168-&gt;169</title>\n<path d=\"M6297.2338,-712.9465C6275.7632,-700.6098 6251.6193,-686.7371 6230.5287,-674.6187\" fill=\"none\" stroke=\"#000000\"/>\n<polygon fill=\"#000000\" points=\"6232.1079,-671.4895 6221.6936,-669.5422 6228.6205,-677.5589 6232.1079,-671.4895\" stroke=\"#000000\"/>\n</g>\n<!-- 170 -->\n<g class=\"node\" id=\"node171\">\n<title>170</title>\n<path d=\"M6440.5,-669.5C6440.5,-669.5 6288.5,-669.5 6288.5,-669.5 6282.5,-669.5 6276.5,-663.5 6276.5,-657.5 6276.5,-657.5 6276.5,-628.5 6276.5,-628.5 6276.5,-622.5 6282.5,-616.5 6288.5,-616.5 6288.5,-616.5 6440.5,-616.5 6440.5,-616.5 6446.5,-616.5 6452.5,-622.5 6452.5,-628.5 6452.5,-628.5 6452.5,-657.5 6452.5,-657.5 6452.5,-663.5 6446.5,-669.5 6440.5,-669.5\" fill=\"#39e581\" stroke=\"#000000\"/>\n<text fill=\"#000000\" font-family=\"Helvetica,sans-Serif\" font-size=\"14.00\" text-anchor=\"middle\" x=\"6364.5\" y=\"-654.3\">gini = 0.0</text>\n<text fill=\"#000000\" font-family=\"Helvetica,sans-Serif\" font-size=\"14.00\" text-anchor=\"middle\" x=\"6364.5\" y=\"-639.3\">samples = 1</text>\n<text fill=\"#000000\" font-family=\"Helvetica,sans-Serif\" font-size=\"14.00\" text-anchor=\"middle\" x=\"6364.5\" y=\"-624.3\">value = [0.0, 13.815, 0.0]</text>\n</g>\n<!-- 168&#45;&gt;170 -->\n<g class=\"edge\" id=\"edge170\">\n<title>168-&gt;170</title>\n<path d=\"M6359.1195,-712.9465C6359.9414,-702.2621 6360.8519,-690.4254 6361.6866,-679.5742\" fill=\"none\" stroke=\"#000000\"/>\n<polygon fill=\"#000000\" points=\"6365.1809,-679.7812 6362.4583,-669.5422 6358.2015,-679.2442 6365.1809,-679.7812\" stroke=\"#000000\"/>\n</g>\n<!-- 172 -->\n<g class=\"node\" id=\"node173\">\n<title>172</title>\n<path d=\"M6691,-677C6691,-677 6506,-677 6506,-677 6500,-677 6494,-671 6494,-665 6494,-665 6494,-621 6494,-621 6494,-615 6500,-609 6506,-609 6506,-609 6691,-609 6691,-609 6697,-609 6703,-615 6703,-621 6703,-621 6703,-665 6703,-665 6703,-671 6697,-677 6691,-677\" fill=\"#44e688\" stroke=\"#000000\"/>\n<text fill=\"#000000\" font-family=\"Helvetica,sans-Serif\" font-size=\"14.00\" text-anchor=\"middle\" x=\"6598.5\" y=\"-661.8\">$10,000 to $19,999 &lt;= 0.5</text>\n<text fill=\"#000000\" font-family=\"Helvetica,sans-Serif\" font-size=\"14.00\" text-anchor=\"middle\" x=\"6598.5\" y=\"-646.8\">gini = 0.104</text>\n<text fill=\"#000000\" font-family=\"Helvetica,sans-Serif\" font-size=\"14.00\" text-anchor=\"middle\" x=\"6598.5\" y=\"-631.8\">samples = 5</text>\n<text fill=\"#000000\" font-family=\"Helvetica,sans-Serif\" font-size=\"14.00\" text-anchor=\"middle\" x=\"6598.5\" y=\"-616.8\">value = [0.413, 41.444, 1.974]</text>\n</g>\n<!-- 171&#45;&gt;172 -->\n<g class=\"edge\" id=\"edge172\">\n<title>171-&gt;172</title>\n<path d=\"M6608.5884,-712.9465C6607.3971,-704.6863 6606.1063,-695.7374 6604.8588,-687.0875\" fill=\"none\" stroke=\"#000000\"/>\n<polygon fill=\"#000000\" points=\"6608.3144,-686.5279 6603.4226,-677.13 6601.3861,-687.5272 6608.3144,-686.5279\" stroke=\"#000000\"/>\n</g>\n<!-- 177 -->\n<g class=\"node\" id=\"node178\">\n<title>177</title>\n<path d=\"M6876,-669.5C6876,-669.5 6733,-669.5 6733,-669.5 6727,-669.5 6721,-663.5 6721,-657.5 6721,-657.5 6721,-628.5 6721,-628.5 6721,-622.5 6727,-616.5 6733,-616.5 6733,-616.5 6876,-616.5 6876,-616.5 6882,-616.5 6888,-622.5 6888,-628.5 6888,-628.5 6888,-657.5 6888,-657.5 6888,-663.5 6882,-669.5 6876,-669.5\" fill=\"#e58139\" stroke=\"#000000\"/>\n<text fill=\"#000000\" font-family=\"Helvetica,sans-Serif\" font-size=\"14.00\" text-anchor=\"middle\" x=\"6804.5\" y=\"-654.3\">gini = -0.0</text>\n<text fill=\"#000000\" font-family=\"Helvetica,sans-Serif\" font-size=\"14.00\" text-anchor=\"middle\" x=\"6804.5\" y=\"-639.3\">samples = 2</text>\n<text fill=\"#000000\" font-family=\"Helvetica,sans-Serif\" font-size=\"14.00\" text-anchor=\"middle\" x=\"6804.5\" y=\"-624.3\">value = [0.826, 0.0, 0.0]</text>\n</g>\n<!-- 171&#45;&gt;177 -->\n<g class=\"edge\" id=\"edge177\">\n<title>171-&gt;177</title>\n<path d=\"M6676.0405,-712.9465C6698.7985,-700.5547 6724.4027,-686.6132 6746.7289,-674.4565\" fill=\"none\" stroke=\"#000000\"/>\n<polygon fill=\"#000000\" points=\"6748.6456,-677.3982 6755.7543,-669.5422 6745.2981,-671.2504 6748.6456,-677.3982\" stroke=\"#000000\"/>\n</g>\n<!-- 173 -->\n<g class=\"node\" id=\"node174\">\n<title>173</title>\n<path d=\"M6583.5,-573C6583.5,-573 6415.5,-573 6415.5,-573 6409.5,-573 6403.5,-567 6403.5,-561 6403.5,-561 6403.5,-517 6403.5,-517 6403.5,-511 6409.5,-505 6415.5,-505 6415.5,-505 6583.5,-505 6583.5,-505 6589.5,-505 6595.5,-511 6595.5,-517 6595.5,-517 6595.5,-561 6595.5,-561 6595.5,-567 6589.5,-573 6583.5,-573\" fill=\"#42e687\" stroke=\"#000000\"/>\n<text fill=\"#000000\" font-family=\"Helvetica,sans-Serif\" font-size=\"14.00\" text-anchor=\"middle\" x=\"6499.5\" y=\"-557.8\">Black &lt;= 0.5</text>\n<text fill=\"#000000\" font-family=\"Helvetica,sans-Serif\" font-size=\"14.00\" text-anchor=\"middle\" x=\"6499.5\" y=\"-542.8\">gini = 0.087</text>\n<text fill=\"#000000\" font-family=\"Helvetica,sans-Serif\" font-size=\"14.00\" text-anchor=\"middle\" x=\"6499.5\" y=\"-527.8\">samples = 4</text>\n<text fill=\"#000000\" font-family=\"Helvetica,sans-Serif\" font-size=\"14.00\" text-anchor=\"middle\" x=\"6499.5\" y=\"-512.8\">value = [0.0, 41.444, 1.974]</text>\n</g>\n<!-- 172&#45;&gt;173 -->\n<g class=\"edge\" id=\"edge173\">\n<title>172-&gt;173</title>\n<path d=\"M6566.0837,-608.9465C6557.4514,-599.8782 6548.0289,-589.9799 6539.0605,-580.5585\" fill=\"none\" stroke=\"#000000\"/>\n<polygon fill=\"#000000\" points=\"6541.419,-577.9599 6531.9891,-573.13 6536.3489,-582.7863 6541.419,-577.9599\" stroke=\"#000000\"/>\n</g>\n<!-- 176 -->\n<g class=\"node\" id=\"node177\">\n<title>176</title>\n<path d=\"M6769,-565.5C6769,-565.5 6626,-565.5 6626,-565.5 6620,-565.5 6614,-559.5 6614,-553.5 6614,-553.5 6614,-524.5 6614,-524.5 6614,-518.5 6620,-512.5 6626,-512.5 6626,-512.5 6769,-512.5 6769,-512.5 6775,-512.5 6781,-518.5 6781,-524.5 6781,-524.5 6781,-553.5 6781,-553.5 6781,-559.5 6775,-565.5 6769,-565.5\" fill=\"#e58139\" stroke=\"#000000\"/>\n<text fill=\"#000000\" font-family=\"Helvetica,sans-Serif\" font-size=\"14.00\" text-anchor=\"middle\" x=\"6697.5\" y=\"-550.3\">gini = -0.0</text>\n<text fill=\"#000000\" font-family=\"Helvetica,sans-Serif\" font-size=\"14.00\" text-anchor=\"middle\" x=\"6697.5\" y=\"-535.3\">samples = 1</text>\n<text fill=\"#000000\" font-family=\"Helvetica,sans-Serif\" font-size=\"14.00\" text-anchor=\"middle\" x=\"6697.5\" y=\"-520.3\">value = [0.413, 0.0, 0.0]</text>\n</g>\n<!-- 172&#45;&gt;176 -->\n<g class=\"edge\" id=\"edge176\">\n<title>172-&gt;176</title>\n<path d=\"M6630.9163,-608.9465C6641.9259,-597.3809 6654.2207,-584.4652 6665.2196,-572.9107\" fill=\"none\" stroke=\"#000000\"/>\n<polygon fill=\"#000000\" points=\"6667.8741,-575.1984 6672.2339,-565.5422 6662.804,-570.372 6667.8741,-575.1984\" stroke=\"#000000\"/>\n</g>\n<!-- 174 -->\n<g class=\"node\" id=\"node175\">\n<title>174</title>\n<path d=\"M6472,-461.5C6472,-461.5 6329,-461.5 6329,-461.5 6323,-461.5 6317,-455.5 6317,-449.5 6317,-449.5 6317,-420.5 6317,-420.5 6317,-414.5 6323,-408.5 6329,-408.5 6329,-408.5 6472,-408.5 6472,-408.5 6478,-408.5 6484,-414.5 6484,-420.5 6484,-420.5 6484,-449.5 6484,-449.5 6484,-455.5 6478,-461.5 6472,-461.5\" fill=\"#39e581\" stroke=\"#000000\"/>\n<text fill=\"#000000\" font-family=\"Helvetica,sans-Serif\" font-size=\"14.00\" text-anchor=\"middle\" x=\"6400.5\" y=\"-446.3\">gini = 0.0</text>\n<text fill=\"#000000\" font-family=\"Helvetica,sans-Serif\" font-size=\"14.00\" text-anchor=\"middle\" x=\"6400.5\" y=\"-431.3\">samples = 2</text>\n<text fill=\"#000000\" font-family=\"Helvetica,sans-Serif\" font-size=\"14.00\" text-anchor=\"middle\" x=\"6400.5\" y=\"-416.3\">value = [0.0, 27.63, 0.0]</text>\n</g>\n<!-- 173&#45;&gt;174 -->\n<g class=\"edge\" id=\"edge174\">\n<title>173-&gt;174</title>\n<path d=\"M6467.0837,-504.9465C6456.0741,-493.3809 6443.7793,-480.4652 6432.7804,-468.9107\" fill=\"none\" stroke=\"#000000\"/>\n<polygon fill=\"#000000\" points=\"6435.196,-466.372 6425.7661,-461.5422 6430.1259,-471.1984 6435.196,-466.372\" stroke=\"#000000\"/>\n</g>\n<!-- 175 -->\n<g class=\"node\" id=\"node176\">\n<title>175</title>\n<path d=\"M6682.5,-461.5C6682.5,-461.5 6514.5,-461.5 6514.5,-461.5 6508.5,-461.5 6502.5,-455.5 6502.5,-449.5 6502.5,-449.5 6502.5,-420.5 6502.5,-420.5 6502.5,-414.5 6508.5,-408.5 6514.5,-408.5 6514.5,-408.5 6682.5,-408.5 6682.5,-408.5 6688.5,-408.5 6694.5,-414.5 6694.5,-420.5 6694.5,-420.5 6694.5,-449.5 6694.5,-449.5 6694.5,-455.5 6688.5,-461.5 6682.5,-461.5\" fill=\"#55e993\" stroke=\"#000000\"/>\n<text fill=\"#000000\" font-family=\"Helvetica,sans-Serif\" font-size=\"14.00\" text-anchor=\"middle\" x=\"6598.5\" y=\"-446.3\">gini = 0.219</text>\n<text fill=\"#000000\" font-family=\"Helvetica,sans-Serif\" font-size=\"14.00\" text-anchor=\"middle\" x=\"6598.5\" y=\"-431.3\">samples = 2</text>\n<text fill=\"#000000\" font-family=\"Helvetica,sans-Serif\" font-size=\"14.00\" text-anchor=\"middle\" x=\"6598.5\" y=\"-416.3\">value = [0.0, 13.815, 1.974]</text>\n</g>\n<!-- 173&#45;&gt;175 -->\n<g class=\"edge\" id=\"edge175\">\n<title>173-&gt;175</title>\n<path d=\"M6531.9163,-504.9465C6542.9259,-493.3809 6555.2207,-480.4652 6566.2196,-468.9107\" fill=\"none\" stroke=\"#000000\"/>\n<polygon fill=\"#000000\" points=\"6568.8741,-471.1984 6573.2339,-461.5422 6563.804,-466.372 6568.8741,-471.1984\" stroke=\"#000000\"/>\n</g>\n<!-- 179 -->\n<g class=\"node\" id=\"node180\">\n<title>179</title>\n<path d=\"M6891,-773.5C6891,-773.5 6748,-773.5 6748,-773.5 6742,-773.5 6736,-767.5 6736,-761.5 6736,-761.5 6736,-732.5 6736,-732.5 6736,-726.5 6742,-720.5 6748,-720.5 6748,-720.5 6891,-720.5 6891,-720.5 6897,-720.5 6903,-726.5 6903,-732.5 6903,-732.5 6903,-761.5 6903,-761.5 6903,-767.5 6897,-773.5 6891,-773.5\" fill=\"#e58139\" stroke=\"#000000\"/>\n<text fill=\"#000000\" font-family=\"Helvetica,sans-Serif\" font-size=\"14.00\" text-anchor=\"middle\" x=\"6819.5\" y=\"-758.3\">gini = -0.0</text>\n<text fill=\"#000000\" font-family=\"Helvetica,sans-Serif\" font-size=\"14.00\" text-anchor=\"middle\" x=\"6819.5\" y=\"-743.3\">samples = 4</text>\n<text fill=\"#000000\" font-family=\"Helvetica,sans-Serif\" font-size=\"14.00\" text-anchor=\"middle\" x=\"6819.5\" y=\"-728.3\">value = [1.652, 0.0, 0.0]</text>\n</g>\n<!-- 178&#45;&gt;179 -->\n<g class=\"edge\" id=\"edge179\">\n<title>178-&gt;179</title>\n<path d=\"M6819.5,-816.9465C6819.5,-806.2621 6819.5,-794.4254 6819.5,-783.5742\" fill=\"none\" stroke=\"#000000\"/>\n<polygon fill=\"#000000\" points=\"6823.0001,-783.5421 6819.5,-773.5422 6816.0001,-783.5422 6823.0001,-783.5421\" stroke=\"#000000\"/>\n</g>\n<!-- 180 -->\n<g class=\"node\" id=\"node181\">\n<title>180</title>\n<path d=\"M7093.5,-781C7093.5,-781 6933.5,-781 6933.5,-781 6927.5,-781 6921.5,-775 6921.5,-769 6921.5,-769 6921.5,-725 6921.5,-725 6921.5,-719 6927.5,-713 6933.5,-713 6933.5,-713 7093.5,-713 7093.5,-713 7099.5,-713 7105.5,-719 7105.5,-725 7105.5,-725 7105.5,-769 7105.5,-769 7105.5,-775 7099.5,-781 7093.5,-781\" fill=\"#8e4ee8\" stroke=\"#000000\"/>\n<text fill=\"#000000\" font-family=\"Helvetica,sans-Serif\" font-size=\"14.00\" text-anchor=\"middle\" x=\"7013.5\" y=\"-765.8\">Age &lt;= 26.0</text>\n<text fill=\"#000000\" font-family=\"Helvetica,sans-Serif\" font-size=\"14.00\" text-anchor=\"middle\" x=\"7013.5\" y=\"-750.8\">gini = 0.172</text>\n<text fill=\"#000000\" font-family=\"Helvetica,sans-Serif\" font-size=\"14.00\" text-anchor=\"middle\" x=\"7013.5\" y=\"-735.8\">samples = 3</text>\n<text fill=\"#000000\" font-family=\"Helvetica,sans-Serif\" font-size=\"14.00\" text-anchor=\"middle\" x=\"7013.5\" y=\"-720.8\">value = [0.413, 0.0, 3.947]</text>\n</g>\n<!-- 178&#45;&gt;180 -->\n<g class=\"edge\" id=\"edge180\">\n<title>178-&gt;180</title>\n<path d=\"M6883.0229,-816.9465C6901.5299,-807.0252 6921.89,-796.1105 6940.9109,-785.9138\" fill=\"none\" stroke=\"#000000\"/>\n<polygon fill=\"#000000\" points=\"6942.6746,-788.9395 6949.8344,-781.13 6939.3673,-782.7701 6942.6746,-788.9395\" stroke=\"#000000\"/>\n</g>\n<!-- 181 -->\n<g class=\"node\" id=\"node182\">\n<title>181</title>\n<path d=\"M7077,-669.5C7077,-669.5 6934,-669.5 6934,-669.5 6928,-669.5 6922,-663.5 6922,-657.5 6922,-657.5 6922,-628.5 6922,-628.5 6922,-622.5 6928,-616.5 6934,-616.5 6934,-616.5 7077,-616.5 7077,-616.5 7083,-616.5 7089,-622.5 7089,-628.5 7089,-628.5 7089,-657.5 7089,-657.5 7089,-663.5 7083,-669.5 7077,-669.5\" fill=\"#e58139\" stroke=\"#000000\"/>\n<text fill=\"#000000\" font-family=\"Helvetica,sans-Serif\" font-size=\"14.00\" text-anchor=\"middle\" x=\"7005.5\" y=\"-654.3\">gini = 0.0</text>\n<text fill=\"#000000\" font-family=\"Helvetica,sans-Serif\" font-size=\"14.00\" text-anchor=\"middle\" x=\"7005.5\" y=\"-639.3\">samples = 1</text>\n<text fill=\"#000000\" font-family=\"Helvetica,sans-Serif\" font-size=\"14.00\" text-anchor=\"middle\" x=\"7005.5\" y=\"-624.3\">value = [0.413, 0.0, 0.0]</text>\n</g>\n<!-- 180&#45;&gt;181 -->\n<g class=\"edge\" id=\"edge181\">\n<title>180-&gt;181</title>\n<path d=\"M7010.8805,-712.9465C7010.0586,-702.2621 7009.1481,-690.4254 7008.3134,-679.5742\" fill=\"none\" stroke=\"#000000\"/>\n<polygon fill=\"#000000\" points=\"7011.7985,-679.2442 7007.5417,-669.5422 7004.8191,-679.7812 7011.7985,-679.2442\" stroke=\"#000000\"/>\n</g>\n<!-- 182 -->\n<g class=\"node\" id=\"node183\">\n<title>182</title>\n<path d=\"M7262,-669.5C7262,-669.5 7119,-669.5 7119,-669.5 7113,-669.5 7107,-663.5 7107,-657.5 7107,-657.5 7107,-628.5 7107,-628.5 7107,-622.5 7113,-616.5 7119,-616.5 7119,-616.5 7262,-616.5 7262,-616.5 7268,-616.5 7274,-622.5 7274,-628.5 7274,-628.5 7274,-657.5 7274,-657.5 7274,-663.5 7268,-669.5 7262,-669.5\" fill=\"#8139e5\" stroke=\"#000000\"/>\n<text fill=\"#000000\" font-family=\"Helvetica,sans-Serif\" font-size=\"14.00\" text-anchor=\"middle\" x=\"7190.5\" y=\"-654.3\">gini = 0.0</text>\n<text fill=\"#000000\" font-family=\"Helvetica,sans-Serif\" font-size=\"14.00\" text-anchor=\"middle\" x=\"7190.5\" y=\"-639.3\">samples = 2</text>\n<text fill=\"#000000\" font-family=\"Helvetica,sans-Serif\" font-size=\"14.00\" text-anchor=\"middle\" x=\"7190.5\" y=\"-624.3\">value = [0.0, 0.0, 3.947]</text>\n</g>\n<!-- 180&#45;&gt;182 -->\n<g class=\"edge\" id=\"edge182\">\n<title>180-&gt;182</title>\n<path d=\"M7071.4564,-712.9465C7092.4525,-700.6098 7116.0629,-686.7371 7136.6874,-674.6187\" fill=\"none\" stroke=\"#000000\"/>\n<polygon fill=\"#000000\" points=\"7138.4785,-677.6258 7145.3273,-669.5422 7134.9323,-671.5905 7138.4785,-677.6258\" stroke=\"#000000\"/>\n</g>\n</g>\n</svg>"
          },
          "metadata": {
            "tags": []
          },
          "execution_count": 213
        }
      ]
    },
    {
      "cell_type": "markdown",
      "metadata": {
        "id": "ywFEA3w0KV8x",
        "colab_type": "text"
      },
      "source": [
        "The `dt` model selected as `logNumFriends` as the root node. We can then infer that the number of friends one has is the most important predictor of depression severity."
      ]
    },
    {
      "cell_type": "markdown",
      "metadata": {
        "id": "iDJ7pnlyLkgH",
        "colab_type": "text"
      },
      "source": [
        "To improve `dt`'s performance, I performed hyperparameter-tuning on its maximum depth:"
      ]
    },
    {
      "cell_type": "code",
      "metadata": {
        "id": "RA8OrCw0kxTt",
        "colab_type": "code",
        "outputId": "977818b4-64c8-4b83-bf41-6e6527ad23ee",
        "colab": {
          "base_uri": "https://localhost:8080/",
          "height": 387
        }
      },
      "source": [
        "#define the range of tuning maximum depths \n",
        "max_depths = list(range(1, 50))\n",
        "\n",
        "#create a variable to store f scores\n",
        "scores = pd.DataFrame(columns=['f_score'], index=max_depths)\n",
        "\n",
        "#begin tuning maximum depths \n",
        "for i in max_depths:\n",
        "    #initialize a decision tree model with max depth i\n",
        "    dt_maxDepth =  DecisionTreeClassifier(random_state=1,max_depth=i, class_weight='balanced')\n",
        "\n",
        "    #train\n",
        "    dt_maxDepth.fit(x_train, y_train)\n",
        "\n",
        "    #validate and obtain f score \n",
        "    scores.at[i, 'f_score'] = evaluate_model(model=dt_maxDepth, x_test=x_test, y_test=y_test, beta=2)\n",
        "\n",
        "#plot results\n",
        "plt.plot(scores.f_score)\n",
        "\n",
        "#display max depth that gives highest f score\n",
        "print('highest f score\\n', scores.max())\n",
        "print('\\nachieved at max depth of\\n',scores.astype('float64').idxmax())"
      ],
      "execution_count": 0,
      "outputs": [
        {
          "output_type": "stream",
          "text": [
            "highest f score\n",
            " f_score    0.774136\n",
            "dtype: float64\n",
            "\n",
            "achieved at max depth of\n",
            " f_score    13\n",
            "dtype: int64\n"
          ],
          "name": "stdout"
        },
        {
          "output_type": "display_data",
          "data": {
            "image/png": "[encoded data removed]",
            "text/plain": [
              "<Figure size 432x288 with 1 Axes>"
            ]
          },
          "metadata": {
            "tags": []
          }
        }
      ]
    },
    {
      "cell_type": "markdown",
      "metadata": {
        "id": "31FfRdPlRsZL",
        "colab_type": "text"
      },
      "source": [
        "The optimum maximum depth for `dt` is 13. Updating `f_dt` with highest score:"
      ]
    },
    {
      "cell_type": "code",
      "metadata": {
        "id": "4Qbglv9V78az",
        "colab_type": "code",
        "colab": {}
      },
      "source": [
        "f_dt = scores.max()[0]"
      ],
      "execution_count": 0,
      "outputs": []
    },
    {
      "cell_type": "markdown",
      "metadata": {
        "id": "hvcHrO83Scj5",
        "colab_type": "text"
      },
      "source": [
        "###Random Forest"
      ]
    },
    {
      "cell_type": "code",
      "metadata": {
        "id": "E0AYU9w8Ntll",
        "colab_type": "code",
        "outputId": "98ceaa27-f855-4a8a-d321-40bc550c12b4",
        "colab": {
          "base_uri": "https://localhost:8080/",
          "height": 35
        }
      },
      "source": [
        "from sklearn.ensemble import RandomForestClassifier\n",
        "from sklearn.model_selection import train_test_split\n",
        "\n",
        "#initialize random forest model\n",
        "rf = RandomForestClassifier(n_estimators = 100, max_depth = 9, random_state  = 1,\n",
        "                                class_weight='balanced')\n",
        "\n",
        "#train\n",
        "rf.fit(x_train,y_train)\n",
        "\n",
        "#validate\n",
        "f_rf = evaluate_model(model=rf, x_test=x_test, y_test=y_test, beta=2)\n",
        "print(f'f2_score of rf: {f_rf}')"
      ],
      "execution_count": 0,
      "outputs": [
        {
          "output_type": "stream",
          "text": [
            "f2_score of rf: 0.8539051143121449\n"
          ],
          "name": "stdout"
        }
      ]
    },
    {
      "cell_type": "markdown",
      "metadata": {
        "id": "z9DR1-TlbRaL",
        "colab_type": "text"
      },
      "source": [
        "Tune the maximum depth hyperparameter: "
      ]
    },
    {
      "cell_type": "code",
      "metadata": {
        "id": "yrM7JmGY7u88",
        "colab_type": "code",
        "outputId": "8cda0e70-8252-48ef-bc3d-162d2545469a",
        "colab": {
          "base_uri": "https://localhost:8080/",
          "height": 389
        }
      },
      "source": [
        "#define the range of tuning maximum depths \n",
        "max_depths = list(range(1, 20))\n",
        "\n",
        "#create a variable to store f scores\n",
        "scores = pd.DataFrame(columns=['f_score'], index=max_depths)\n",
        "\n",
        "#begin tuning maximum depths \n",
        "for i in max_depths:\n",
        "    rf_maxDepth = RandomForestClassifier(n_estimators = 100, max_depth = i, random_state  = 1,\n",
        "                                class_weight='balanced')\n",
        "    rf_maxDepth.fit(x_train, y_train)\n",
        "    scores.at[i, 'f_score'] = evaluate_model(model=rf_maxDepth, x_test=x_test, y_test=y_test, beta=2)\n",
        "\n",
        "#plot results\n",
        "plt.plot(scores.f_score)\n",
        "\n",
        "#display max depth that gives highest f score\n",
        "print('highest f score\\n', scores.max())\n",
        "print('\\nachieved at max depth of\\n',scores.astype('float64').idxmax())"
      ],
      "execution_count": 0,
      "outputs": [
        {
          "output_type": "stream",
          "text": [
            "highest f score\n",
            " f_score    0.853905\n",
            "dtype: float64\n",
            "\n",
            "achieved at max depth of\n",
            " f_score    9\n",
            "dtype: int64\n"
          ],
          "name": "stdout"
        },
        {
          "output_type": "display_data",
          "data": {
            "image/png": "[encoded data removed]",
            "text/plain": [
              "<Figure size 432x288 with 1 Axes>"
            ]
          },
          "metadata": {
            "tags": []
          }
        }
      ]
    },
    {
      "cell_type": "markdown",
      "metadata": {
        "colab_type": "text",
        "id": "fAxyAQU2dF7y"
      },
      "source": [
        "The optimum maximum depth for `rf` is 9. \n",
        "\n",
        "Update `rf` with highest score:"
      ]
    },
    {
      "cell_type": "code",
      "metadata": {
        "colab_type": "code",
        "id": "wmSOaF0EdF71",
        "colab": {}
      },
      "source": [
        "f_rf = scores.max()[0]"
      ],
      "execution_count": 0,
      "outputs": []
    },
    {
      "cell_type": "markdown",
      "metadata": {
        "id": "tk-N-w2_Sy3r",
        "colab_type": "text"
      },
      "source": [
        "##Summary"
      ]
    },
    {
      "cell_type": "markdown",
      "metadata": {
        "id": "GAKYiyNNd3oH",
        "colab_type": "text"
      },
      "source": [
        "Compare f-scores between all three models:"
      ]
    },
    {
      "cell_type": "code",
      "metadata": {
        "id": "HPcLtPPJSyNq",
        "colab_type": "code",
        "outputId": "21102027-3904-47f6-824f-548e97ef2fcf",
        "colab": {
          "base_uri": "https://localhost:8080/",
          "height": 104
        }
      },
      "source": [
        "print(f'F scores:\\nMultilog: {f_multilog:.5f}\\n'\n",
        "      f'Decision Tree: {f_cart:.5f}\\n'\n",
        "      f'Random Forest: {f_rf:.5f}\\n')"
      ],
      "execution_count": 0,
      "outputs": [
        {
          "output_type": "stream",
          "text": [
            "F scores:\n",
            "Multilog: 0.59001\n",
            "Decision Tree: 0.77414\n",
            "Random Forest: 0.85391\n",
            "\n"
          ],
          "name": "stdout"
        }
      ]
    },
    {
      "cell_type": "markdown",
      "metadata": {
        "id": "7O_Tw9lbeElU",
        "colab_type": "text"
      },
      "source": [
        "Random Forest had the best performance at 85.4%, with Decision Tree following second at 77.4% and finally Multinomial Logsitic Regression as the worst-performing model at 59.0%."
      ]
    },
    {
      "cell_type": "markdown",
      "metadata": {
        "id": "tczcOygod2zz",
        "colab_type": "text"
      },
      "source": [
        "#Model Prediction "
      ]
    },
    {
      "cell_type": "markdown",
      "metadata": {
        "id": "LUTEDs0_eDAj",
        "colab_type": "text"
      },
      "source": [
        "After training and validating the models using the **ForeverAlone** dataset, it is time to test them on data unseen by the model. \n",
        "\n",
        "Using the same questions on the survey that was used to construct the selected features on the ForeverAlone dataset, a new dataset, **Lonely**, was created, by sending out Google Forms online and in-person. The feature questions were taken as is to avoid confounding effects. Target respondents were university students to support ongoing efforts to promote mental health in my univeristy. "
      ]
    },
    {
      "cell_type": "markdown",
      "metadata": {
        "id": "0REMwarbjRaZ",
        "colab_type": "text"
      },
      "source": [
        "##Import Lonely dataset"
      ]
    },
    {
      "cell_type": "markdown",
      "metadata": {
        "colab_type": "text",
        "id": "MQihxQ6ajYzz"
      },
      "source": [
        "Import and store dataset as a Pandas dataframe in `dfL`:"
      ]
    },
    {
      "cell_type": "code",
      "metadata": {
        "colab_type": "code",
        "id": "LJEQtLEt94So",
        "outputId": "621bf986-e602-4d04-a7be-8a2ef14a5cd6",
        "colab": {
          "base_uri": "https://localhost:8080/",
          "height": 534
        }
      },
      "source": [
        "dfL = pd.read_csv(\"{}/TheLonelySurvey.csv\".format(data_dir))\n",
        "dfL.head()"
      ],
      "execution_count": 0,
      "outputs": [
        {
          "output_type": "execute_result",
          "data": {
            "text/html": [
              "<div>\n",
              "<style scoped>\n",
              "    .dataframe tbody tr th:only-of-type {\n",
              "        vertical-align: middle;\n",
              "    }\n",
              "\n",
              "    .dataframe tbody tr th {\n",
              "        vertical-align: top;\n",
              "    }\n",
              "\n",
              "    .dataframe thead th {\n",
              "        text-align: right;\n",
              "    }\n",
              "</style>\n",
              "<table border=\"1\" class=\"dataframe\">\n",
              "  <thead>\n",
              "    <tr style=\"text-align: right;\">\n",
              "      <th></th>\n",
              "      <th>Timestamp</th>\n",
              "      <th>Are you a university student?</th>\n",
              "      <th>How old are you?</th>\n",
              "      <th>Do you have social anxiety?</th>\n",
              "      <th>Are you depressed?</th>\n",
              "      <th>Have you ever contemplated/attempted suicide?</th>\n",
              "      <th>What gender do you identify as?</th>\n",
              "      <th>What is your sexual orientation?</th>\n",
              "      <th>What race do you identify as?</th>\n",
              "      <th>What is your education level?</th>\n",
              "      <th>How many friends do you have in real life? (whole number)</th>\n",
              "      <th>How would you describe your body weight?</th>\n",
              "      <th>What is your income range?</th>\n",
              "      <th>Is prostitution Legal at where you live?</th>\n",
              "      <th>Would you pay for sex?</th>\n",
              "    </tr>\n",
              "  </thead>\n",
              "  <tbody>\n",
              "    <tr>\n",
              "      <th>0</th>\n",
              "      <td>2019/11/19 12:56:53 AM EST</td>\n",
              "      <td>Yes</td>\n",
              "      <td>20.0</td>\n",
              "      <td>Yes</td>\n",
              "      <td>No</td>\n",
              "      <td>Contemplated suicide</td>\n",
              "      <td>Male</td>\n",
              "      <td>Bisexual</td>\n",
              "      <td>Hispanic</td>\n",
              "      <td>University</td>\n",
              "      <td>4</td>\n",
              "      <td>Normal weight</td>\n",
              "      <td>$1-$9,999</td>\n",
              "      <td>No</td>\n",
              "      <td>No</td>\n",
              "    </tr>\n",
              "    <tr>\n",
              "      <th>1</th>\n",
              "      <td>2019/11/19 12:59:40 AM EST</td>\n",
              "      <td>Yes</td>\n",
              "      <td>20.0</td>\n",
              "      <td>Yes</td>\n",
              "      <td>Yes</td>\n",
              "      <td>Never</td>\n",
              "      <td>Female</td>\n",
              "      <td>Straight</td>\n",
              "      <td>Hispanic</td>\n",
              "      <td>University</td>\n",
              "      <td>4</td>\n",
              "      <td>Normal weight</td>\n",
              "      <td>$100,000 - $124,999</td>\n",
              "      <td>No</td>\n",
              "      <td>No</td>\n",
              "    </tr>\n",
              "    <tr>\n",
              "      <th>2</th>\n",
              "      <td>2019/11/19 1:02:00 AM EST</td>\n",
              "      <td>Yes</td>\n",
              "      <td>22.0</td>\n",
              "      <td>Yes</td>\n",
              "      <td>Yes</td>\n",
              "      <td>Contemplated suicide</td>\n",
              "      <td>Male</td>\n",
              "      <td>Straight</td>\n",
              "      <td>Asian</td>\n",
              "      <td>University</td>\n",
              "      <td>50</td>\n",
              "      <td>Normal weight</td>\n",
              "      <td>$1-$9,999</td>\n",
              "      <td>Yes</td>\n",
              "      <td>Yes</td>\n",
              "    </tr>\n",
              "    <tr>\n",
              "      <th>3</th>\n",
              "      <td>2019/11/19 1:05:33 AM EST</td>\n",
              "      <td>Yes</td>\n",
              "      <td>22.0</td>\n",
              "      <td>No</td>\n",
              "      <td>No</td>\n",
              "      <td>Never</td>\n",
              "      <td>Male</td>\n",
              "      <td>Straight</td>\n",
              "      <td>Asian</td>\n",
              "      <td>University</td>\n",
              "      <td>10</td>\n",
              "      <td>Normal weight</td>\n",
              "      <td>$10,000 - $19,999</td>\n",
              "      <td>No</td>\n",
              "      <td>No</td>\n",
              "    </tr>\n",
              "    <tr>\n",
              "      <th>4</th>\n",
              "      <td>2019/11/19 1:11:54 AM EST</td>\n",
              "      <td>Yes</td>\n",
              "      <td>19.0</td>\n",
              "      <td>Yes</td>\n",
              "      <td>No</td>\n",
              "      <td>Contemplated suicide</td>\n",
              "      <td>Female</td>\n",
              "      <td>Bisexual</td>\n",
              "      <td>Asian</td>\n",
              "      <td>High school</td>\n",
              "      <td>8</td>\n",
              "      <td>Normal weight</td>\n",
              "      <td>$0</td>\n",
              "      <td>No</td>\n",
              "      <td>No</td>\n",
              "    </tr>\n",
              "  </tbody>\n",
              "</table>\n",
              "</div>"
            ],
            "text/plain": [
              "                    Timestamp  ... Would you pay for sex?\n",
              "0  2019/11/19 12:56:53 AM EST  ...                     No\n",
              "1  2019/11/19 12:59:40 AM EST  ...                     No\n",
              "2   2019/11/19 1:02:00 AM EST  ...                    Yes\n",
              "3   2019/11/19 1:05:33 AM EST  ...                     No\n",
              "4   2019/11/19 1:11:54 AM EST  ...                     No\n",
              "\n",
              "[5 rows x 15 columns]"
            ]
          },
          "metadata": {
            "tags": []
          },
          "execution_count": 220
        }
      ]
    },
    {
      "cell_type": "markdown",
      "metadata": {
        "colab_type": "text",
        "id": "Z_qWDvXcjYz1"
      },
      "source": [
        "Rename columns:"
      ]
    },
    {
      "cell_type": "code",
      "metadata": {
        "colab_type": "code",
        "id": "6YsqvfMi94Ss",
        "outputId": "00782371-d37c-4b39-e27c-4bf3e26caccb",
        "colab": {
          "base_uri": "https://localhost:8080/",
          "height": 395
        }
      },
      "source": [
        "dfL.columns = ['Timestamp', 'UniStudent', 'Age', 'HasSocialAnxiety', 'Depressed', 'Suicide', 'Gender', 'SexualOrientation','Race','Education','NumFriends','Body','IncomeLevel','ProstitutionLegalAtPlace','WouldPayForSex']\n",
        "dfL.head()"
      ],
      "execution_count": 0,
      "outputs": [
        {
          "output_type": "execute_result",
          "data": {
            "text/html": [
              "<div>\n",
              "<style scoped>\n",
              "    .dataframe tbody tr th:only-of-type {\n",
              "        vertical-align: middle;\n",
              "    }\n",
              "\n",
              "    .dataframe tbody tr th {\n",
              "        vertical-align: top;\n",
              "    }\n",
              "\n",
              "    .dataframe thead th {\n",
              "        text-align: right;\n",
              "    }\n",
              "</style>\n",
              "<table border=\"1\" class=\"dataframe\">\n",
              "  <thead>\n",
              "    <tr style=\"text-align: right;\">\n",
              "      <th></th>\n",
              "      <th>Timestamp</th>\n",
              "      <th>UniStudent</th>\n",
              "      <th>Age</th>\n",
              "      <th>HasSocialAnxiety</th>\n",
              "      <th>Depressed</th>\n",
              "      <th>Suicide</th>\n",
              "      <th>Gender</th>\n",
              "      <th>SexualOrientation</th>\n",
              "      <th>Race</th>\n",
              "      <th>Education</th>\n",
              "      <th>NumFriends</th>\n",
              "      <th>Body</th>\n",
              "      <th>IncomeLevel</th>\n",
              "      <th>ProstitutionLegalAtPlace</th>\n",
              "      <th>WouldPayForSex</th>\n",
              "    </tr>\n",
              "  </thead>\n",
              "  <tbody>\n",
              "    <tr>\n",
              "      <th>0</th>\n",
              "      <td>2019/11/19 12:56:53 AM EST</td>\n",
              "      <td>Yes</td>\n",
              "      <td>20.0</td>\n",
              "      <td>Yes</td>\n",
              "      <td>No</td>\n",
              "      <td>Contemplated suicide</td>\n",
              "      <td>Male</td>\n",
              "      <td>Bisexual</td>\n",
              "      <td>Hispanic</td>\n",
              "      <td>University</td>\n",
              "      <td>4</td>\n",
              "      <td>Normal weight</td>\n",
              "      <td>$1-$9,999</td>\n",
              "      <td>No</td>\n",
              "      <td>No</td>\n",
              "    </tr>\n",
              "    <tr>\n",
              "      <th>1</th>\n",
              "      <td>2019/11/19 12:59:40 AM EST</td>\n",
              "      <td>Yes</td>\n",
              "      <td>20.0</td>\n",
              "      <td>Yes</td>\n",
              "      <td>Yes</td>\n",
              "      <td>Never</td>\n",
              "      <td>Female</td>\n",
              "      <td>Straight</td>\n",
              "      <td>Hispanic</td>\n",
              "      <td>University</td>\n",
              "      <td>4</td>\n",
              "      <td>Normal weight</td>\n",
              "      <td>$100,000 - $124,999</td>\n",
              "      <td>No</td>\n",
              "      <td>No</td>\n",
              "    </tr>\n",
              "    <tr>\n",
              "      <th>2</th>\n",
              "      <td>2019/11/19 1:02:00 AM EST</td>\n",
              "      <td>Yes</td>\n",
              "      <td>22.0</td>\n",
              "      <td>Yes</td>\n",
              "      <td>Yes</td>\n",
              "      <td>Contemplated suicide</td>\n",
              "      <td>Male</td>\n",
              "      <td>Straight</td>\n",
              "      <td>Asian</td>\n",
              "      <td>University</td>\n",
              "      <td>50</td>\n",
              "      <td>Normal weight</td>\n",
              "      <td>$1-$9,999</td>\n",
              "      <td>Yes</td>\n",
              "      <td>Yes</td>\n",
              "    </tr>\n",
              "    <tr>\n",
              "      <th>3</th>\n",
              "      <td>2019/11/19 1:05:33 AM EST</td>\n",
              "      <td>Yes</td>\n",
              "      <td>22.0</td>\n",
              "      <td>No</td>\n",
              "      <td>No</td>\n",
              "      <td>Never</td>\n",
              "      <td>Male</td>\n",
              "      <td>Straight</td>\n",
              "      <td>Asian</td>\n",
              "      <td>University</td>\n",
              "      <td>10</td>\n",
              "      <td>Normal weight</td>\n",
              "      <td>$10,000 - $19,999</td>\n",
              "      <td>No</td>\n",
              "      <td>No</td>\n",
              "    </tr>\n",
              "    <tr>\n",
              "      <th>4</th>\n",
              "      <td>2019/11/19 1:11:54 AM EST</td>\n",
              "      <td>Yes</td>\n",
              "      <td>19.0</td>\n",
              "      <td>Yes</td>\n",
              "      <td>No</td>\n",
              "      <td>Contemplated suicide</td>\n",
              "      <td>Female</td>\n",
              "      <td>Bisexual</td>\n",
              "      <td>Asian</td>\n",
              "      <td>High school</td>\n",
              "      <td>8</td>\n",
              "      <td>Normal weight</td>\n",
              "      <td>$0</td>\n",
              "      <td>No</td>\n",
              "      <td>No</td>\n",
              "    </tr>\n",
              "  </tbody>\n",
              "</table>\n",
              "</div>"
            ],
            "text/plain": [
              "                    Timestamp  ... WouldPayForSex\n",
              "0  2019/11/19 12:56:53 AM EST  ...             No\n",
              "1  2019/11/19 12:59:40 AM EST  ...             No\n",
              "2   2019/11/19 1:02:00 AM EST  ...            Yes\n",
              "3   2019/11/19 1:05:33 AM EST  ...             No\n",
              "4   2019/11/19 1:11:54 AM EST  ...             No\n",
              "\n",
              "[5 rows x 15 columns]"
            ]
          },
          "metadata": {
            "tags": []
          },
          "execution_count": 221
        }
      ]
    },
    {
      "cell_type": "markdown",
      "metadata": {
        "id": "Epyn894bj-VH",
        "colab_type": "text"
      },
      "source": [
        "##EDA and preprocessing Lonely\n",
        "\n",
        "**NOTE**: The EDA and preprocessing procedures of the Lonely dataset will be very similar to those of the training datatset. Feel free to skip ahead to the **Predict Lonely** section. "
      ]
    },
    {
      "cell_type": "markdown",
      "metadata": {
        "id": "3JbJga8BSXQS",
        "colab_type": "text"
      },
      "source": [
        "The Lonely dataset should only contain the 13 features that were used to train the model. `TimeStamp` and `UniStudent` columns must be dropped.\n",
        "\n",
        "Discard the `TimeStamp` column:"
      ]
    },
    {
      "cell_type": "code",
      "metadata": {
        "id": "NXARF83Ij5GB",
        "colab_type": "code",
        "outputId": "f48086f5-5f8d-4ad0-90c4-38d9916f467d",
        "colab": {
          "base_uri": "https://localhost:8080/",
          "height": 309
        }
      },
      "source": [
        "#drop timestamp \n",
        "dfL =  dfL.drop(['Timestamp'], axis = 1)\n",
        "dfL.head()"
      ],
      "execution_count": 0,
      "outputs": [
        {
          "output_type": "execute_result",
          "data": {
            "text/html": [
              "<div>\n",
              "<style scoped>\n",
              "    .dataframe tbody tr th:only-of-type {\n",
              "        vertical-align: middle;\n",
              "    }\n",
              "\n",
              "    .dataframe tbody tr th {\n",
              "        vertical-align: top;\n",
              "    }\n",
              "\n",
              "    .dataframe thead th {\n",
              "        text-align: right;\n",
              "    }\n",
              "</style>\n",
              "<table border=\"1\" class=\"dataframe\">\n",
              "  <thead>\n",
              "    <tr style=\"text-align: right;\">\n",
              "      <th></th>\n",
              "      <th>UniStudent</th>\n",
              "      <th>Age</th>\n",
              "      <th>HasSocialAnxiety</th>\n",
              "      <th>Depressed</th>\n",
              "      <th>Suicide</th>\n",
              "      <th>Gender</th>\n",
              "      <th>SexualOrientation</th>\n",
              "      <th>Race</th>\n",
              "      <th>Education</th>\n",
              "      <th>NumFriends</th>\n",
              "      <th>Body</th>\n",
              "      <th>IncomeLevel</th>\n",
              "      <th>ProstitutionLegalAtPlace</th>\n",
              "      <th>WouldPayForSex</th>\n",
              "    </tr>\n",
              "  </thead>\n",
              "  <tbody>\n",
              "    <tr>\n",
              "      <th>0</th>\n",
              "      <td>Yes</td>\n",
              "      <td>20.0</td>\n",
              "      <td>Yes</td>\n",
              "      <td>No</td>\n",
              "      <td>Contemplated suicide</td>\n",
              "      <td>Male</td>\n",
              "      <td>Bisexual</td>\n",
              "      <td>Hispanic</td>\n",
              "      <td>University</td>\n",
              "      <td>4</td>\n",
              "      <td>Normal weight</td>\n",
              "      <td>$1-$9,999</td>\n",
              "      <td>No</td>\n",
              "      <td>No</td>\n",
              "    </tr>\n",
              "    <tr>\n",
              "      <th>1</th>\n",
              "      <td>Yes</td>\n",
              "      <td>20.0</td>\n",
              "      <td>Yes</td>\n",
              "      <td>Yes</td>\n",
              "      <td>Never</td>\n",
              "      <td>Female</td>\n",
              "      <td>Straight</td>\n",
              "      <td>Hispanic</td>\n",
              "      <td>University</td>\n",
              "      <td>4</td>\n",
              "      <td>Normal weight</td>\n",
              "      <td>$100,000 - $124,999</td>\n",
              "      <td>No</td>\n",
              "      <td>No</td>\n",
              "    </tr>\n",
              "    <tr>\n",
              "      <th>2</th>\n",
              "      <td>Yes</td>\n",
              "      <td>22.0</td>\n",
              "      <td>Yes</td>\n",
              "      <td>Yes</td>\n",
              "      <td>Contemplated suicide</td>\n",
              "      <td>Male</td>\n",
              "      <td>Straight</td>\n",
              "      <td>Asian</td>\n",
              "      <td>University</td>\n",
              "      <td>50</td>\n",
              "      <td>Normal weight</td>\n",
              "      <td>$1-$9,999</td>\n",
              "      <td>Yes</td>\n",
              "      <td>Yes</td>\n",
              "    </tr>\n",
              "    <tr>\n",
              "      <th>3</th>\n",
              "      <td>Yes</td>\n",
              "      <td>22.0</td>\n",
              "      <td>No</td>\n",
              "      <td>No</td>\n",
              "      <td>Never</td>\n",
              "      <td>Male</td>\n",
              "      <td>Straight</td>\n",
              "      <td>Asian</td>\n",
              "      <td>University</td>\n",
              "      <td>10</td>\n",
              "      <td>Normal weight</td>\n",
              "      <td>$10,000 - $19,999</td>\n",
              "      <td>No</td>\n",
              "      <td>No</td>\n",
              "    </tr>\n",
              "    <tr>\n",
              "      <th>4</th>\n",
              "      <td>Yes</td>\n",
              "      <td>19.0</td>\n",
              "      <td>Yes</td>\n",
              "      <td>No</td>\n",
              "      <td>Contemplated suicide</td>\n",
              "      <td>Female</td>\n",
              "      <td>Bisexual</td>\n",
              "      <td>Asian</td>\n",
              "      <td>High school</td>\n",
              "      <td>8</td>\n",
              "      <td>Normal weight</td>\n",
              "      <td>$0</td>\n",
              "      <td>No</td>\n",
              "      <td>No</td>\n",
              "    </tr>\n",
              "  </tbody>\n",
              "</table>\n",
              "</div>"
            ],
            "text/plain": [
              "  UniStudent   Age  ... ProstitutionLegalAtPlace WouldPayForSex\n",
              "0        Yes  20.0  ...                       No             No\n",
              "1        Yes  20.0  ...                       No             No\n",
              "2        Yes  22.0  ...                      Yes            Yes\n",
              "3        Yes  22.0  ...                       No             No\n",
              "4        Yes  19.0  ...                       No             No\n",
              "\n",
              "[5 rows x 14 columns]"
            ]
          },
          "metadata": {
            "tags": []
          },
          "execution_count": 222
        }
      ]
    },
    {
      "cell_type": "markdown",
      "metadata": {
        "id": "cVXmul7Zkc1-",
        "colab_type": "text"
      },
      "source": [
        "Since university students are my targeted population, I discard responses from non-university students before dropping `UniStudent`:"
      ]
    },
    {
      "cell_type": "code",
      "metadata": {
        "id": "fJR4FS9LUNk-",
        "colab_type": "code",
        "outputId": "37a2cc60-015b-47da-c268-9e23afa1f4e0",
        "colab": {
          "base_uri": "https://localhost:8080/",
          "height": 52
        }
      },
      "source": [
        "#locate non-university students,\n",
        "NotUniStudent_index = dfL.loc[dfL.UniStudent == 'No'].index\n",
        "\n",
        "#how many non-university respondents?\n",
        "print(f'There are {len(NotUniStudent_index)} non-uni students in {dfL.shape[0]} respondents.')\n",
        "\n",
        "#drop non-university respondents\n",
        "dfL = dfL.drop(NotUniStudent_index)\n",
        "\n",
        "#verify change\n",
        "print(f'After dropping, remaining unique value types in UniStudent: {dfL.UniStudent.unique()}')"
      ],
      "execution_count": 0,
      "outputs": [
        {
          "output_type": "stream",
          "text": [
            "There are 9 non-uni students in 110 respondents.\n",
            "After dropping, remaining unique value types in UniStudent: ['Yes']\n"
          ],
          "name": "stdout"
        }
      ]
    },
    {
      "cell_type": "code",
      "metadata": {
        "id": "QFd8GSvPTLdK",
        "colab_type": "code",
        "colab": {}
      },
      "source": [
        "#drop UniStudent column\n",
        "dfL = dfL.drop(['UniStudent'], axis = 1)"
      ],
      "execution_count": 0,
      "outputs": []
    },
    {
      "cell_type": "markdown",
      "metadata": {
        "colab_type": "text",
        "id": "e6Va8cSZinqX"
      },
      "source": [
        "How big is our dataset?"
      ]
    },
    {
      "cell_type": "code",
      "metadata": {
        "colab_type": "code",
        "outputId": "97cfaa4f-d412-4dcc-cc42-b97670c3bc1d",
        "id": "q5Uz_hTAinqZ",
        "colab": {
          "base_uri": "https://localhost:8080/",
          "height": 35
        }
      },
      "source": [
        "print(dfL.shape)"
      ],
      "execution_count": 0,
      "outputs": [
        {
          "output_type": "stream",
          "text": [
            "(101, 13)\n"
          ],
          "name": "stdout"
        }
      ]
    },
    {
      "cell_type": "markdown",
      "metadata": {
        "colab_type": "text",
        "id": "Y2l0mXZZinqb"
      },
      "source": [
        "There are 110 rows (corresponding to respondents) and 15 columns (corresponding to the 13 features, timestamp and verifying )"
      ]
    },
    {
      "cell_type": "markdown",
      "metadata": {
        "colab_type": "text",
        "id": "e_GQkjy9inqc"
      },
      "source": [
        "What are the datatypes for each column?"
      ]
    },
    {
      "cell_type": "code",
      "metadata": {
        "colab_type": "code",
        "outputId": "320b57d1-c1d2-4cbf-d93b-b2a3b49a1902",
        "id": "u_8ChHK0inqc",
        "colab": {
          "base_uri": "https://localhost:8080/",
          "height": 260
        }
      },
      "source": [
        "print(dfL.dtypes)"
      ],
      "execution_count": 0,
      "outputs": [
        {
          "output_type": "stream",
          "text": [
            "Age                         float64\n",
            "HasSocialAnxiety             object\n",
            "Depressed                    object\n",
            "Suicide                      object\n",
            "Gender                       object\n",
            "SexualOrientation            object\n",
            "Race                         object\n",
            "Education                    object\n",
            "NumFriends                    int64\n",
            "Body                         object\n",
            "IncomeLevel                  object\n",
            "ProstitutionLegalAtPlace     object\n",
            "WouldPayForSex               object\n",
            "dtype: object\n"
          ],
          "name": "stdout"
        }
      ]
    },
    {
      "cell_type": "markdown",
      "metadata": {
        "id": "0PAhSWNgnSNX",
        "colab_type": "text"
      },
      "source": [
        "Types of variables matches with training feature types. Proceed."
      ]
    },
    {
      "cell_type": "markdown",
      "metadata": {
        "colab_type": "text",
        "id": "kpKI7_YzxA8I"
      },
      "source": [
        "### Creating target column - DepressionSeverity"
      ]
    },
    {
      "cell_type": "markdown",
      "metadata": {
        "id": "YeZQUmmkqN5l",
        "colab_type": "text"
      },
      "source": [
        "Reformat inputs of `Suicide`:"
      ]
    },
    {
      "cell_type": "code",
      "metadata": {
        "id": "bETVLSPKqXgL",
        "colab_type": "code",
        "outputId": "15e7ba5b-f22f-4b70-ad21-4a1bf63221c2",
        "colab": {
          "base_uri": "https://localhost:8080/",
          "height": 731
        }
      },
      "source": [
        "#define a function that classifies ('Contemplated Suicide', 'Never') to 'No'\n",
        "def classify_attempted_suicide(x):\n",
        "  if x == 'Attempted suicide' :\n",
        "    return 'Yes'\n",
        "  else: return 'No'\n",
        "\n",
        "#apply reclassification\n",
        "dfL['Suicide'] = dfL['Suicide'].apply(classify_attempted_suicide)\n",
        "\n",
        "#verify reclassification\n",
        "dfL.Suicide.value_counts()"
      ],
      "execution_count": 0,
      "outputs": [
        {
          "output_type": "error",
          "ename": "KeyError",
          "evalue": "ignored",
          "traceback": [
            "\u001b[0;31m---------------------------------------------------------------------------\u001b[0m",
            "\u001b[0;31mKeyError\u001b[0m                                  Traceback (most recent call last)",
            "\u001b[0;32m/usr/local/lib/python3.6/dist-packages/pandas/core/indexes/base.py\u001b[0m in \u001b[0;36mget_loc\u001b[0;34m(self, key, method, tolerance)\u001b[0m\n\u001b[1;32m   2896\u001b[0m             \u001b[0;32mtry\u001b[0m\u001b[0;34m:\u001b[0m\u001b[0;34m\u001b[0m\u001b[0;34m\u001b[0m\u001b[0m\n\u001b[0;32m-> 2897\u001b[0;31m                 \u001b[0;32mreturn\u001b[0m \u001b[0mself\u001b[0m\u001b[0;34m.\u001b[0m\u001b[0m_engine\u001b[0m\u001b[0;34m.\u001b[0m\u001b[0mget_loc\u001b[0m\u001b[0;34m(\u001b[0m\u001b[0mkey\u001b[0m\u001b[0;34m)\u001b[0m\u001b[0;34m\u001b[0m\u001b[0;34m\u001b[0m\u001b[0m\n\u001b[0m\u001b[1;32m   2898\u001b[0m             \u001b[0;32mexcept\u001b[0m \u001b[0mKeyError\u001b[0m\u001b[0;34m:\u001b[0m\u001b[0;34m\u001b[0m\u001b[0;34m\u001b[0m\u001b[0m\n",
            "\u001b[0;32mpandas/_libs/index.pyx\u001b[0m in \u001b[0;36mpandas._libs.index.IndexEngine.get_loc\u001b[0;34m()\u001b[0m\n",
            "\u001b[0;32mpandas/_libs/index.pyx\u001b[0m in \u001b[0;36mpandas._libs.index.IndexEngine.get_loc\u001b[0;34m()\u001b[0m\n",
            "\u001b[0;32mpandas/_libs/hashtable_class_helper.pxi\u001b[0m in \u001b[0;36mpandas._libs.hashtable.PyObjectHashTable.get_item\u001b[0;34m()\u001b[0m\n",
            "\u001b[0;32mpandas/_libs/hashtable_class_helper.pxi\u001b[0m in \u001b[0;36mpandas._libs.hashtable.PyObjectHashTable.get_item\u001b[0;34m()\u001b[0m\n",
            "\u001b[0;31mKeyError\u001b[0m: 'Suicide'",
            "\nDuring handling of the above exception, another exception occurred:\n",
            "\u001b[0;31mKeyError\u001b[0m                                  Traceback (most recent call last)",
            "\u001b[0;32m<ipython-input-249-881124ee5817>\u001b[0m in \u001b[0;36m<module>\u001b[0;34m()\u001b[0m\n\u001b[1;32m      5\u001b[0m \u001b[0;34m\u001b[0m\u001b[0m\n\u001b[1;32m      6\u001b[0m \u001b[0;31m#apply reclassification\u001b[0m\u001b[0;34m\u001b[0m\u001b[0;34m\u001b[0m\u001b[0;34m\u001b[0m\u001b[0m\n\u001b[0;32m----> 7\u001b[0;31m \u001b[0mdfL\u001b[0m\u001b[0;34m[\u001b[0m\u001b[0;34m'Suicide'\u001b[0m\u001b[0;34m]\u001b[0m \u001b[0;34m=\u001b[0m \u001b[0mdfL\u001b[0m\u001b[0;34m[\u001b[0m\u001b[0;34m'Suicide'\u001b[0m\u001b[0;34m]\u001b[0m\u001b[0;34m.\u001b[0m\u001b[0mapply\u001b[0m\u001b[0;34m(\u001b[0m\u001b[0mclassify_attempted_suicide\u001b[0m\u001b[0;34m)\u001b[0m\u001b[0;34m\u001b[0m\u001b[0;34m\u001b[0m\u001b[0m\n\u001b[0m\u001b[1;32m      8\u001b[0m \u001b[0;34m\u001b[0m\u001b[0m\n\u001b[1;32m      9\u001b[0m \u001b[0;31m#verify reclassification\u001b[0m\u001b[0;34m\u001b[0m\u001b[0;34m\u001b[0m\u001b[0;34m\u001b[0m\u001b[0m\n",
            "\u001b[0;32m/usr/local/lib/python3.6/dist-packages/pandas/core/frame.py\u001b[0m in \u001b[0;36m__getitem__\u001b[0;34m(self, key)\u001b[0m\n\u001b[1;32m   2993\u001b[0m             \u001b[0;32mif\u001b[0m \u001b[0mself\u001b[0m\u001b[0;34m.\u001b[0m\u001b[0mcolumns\u001b[0m\u001b[0;34m.\u001b[0m\u001b[0mnlevels\u001b[0m \u001b[0;34m>\u001b[0m \u001b[0;36m1\u001b[0m\u001b[0;34m:\u001b[0m\u001b[0;34m\u001b[0m\u001b[0;34m\u001b[0m\u001b[0m\n\u001b[1;32m   2994\u001b[0m                 \u001b[0;32mreturn\u001b[0m \u001b[0mself\u001b[0m\u001b[0;34m.\u001b[0m\u001b[0m_getitem_multilevel\u001b[0m\u001b[0;34m(\u001b[0m\u001b[0mkey\u001b[0m\u001b[0;34m)\u001b[0m\u001b[0;34m\u001b[0m\u001b[0;34m\u001b[0m\u001b[0m\n\u001b[0;32m-> 2995\u001b[0;31m             \u001b[0mindexer\u001b[0m \u001b[0;34m=\u001b[0m \u001b[0mself\u001b[0m\u001b[0;34m.\u001b[0m\u001b[0mcolumns\u001b[0m\u001b[0;34m.\u001b[0m\u001b[0mget_loc\u001b[0m\u001b[0;34m(\u001b[0m\u001b[0mkey\u001b[0m\u001b[0;34m)\u001b[0m\u001b[0;34m\u001b[0m\u001b[0;34m\u001b[0m\u001b[0m\n\u001b[0m\u001b[1;32m   2996\u001b[0m             \u001b[0;32mif\u001b[0m \u001b[0mis_integer\u001b[0m\u001b[0;34m(\u001b[0m\u001b[0mindexer\u001b[0m\u001b[0;34m)\u001b[0m\u001b[0;34m:\u001b[0m\u001b[0;34m\u001b[0m\u001b[0;34m\u001b[0m\u001b[0m\n\u001b[1;32m   2997\u001b[0m                 \u001b[0mindexer\u001b[0m \u001b[0;34m=\u001b[0m \u001b[0;34m[\u001b[0m\u001b[0mindexer\u001b[0m\u001b[0;34m]\u001b[0m\u001b[0;34m\u001b[0m\u001b[0;34m\u001b[0m\u001b[0m\n",
            "\u001b[0;32m/usr/local/lib/python3.6/dist-packages/pandas/core/indexes/base.py\u001b[0m in \u001b[0;36mget_loc\u001b[0;34m(self, key, method, tolerance)\u001b[0m\n\u001b[1;32m   2897\u001b[0m                 \u001b[0;32mreturn\u001b[0m \u001b[0mself\u001b[0m\u001b[0;34m.\u001b[0m\u001b[0m_engine\u001b[0m\u001b[0;34m.\u001b[0m\u001b[0mget_loc\u001b[0m\u001b[0;34m(\u001b[0m\u001b[0mkey\u001b[0m\u001b[0;34m)\u001b[0m\u001b[0;34m\u001b[0m\u001b[0;34m\u001b[0m\u001b[0m\n\u001b[1;32m   2898\u001b[0m             \u001b[0;32mexcept\u001b[0m \u001b[0mKeyError\u001b[0m\u001b[0;34m:\u001b[0m\u001b[0;34m\u001b[0m\u001b[0;34m\u001b[0m\u001b[0m\n\u001b[0;32m-> 2899\u001b[0;31m                 \u001b[0;32mreturn\u001b[0m \u001b[0mself\u001b[0m\u001b[0;34m.\u001b[0m\u001b[0m_engine\u001b[0m\u001b[0;34m.\u001b[0m\u001b[0mget_loc\u001b[0m\u001b[0;34m(\u001b[0m\u001b[0mself\u001b[0m\u001b[0;34m.\u001b[0m\u001b[0m_maybe_cast_indexer\u001b[0m\u001b[0;34m(\u001b[0m\u001b[0mkey\u001b[0m\u001b[0;34m)\u001b[0m\u001b[0;34m)\u001b[0m\u001b[0;34m\u001b[0m\u001b[0;34m\u001b[0m\u001b[0m\n\u001b[0m\u001b[1;32m   2900\u001b[0m         \u001b[0mindexer\u001b[0m \u001b[0;34m=\u001b[0m \u001b[0mself\u001b[0m\u001b[0;34m.\u001b[0m\u001b[0mget_indexer\u001b[0m\u001b[0;34m(\u001b[0m\u001b[0;34m[\u001b[0m\u001b[0mkey\u001b[0m\u001b[0;34m]\u001b[0m\u001b[0;34m,\u001b[0m \u001b[0mmethod\u001b[0m\u001b[0;34m=\u001b[0m\u001b[0mmethod\u001b[0m\u001b[0;34m,\u001b[0m \u001b[0mtolerance\u001b[0m\u001b[0;34m=\u001b[0m\u001b[0mtolerance\u001b[0m\u001b[0;34m)\u001b[0m\u001b[0;34m\u001b[0m\u001b[0;34m\u001b[0m\u001b[0m\n\u001b[1;32m   2901\u001b[0m         \u001b[0;32mif\u001b[0m \u001b[0mindexer\u001b[0m\u001b[0;34m.\u001b[0m\u001b[0mndim\u001b[0m \u001b[0;34m>\u001b[0m \u001b[0;36m1\u001b[0m \u001b[0;32mor\u001b[0m \u001b[0mindexer\u001b[0m\u001b[0;34m.\u001b[0m\u001b[0msize\u001b[0m \u001b[0;34m>\u001b[0m \u001b[0;36m1\u001b[0m\u001b[0;34m:\u001b[0m\u001b[0;34m\u001b[0m\u001b[0;34m\u001b[0m\u001b[0m\n",
            "\u001b[0;32mpandas/_libs/index.pyx\u001b[0m in \u001b[0;36mpandas._libs.index.IndexEngine.get_loc\u001b[0;34m()\u001b[0m\n",
            "\u001b[0;32mpandas/_libs/index.pyx\u001b[0m in \u001b[0;36mpandas._libs.index.IndexEngine.get_loc\u001b[0;34m()\u001b[0m\n",
            "\u001b[0;32mpandas/_libs/hashtable_class_helper.pxi\u001b[0m in \u001b[0;36mpandas._libs.hashtable.PyObjectHashTable.get_item\u001b[0;34m()\u001b[0m\n",
            "\u001b[0;32mpandas/_libs/hashtable_class_helper.pxi\u001b[0m in \u001b[0;36mpandas._libs.hashtable.PyObjectHashTable.get_item\u001b[0;34m()\u001b[0m\n",
            "\u001b[0;31mKeyError\u001b[0m: 'Suicide'"
          ]
        }
      ]
    },
    {
      "cell_type": "markdown",
      "metadata": {
        "colab_type": "text",
        "id": "_vo0c1pqxA8L"
      },
      "source": [
        "Replace `Depressed` and `Suicide` columns with target column, `DepressionSeverity`:"
      ]
    },
    {
      "cell_type": "code",
      "metadata": {
        "colab_type": "code",
        "outputId": "c595e081-1d70-4442-f69a-32481559ef99",
        "id": "hK5X9cWCxA8M",
        "colab": {
          "base_uri": "https://localhost:8080/",
          "height": 87
        }
      },
      "source": [
        "dfL['DepressionSeverity'] = dfL[['Depressed','Suicide']].apply(classify_severity, axis = 1)\n",
        "dfL = dfL.drop(['Depressed','Suicide'], axis = 1)\n",
        "\n",
        "#check\n",
        "print(dfL.DepressionSeverity.value_counts())"
      ],
      "execution_count": 0,
      "outputs": [
        {
          "output_type": "stream",
          "text": [
            "0    90\n",
            "2     7\n",
            "1     4\n",
            "Name: DepressionSeverity, dtype: int64\n"
          ],
          "name": "stdout"
        }
      ]
    },
    {
      "cell_type": "markdown",
      "metadata": {
        "id": "wDU379QHz1Nx",
        "colab_type": "text"
      },
      "source": [
        "Note the recurring data imbalance."
      ]
    },
    {
      "cell_type": "markdown",
      "metadata": {
        "colab_type": "text",
        "id": "WXz_10aE0a8n"
      },
      "source": [
        "### Removing skewness in features,"
      ]
    },
    {
      "cell_type": "markdown",
      "metadata": {
        "colab_type": "text",
        "id": "sD-L3y4j0a8p"
      },
      "source": [
        "Is `NumFriends` in our test set skewed? \n",
        "\n",
        "Observe the distributions of `NumFriends`:"
      ]
    },
    {
      "cell_type": "code",
      "metadata": {
        "colab_type": "code",
        "outputId": "13d18b0c-2c8d-4c4f-ee82-7c7b74b1d1c8",
        "id": "yzWDv_hq0a8p",
        "colab": {
          "base_uri": "https://localhost:8080/",
          "height": 283
        }
      },
      "source": [
        "dfL.NumFriends.hist()"
      ],
      "execution_count": 0,
      "outputs": [
        {
          "output_type": "execute_result",
          "data": {
            "text/plain": [
              "<matplotlib.axes._subplots.AxesSubplot at 0x7f6be02b2c88>"
            ]
          },
          "metadata": {
            "tags": []
          },
          "execution_count": 229
        },
        {
          "output_type": "display_data",
          "data": {
            "image/png": "[encoded data removed]",
            "text/plain": [
              "<Figure size 432x288 with 1 Axes>"
            ]
          },
          "metadata": {
            "tags": []
          }
        }
      ]
    },
    {
      "cell_type": "markdown",
      "metadata": {
        "colab_type": "text",
        "id": "XTZRq9p70a8s"
      },
      "source": [
        "As seen in the histogram, it is also heavily right-skewed. \n",
        "\n",
        "Apply log-transformation:"
      ]
    },
    {
      "cell_type": "code",
      "metadata": {
        "colab_type": "code",
        "outputId": "6ad0dfc0-cccb-4968-982e-747a7ae850d4",
        "id": "XIHouy9K0a8s",
        "colab": {
          "base_uri": "https://localhost:8080/",
          "height": 283
        }
      },
      "source": [
        "np.log(dfL['NumFriends']+0.1).hist()"
      ],
      "execution_count": 0,
      "outputs": [
        {
          "output_type": "execute_result",
          "data": {
            "text/plain": [
              "<matplotlib.axes._subplots.AxesSubplot at 0x7f6bdf367668>"
            ]
          },
          "metadata": {
            "tags": []
          },
          "execution_count": 230
        },
        {
          "output_type": "display_data",
          "data": {
            "image/png": "[encoded data removed]",
            "text/plain": [
              "<Figure size 432x288 with 1 Axes>"
            ]
          },
          "metadata": {
            "tags": []
          }
        }
      ]
    },
    {
      "cell_type": "markdown",
      "metadata": {
        "colab_type": "text",
        "id": "zKPjX8so0a8u"
      },
      "source": [
        "The distribution now looks much balanced. \n",
        "\n",
        "Rename `NumFriends` as `logNumFriends`:"
      ]
    },
    {
      "cell_type": "code",
      "metadata": {
        "colab_type": "code",
        "outputId": "7a32789d-3bca-4173-824d-d11026392c0a",
        "id": "C1qDwNBu0a8u",
        "colab": {
          "base_uri": "https://localhost:8080/",
          "height": 309
        }
      },
      "source": [
        "#apply log transform to column\n",
        "dfL['NumFriends'] = np.log(dfL['NumFriends']+0.1)\n",
        "\n",
        "#rename column\n",
        "dfL.rename(columns={'NumFriends':'logNumFriends'}, inplace=True)\n",
        "\n",
        "dfL.head()"
      ],
      "execution_count": 0,
      "outputs": [
        {
          "output_type": "execute_result",
          "data": {
            "text/html": [
              "<div>\n",
              "<style scoped>\n",
              "    .dataframe tbody tr th:only-of-type {\n",
              "        vertical-align: middle;\n",
              "    }\n",
              "\n",
              "    .dataframe tbody tr th {\n",
              "        vertical-align: top;\n",
              "    }\n",
              "\n",
              "    .dataframe thead th {\n",
              "        text-align: right;\n",
              "    }\n",
              "</style>\n",
              "<table border=\"1\" class=\"dataframe\">\n",
              "  <thead>\n",
              "    <tr style=\"text-align: right;\">\n",
              "      <th></th>\n",
              "      <th>Age</th>\n",
              "      <th>HasSocialAnxiety</th>\n",
              "      <th>Gender</th>\n",
              "      <th>SexualOrientation</th>\n",
              "      <th>Race</th>\n",
              "      <th>Education</th>\n",
              "      <th>logNumFriends</th>\n",
              "      <th>Body</th>\n",
              "      <th>IncomeLevel</th>\n",
              "      <th>ProstitutionLegalAtPlace</th>\n",
              "      <th>WouldPayForSex</th>\n",
              "      <th>DepressionSeverity</th>\n",
              "    </tr>\n",
              "  </thead>\n",
              "  <tbody>\n",
              "    <tr>\n",
              "      <th>0</th>\n",
              "      <td>20.0</td>\n",
              "      <td>Yes</td>\n",
              "      <td>Male</td>\n",
              "      <td>Bisexual</td>\n",
              "      <td>Hispanic</td>\n",
              "      <td>University</td>\n",
              "      <td>1.410987</td>\n",
              "      <td>Normal weight</td>\n",
              "      <td>$1-$9,999</td>\n",
              "      <td>No</td>\n",
              "      <td>No</td>\n",
              "      <td>0</td>\n",
              "    </tr>\n",
              "    <tr>\n",
              "      <th>1</th>\n",
              "      <td>20.0</td>\n",
              "      <td>Yes</td>\n",
              "      <td>Female</td>\n",
              "      <td>Straight</td>\n",
              "      <td>Hispanic</td>\n",
              "      <td>University</td>\n",
              "      <td>1.410987</td>\n",
              "      <td>Normal weight</td>\n",
              "      <td>$100,000 - $124,999</td>\n",
              "      <td>No</td>\n",
              "      <td>No</td>\n",
              "      <td>0</td>\n",
              "    </tr>\n",
              "    <tr>\n",
              "      <th>2</th>\n",
              "      <td>22.0</td>\n",
              "      <td>Yes</td>\n",
              "      <td>Male</td>\n",
              "      <td>Straight</td>\n",
              "      <td>Asian</td>\n",
              "      <td>University</td>\n",
              "      <td>3.914021</td>\n",
              "      <td>Normal weight</td>\n",
              "      <td>$1-$9,999</td>\n",
              "      <td>Yes</td>\n",
              "      <td>Yes</td>\n",
              "      <td>0</td>\n",
              "    </tr>\n",
              "    <tr>\n",
              "      <th>3</th>\n",
              "      <td>22.0</td>\n",
              "      <td>No</td>\n",
              "      <td>Male</td>\n",
              "      <td>Straight</td>\n",
              "      <td>Asian</td>\n",
              "      <td>University</td>\n",
              "      <td>2.312535</td>\n",
              "      <td>Normal weight</td>\n",
              "      <td>$10,000 - $19,999</td>\n",
              "      <td>No</td>\n",
              "      <td>No</td>\n",
              "      <td>0</td>\n",
              "    </tr>\n",
              "    <tr>\n",
              "      <th>4</th>\n",
              "      <td>19.0</td>\n",
              "      <td>Yes</td>\n",
              "      <td>Female</td>\n",
              "      <td>Bisexual</td>\n",
              "      <td>Asian</td>\n",
              "      <td>High school</td>\n",
              "      <td>2.091864</td>\n",
              "      <td>Normal weight</td>\n",
              "      <td>$0</td>\n",
              "      <td>No</td>\n",
              "      <td>No</td>\n",
              "      <td>0</td>\n",
              "    </tr>\n",
              "  </tbody>\n",
              "</table>\n",
              "</div>"
            ],
            "text/plain": [
              "    Age HasSocialAnxiety  ... WouldPayForSex DepressionSeverity\n",
              "0  20.0              Yes  ...             No                  0\n",
              "1  20.0              Yes  ...             No                  0\n",
              "2  22.0              Yes  ...            Yes                  0\n",
              "3  22.0               No  ...             No                  0\n",
              "4  19.0              Yes  ...             No                  0\n",
              "\n",
              "[5 rows x 12 columns]"
            ]
          },
          "metadata": {
            "tags": []
          },
          "execution_count": 231
        }
      ]
    },
    {
      "cell_type": "markdown",
      "metadata": {
        "colab_type": "text",
        "id": "6Th1k7Oj0a8x"
      },
      "source": [
        "###Median imputing"
      ]
    },
    {
      "cell_type": "markdown",
      "metadata": {
        "colab_type": "text",
        "id": "noZpFRIZ0a8y"
      },
      "source": [
        "First, check for missingness:"
      ]
    },
    {
      "cell_type": "code",
      "metadata": {
        "colab_type": "code",
        "outputId": "908e4e5a-1c07-4084-dbdb-51bef7058f39",
        "id": "sfWOcNtI0a8y",
        "colab": {
          "base_uri": "https://localhost:8080/",
          "height": 243
        }
      },
      "source": [
        "dfL.isnull().sum()"
      ],
      "execution_count": 0,
      "outputs": [
        {
          "output_type": "execute_result",
          "data": {
            "text/plain": [
              "Age                         0\n",
              "HasSocialAnxiety            0\n",
              "Gender                      0\n",
              "SexualOrientation           0\n",
              "Race                        0\n",
              "Education                   0\n",
              "logNumFriends               0\n",
              "Body                        0\n",
              "IncomeLevel                 0\n",
              "ProstitutionLegalAtPlace    0\n",
              "WouldPayForSex              0\n",
              "DepressionSeverity          0\n",
              "dtype: int64"
            ]
          },
          "metadata": {
            "tags": []
          },
          "execution_count": 232
        }
      ]
    },
    {
      "cell_type": "markdown",
      "metadata": {
        "colab_type": "text",
        "id": "DywjW4F30a81"
      },
      "source": [
        "There are no missing values in the test set."
      ]
    },
    {
      "cell_type": "markdown",
      "metadata": {
        "colab_type": "text",
        "id": "MXQKJZWI0a82"
      },
      "source": [
        "Next, inspect the entries of categorical features - do they make sense?\n"
      ]
    },
    {
      "cell_type": "code",
      "metadata": {
        "colab_type": "code",
        "outputId": "1022ae42-8a5a-48e3-e33f-a8afdc744fac",
        "id": "QvRj8rYu0a82",
        "colab": {
          "base_uri": "https://localhost:8080/",
          "height": 676
        }
      },
      "source": [
        "for column in dfL.columns:\n",
        "    if column != 'logNumFriends' and column != 'DepressionSeverity':\n",
        "        print(f'columns: {column}\\nInput set:{dfL[column].unique()}\\n')"
      ],
      "execution_count": 0,
      "outputs": [
        {
          "output_type": "stream",
          "text": [
            "columns: Age\n",
            "Input set:[20.   22.   19.   23.   18.   28.   21.   24.   38.   19.5  14.88 25.  ]\n",
            "\n",
            "columns: HasSocialAnxiety\n",
            "Input set:['Yes' 'No']\n",
            "\n",
            "columns: Gender\n",
            "Input set:['Male' 'Female' 'Transgender male' '78% Male 22% Female' 'Chad'\n",
            " 'Transgender female' 'non binary' 'Non-binary']\n",
            "\n",
            "columns: SexualOrientation\n",
            "Input set:['Bisexual' 'Straight' 'Homosexual' 'Pansexual']\n",
            "\n",
            "columns: Race\n",
            "Input set:['Hispanic' 'Asian' 'Black' 'South Asian' 'Caucasian'\n",
            " 'South Asian (assuming that the \"Asian\" option means \"East Asian\")'\n",
            " 'Brown' 'Middle Eastern' 'transracial' 'Octoroon' 'Chad ' 'Jewish'\n",
            " 'Mixed' 'Turkish' 'Asian/Caucasian' 'Aboriginal '\n",
            " 'Mixed: Asian, Caucasian and Australian Indigenous ']\n",
            "\n",
            "columns: Education\n",
            "Input set:['University' 'High school' 'Masters' 'PHD']\n",
            "\n",
            "columns: Body\n",
            "Input set:['Normal weight' 'Overweight' 'Underweight' 'Obese']\n",
            "\n",
            "columns: IncomeLevel\n",
            "Input set:['$1-$9,999' '$100,000 - $124,999' '$10,000 - $19,999' '$0'\n",
            " '$75,000 -  $99,999' '$30,000 -  $39,999' '$20,000 - $29,999'\n",
            " '$50,000 -  $74,999' '$40,000 -  $49,999' '$175,000 - 199,999'\n",
            " '$200,000 or more']\n",
            "\n",
            "columns: ProstitutionLegalAtPlace\n",
            "Input set:['No' 'Yes']\n",
            "\n",
            "columns: WouldPayForSex\n",
            "Input set:['No' 'Yes' 'Yes and have done so']\n",
            "\n"
          ],
          "name": "stdout"
        }
      ]
    },
    {
      "cell_type": "markdown",
      "metadata": {
        "id": "gEOoLl4Y2Gcl",
        "colab_type": "text"
      },
      "source": [
        "All are valid. Keep all."
      ]
    },
    {
      "cell_type": "markdown",
      "metadata": {
        "colab_type": "text",
        "id": "JyAujdLe0a87"
      },
      "source": [
        "Finally, look for outliers in the numerical variable `logNumFriends`:"
      ]
    },
    {
      "cell_type": "code",
      "metadata": {
        "colab_type": "code",
        "outputId": "6d737148-fad8-4081-cc2e-0a789e2447cd",
        "id": "qMzXeRR20a87",
        "colab": {
          "base_uri": "https://localhost:8080/",
          "height": 283
        }
      },
      "source": [
        "dfL.boxplot(column =['logNumFriends'], grid = True)"
      ],
      "execution_count": 0,
      "outputs": [
        {
          "output_type": "execute_result",
          "data": {
            "text/plain": [
              "<matplotlib.axes._subplots.AxesSubplot at 0x7f6bdf2dd438>"
            ]
          },
          "metadata": {
            "tags": []
          },
          "execution_count": 234
        },
        {
          "output_type": "display_data",
          "data": {
            "image/png": "[encoded data removed]",
            "text/plain": [
              "<Figure size 432x288 with 1 Axes>"
            ]
          },
          "metadata": {
            "tags": []
          }
        }
      ]
    },
    {
      "cell_type": "code",
      "metadata": {
        "colab_type": "code",
        "outputId": "f88d58ab-528c-430a-bea8-f6cde865c0bb",
        "id": "0wWXMGf60a88",
        "colab": {
          "base_uri": "https://localhost:8080/",
          "height": 156
        }
      },
      "source": [
        "#locate outliers \n",
        "outlier_index = list(pd.concat([dfL.loc[dfL.logNumFriends > 4], dfL.loc[dfL.logNumFriends < 0]]).logNumFriends.index)\n",
        "\n",
        "#median-impute outliers\n",
        "dfL.loc[outlier_index, 'logNumFriends'] = dfL.logNumFriends.median()\n",
        "\n",
        "#check\n",
        "dfL.logNumFriends[outlier_index]"
      ],
      "execution_count": 0,
      "outputs": [
        {
          "output_type": "execute_result",
          "data": {
            "text/plain": [
              "19    2.312535\n",
              "42    2.312535\n",
              "75    2.312535\n",
              "90    2.312535\n",
              "18    2.312535\n",
              "41    2.312535\n",
              "51    2.312535\n",
              "Name: logNumFriends, dtype: float64"
            ]
          },
          "metadata": {
            "tags": []
          },
          "execution_count": 235
        }
      ]
    },
    {
      "cell_type": "markdown",
      "metadata": {
        "colab_type": "text",
        "id": "MWuC43sM1lE6"
      },
      "source": [
        "### One-hot encoding features"
      ]
    },
    {
      "cell_type": "markdown",
      "metadata": {
        "colab_type": "text",
        "id": "VVvK7-vV1lE8"
      },
      "source": [
        "Create a yes/no map:"
      ]
    },
    {
      "cell_type": "code",
      "metadata": {
        "colab_type": "code",
        "id": "FiKnbaUI1lE9",
        "colab": {}
      },
      "source": [
        "#defining yes/no map\n",
        "No_map = {'Yes': 1, 'No': 0}"
      ],
      "execution_count": 0,
      "outputs": []
    },
    {
      "cell_type": "markdown",
      "metadata": {
        "colab_type": "text",
        "id": "-KbG_ikQ1lE_"
      },
      "source": [
        "`No_map` will be used to numerically label `ProstitutionLegalAtPlace` and `HasSocialAnxiety`. \n",
        "\n",
        "Convert values:"
      ]
    },
    {
      "cell_type": "code",
      "metadata": {
        "colab_type": "code",
        "outputId": "64aace8a-38dd-437f-e4db-a214750320ed",
        "id": "wPnhSDba1lFA",
        "colab": {
          "base_uri": "https://localhost:8080/",
          "height": 309
        }
      },
      "source": [
        "dfL.HasSocialAnxiety.replace(No_map,inplace=True)\n",
        "dfL.ProstitutionLegalAtPlace.replace(No_map,inplace=True)\n",
        "\n",
        "#verify conversion\n",
        "dfL.head()"
      ],
      "execution_count": 0,
      "outputs": [
        {
          "output_type": "execute_result",
          "data": {
            "text/html": [
              "<div>\n",
              "<style scoped>\n",
              "    .dataframe tbody tr th:only-of-type {\n",
              "        vertical-align: middle;\n",
              "    }\n",
              "\n",
              "    .dataframe tbody tr th {\n",
              "        vertical-align: top;\n",
              "    }\n",
              "\n",
              "    .dataframe thead th {\n",
              "        text-align: right;\n",
              "    }\n",
              "</style>\n",
              "<table border=\"1\" class=\"dataframe\">\n",
              "  <thead>\n",
              "    <tr style=\"text-align: right;\">\n",
              "      <th></th>\n",
              "      <th>Age</th>\n",
              "      <th>HasSocialAnxiety</th>\n",
              "      <th>Gender</th>\n",
              "      <th>SexualOrientation</th>\n",
              "      <th>Race</th>\n",
              "      <th>Education</th>\n",
              "      <th>logNumFriends</th>\n",
              "      <th>Body</th>\n",
              "      <th>IncomeLevel</th>\n",
              "      <th>ProstitutionLegalAtPlace</th>\n",
              "      <th>WouldPayForSex</th>\n",
              "      <th>DepressionSeverity</th>\n",
              "    </tr>\n",
              "  </thead>\n",
              "  <tbody>\n",
              "    <tr>\n",
              "      <th>0</th>\n",
              "      <td>20.0</td>\n",
              "      <td>1</td>\n",
              "      <td>Male</td>\n",
              "      <td>Bisexual</td>\n",
              "      <td>Hispanic</td>\n",
              "      <td>University</td>\n",
              "      <td>1.410987</td>\n",
              "      <td>Normal weight</td>\n",
              "      <td>$1-$9,999</td>\n",
              "      <td>0</td>\n",
              "      <td>No</td>\n",
              "      <td>0</td>\n",
              "    </tr>\n",
              "    <tr>\n",
              "      <th>1</th>\n",
              "      <td>20.0</td>\n",
              "      <td>1</td>\n",
              "      <td>Female</td>\n",
              "      <td>Straight</td>\n",
              "      <td>Hispanic</td>\n",
              "      <td>University</td>\n",
              "      <td>1.410987</td>\n",
              "      <td>Normal weight</td>\n",
              "      <td>$100,000 - $124,999</td>\n",
              "      <td>0</td>\n",
              "      <td>No</td>\n",
              "      <td>0</td>\n",
              "    </tr>\n",
              "    <tr>\n",
              "      <th>2</th>\n",
              "      <td>22.0</td>\n",
              "      <td>1</td>\n",
              "      <td>Male</td>\n",
              "      <td>Straight</td>\n",
              "      <td>Asian</td>\n",
              "      <td>University</td>\n",
              "      <td>3.914021</td>\n",
              "      <td>Normal weight</td>\n",
              "      <td>$1-$9,999</td>\n",
              "      <td>1</td>\n",
              "      <td>Yes</td>\n",
              "      <td>0</td>\n",
              "    </tr>\n",
              "    <tr>\n",
              "      <th>3</th>\n",
              "      <td>22.0</td>\n",
              "      <td>0</td>\n",
              "      <td>Male</td>\n",
              "      <td>Straight</td>\n",
              "      <td>Asian</td>\n",
              "      <td>University</td>\n",
              "      <td>2.312535</td>\n",
              "      <td>Normal weight</td>\n",
              "      <td>$10,000 - $19,999</td>\n",
              "      <td>0</td>\n",
              "      <td>No</td>\n",
              "      <td>0</td>\n",
              "    </tr>\n",
              "    <tr>\n",
              "      <th>4</th>\n",
              "      <td>19.0</td>\n",
              "      <td>1</td>\n",
              "      <td>Female</td>\n",
              "      <td>Bisexual</td>\n",
              "      <td>Asian</td>\n",
              "      <td>High school</td>\n",
              "      <td>2.091864</td>\n",
              "      <td>Normal weight</td>\n",
              "      <td>$0</td>\n",
              "      <td>0</td>\n",
              "      <td>No</td>\n",
              "      <td>0</td>\n",
              "    </tr>\n",
              "  </tbody>\n",
              "</table>\n",
              "</div>"
            ],
            "text/plain": [
              "    Age  HasSocialAnxiety  ... WouldPayForSex DepressionSeverity\n",
              "0  20.0                 1  ...             No                  0\n",
              "1  20.0                 1  ...             No                  0\n",
              "2  22.0                 1  ...            Yes                  0\n",
              "3  22.0                 0  ...             No                  0\n",
              "4  19.0                 1  ...             No                  0\n",
              "\n",
              "[5 rows x 12 columns]"
            ]
          },
          "metadata": {
            "tags": []
          },
          "execution_count": 237
        }
      ]
    },
    {
      "cell_type": "markdown",
      "metadata": {
        "colab_type": "text",
        "id": "zbBrd-NL1lFC"
      },
      "source": [
        "Reclassify inputs of `race`, `education`, `IncomeLevel`, `SexualOrientation`, and `Gender`:\n"
      ]
    },
    {
      "cell_type": "code",
      "metadata": {
        "colab_type": "code",
        "id": "Gt91Xc5S94UC",
        "colab": {}
      },
      "source": [
        "#Education map:\n",
        "Education_map = {\"Masters\": 'MastersAndBeyond', \n",
        "                 \"PHD\": 'MastersAndBeyond', \n",
        "                 'Professional Certificate': 'MastersAndBeyond', \n",
        "                 'Community College': 'CollegeOrEquivalent', \n",
        "                 'University': 'CollegeOrEquivalent', \n",
        "                 'High school': 'Highschool',}\n",
        "\n",
        "#race map\n",
        "Race_map = {'Mixed: Asian, Caucasian and Australian Indigenous ':'Asian',\n",
        "            'South Asian': 'Asian',\n",
        "            'South Asian (assuming that the \"Asian\" option means \"East Asian\")': 'Asian',\n",
        "            'Brown': 'Asian',\n",
        "            'Mixed': 'Others',\n",
        "            'Asian/Caucasian': 'Others',\n",
        "            'transracial': 'Others',\n",
        "            'Jewish': 'Caucasian',\n",
        "            'Turkish': 'Others',\n",
        "            'Aboriginal ': 'Others',\n",
        "            'Middle Eastern': 'Others',\n",
        "            'Octoroon': 'Others',\n",
        "            'Chad ': 'Black'\n",
        "            }\n",
        "\n",
        "#income level map\n",
        "IncomeLevel_map = {'$1-$9,999': '$1 to $10,000',\n",
        "                   '$10,000 - $19,999': '$10,000 to $19,999',\n",
        "                   '$20,000 - $29,999': '$20,000 to $29,999',\n",
        "                   '$30,000 -  $39,999': '$30,000 to $39,999',\n",
        "                   '$40,000 -  $49,999': '$40,000 to $49,999',\n",
        "                   '$50,000 -  $74,999': '$50,000 to $74,999',\n",
        "                   '$75,000 -  $99,999': '$75,000 to $99,999',\n",
        "                   '$100,000 - $124,999': '$100,000 to $124,999',\n",
        "                   '$175,000 - 199,999': '$174,999 to $199,999',\n",
        "                   '$200,000 or more': '$200,000 or more'\n",
        "}\n",
        "\n",
        "#replace values with respective maps\n",
        "dfL.Race.replace(Race_map,inplace=True)\n",
        "dfL.Education.replace(Education_map,inplace=True)\n",
        "dfL.IncomeLevel.replace(IncomeLevel_map, inplace=True)"
      ],
      "execution_count": 0,
      "outputs": []
    },
    {
      "cell_type": "markdown",
      "metadata": {
        "id": "TzjU8jE27VwD",
        "colab_type": "text"
      },
      "source": [
        "Reclassify `SexualOrientation` values:"
      ]
    },
    {
      "cell_type": "code",
      "metadata": {
        "id": "yWkXs0P4bCoE",
        "colab_type": "code",
        "outputId": "703bbc7b-ed00-4a86-d619-75be0939e94e",
        "colab": {
          "base_uri": "https://localhost:8080/",
          "height": 87
        }
      },
      "source": [
        "# Combining 'Pansexual' with 'Bisexual' values,\n",
        "#locate 'Pansexual' values\n",
        "Pansexual_index = dfL.loc[dfL.SexualOrientation == 'Pansexual'].index\n",
        "\n",
        "# change 'Pansexual' to 'Bisexual',\n",
        "dfL.loc[Pansexual_index, 'SexualOrientation'] = \"Bisexual\"\n",
        "\n",
        "# Renaming 'Homosexual' to 'Gay/Lesbian',\n",
        "#locate 'Homosexual' values\n",
        "Homosexual_index = dfL.loc[dfL.SexualOrientation == 'Homosexual' ].index\n",
        "\n",
        "#rename\n",
        "dfL.loc[Homosexual_index, 'SexualOrientation'] = \"Gay/Lesbian\"\n",
        "\n",
        "#verify change\n",
        "dfL.SexualOrientation.value_counts()"
      ],
      "execution_count": 0,
      "outputs": [
        {
          "output_type": "execute_result",
          "data": {
            "text/plain": [
              "Straight       76\n",
              "Bisexual       17\n",
              "Gay/Lesbian     8\n",
              "Name: SexualOrientation, dtype: int64"
            ]
          },
          "metadata": {
            "tags": []
          },
          "execution_count": 239
        }
      ]
    },
    {
      "cell_type": "markdown",
      "metadata": {
        "id": "gDr0zTPbaADX",
        "colab_type": "text"
      },
      "source": [
        "Remove noise in `Gender`:"
      ]
    },
    {
      "cell_type": "code",
      "metadata": {
        "colab_type": "code",
        "outputId": "0f8656e3-0c42-41d6-e025-fede7ac3762c",
        "id": "uPcmzCt996Z-",
        "colab": {
          "base_uri": "https://localhost:8080/",
          "height": 104
        }
      },
      "source": [
        "#locate noise \n",
        "noise_index = list(pd.concat([dfL.loc[dfL.Gender == '78% Male 22% Female'], dfL.loc[dfL.Gender == 'Non-binary'], dfL.loc[dfL.Gender == 'non binary'], dfL.loc[dfL.Gender == 'Chad']]).Gender.index)\n",
        "\n",
        "#drop noise \n",
        "dfL = dfL.drop([41,42,105,85], axis=0) \n",
        "\n",
        "#verify change\n",
        "dfL.Gender.value_counts()"
      ],
      "execution_count": 0,
      "outputs": [
        {
          "output_type": "execute_result",
          "data": {
            "text/plain": [
              "Male                  58\n",
              "Female                34\n",
              "Transgender male       3\n",
              "Transgender female     2\n",
              "Name: Gender, dtype: int64"
            ]
          },
          "metadata": {
            "tags": []
          },
          "execution_count": 240
        }
      ]
    },
    {
      "cell_type": "markdown",
      "metadata": {
        "colab_type": "text",
        "id": "viEaM63E94UW"
      },
      "source": [
        "Perform one hot encoding on remaining features:"
      ]
    },
    {
      "cell_type": "code",
      "metadata": {
        "colab_type": "code",
        "outputId": "7098329f-3ed3-4c46-884d-64a1fc79cbbd",
        "id": "kabCe_VhKUst",
        "colab": {
          "base_uri": "https://localhost:8080/",
          "height": 487
        }
      },
      "source": [
        "#create a dictionary with {key, val} of {variable, set of unqiue values}\n",
        "unique_types_dict = {'Gender': dfL.Gender.unique(), 'SexualOrientation': dfL.SexualOrientation.unique(), \n",
        "                'IncomeLevel': dfL.IncomeLevel.unique(), 'Race': dfL.Race.unique(),\n",
        "                'Body': dfL.Body.unique(), 'Education': dfL.Education.unique(), \n",
        "                'WouldPayForSex': dfL.WouldPayForSex.unique()}\n",
        "\n",
        "# one-hot-encode `dfL_oneHot` and assign to new variable, `dfL_oneHot`\n",
        "dfL_oneHot = one_hot_encode(dfL, unique_values)\n",
        "\n",
        "# renaming new columns from `WouldPayForSex`:\n",
        "dfL_oneHot = dfL_oneHot.rename(columns = {'No': 'No_WouldPayForSex', 'Yes and have done so': 'YesAndHave_WouldPayForSex', \"Yes\": 'YesAndHave_WouldPayForSex'})\n",
        "\n",
        "# renaming `DepressionSeverity` to `Target`,\n",
        "dfL_oneHot.rename({'DepressionSeverity': 'Target'},axis=1, inplace=True)\n",
        "\n",
        "# how does dfL_oneHot look like?\n",
        "dfL_oneHot"
      ],
      "execution_count": 0,
      "outputs": [
        {
          "output_type": "execute_result",
          "data": {
            "text/html": [
              "<div>\n",
              "<style scoped>\n",
              "    .dataframe tbody tr th:only-of-type {\n",
              "        vertical-align: middle;\n",
              "    }\n",
              "\n",
              "    .dataframe tbody tr th {\n",
              "        vertical-align: top;\n",
              "    }\n",
              "\n",
              "    .dataframe thead th {\n",
              "        text-align: right;\n",
              "    }\n",
              "</style>\n",
              "<table border=\"1\" class=\"dataframe\">\n",
              "  <thead>\n",
              "    <tr style=\"text-align: right;\">\n",
              "      <th></th>\n",
              "      <th>Age</th>\n",
              "      <th>HasSocialAnxiety</th>\n",
              "      <th>logNumFriends</th>\n",
              "      <th>ProstitutionLegalAtPlace</th>\n",
              "      <th>Target</th>\n",
              "      <th>Male</th>\n",
              "      <th>Female</th>\n",
              "      <th>Transgender male</th>\n",
              "      <th>Transgender female</th>\n",
              "      <th>Straight</th>\n",
              "      <th>Bisexual</th>\n",
              "      <th>Gay/Lesbian</th>\n",
              "      <th>$30,000 to $39,999</th>\n",
              "      <th>$1 to $10,000</th>\n",
              "      <th>$0</th>\n",
              "      <th>$50,000 to $74,999</th>\n",
              "      <th>$20,000 to $29,999</th>\n",
              "      <th>$10,000 to $19,999</th>\n",
              "      <th>$75,000 to $99,999</th>\n",
              "      <th>$174,999 to $199,999</th>\n",
              "      <th>$100,000 to $124,999</th>\n",
              "      <th>$40,000 to $49,999</th>\n",
              "      <th>$200,000 or more</th>\n",
              "      <th>Caucasian</th>\n",
              "      <th>Hispanic</th>\n",
              "      <th>Asian</th>\n",
              "      <th>Others</th>\n",
              "      <th>Black</th>\n",
              "      <th>Normal weight</th>\n",
              "      <th>Underweight</th>\n",
              "      <th>Overweight</th>\n",
              "      <th>Obese</th>\n",
              "      <th>CollegeOrEquivalent</th>\n",
              "      <th>Highschool</th>\n",
              "      <th>MastersAndBeyond</th>\n",
              "      <th>No_WouldPayForSex</th>\n",
              "      <th>Yes and I have</th>\n",
              "      <th>Yes but I haven't</th>\n",
              "    </tr>\n",
              "  </thead>\n",
              "  <tbody>\n",
              "    <tr>\n",
              "      <th>0</th>\n",
              "      <td>20.0</td>\n",
              "      <td>1</td>\n",
              "      <td>1.410987</td>\n",
              "      <td>0</td>\n",
              "      <td>0</td>\n",
              "      <td>1</td>\n",
              "      <td>0</td>\n",
              "      <td>0</td>\n",
              "      <td>0</td>\n",
              "      <td>0</td>\n",
              "      <td>1</td>\n",
              "      <td>0</td>\n",
              "      <td>0</td>\n",
              "      <td>1</td>\n",
              "      <td>0</td>\n",
              "      <td>0</td>\n",
              "      <td>0</td>\n",
              "      <td>0</td>\n",
              "      <td>0</td>\n",
              "      <td>0</td>\n",
              "      <td>0</td>\n",
              "      <td>0</td>\n",
              "      <td>0</td>\n",
              "      <td>0</td>\n",
              "      <td>1</td>\n",
              "      <td>0</td>\n",
              "      <td>0</td>\n",
              "      <td>0</td>\n",
              "      <td>1</td>\n",
              "      <td>0</td>\n",
              "      <td>0</td>\n",
              "      <td>0</td>\n",
              "      <td>1</td>\n",
              "      <td>0</td>\n",
              "      <td>0</td>\n",
              "      <td>1</td>\n",
              "      <td>0</td>\n",
              "      <td>0</td>\n",
              "    </tr>\n",
              "    <tr>\n",
              "      <th>1</th>\n",
              "      <td>20.0</td>\n",
              "      <td>1</td>\n",
              "      <td>1.410987</td>\n",
              "      <td>0</td>\n",
              "      <td>0</td>\n",
              "      <td>0</td>\n",
              "      <td>1</td>\n",
              "      <td>0</td>\n",
              "      <td>0</td>\n",
              "      <td>1</td>\n",
              "      <td>0</td>\n",
              "      <td>0</td>\n",
              "      <td>0</td>\n",
              "      <td>0</td>\n",
              "      <td>0</td>\n",
              "      <td>0</td>\n",
              "      <td>0</td>\n",
              "      <td>0</td>\n",
              "      <td>0</td>\n",
              "      <td>0</td>\n",
              "      <td>1</td>\n",
              "      <td>0</td>\n",
              "      <td>0</td>\n",
              "      <td>0</td>\n",
              "      <td>1</td>\n",
              "      <td>0</td>\n",
              "      <td>0</td>\n",
              "      <td>0</td>\n",
              "      <td>1</td>\n",
              "      <td>0</td>\n",
              "      <td>0</td>\n",
              "      <td>0</td>\n",
              "      <td>1</td>\n",
              "      <td>0</td>\n",
              "      <td>0</td>\n",
              "      <td>1</td>\n",
              "      <td>0</td>\n",
              "      <td>0</td>\n",
              "    </tr>\n",
              "    <tr>\n",
              "      <th>2</th>\n",
              "      <td>22.0</td>\n",
              "      <td>1</td>\n",
              "      <td>3.914021</td>\n",
              "      <td>1</td>\n",
              "      <td>0</td>\n",
              "      <td>1</td>\n",
              "      <td>0</td>\n",
              "      <td>0</td>\n",
              "      <td>0</td>\n",
              "      <td>1</td>\n",
              "      <td>0</td>\n",
              "      <td>0</td>\n",
              "      <td>0</td>\n",
              "      <td>1</td>\n",
              "      <td>0</td>\n",
              "      <td>0</td>\n",
              "      <td>0</td>\n",
              "      <td>0</td>\n",
              "      <td>0</td>\n",
              "      <td>0</td>\n",
              "      <td>0</td>\n",
              "      <td>0</td>\n",
              "      <td>0</td>\n",
              "      <td>0</td>\n",
              "      <td>0</td>\n",
              "      <td>1</td>\n",
              "      <td>0</td>\n",
              "      <td>0</td>\n",
              "      <td>1</td>\n",
              "      <td>0</td>\n",
              "      <td>0</td>\n",
              "      <td>0</td>\n",
              "      <td>1</td>\n",
              "      <td>0</td>\n",
              "      <td>0</td>\n",
              "      <td>0</td>\n",
              "      <td>0</td>\n",
              "      <td>0</td>\n",
              "    </tr>\n",
              "    <tr>\n",
              "      <th>3</th>\n",
              "      <td>22.0</td>\n",
              "      <td>0</td>\n",
              "      <td>2.312535</td>\n",
              "      <td>0</td>\n",
              "      <td>0</td>\n",
              "      <td>1</td>\n",
              "      <td>0</td>\n",
              "      <td>0</td>\n",
              "      <td>0</td>\n",
              "      <td>1</td>\n",
              "      <td>0</td>\n",
              "      <td>0</td>\n",
              "      <td>0</td>\n",
              "      <td>0</td>\n",
              "      <td>0</td>\n",
              "      <td>0</td>\n",
              "      <td>0</td>\n",
              "      <td>1</td>\n",
              "      <td>0</td>\n",
              "      <td>0</td>\n",
              "      <td>0</td>\n",
              "      <td>0</td>\n",
              "      <td>0</td>\n",
              "      <td>0</td>\n",
              "      <td>0</td>\n",
              "      <td>1</td>\n",
              "      <td>0</td>\n",
              "      <td>0</td>\n",
              "      <td>1</td>\n",
              "      <td>0</td>\n",
              "      <td>0</td>\n",
              "      <td>0</td>\n",
              "      <td>1</td>\n",
              "      <td>0</td>\n",
              "      <td>0</td>\n",
              "      <td>1</td>\n",
              "      <td>0</td>\n",
              "      <td>0</td>\n",
              "    </tr>\n",
              "    <tr>\n",
              "      <th>4</th>\n",
              "      <td>19.0</td>\n",
              "      <td>1</td>\n",
              "      <td>2.091864</td>\n",
              "      <td>0</td>\n",
              "      <td>0</td>\n",
              "      <td>0</td>\n",
              "      <td>1</td>\n",
              "      <td>0</td>\n",
              "      <td>0</td>\n",
              "      <td>0</td>\n",
              "      <td>1</td>\n",
              "      <td>0</td>\n",
              "      <td>0</td>\n",
              "      <td>0</td>\n",
              "      <td>1</td>\n",
              "      <td>0</td>\n",
              "      <td>0</td>\n",
              "      <td>0</td>\n",
              "      <td>0</td>\n",
              "      <td>0</td>\n",
              "      <td>0</td>\n",
              "      <td>0</td>\n",
              "      <td>0</td>\n",
              "      <td>0</td>\n",
              "      <td>0</td>\n",
              "      <td>1</td>\n",
              "      <td>0</td>\n",
              "      <td>0</td>\n",
              "      <td>1</td>\n",
              "      <td>0</td>\n",
              "      <td>0</td>\n",
              "      <td>0</td>\n",
              "      <td>0</td>\n",
              "      <td>1</td>\n",
              "      <td>0</td>\n",
              "      <td>1</td>\n",
              "      <td>0</td>\n",
              "      <td>0</td>\n",
              "    </tr>\n",
              "    <tr>\n",
              "      <th>...</th>\n",
              "      <td>...</td>\n",
              "      <td>...</td>\n",
              "      <td>...</td>\n",
              "      <td>...</td>\n",
              "      <td>...</td>\n",
              "      <td>...</td>\n",
              "      <td>...</td>\n",
              "      <td>...</td>\n",
              "      <td>...</td>\n",
              "      <td>...</td>\n",
              "      <td>...</td>\n",
              "      <td>...</td>\n",
              "      <td>...</td>\n",
              "      <td>...</td>\n",
              "      <td>...</td>\n",
              "      <td>...</td>\n",
              "      <td>...</td>\n",
              "      <td>...</td>\n",
              "      <td>...</td>\n",
              "      <td>...</td>\n",
              "      <td>...</td>\n",
              "      <td>...</td>\n",
              "      <td>...</td>\n",
              "      <td>...</td>\n",
              "      <td>...</td>\n",
              "      <td>...</td>\n",
              "      <td>...</td>\n",
              "      <td>...</td>\n",
              "      <td>...</td>\n",
              "      <td>...</td>\n",
              "      <td>...</td>\n",
              "      <td>...</td>\n",
              "      <td>...</td>\n",
              "      <td>...</td>\n",
              "      <td>...</td>\n",
              "      <td>...</td>\n",
              "      <td>...</td>\n",
              "      <td>...</td>\n",
              "    </tr>\n",
              "    <tr>\n",
              "      <th>102</th>\n",
              "      <td>18.0</td>\n",
              "      <td>1</td>\n",
              "      <td>0.095310</td>\n",
              "      <td>1</td>\n",
              "      <td>0</td>\n",
              "      <td>1</td>\n",
              "      <td>0</td>\n",
              "      <td>0</td>\n",
              "      <td>0</td>\n",
              "      <td>1</td>\n",
              "      <td>0</td>\n",
              "      <td>0</td>\n",
              "      <td>0</td>\n",
              "      <td>0</td>\n",
              "      <td>1</td>\n",
              "      <td>0</td>\n",
              "      <td>0</td>\n",
              "      <td>0</td>\n",
              "      <td>0</td>\n",
              "      <td>0</td>\n",
              "      <td>0</td>\n",
              "      <td>0</td>\n",
              "      <td>0</td>\n",
              "      <td>1</td>\n",
              "      <td>0</td>\n",
              "      <td>0</td>\n",
              "      <td>0</td>\n",
              "      <td>0</td>\n",
              "      <td>0</td>\n",
              "      <td>1</td>\n",
              "      <td>0</td>\n",
              "      <td>0</td>\n",
              "      <td>1</td>\n",
              "      <td>0</td>\n",
              "      <td>0</td>\n",
              "      <td>1</td>\n",
              "      <td>0</td>\n",
              "      <td>0</td>\n",
              "    </tr>\n",
              "    <tr>\n",
              "      <th>103</th>\n",
              "      <td>20.0</td>\n",
              "      <td>1</td>\n",
              "      <td>1.808289</td>\n",
              "      <td>0</td>\n",
              "      <td>0</td>\n",
              "      <td>1</td>\n",
              "      <td>0</td>\n",
              "      <td>0</td>\n",
              "      <td>0</td>\n",
              "      <td>0</td>\n",
              "      <td>0</td>\n",
              "      <td>1</td>\n",
              "      <td>0</td>\n",
              "      <td>0</td>\n",
              "      <td>1</td>\n",
              "      <td>0</td>\n",
              "      <td>0</td>\n",
              "      <td>0</td>\n",
              "      <td>0</td>\n",
              "      <td>0</td>\n",
              "      <td>0</td>\n",
              "      <td>0</td>\n",
              "      <td>0</td>\n",
              "      <td>0</td>\n",
              "      <td>0</td>\n",
              "      <td>1</td>\n",
              "      <td>0</td>\n",
              "      <td>0</td>\n",
              "      <td>1</td>\n",
              "      <td>0</td>\n",
              "      <td>0</td>\n",
              "      <td>0</td>\n",
              "      <td>1</td>\n",
              "      <td>0</td>\n",
              "      <td>0</td>\n",
              "      <td>1</td>\n",
              "      <td>0</td>\n",
              "      <td>0</td>\n",
              "    </tr>\n",
              "    <tr>\n",
              "      <th>104</th>\n",
              "      <td>20.0</td>\n",
              "      <td>0</td>\n",
              "      <td>3.370738</td>\n",
              "      <td>0</td>\n",
              "      <td>0</td>\n",
              "      <td>1</td>\n",
              "      <td>0</td>\n",
              "      <td>0</td>\n",
              "      <td>0</td>\n",
              "      <td>0</td>\n",
              "      <td>0</td>\n",
              "      <td>1</td>\n",
              "      <td>0</td>\n",
              "      <td>0</td>\n",
              "      <td>1</td>\n",
              "      <td>0</td>\n",
              "      <td>0</td>\n",
              "      <td>0</td>\n",
              "      <td>0</td>\n",
              "      <td>0</td>\n",
              "      <td>0</td>\n",
              "      <td>0</td>\n",
              "      <td>0</td>\n",
              "      <td>0</td>\n",
              "      <td>0</td>\n",
              "      <td>1</td>\n",
              "      <td>0</td>\n",
              "      <td>0</td>\n",
              "      <td>0</td>\n",
              "      <td>1</td>\n",
              "      <td>0</td>\n",
              "      <td>0</td>\n",
              "      <td>0</td>\n",
              "      <td>1</td>\n",
              "      <td>0</td>\n",
              "      <td>0</td>\n",
              "      <td>0</td>\n",
              "      <td>0</td>\n",
              "    </tr>\n",
              "    <tr>\n",
              "      <th>106</th>\n",
              "      <td>20.0</td>\n",
              "      <td>1</td>\n",
              "      <td>2.091864</td>\n",
              "      <td>0</td>\n",
              "      <td>0</td>\n",
              "      <td>1</td>\n",
              "      <td>0</td>\n",
              "      <td>0</td>\n",
              "      <td>0</td>\n",
              "      <td>1</td>\n",
              "      <td>0</td>\n",
              "      <td>0</td>\n",
              "      <td>0</td>\n",
              "      <td>0</td>\n",
              "      <td>1</td>\n",
              "      <td>0</td>\n",
              "      <td>0</td>\n",
              "      <td>0</td>\n",
              "      <td>0</td>\n",
              "      <td>0</td>\n",
              "      <td>0</td>\n",
              "      <td>0</td>\n",
              "      <td>0</td>\n",
              "      <td>0</td>\n",
              "      <td>0</td>\n",
              "      <td>1</td>\n",
              "      <td>0</td>\n",
              "      <td>0</td>\n",
              "      <td>1</td>\n",
              "      <td>0</td>\n",
              "      <td>0</td>\n",
              "      <td>0</td>\n",
              "      <td>1</td>\n",
              "      <td>0</td>\n",
              "      <td>0</td>\n",
              "      <td>0</td>\n",
              "      <td>0</td>\n",
              "      <td>0</td>\n",
              "    </tr>\n",
              "    <tr>\n",
              "      <th>107</th>\n",
              "      <td>20.0</td>\n",
              "      <td>0</td>\n",
              "      <td>3.914021</td>\n",
              "      <td>0</td>\n",
              "      <td>0</td>\n",
              "      <td>1</td>\n",
              "      <td>0</td>\n",
              "      <td>0</td>\n",
              "      <td>0</td>\n",
              "      <td>1</td>\n",
              "      <td>0</td>\n",
              "      <td>0</td>\n",
              "      <td>0</td>\n",
              "      <td>0</td>\n",
              "      <td>1</td>\n",
              "      <td>0</td>\n",
              "      <td>0</td>\n",
              "      <td>0</td>\n",
              "      <td>0</td>\n",
              "      <td>0</td>\n",
              "      <td>0</td>\n",
              "      <td>0</td>\n",
              "      <td>0</td>\n",
              "      <td>0</td>\n",
              "      <td>0</td>\n",
              "      <td>1</td>\n",
              "      <td>0</td>\n",
              "      <td>0</td>\n",
              "      <td>0</td>\n",
              "      <td>1</td>\n",
              "      <td>0</td>\n",
              "      <td>0</td>\n",
              "      <td>1</td>\n",
              "      <td>0</td>\n",
              "      <td>0</td>\n",
              "      <td>1</td>\n",
              "      <td>0</td>\n",
              "      <td>0</td>\n",
              "    </tr>\n",
              "  </tbody>\n",
              "</table>\n",
              "<p>97 rows × 38 columns</p>\n",
              "</div>"
            ],
            "text/plain": [
              "      Age  HasSocialAnxiety  ...  Yes and I have  Yes but I haven't\n",
              "0    20.0                 1  ...               0                  0\n",
              "1    20.0                 1  ...               0                  0\n",
              "2    22.0                 1  ...               0                  0\n",
              "3    22.0                 0  ...               0                  0\n",
              "4    19.0                 1  ...               0                  0\n",
              "..    ...               ...  ...             ...                ...\n",
              "102  18.0                 1  ...               0                  0\n",
              "103  20.0                 1  ...               0                  0\n",
              "104  20.0                 0  ...               0                  0\n",
              "106  20.0                 1  ...               0                  0\n",
              "107  20.0                 0  ...               0                  0\n",
              "\n",
              "[97 rows x 38 columns]"
            ]
          },
          "metadata": {
            "tags": []
          },
          "execution_count": 242
        }
      ]
    },
    {
      "cell_type": "markdown",
      "metadata": {
        "colab_type": "text",
        "id": "SKpnJXENB093"
      },
      "source": [
        "##Predict Lonely"
      ]
    },
    {
      "cell_type": "code",
      "metadata": {
        "id": "p7FEHhwlCZAq",
        "colab_type": "code",
        "outputId": "99150e1f-a6e7-40c1-f128-ba01841012c7",
        "colab": {
          "base_uri": "https://localhost:8080/",
          "height": 104
        }
      },
      "source": [
        "#split data into features and target\n",
        "yL_test = dfL_oneHot.Target\n",
        "xL_test = dfL_oneHot.drop('Target', 1)\n",
        "\n",
        "#test all models \n",
        "multilog.predict(xL_test)\n",
        "dt.predict(xL_test)\n",
        "rf.predict(xL_test)\n",
        "\n",
        "#get prediction scores for all models\n",
        "fL_multilog = evaluate_model(model=multilog, x_test=xL_test, y_test=yL_test, beta=2)\n",
        "fL_dt = evaluate_model(model=dt, x_test=xL_test, y_test=yL_test, beta=2)\n",
        "fL_rf = evaluate_model(model=rf, x_test=xL_test, y_test=yL_test, beta=2)\n",
        "\n",
        "print(f'Prediction scores:\\nMultilog: {fL_multilog:.5f}\\n'\n",
        "      f'dt: {fL_dt:.5f}\\n'\n",
        "      f'Random Forest: {fL_rf:.5f}\\n')"
      ],
      "execution_count": 0,
      "outputs": [
        {
          "output_type": "stream",
          "text": [
            "Test scores:\n",
            "Multilog: 0.63550\n",
            "dt: 0.82736\n",
            "Random Forest: 0.88613\n",
            "\n"
          ],
          "name": "stdout"
        }
      ]
    },
    {
      "cell_type": "markdown",
      "metadata": {
        "colab_type": "text",
        "id": "NFF8Beg4B0-i"
      },
      "source": [
        "Random Forest performed the best at 88.6%, with Decision Tree following second at 82.7% and finally Multinomial Logsitic Regression as the worst-performing model at 63.6%."
      ]
    },
    {
      "cell_type": "markdown",
      "metadata": {
        "id": "y7W8BkEAEgRr",
        "colab_type": "text"
      },
      "source": [
        "#Result Analysis\n",
        "\n",
        "Comparing validation and prediction $f_2$ scores:"
      ]
    },
    {
      "cell_type": "code",
      "metadata": {
        "id": "uPAI3ZslE0X8",
        "colab_type": "code",
        "outputId": "3748cf0d-1230-4842-f914-5bbe8cb49502",
        "colab": {
          "base_uri": "https://localhost:8080/",
          "height": 191
        }
      },
      "source": [
        "print(f'Validation scores:\\nMultilog: {f_multilog:.5f}\\n'\n",
        "      f'Decision Tree: {f_dt:.5f}\\n'\n",
        "      f'Random Forest: {f_rf:.5f}\\n')\n",
        "\n",
        "print(f'Prediction scores:\\nMultilog: {fL_multilog:.5f}\\n'\n",
        "      f'Decision Tree: {fL_dt:.5f}\\n'\n",
        "      f'Random Forest: {fL_rf:.5f}\\n')"
      ],
      "execution_count": 0,
      "outputs": [
        {
          "output_type": "stream",
          "text": [
            "Validation scores:\n",
            "Multilog: 0.59001\n",
            "Decision Tree: 0.77414\n",
            "Random Forest: 0.85391\n",
            "\n",
            "Test scores:\n",
            "Multilog: 0.63550\n",
            "Decision Tree: 0.82736\n",
            "Random Forest: 0.88613\n",
            "\n"
          ],
          "name": "stdout"
        }
      ]
    },
    {
      "cell_type": "markdown",
      "metadata": {
        "id": "p8hdSTmtYOep",
        "colab_type": "text"
      },
      "source": [
        "In both validation and prediction, Random Forest gives the best performance based on the chosen metric."
      ]
    },
    {
      "cell_type": "markdown",
      "metadata": {
        "id": "KT3nnxn3E0-f",
        "colab_type": "text"
      },
      "source": [
        "Interestingly, the model performs better on the prediction set. Why? \n",
        "\n",
        "Does a high $f_2$ score imply that our model is actually delivering?\n",
        "\n",
        "To answer the questions above, I plotted confusion matrices for each random forest classification on validation and test sets.\n",
        "\n",
        "Define a function that returns a confusion matrix plot:"
      ]
    },
    {
      "cell_type": "code",
      "metadata": {
        "id": "kwT4d-T1Efeq",
        "colab_type": "code",
        "colab": {}
      },
      "source": [
        "import colorlover as cl\n",
        "import plotly.figure_factory as ff\n",
        "from sklearn.metrics import confusion_matrix\n",
        "\n",
        "def plot_confusion_matrix(y_true, y_pred, dim=500):\n",
        "    #generate confusion matrix\n",
        "    cm = confusion_matrix(y_true, y_pred)\n",
        "    \n",
        "    #defining plot labels\n",
        "    mapping = {\n",
        "        '0': 'Not Depressed',\n",
        "        '1': 'Depressed',\n",
        "        '2': 'Severely Depressed'\n",
        "    }\n",
        "\n",
        "    #assigning labels to corresponding prediciton values\n",
        "    labels = [mapping[x] for x in np.unique(y_true)]\n",
        "\n",
        "    # Create confusion matrix plot\n",
        "    fig = ff.create_annotated_heatmap(\n",
        "        z=np.flipud(cm),\n",
        "        x=labels,\n",
        "        y=list(reversed(labels)),\n",
        "        colorscale=cl.flipper()['seq']['9']['Blues']\n",
        "    )\n",
        "    fig.layout.xaxis.side = 'top'\n",
        "    fig.layout.height = dim\n",
        "    fig.layout.width = dim\n",
        "    \n",
        "    return fig"
      ],
      "execution_count": 0,
      "outputs": []
    },
    {
      "cell_type": "code",
      "metadata": {
        "colab_type": "code",
        "id": "Gejq4z4N1r04",
        "outputId": "3ae74af0-5759-4f74-f945-518b775e319b",
        "colab": {
          "base_uri": "https://localhost:8080/",
          "height": 535
        }
      },
      "source": [
        "print('confusion matrix of rf model on ForeverAlone dataset')\n",
        "plot_confusion_matrix(y_test, rf.predict(x_test))"
      ],
      "execution_count": 0,
      "outputs": [
        {
          "output_type": "stream",
          "text": [
            "RF, multinomial, ForeverAlone, class_weight = balanced\n"
          ],
          "name": "stdout"
        },
        {
          "output_type": "display_data",
          "data": {
            "text/html": [
              "<html>\n",
              "<head><meta charset=\"utf-8\" /></head>\n",
              "<body>\n",
              "    <div>\n",
              "            <script src=\"https://cdnjs.cloudflare.com/ajax/libs/mathjax/2.7.5/MathJax.js?config=TeX-AMS-MML_SVG\"></script><script type=\"text/javascript\">if (window.MathJax) {MathJax.Hub.Config({SVG: {font: \"STIX-Web\"}});}</script>\n",
              "                <script type=\"text/javascript\">window.PlotlyConfig = {MathJaxConfig: 'local'};</script>\n",
              "        <script src=\"https://cdn.plot.ly/plotly-latest.min.js\"></script>    \n",
              "            <div id=\"b05fb424-ec48-4f70-a865-2497ae886eec\" class=\"plotly-graph-div\" style=\"height:500px; width:500px;\"></div>\n",
              "            <script type=\"text/javascript\">\n",
              "                \n",
              "                    window.PLOTLYENV=window.PLOTLYENV || {};\n",
              "                    \n",
              "                if (document.getElementById(\"b05fb424-ec48-4f70-a865-2497ae886eec\")) {\n",
              "                    Plotly.newPlot(\n",
              "                        'b05fb424-ec48-4f70-a865-2497ae886eec',\n",
              "                        [{\"colorscale\": [[0.0, \"rgb(247,251,255)\"], [0.125, \"rgb(222,235,247)\"], [0.25, \"rgb(198,219,239)\"], [0.375, \"rgb(158,202,225)\"], [0.5, \"rgb(107,174,214)\"], [0.625, \"rgb(66,146,198)\"], [0.75, \"rgb(33,113,181)\"], [0.875, \"rgb(8,81,156)\"], [1.0, \"rgb(8,48,107)\"]], \"reversescale\": false, \"showscale\": false, \"type\": \"heatmap\", \"x\": [\"Not Depressed\", \"Depressed\", \"Severely Depressed\"], \"y\": [\"Severely Depressed\", \"Depressed\", \"Not Depressed\"], \"z\": [[10, 0, 1], [1, 0, 0], [81, 0, 1]]}],\n",
              "                        {\"annotations\": [{\"font\": {\"color\": \"#000000\"}, \"showarrow\": false, \"text\": \"10\", \"x\": \"Not Depressed\", \"xref\": \"x\", \"y\": \"Severely Depressed\", \"yref\": \"y\"}, {\"font\": {\"color\": \"#000000\"}, \"showarrow\": false, \"text\": \"0\", \"x\": \"Depressed\", \"xref\": \"x\", \"y\": \"Severely Depressed\", \"yref\": \"y\"}, {\"font\": {\"color\": \"#000000\"}, \"showarrow\": false, \"text\": \"1\", \"x\": \"Severely Depressed\", \"xref\": \"x\", \"y\": \"Severely Depressed\", \"yref\": \"y\"}, {\"font\": {\"color\": \"#000000\"}, \"showarrow\": false, \"text\": \"1\", \"x\": \"Not Depressed\", \"xref\": \"x\", \"y\": \"Depressed\", \"yref\": \"y\"}, {\"font\": {\"color\": \"#000000\"}, \"showarrow\": false, \"text\": \"0\", \"x\": \"Depressed\", \"xref\": \"x\", \"y\": \"Depressed\", \"yref\": \"y\"}, {\"font\": {\"color\": \"#000000\"}, \"showarrow\": false, \"text\": \"0\", \"x\": \"Severely Depressed\", \"xref\": \"x\", \"y\": \"Depressed\", \"yref\": \"y\"}, {\"font\": {\"color\": \"#FFFFFF\"}, \"showarrow\": false, \"text\": \"81\", \"x\": \"Not Depressed\", \"xref\": \"x\", \"y\": \"Not Depressed\", \"yref\": \"y\"}, {\"font\": {\"color\": \"#000000\"}, \"showarrow\": false, \"text\": \"0\", \"x\": \"Depressed\", \"xref\": \"x\", \"y\": \"Not Depressed\", \"yref\": \"y\"}, {\"font\": {\"color\": \"#000000\"}, \"showarrow\": false, \"text\": \"1\", \"x\": \"Severely Depressed\", \"xref\": \"x\", \"y\": \"Not Depressed\", \"yref\": \"y\"}], \"height\": 500, \"template\": {\"data\": {\"bar\": [{\"error_x\": {\"color\": \"#2a3f5f\"}, \"error_y\": {\"color\": \"#2a3f5f\"}, \"marker\": {\"line\": {\"color\": \"#E5ECF6\", \"width\": 0.5}}, \"type\": \"bar\"}], \"barpolar\": [{\"marker\": {\"line\": {\"color\": \"#E5ECF6\", \"width\": 0.5}}, \"type\": \"barpolar\"}], \"carpet\": [{\"aaxis\": {\"endlinecolor\": \"#2a3f5f\", \"gridcolor\": \"white\", \"linecolor\": \"white\", \"minorgridcolor\": \"white\", \"startlinecolor\": \"#2a3f5f\"}, \"baxis\": {\"endlinecolor\": \"#2a3f5f\", \"gridcolor\": \"white\", \"linecolor\": \"white\", \"minorgridcolor\": \"white\", \"startlinecolor\": \"#2a3f5f\"}, \"type\": \"carpet\"}], \"choropleth\": [{\"colorbar\": {\"outlinewidth\": 0, \"ticks\": \"\"}, \"type\": \"choropleth\"}], \"contour\": [{\"colorbar\": {\"outlinewidth\": 0, \"ticks\": \"\"}, \"colorscale\": [[0.0, \"#0d0887\"], [0.1111111111111111, \"#46039f\"], [0.2222222222222222, \"#7201a8\"], [0.3333333333333333, \"#9c179e\"], [0.4444444444444444, \"#bd3786\"], [0.5555555555555556, \"#d8576b\"], [0.6666666666666666, \"#ed7953\"], [0.7777777777777778, \"#fb9f3a\"], [0.8888888888888888, \"#fdca26\"], [1.0, \"#f0f921\"]], \"type\": \"contour\"}], \"contourcarpet\": [{\"colorbar\": {\"outlinewidth\": 0, \"ticks\": \"\"}, \"type\": \"contourcarpet\"}], \"heatmap\": [{\"colorbar\": {\"outlinewidth\": 0, \"ticks\": \"\"}, \"colorscale\": [[0.0, \"#0d0887\"], [0.1111111111111111, \"#46039f\"], [0.2222222222222222, \"#7201a8\"], [0.3333333333333333, \"#9c179e\"], [0.4444444444444444, \"#bd3786\"], [0.5555555555555556, \"#d8576b\"], [0.6666666666666666, \"#ed7953\"], [0.7777777777777778, \"#fb9f3a\"], [0.8888888888888888, \"#fdca26\"], [1.0, \"#f0f921\"]], \"type\": \"heatmap\"}], \"heatmapgl\": [{\"colorbar\": {\"outlinewidth\": 0, \"ticks\": \"\"}, \"colorscale\": [[0.0, \"#0d0887\"], [0.1111111111111111, \"#46039f\"], [0.2222222222222222, \"#7201a8\"], [0.3333333333333333, \"#9c179e\"], [0.4444444444444444, \"#bd3786\"], [0.5555555555555556, \"#d8576b\"], [0.6666666666666666, \"#ed7953\"], [0.7777777777777778, \"#fb9f3a\"], [0.8888888888888888, \"#fdca26\"], [1.0, \"#f0f921\"]], \"type\": \"heatmapgl\"}], \"histogram\": [{\"marker\": {\"colorbar\": {\"outlinewidth\": 0, \"ticks\": \"\"}}, \"type\": \"histogram\"}], \"histogram2d\": [{\"colorbar\": {\"outlinewidth\": 0, \"ticks\": \"\"}, \"colorscale\": [[0.0, \"#0d0887\"], [0.1111111111111111, \"#46039f\"], [0.2222222222222222, \"#7201a8\"], [0.3333333333333333, \"#9c179e\"], [0.4444444444444444, \"#bd3786\"], [0.5555555555555556, \"#d8576b\"], [0.6666666666666666, \"#ed7953\"], [0.7777777777777778, \"#fb9f3a\"], [0.8888888888888888, \"#fdca26\"], [1.0, \"#f0f921\"]], \"type\": \"histogram2d\"}], \"histogram2dcontour\": [{\"colorbar\": {\"outlinewidth\": 0, \"ticks\": \"\"}, \"colorscale\": [[0.0, \"#0d0887\"], [0.1111111111111111, \"#46039f\"], [0.2222222222222222, \"#7201a8\"], [0.3333333333333333, \"#9c179e\"], [0.4444444444444444, \"#bd3786\"], [0.5555555555555556, \"#d8576b\"], [0.6666666666666666, \"#ed7953\"], [0.7777777777777778, \"#fb9f3a\"], [0.8888888888888888, \"#fdca26\"], [1.0, \"#f0f921\"]], \"type\": \"histogram2dcontour\"}], \"mesh3d\": [{\"colorbar\": {\"outlinewidth\": 0, \"ticks\": \"\"}, \"type\": \"mesh3d\"}], \"parcoords\": [{\"line\": {\"colorbar\": {\"outlinewidth\": 0, \"ticks\": \"\"}}, \"type\": \"parcoords\"}], \"pie\": [{\"automargin\": true, \"type\": \"pie\"}], \"scatter\": [{\"marker\": {\"colorbar\": {\"outlinewidth\": 0, \"ticks\": \"\"}}, \"type\": \"scatter\"}], \"scatter3d\": [{\"line\": {\"colorbar\": {\"outlinewidth\": 0, \"ticks\": \"\"}}, \"marker\": {\"colorbar\": {\"outlinewidth\": 0, \"ticks\": \"\"}}, \"type\": \"scatter3d\"}], \"scattercarpet\": [{\"marker\": {\"colorbar\": {\"outlinewidth\": 0, \"ticks\": \"\"}}, \"type\": \"scattercarpet\"}], \"scattergeo\": [{\"marker\": {\"colorbar\": {\"outlinewidth\": 0, \"ticks\": \"\"}}, \"type\": \"scattergeo\"}], \"scattergl\": [{\"marker\": {\"colorbar\": {\"outlinewidth\": 0, \"ticks\": \"\"}}, \"type\": \"scattergl\"}], \"scattermapbox\": [{\"marker\": {\"colorbar\": {\"outlinewidth\": 0, \"ticks\": \"\"}}, \"type\": \"scattermapbox\"}], \"scatterpolar\": [{\"marker\": {\"colorbar\": {\"outlinewidth\": 0, \"ticks\": \"\"}}, \"type\": \"scatterpolar\"}], \"scatterpolargl\": [{\"marker\": {\"colorbar\": {\"outlinewidth\": 0, \"ticks\": \"\"}}, \"type\": \"scatterpolargl\"}], \"scatterternary\": [{\"marker\": {\"colorbar\": {\"outlinewidth\": 0, \"ticks\": \"\"}}, \"type\": \"scatterternary\"}], \"surface\": [{\"colorbar\": {\"outlinewidth\": 0, \"ticks\": \"\"}, \"colorscale\": [[0.0, \"#0d0887\"], [0.1111111111111111, \"#46039f\"], [0.2222222222222222, \"#7201a8\"], [0.3333333333333333, \"#9c179e\"], [0.4444444444444444, \"#bd3786\"], [0.5555555555555556, \"#d8576b\"], [0.6666666666666666, \"#ed7953\"], [0.7777777777777778, \"#fb9f3a\"], [0.8888888888888888, \"#fdca26\"], [1.0, \"#f0f921\"]], \"type\": \"surface\"}], \"table\": [{\"cells\": {\"fill\": {\"color\": \"#EBF0F8\"}, \"line\": {\"color\": \"white\"}}, \"header\": {\"fill\": {\"color\": \"#C8D4E3\"}, \"line\": {\"color\": \"white\"}}, \"type\": \"table\"}]}, \"layout\": {\"annotationdefaults\": {\"arrowcolor\": \"#2a3f5f\", \"arrowhead\": 0, \"arrowwidth\": 1}, \"coloraxis\": {\"colorbar\": {\"outlinewidth\": 0, \"ticks\": \"\"}}, \"colorscale\": {\"diverging\": [[0, \"#8e0152\"], [0.1, \"#c51b7d\"], [0.2, \"#de77ae\"], [0.3, \"#f1b6da\"], [0.4, \"#fde0ef\"], [0.5, \"#f7f7f7\"], [0.6, \"#e6f5d0\"], [0.7, \"#b8e186\"], [0.8, \"#7fbc41\"], [0.9, \"#4d9221\"], [1, \"#276419\"]], \"sequential\": [[0.0, \"#0d0887\"], [0.1111111111111111, \"#46039f\"], [0.2222222222222222, \"#7201a8\"], [0.3333333333333333, \"#9c179e\"], [0.4444444444444444, \"#bd3786\"], [0.5555555555555556, \"#d8576b\"], [0.6666666666666666, \"#ed7953\"], [0.7777777777777778, \"#fb9f3a\"], [0.8888888888888888, \"#fdca26\"], [1.0, \"#f0f921\"]], \"sequentialminus\": [[0.0, \"#0d0887\"], [0.1111111111111111, \"#46039f\"], [0.2222222222222222, \"#7201a8\"], [0.3333333333333333, \"#9c179e\"], [0.4444444444444444, \"#bd3786\"], [0.5555555555555556, \"#d8576b\"], [0.6666666666666666, \"#ed7953\"], [0.7777777777777778, \"#fb9f3a\"], [0.8888888888888888, \"#fdca26\"], [1.0, \"#f0f921\"]]}, \"colorway\": [\"#636efa\", \"#EF553B\", \"#00cc96\", \"#ab63fa\", \"#FFA15A\", \"#19d3f3\", \"#FF6692\", \"#B6E880\", \"#FF97FF\", \"#FECB52\"], \"font\": {\"color\": \"#2a3f5f\"}, \"geo\": {\"bgcolor\": \"white\", \"lakecolor\": \"white\", \"landcolor\": \"#E5ECF6\", \"showlakes\": true, \"showland\": true, \"subunitcolor\": \"white\"}, \"hoverlabel\": {\"align\": \"left\"}, \"hovermode\": \"closest\", \"mapbox\": {\"style\": \"light\"}, \"paper_bgcolor\": \"white\", \"plot_bgcolor\": \"#E5ECF6\", \"polar\": {\"angularaxis\": {\"gridcolor\": \"white\", \"linecolor\": \"white\", \"ticks\": \"\"}, \"bgcolor\": \"#E5ECF6\", \"radialaxis\": {\"gridcolor\": \"white\", \"linecolor\": \"white\", \"ticks\": \"\"}}, \"scene\": {\"xaxis\": {\"backgroundcolor\": \"#E5ECF6\", \"gridcolor\": \"white\", \"gridwidth\": 2, \"linecolor\": \"white\", \"showbackground\": true, \"ticks\": \"\", \"zerolinecolor\": \"white\"}, \"yaxis\": {\"backgroundcolor\": \"#E5ECF6\", \"gridcolor\": \"white\", \"gridwidth\": 2, \"linecolor\": \"white\", \"showbackground\": true, \"ticks\": \"\", \"zerolinecolor\": \"white\"}, \"zaxis\": {\"backgroundcolor\": \"#E5ECF6\", \"gridcolor\": \"white\", \"gridwidth\": 2, \"linecolor\": \"white\", \"showbackground\": true, \"ticks\": \"\", \"zerolinecolor\": \"white\"}}, \"shapedefaults\": {\"line\": {\"color\": \"#2a3f5f\"}}, \"ternary\": {\"aaxis\": {\"gridcolor\": \"white\", \"linecolor\": \"white\", \"ticks\": \"\"}, \"baxis\": {\"gridcolor\": \"white\", \"linecolor\": \"white\", \"ticks\": \"\"}, \"bgcolor\": \"#E5ECF6\", \"caxis\": {\"gridcolor\": \"white\", \"linecolor\": \"white\", \"ticks\": \"\"}}, \"title\": {\"x\": 0.05}, \"xaxis\": {\"automargin\": true, \"gridcolor\": \"white\", \"linecolor\": \"white\", \"ticks\": \"\", \"title\": {\"standoff\": 15}, \"zerolinecolor\": \"white\", \"zerolinewidth\": 2}, \"yaxis\": {\"automargin\": true, \"gridcolor\": \"white\", \"linecolor\": \"white\", \"ticks\": \"\", \"title\": {\"standoff\": 15}, \"zerolinecolor\": \"white\", \"zerolinewidth\": 2}}}, \"width\": 500, \"xaxis\": {\"dtick\": 1, \"gridcolor\": \"rgb(0, 0, 0)\", \"side\": \"top\", \"ticks\": \"\"}, \"yaxis\": {\"dtick\": 1, \"ticks\": \"\", \"ticksuffix\": \"  \"}},\n",
              "                        {\"responsive\": true}\n",
              "                    ).then(function(){\n",
              "                            \n",
              "var gd = document.getElementById('b05fb424-ec48-4f70-a865-2497ae886eec');\n",
              "var x = new MutationObserver(function (mutations, observer) {{\n",
              "        var display = window.getComputedStyle(gd).display;\n",
              "        if (!display || display === 'none') {{\n",
              "            console.log([gd, 'removed!']);\n",
              "            Plotly.purge(gd);\n",
              "            observer.disconnect();\n",
              "        }}\n",
              "}});\n",
              "\n",
              "// Listen for the removal of the full notebook cells\n",
              "var notebookContainer = gd.closest('#notebook-container');\n",
              "if (notebookContainer) {{\n",
              "    x.observe(notebookContainer, {childList: true});\n",
              "}}\n",
              "\n",
              "// Listen for the clearing of the current output cell\n",
              "var outputEl = gd.closest('.output');\n",
              "if (outputEl) {{\n",
              "    x.observe(outputEl, {childList: true});\n",
              "}}\n",
              "\n",
              "                        })\n",
              "                };\n",
              "                \n",
              "            </script>\n",
              "        </div>\n",
              "</body>\n",
              "</html>"
            ]
          },
          "metadata": {
            "tags": []
          }
        }
      ]
    },
    {
      "cell_type": "code",
      "metadata": {
        "id": "gYgfkjxPXkth",
        "colab_type": "code",
        "outputId": "6a37646f-a169-40f3-fd21-67f667e9702a",
        "colab": {
          "base_uri": "https://localhost:8080/",
          "height": 535
        }
      },
      "source": [
        "print('confusion matrix of rf model on Lonely dataset')\n",
        "plot_confusion_matrix(yL_test, rf.predict(xL_test))"
      ],
      "execution_count": 0,
      "outputs": [
        {
          "output_type": "stream",
          "text": [
            "RF, multinomial, Lonely, class_weight = balanced\n"
          ],
          "name": "stdout"
        },
        {
          "output_type": "display_data",
          "data": {
            "text/html": [
              "<html>\n",
              "<head><meta charset=\"utf-8\" /></head>\n",
              "<body>\n",
              "    <div>\n",
              "            <script src=\"https://cdnjs.cloudflare.com/ajax/libs/mathjax/2.7.5/MathJax.js?config=TeX-AMS-MML_SVG\"></script><script type=\"text/javascript\">if (window.MathJax) {MathJax.Hub.Config({SVG: {font: \"STIX-Web\"}});}</script>\n",
              "                <script type=\"text/javascript\">window.PlotlyConfig = {MathJaxConfig: 'local'};</script>\n",
              "        <script src=\"https://cdn.plot.ly/plotly-latest.min.js\"></script>    \n",
              "            <div id=\"cfa8c1c9-9d14-425a-a715-b20dd5bd1f59\" class=\"plotly-graph-div\" style=\"height:500px; width:500px;\"></div>\n",
              "            <script type=\"text/javascript\">\n",
              "                \n",
              "                    window.PLOTLYENV=window.PLOTLYENV || {};\n",
              "                    \n",
              "                if (document.getElementById(\"cfa8c1c9-9d14-425a-a715-b20dd5bd1f59\")) {\n",
              "                    Plotly.newPlot(\n",
              "                        'cfa8c1c9-9d14-425a-a715-b20dd5bd1f59',\n",
              "                        [{\"colorscale\": [[0.0, \"rgb(247,251,255)\"], [0.125, \"rgb(222,235,247)\"], [0.25, \"rgb(198,219,239)\"], [0.375, \"rgb(158,202,225)\"], [0.5, \"rgb(107,174,214)\"], [0.625, \"rgb(66,146,198)\"], [0.75, \"rgb(33,113,181)\"], [0.875, \"rgb(8,81,156)\"], [1.0, \"rgb(8,48,107)\"]], \"reversescale\": false, \"showscale\": false, \"type\": \"heatmap\", \"x\": [\"Not Depressed\", \"Depressed\", \"Severely Depressed\"], \"y\": [\"Severely Depressed\", \"Depressed\", \"Not Depressed\"], \"z\": [[5, 0, 1], [3, 0, 0], [86, 0, 2]]}],\n",
              "                        {\"annotations\": [{\"font\": {\"color\": \"#000000\"}, \"showarrow\": false, \"text\": \"5\", \"x\": \"Not Depressed\", \"xref\": \"x\", \"y\": \"Severely Depressed\", \"yref\": \"y\"}, {\"font\": {\"color\": \"#000000\"}, \"showarrow\": false, \"text\": \"0\", \"x\": \"Depressed\", \"xref\": \"x\", \"y\": \"Severely Depressed\", \"yref\": \"y\"}, {\"font\": {\"color\": \"#000000\"}, \"showarrow\": false, \"text\": \"1\", \"x\": \"Severely Depressed\", \"xref\": \"x\", \"y\": \"Severely Depressed\", \"yref\": \"y\"}, {\"font\": {\"color\": \"#000000\"}, \"showarrow\": false, \"text\": \"3\", \"x\": \"Not Depressed\", \"xref\": \"x\", \"y\": \"Depressed\", \"yref\": \"y\"}, {\"font\": {\"color\": \"#000000\"}, \"showarrow\": false, \"text\": \"0\", \"x\": \"Depressed\", \"xref\": \"x\", \"y\": \"Depressed\", \"yref\": \"y\"}, {\"font\": {\"color\": \"#000000\"}, \"showarrow\": false, \"text\": \"0\", \"x\": \"Severely Depressed\", \"xref\": \"x\", \"y\": \"Depressed\", \"yref\": \"y\"}, {\"font\": {\"color\": \"#FFFFFF\"}, \"showarrow\": false, \"text\": \"86\", \"x\": \"Not Depressed\", \"xref\": \"x\", \"y\": \"Not Depressed\", \"yref\": \"y\"}, {\"font\": {\"color\": \"#000000\"}, \"showarrow\": false, \"text\": \"0\", \"x\": \"Depressed\", \"xref\": \"x\", \"y\": \"Not Depressed\", \"yref\": \"y\"}, {\"font\": {\"color\": \"#000000\"}, \"showarrow\": false, \"text\": \"2\", \"x\": \"Severely Depressed\", \"xref\": \"x\", \"y\": \"Not Depressed\", \"yref\": \"y\"}], \"height\": 500, \"template\": {\"data\": {\"bar\": [{\"error_x\": {\"color\": \"#2a3f5f\"}, \"error_y\": {\"color\": \"#2a3f5f\"}, \"marker\": {\"line\": {\"color\": \"#E5ECF6\", \"width\": 0.5}}, \"type\": \"bar\"}], \"barpolar\": [{\"marker\": {\"line\": {\"color\": \"#E5ECF6\", \"width\": 0.5}}, \"type\": \"barpolar\"}], \"carpet\": [{\"aaxis\": {\"endlinecolor\": \"#2a3f5f\", \"gridcolor\": \"white\", \"linecolor\": \"white\", \"minorgridcolor\": \"white\", \"startlinecolor\": \"#2a3f5f\"}, \"baxis\": {\"endlinecolor\": \"#2a3f5f\", \"gridcolor\": \"white\", \"linecolor\": \"white\", \"minorgridcolor\": \"white\", \"startlinecolor\": \"#2a3f5f\"}, \"type\": \"carpet\"}], \"choropleth\": [{\"colorbar\": {\"outlinewidth\": 0, \"ticks\": \"\"}, \"type\": \"choropleth\"}], \"contour\": [{\"colorbar\": {\"outlinewidth\": 0, \"ticks\": \"\"}, \"colorscale\": [[0.0, \"#0d0887\"], [0.1111111111111111, \"#46039f\"], [0.2222222222222222, \"#7201a8\"], [0.3333333333333333, \"#9c179e\"], [0.4444444444444444, \"#bd3786\"], [0.5555555555555556, \"#d8576b\"], [0.6666666666666666, \"#ed7953\"], [0.7777777777777778, \"#fb9f3a\"], [0.8888888888888888, \"#fdca26\"], [1.0, \"#f0f921\"]], \"type\": \"contour\"}], \"contourcarpet\": [{\"colorbar\": {\"outlinewidth\": 0, \"ticks\": \"\"}, \"type\": \"contourcarpet\"}], \"heatmap\": [{\"colorbar\": {\"outlinewidth\": 0, \"ticks\": \"\"}, \"colorscale\": [[0.0, \"#0d0887\"], [0.1111111111111111, \"#46039f\"], [0.2222222222222222, \"#7201a8\"], [0.3333333333333333, \"#9c179e\"], [0.4444444444444444, \"#bd3786\"], [0.5555555555555556, \"#d8576b\"], [0.6666666666666666, \"#ed7953\"], [0.7777777777777778, \"#fb9f3a\"], [0.8888888888888888, \"#fdca26\"], [1.0, \"#f0f921\"]], \"type\": \"heatmap\"}], \"heatmapgl\": [{\"colorbar\": {\"outlinewidth\": 0, \"ticks\": \"\"}, \"colorscale\": [[0.0, \"#0d0887\"], [0.1111111111111111, \"#46039f\"], [0.2222222222222222, \"#7201a8\"], [0.3333333333333333, \"#9c179e\"], [0.4444444444444444, \"#bd3786\"], [0.5555555555555556, \"#d8576b\"], [0.6666666666666666, \"#ed7953\"], [0.7777777777777778, \"#fb9f3a\"], [0.8888888888888888, \"#fdca26\"], [1.0, \"#f0f921\"]], \"type\": \"heatmapgl\"}], \"histogram\": [{\"marker\": {\"colorbar\": {\"outlinewidth\": 0, \"ticks\": \"\"}}, \"type\": \"histogram\"}], \"histogram2d\": [{\"colorbar\": {\"outlinewidth\": 0, \"ticks\": \"\"}, \"colorscale\": [[0.0, \"#0d0887\"], [0.1111111111111111, \"#46039f\"], [0.2222222222222222, \"#7201a8\"], [0.3333333333333333, \"#9c179e\"], [0.4444444444444444, \"#bd3786\"], [0.5555555555555556, \"#d8576b\"], [0.6666666666666666, \"#ed7953\"], [0.7777777777777778, \"#fb9f3a\"], [0.8888888888888888, \"#fdca26\"], [1.0, \"#f0f921\"]], \"type\": \"histogram2d\"}], \"histogram2dcontour\": [{\"colorbar\": {\"outlinewidth\": 0, \"ticks\": \"\"}, \"colorscale\": [[0.0, \"#0d0887\"], [0.1111111111111111, \"#46039f\"], [0.2222222222222222, \"#7201a8\"], [0.3333333333333333, \"#9c179e\"], [0.4444444444444444, \"#bd3786\"], [0.5555555555555556, \"#d8576b\"], [0.6666666666666666, \"#ed7953\"], [0.7777777777777778, \"#fb9f3a\"], [0.8888888888888888, \"#fdca26\"], [1.0, \"#f0f921\"]], \"type\": \"histogram2dcontour\"}], \"mesh3d\": [{\"colorbar\": {\"outlinewidth\": 0, \"ticks\": \"\"}, \"type\": \"mesh3d\"}], \"parcoords\": [{\"line\": {\"colorbar\": {\"outlinewidth\": 0, \"ticks\": \"\"}}, \"type\": \"parcoords\"}], \"pie\": [{\"automargin\": true, \"type\": \"pie\"}], \"scatter\": [{\"marker\": {\"colorbar\": {\"outlinewidth\": 0, \"ticks\": \"\"}}, \"type\": \"scatter\"}], \"scatter3d\": [{\"line\": {\"colorbar\": {\"outlinewidth\": 0, \"ticks\": \"\"}}, \"marker\": {\"colorbar\": {\"outlinewidth\": 0, \"ticks\": \"\"}}, \"type\": \"scatter3d\"}], \"scattercarpet\": [{\"marker\": {\"colorbar\": {\"outlinewidth\": 0, \"ticks\": \"\"}}, \"type\": \"scattercarpet\"}], \"scattergeo\": [{\"marker\": {\"colorbar\": {\"outlinewidth\": 0, \"ticks\": \"\"}}, \"type\": \"scattergeo\"}], \"scattergl\": [{\"marker\": {\"colorbar\": {\"outlinewidth\": 0, \"ticks\": \"\"}}, \"type\": \"scattergl\"}], \"scattermapbox\": [{\"marker\": {\"colorbar\": {\"outlinewidth\": 0, \"ticks\": \"\"}}, \"type\": \"scattermapbox\"}], \"scatterpolar\": [{\"marker\": {\"colorbar\": {\"outlinewidth\": 0, \"ticks\": \"\"}}, \"type\": \"scatterpolar\"}], \"scatterpolargl\": [{\"marker\": {\"colorbar\": {\"outlinewidth\": 0, \"ticks\": \"\"}}, \"type\": \"scatterpolargl\"}], \"scatterternary\": [{\"marker\": {\"colorbar\": {\"outlinewidth\": 0, \"ticks\": \"\"}}, \"type\": \"scatterternary\"}], \"surface\": [{\"colorbar\": {\"outlinewidth\": 0, \"ticks\": \"\"}, \"colorscale\": [[0.0, \"#0d0887\"], [0.1111111111111111, \"#46039f\"], [0.2222222222222222, \"#7201a8\"], [0.3333333333333333, \"#9c179e\"], [0.4444444444444444, \"#bd3786\"], [0.5555555555555556, \"#d8576b\"], [0.6666666666666666, \"#ed7953\"], [0.7777777777777778, \"#fb9f3a\"], [0.8888888888888888, \"#fdca26\"], [1.0, \"#f0f921\"]], \"type\": \"surface\"}], \"table\": [{\"cells\": {\"fill\": {\"color\": \"#EBF0F8\"}, \"line\": {\"color\": \"white\"}}, \"header\": {\"fill\": {\"color\": \"#C8D4E3\"}, \"line\": {\"color\": \"white\"}}, \"type\": \"table\"}]}, \"layout\": {\"annotationdefaults\": {\"arrowcolor\": \"#2a3f5f\", \"arrowhead\": 0, \"arrowwidth\": 1}, \"coloraxis\": {\"colorbar\": {\"outlinewidth\": 0, \"ticks\": \"\"}}, \"colorscale\": {\"diverging\": [[0, \"#8e0152\"], [0.1, \"#c51b7d\"], [0.2, \"#de77ae\"], [0.3, \"#f1b6da\"], [0.4, \"#fde0ef\"], [0.5, \"#f7f7f7\"], [0.6, \"#e6f5d0\"], [0.7, \"#b8e186\"], [0.8, \"#7fbc41\"], [0.9, \"#4d9221\"], [1, \"#276419\"]], \"sequential\": [[0.0, \"#0d0887\"], [0.1111111111111111, \"#46039f\"], [0.2222222222222222, \"#7201a8\"], [0.3333333333333333, \"#9c179e\"], [0.4444444444444444, \"#bd3786\"], [0.5555555555555556, \"#d8576b\"], [0.6666666666666666, \"#ed7953\"], [0.7777777777777778, \"#fb9f3a\"], [0.8888888888888888, \"#fdca26\"], [1.0, \"#f0f921\"]], \"sequentialminus\": [[0.0, \"#0d0887\"], [0.1111111111111111, \"#46039f\"], [0.2222222222222222, \"#7201a8\"], [0.3333333333333333, \"#9c179e\"], [0.4444444444444444, \"#bd3786\"], [0.5555555555555556, \"#d8576b\"], [0.6666666666666666, \"#ed7953\"], [0.7777777777777778, \"#fb9f3a\"], [0.8888888888888888, \"#fdca26\"], [1.0, \"#f0f921\"]]}, \"colorway\": [\"#636efa\", \"#EF553B\", \"#00cc96\", \"#ab63fa\", \"#FFA15A\", \"#19d3f3\", \"#FF6692\", \"#B6E880\", \"#FF97FF\", \"#FECB52\"], \"font\": {\"color\": \"#2a3f5f\"}, \"geo\": {\"bgcolor\": \"white\", \"lakecolor\": \"white\", \"landcolor\": \"#E5ECF6\", \"showlakes\": true, \"showland\": true, \"subunitcolor\": \"white\"}, \"hoverlabel\": {\"align\": \"left\"}, \"hovermode\": \"closest\", \"mapbox\": {\"style\": \"light\"}, \"paper_bgcolor\": \"white\", \"plot_bgcolor\": \"#E5ECF6\", \"polar\": {\"angularaxis\": {\"gridcolor\": \"white\", \"linecolor\": \"white\", \"ticks\": \"\"}, \"bgcolor\": \"#E5ECF6\", \"radialaxis\": {\"gridcolor\": \"white\", \"linecolor\": \"white\", \"ticks\": \"\"}}, \"scene\": {\"xaxis\": {\"backgroundcolor\": \"#E5ECF6\", \"gridcolor\": \"white\", \"gridwidth\": 2, \"linecolor\": \"white\", \"showbackground\": true, \"ticks\": \"\", \"zerolinecolor\": \"white\"}, \"yaxis\": {\"backgroundcolor\": \"#E5ECF6\", \"gridcolor\": \"white\", \"gridwidth\": 2, \"linecolor\": \"white\", \"showbackground\": true, \"ticks\": \"\", \"zerolinecolor\": \"white\"}, \"zaxis\": {\"backgroundcolor\": \"#E5ECF6\", \"gridcolor\": \"white\", \"gridwidth\": 2, \"linecolor\": \"white\", \"showbackground\": true, \"ticks\": \"\", \"zerolinecolor\": \"white\"}}, \"shapedefaults\": {\"line\": {\"color\": \"#2a3f5f\"}}, \"ternary\": {\"aaxis\": {\"gridcolor\": \"white\", \"linecolor\": \"white\", \"ticks\": \"\"}, \"baxis\": {\"gridcolor\": \"white\", \"linecolor\": \"white\", \"ticks\": \"\"}, \"bgcolor\": \"#E5ECF6\", \"caxis\": {\"gridcolor\": \"white\", \"linecolor\": \"white\", \"ticks\": \"\"}}, \"title\": {\"x\": 0.05}, \"xaxis\": {\"automargin\": true, \"gridcolor\": \"white\", \"linecolor\": \"white\", \"ticks\": \"\", \"title\": {\"standoff\": 15}, \"zerolinecolor\": \"white\", \"zerolinewidth\": 2}, \"yaxis\": {\"automargin\": true, \"gridcolor\": \"white\", \"linecolor\": \"white\", \"ticks\": \"\", \"title\": {\"standoff\": 15}, \"zerolinecolor\": \"white\", \"zerolinewidth\": 2}}}, \"width\": 500, \"xaxis\": {\"dtick\": 1, \"gridcolor\": \"rgb(0, 0, 0)\", \"side\": \"top\", \"ticks\": \"\"}, \"yaxis\": {\"dtick\": 1, \"ticks\": \"\", \"ticksuffix\": \"  \"}},\n",
              "                        {\"responsive\": true}\n",
              "                    ).then(function(){\n",
              "                            \n",
              "var gd = document.getElementById('cfa8c1c9-9d14-425a-a715-b20dd5bd1f59');\n",
              "var x = new MutationObserver(function (mutations, observer) {{\n",
              "        var display = window.getComputedStyle(gd).display;\n",
              "        if (!display || display === 'none') {{\n",
              "            console.log([gd, 'removed!']);\n",
              "            Plotly.purge(gd);\n",
              "            observer.disconnect();\n",
              "        }}\n",
              "}});\n",
              "\n",
              "// Listen for the removal of the full notebook cells\n",
              "var notebookContainer = gd.closest('#notebook-container');\n",
              "if (notebookContainer) {{\n",
              "    x.observe(notebookContainer, {childList: true});\n",
              "}}\n",
              "\n",
              "// Listen for the clearing of the current output cell\n",
              "var outputEl = gd.closest('.output');\n",
              "if (outputEl) {{\n",
              "    x.observe(outputEl, {childList: true});\n",
              "}}\n",
              "\n",
              "                        })\n",
              "                };\n",
              "                \n",
              "            </script>\n",
              "        </div>\n",
              "</body>\n",
              "</html>"
            ]
          },
          "metadata": {
            "tags": []
          }
        }
      ]
    },
    {
      "cell_type": "markdown",
      "metadata": {
        "id": "49Dc5NiQf_Vz",
        "colab_type": "text"
      },
      "source": [
        "The rows represent the true labels and the columns are the predicted labels. \n",
        "\n",
        "From the ForeverAlone dataset, the recall of each label is:\n",
        "<br>Not Depressed: 98.8%\n",
        "<br>Depressed: 0%\n",
        "<br>Severely Depressed: 10%\n",
        "\n",
        "Whereas for the Lonely dataset, each labels has a recall of:\n",
        "<br>Not Depressed: 97.7%\n",
        "<br>Depressed: 0%\n",
        "<br>Severely Depressed: 20%\n"
      ]
    },
    {
      "cell_type": "markdown",
      "metadata": {
        "id": "Wlvjj4rlHPhz",
        "colab_type": "text"
      },
      "source": [
        "The rows represent the true labels and the columns are the predicted labels. \n",
        "\n",
        "From both confusion matrices, almost all samples are classified by the model as 'Not Depressed'. \n",
        "\n",
        "In both datasets, the Random Forest model has taken advantage of data imbalances. As most samples are Not Depressed, the model classified samples as 'Not Depressed'. By doing so, it has successfully minimized its loss function, but failed to accurately predict Depressed and Severely Depressed samples, which should be the focus of the project. \n",
        "\n",
        "To address the data imbalance, I had set `class_weights = 'balanced'` in the model initializions. As the imbalance is very severe, the effects of implementation is almost negligible. Other improvement efforts would be to reduce the scope to binary classification with just two labels. However, it is best to remove the imbalance by collecting more samples for Depressed and Severely Depressed labels."
      ]
    },
    {
      "cell_type": "markdown",
      "metadata": {
        "id": "K34hBA3uYfJh",
        "colab_type": "text"
      },
      "source": [
        "#Conclusion"
      ]
    },
    {
      "cell_type": "markdown",
      "metadata": {
        "id": "JnMzJGvnYi6T",
        "colab_type": "text"
      },
      "source": [
        "Three multiclassification models (Multinomial Logistic Classification, Decision Tree, and Random Forest) were used to classify depression severity. Two datasets were used to train and validate the models (the ForeverAlone dataset), as well as to finally make predictions on (the Lonely dataset). They were both explored and preprocessed, before being fed into the models.\n",
        "\n",
        "$f_2$ scores were used as an indicator of model performance. Random Forest yielded the highest $f_2$ scores in training and validation, as well as in making predictions, with scores of 85.4% and 88.6% respectively. \n",
        "\n",
        "In reality however, the Random Forest model took advantage of imbalances in both datasets by classifying most samples as the Non Depressed, which is most common among the three labels. To truly improve the model's performance, more samples of Depressed and Severely Depressed is required to equilibriate the datasets."
      ]
    }
  ]
}